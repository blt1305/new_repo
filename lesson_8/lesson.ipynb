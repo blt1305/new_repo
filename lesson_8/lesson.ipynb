{
 "cells": [
  {
   "cell_type": "markdown",
   "id": "5d4b133b",
   "metadata": {},
   "source": [
    "# Исключения\n",
    "\n",
    "[виды исключений](https://pythonworld.ru/tipy-dannyx-v-python/isklyucheniya-v-python-konstrukciya-try-except-dlya-obrabotki-isklyuchenij.html)"
   ]
  },
  {
   "cell_type": "code",
   "execution_count": 34,
   "id": "3df0fa62",
   "metadata": {},
   "outputs": [
    {
     "ename": "ZeroDivisionError",
     "evalue": "division by zero",
     "output_type": "error",
     "traceback": [
      "\u001b[1;31m---------------------------------------------------------------------------\u001b[0m",
      "\u001b[1;31mZeroDivisionError\u001b[0m                         Traceback (most recent call last)",
      "Cell \u001b[1;32mIn[34], line 1\u001b[0m\n\u001b[1;32m----> 1\u001b[0m \u001b[38;5;241;43m1\u001b[39;49m\u001b[43m \u001b[49m\u001b[38;5;241;43m/\u001b[39;49m\u001b[43m \u001b[49m\u001b[38;5;241;43m0\u001b[39;49m\n\u001b[0;32m      2\u001b[0m a \u001b[38;5;241m=\u001b[39m \u001b[38;5;241m10\u001b[39m\n\u001b[0;32m      3\u001b[0m \u001b[38;5;28mprint\u001b[39m(a)\n",
      "\u001b[1;31mZeroDivisionError\u001b[0m: division by zero"
     ]
    }
   ],
   "source": [
    "1 / 0\n",
    "a = 10\n",
    "print(a)"
   ]
  },
  {
   "cell_type": "code",
   "execution_count": 10,
   "id": "adfda85e",
   "metadata": {},
   "outputs": [
    {
     "name": "stdout",
     "output_type": "stream",
     "text": [
      "Произошла ошибка!\n",
      "не относится к блоку try-except\n",
      "10\n"
     ]
    }
   ],
   "source": [
    "try:\n",
    "    1 / 0\n",
    "except Exception:\n",
    "    print(\"Произошла ошибка!\")\n",
    "    \n",
    "print(\"не относится к блоку try-except\")\n",
    "    \n",
    "\n",
    "a = 10\n",
    "print(a)"
   ]
  },
  {
   "cell_type": "markdown",
   "id": "0b5b8604",
   "metadata": {},
   "source": [
    "#### Синтаксис"
   ]
  },
  {
   "cell_type": "code",
   "execution_count": 6,
   "id": "3592c136",
   "metadata": {},
   "outputs": [
    {
     "name": "stdout",
     "output_type": "stream",
     "text": [
      "Произошла ошибка!\n",
      "Выполнюсь в любом случае\n"
     ]
    }
   ],
   "source": [
    "try:\n",
    "    1 / 0\n",
    "except Exception:\n",
    "    print(\"Произошла ошибка!\")\n",
    "else:\n",
    "    print(\"Выполнюсь только в случае если код в блоке try завершился\")\n",
    "    print(\"без ошибок, return, continue, break\")\n",
    "finally:\n",
    "    print(\"Выполнюсь в любом случае\")"
   ]
  },
  {
   "cell_type": "markdown",
   "id": "1b3afbfa",
   "metadata": {},
   "source": [
    "#### Важен порядок обработки"
   ]
  },
  {
   "cell_type": "code",
   "execution_count": 12,
   "id": "a24b366a",
   "metadata": {},
   "outputs": [
    {
     "name": "stdout",
     "output_type": "stream",
     "text": [
      "Произошла ошибка!\n"
     ]
    }
   ],
   "source": [
    "# неправильно\n",
    "try:\n",
    "    1 / 0\n",
    "except Exception:\n",
    "    print(\"Произошла ошибка!\")\n",
    "except ZeroDivisionError:\n",
    "    print(\"Произошла ошибка деления на 0!\")"
   ]
  },
  {
   "cell_type": "code",
   "execution_count": 9,
   "id": "7d55bdf7",
   "metadata": {},
   "outputs": [
    {
     "name": "stdout",
     "output_type": "stream",
     "text": [
      "Произошла ошибка деления на 0!\n"
     ]
    }
   ],
   "source": [
    "# правильно\n",
    "def func():\n",
    "    return 1/0\n",
    "\n",
    "try:\n",
    "    func()\n",
    "except ZeroDivisionError:\n",
    "    print(\"Произошла ошибка деления на 0!\")\n",
    "except Exception:\n",
    "    print(\"Произошла ошибка!\")"
   ]
  },
  {
   "cell_type": "markdown",
   "id": "df398a80",
   "metadata": {},
   "source": [
    "## Traceback\n",
    "\n",
    "[маленькая статья с пояснением как его читать](https://python-scripts.com/python-traceback)"
   ]
  },
  {
   "cell_type": "code",
   "execution_count": 14,
   "id": "f888282c",
   "metadata": {},
   "outputs": [
    {
     "name": "stdout",
     "output_type": "stream",
     "text": [
      "Traceback (most recent call last):\n",
      "  File \"/tmp/ipykernel_148399/3038411689.py\", line 7, in <module>\n",
      "    1 / 0\n",
      "ZeroDivisionError: division by zero\n",
      "\n",
      "<traceback object at 0x7f579476cc00>\n",
      "Произошла ошибка деления на 0!\n"
     ]
    }
   ],
   "source": [
    "# как вывести traceback\n",
    "import sys\n",
    "import traceback\n",
    "\n",
    "try:\n",
    "    1 / 0\n",
    "except ZeroDivisionError:\n",
    "    print(traceback.format_exc())\n",
    "    # or\n",
    "    print(sys.exc_info()[2])\n",
    "    print(\"Произошла ошибка деления на 0!\")\n",
    "except Exception:\n",
    "    print(\"Произошла ошибка!\")"
   ]
  },
  {
   "cell_type": "markdown",
   "id": "ab47dcab",
   "metadata": {},
   "source": [
    "## Основные виды ошибок"
   ]
  },
  {
   "cell_type": "markdown",
   "id": "71b59182",
   "metadata": {},
   "source": [
    "- **SystemExit** - исключение, порождаемое функцией sys.exit при выходе из программы\n",
    "- **KeyboardInterrupt** - порождается при прерывании программы пользователем (обычно сочетанием клавиш Ctrl+C)\n",
    "- **GeneratorExit** - порождается при вызове метода close объекта generator.\n",
    "\n",
    "- **Exception** - а вот тут уже заканчиваются полностью системные исключения (которые лучше не трогать) и начинаются обыкновенные, с которыми можно работать\n",
    "    - **ArithmeticError** - арифметическая ошибка\n",
    "        - **ZeroDivisionError** - деление на ноль\n",
    "    - **AttributeError** - объект не имеет данного атрибута (значения или метода)\n",
    "    - **ImportError** - не удалось импортирование модуля или его атрибута\n",
    "    - **LookupError** - некорректный индекс или ключ\n",
    "        - **IndexError** - индекс не входит в диапазон элементов\n",
    "        - **KeyError** - несуществующий ключ (в словаре, множестве или другом объекте)\n",
    "    - **NameError** - не найдено переменной с таким именем\n",
    "    - **TypeError** - операция применена к объекту несоответствующего типа\n",
    "    - **ValueError** - функция получает аргумент правильного типа, но некорректного значения"
   ]
  },
  {
   "cell_type": "code",
   "execution_count": 15,
   "id": "4ff2ce07",
   "metadata": {},
   "outputs": [
    {
     "ename": "NameError",
     "evalue": "name 'a' is not defined",
     "output_type": "error",
     "traceback": [
      "\u001b[0;31m---------------------------------------------------------------------------\u001b[0m",
      "\u001b[0;31mNameError\u001b[0m                                 Traceback (most recent call last)",
      "Cell \u001b[0;32mIn[15], line 1\u001b[0m\n\u001b[0;32m----> 1\u001b[0m \u001b[38;5;28mprint\u001b[39m(\u001b[43ma\u001b[49m)\n",
      "\u001b[0;31mNameError\u001b[0m: name 'a' is not defined"
     ]
    }
   ],
   "source": [
    "print(a) # NameError"
   ]
  },
  {
   "cell_type": "code",
   "execution_count": 16,
   "id": "342455ca",
   "metadata": {},
   "outputs": [
    {
     "ename": "ValueError",
     "evalue": "invalid literal for int() with base 10: 'af'",
     "output_type": "error",
     "traceback": [
      "\u001b[0;31m---------------------------------------------------------------------------\u001b[0m",
      "\u001b[0;31mValueError\u001b[0m                                Traceback (most recent call last)",
      "Cell \u001b[0;32mIn[16], line 1\u001b[0m\n\u001b[0;32m----> 1\u001b[0m \u001b[38;5;28;43mint\u001b[39;49m\u001b[43m(\u001b[49m\u001b[38;5;124;43m\"\u001b[39;49m\u001b[38;5;124;43maf\u001b[39;49m\u001b[38;5;124;43m\"\u001b[39;49m\u001b[43m)\u001b[49m \u001b[38;5;66;03m# ValueError\u001b[39;00m\n",
      "\u001b[0;31mValueError\u001b[0m: invalid literal for int() with base 10: 'af'"
     ]
    }
   ],
   "source": [
    "int(\"af\") # ValueError"
   ]
  },
  {
   "cell_type": "markdown",
   "id": "e6121542",
   "metadata": {},
   "source": [
    "#### Как создать свое исключение"
   ]
  },
  {
   "cell_type": "code",
   "execution_count": 19,
   "id": "268dee04",
   "metadata": {},
   "outputs": [
    {
     "name": "stdout",
     "output_type": "stream",
     "text": [
      "Input positive integer: -1\n",
      "You give negative!\n"
     ]
    }
   ],
   "source": [
    "class MyError(Exception):\n",
    "    def __init__(self, text):\n",
    "        self.txt = text\n",
    "        \n",
    "a = input(\"Input positive integer: \")\n",
    "\n",
    "try:\n",
    "    a = int(a)\n",
    "    if a < 0:\n",
    "        raise MyError(\"You give negative!\")\n",
    "except ValueError:\n",
    "    print(\"Error type of value!\")\n",
    "except MyError as mr:\n",
    "    print(mr)\n",
    "else:\n",
    "    print(a)"
   ]
  },
  {
   "cell_type": "markdown",
   "id": "810c379a",
   "metadata": {},
   "source": [
    "#### Как самостоятельно вызвать исключение"
   ]
  },
  {
   "cell_type": "code",
   "execution_count": 23,
   "id": "f9b2ad2f",
   "metadata": {},
   "outputs": [
    {
     "ename": "ValueError",
     "evalue": "текст ошибки",
     "output_type": "error",
     "traceback": [
      "\u001b[0;31m---------------------------------------------------------------------------\u001b[0m",
      "\u001b[0;31mValueError\u001b[0m                                Traceback (most recent call last)",
      "Cell \u001b[0;32mIn[23], line 1\u001b[0m\n\u001b[0;32m----> 1\u001b[0m \u001b[38;5;28;01mraise\u001b[39;00m \u001b[38;5;167;01mValueError\u001b[39;00m(\u001b[38;5;124m\"\u001b[39m\u001b[38;5;124mтекст ошибки\u001b[39m\u001b[38;5;124m\"\u001b[39m)\n",
      "\u001b[0;31mValueError\u001b[0m: текст ошибки"
     ]
    }
   ],
   "source": [
    "raise ValueError(\"текст ошибки\")"
   ]
  },
  {
   "cell_type": "markdown",
   "id": "7c06c523",
   "metadata": {},
   "source": [
    "Задание: написать программу, которая не будет ломаться при вызове функции ниже"
   ]
  },
  {
   "cell_type": "code",
   "execution_count": 13,
   "id": "27ba9c51",
   "metadata": {},
   "outputs": [
    {
     "name": "stdout",
     "output_type": "stream",
     "text": [
      "произошла ошибка\n"
     ]
    }
   ],
   "source": [
    "import random\n",
    "\n",
    "def func(a):\n",
    "    return a / random.randint(0, 1)\n",
    "\n",
    "try:\n",
    "    func(2)\n",
    "except ZeroDivisionError:\n",
    "    print(\"произошла ошибка\")"
   ]
  },
  {
   "cell_type": "markdown",
   "id": "1aefb514",
   "metadata": {},
   "source": [
    "Задание: написать программу, которая будет корректно обрабатывать деление на 0, но также не будет ломаться,  если пользователь введет не число"
   ]
  },
  {
   "cell_type": "code",
   "execution_count": 18,
   "id": "9606ada1",
   "metadata": {},
   "outputs": [
    {
     "name": "stdout",
     "output_type": "stream",
     "text": [
      "Введите числофва\n",
      "пользователь ввел некорректное значение\n",
      "finally\n"
     ]
    }
   ],
   "source": [
    "import random\n",
    "\n",
    "def func():\n",
    "    a = int(input(\"Введите число\"))\n",
    "    return a / 0\n",
    "try:\n",
    "    func()\n",
    "except ZeroDivisionError:\n",
    "    print(\"произошла ошибка деления на 0\")\n",
    "except ArithmeticError:\n",
    "    print(\"арифметическая ошибка\")\n",
    "except ValueError:\n",
    "    print(\"пользователь ввел некорректное значение\")\n",
    "finally:\n",
    "    print(\"finally\")"
   ]
  },
  {
   "cell_type": "markdown",
   "id": "0af306d4",
   "metadata": {},
   "source": [
    "Задание: написать программу, которая будет бросать исключение в случае если пользователь ввел не число (проверим строку)"
   ]
  },
  {
   "cell_type": "code",
   "execution_count": 22,
   "id": "e2b4599a",
   "metadata": {},
   "outputs": [
    {
     "name": "stdout",
     "output_type": "stream",
     "text": [
      "Введите числоabc\n"
     ]
    },
    {
     "ename": "Exception",
     "evalue": "пользователь ввел не только числа (1)",
     "output_type": "error",
     "traceback": [
      "\u001b[1;31m---------------------------------------------------------------------------\u001b[0m",
      "\u001b[1;31mException\u001b[0m                                 Traceback (most recent call last)",
      "Cell \u001b[1;32mIn[22], line 11\u001b[0m\n\u001b[0;32m     10\u001b[0m \u001b[38;5;28;01mtry\u001b[39;00m:\n\u001b[1;32m---> 11\u001b[0m     \u001b[43mfunc\u001b[49m\u001b[43m(\u001b[49m\u001b[43m)\u001b[49m\n\u001b[0;32m     12\u001b[0m \u001b[38;5;28;01mexcept\u001b[39;00m \u001b[38;5;167;01mException\u001b[39;00m:\n",
      "Cell \u001b[1;32mIn[22], line 6\u001b[0m, in \u001b[0;36mfunc\u001b[1;34m()\u001b[0m\n\u001b[0;32m      5\u001b[0m \u001b[38;5;28;01mif\u001b[39;00m \u001b[38;5;129;01mnot\u001b[39;00m a\u001b[38;5;241m.\u001b[39misdigit():\n\u001b[1;32m----> 6\u001b[0m     \u001b[38;5;28;01mraise\u001b[39;00m \u001b[38;5;167;01mException\u001b[39;00m(\u001b[38;5;124m\"\u001b[39m\u001b[38;5;124mпользователь ввел не только числа\u001b[39m\u001b[38;5;124m\"\u001b[39m)\n\u001b[0;32m      7\u001b[0m \u001b[38;5;28;01mreturn\u001b[39;00m \u001b[38;5;28mint\u001b[39m(a) \u001b[38;5;241m/\u001b[39m random\u001b[38;5;241m.\u001b[39mrandint(\u001b[38;5;241m0\u001b[39m, \u001b[38;5;241m1\u001b[39m)\n",
      "\u001b[1;31mException\u001b[0m: пользователь ввел не только числа",
      "\nDuring handling of the above exception, another exception occurred:\n",
      "\u001b[1;31mException\u001b[0m                                 Traceback (most recent call last)",
      "Cell \u001b[1;32mIn[22], line 13\u001b[0m\n\u001b[0;32m     11\u001b[0m     func()\n\u001b[0;32m     12\u001b[0m \u001b[38;5;28;01mexcept\u001b[39;00m \u001b[38;5;167;01mException\u001b[39;00m:\n\u001b[1;32m---> 13\u001b[0m     \u001b[38;5;28;01mraise\u001b[39;00m \u001b[38;5;167;01mException\u001b[39;00m(\u001b[38;5;124m\"\u001b[39m\u001b[38;5;124mпользователь ввел не только числа (1)\u001b[39m\u001b[38;5;124m\"\u001b[39m)\n",
      "\u001b[1;31mException\u001b[0m: пользователь ввел не только числа (1)"
     ]
    }
   ],
   "source": [
    "import random\n",
    "\n",
    "def func():\n",
    "    a = input(\"Введите число\")\n",
    "    if not a.isdigit():\n",
    "        raise Exception(\"пользователь ввел не только числа\")\n",
    "    return int(a) / random.randint(0, 1)\n",
    "\n",
    "\n",
    "try:\n",
    "    func()\n",
    "except Exception:\n",
    "    raise Exception(\"пользователь ввел не только числа (1)\")"
   ]
  },
  {
   "cell_type": "markdown",
   "id": "8665f141",
   "metadata": {},
   "source": [
    "Задание: понять, что произойдет при выполнении программы ниже\n",
    "\n",
    "Как нам вне функции понять, что произошло исключение внутри функции?"
   ]
  },
  {
   "cell_type": "code",
   "execution_count": 31,
   "id": "00e3cb2e",
   "metadata": {},
   "outputs": [
    {
     "name": "stdout",
     "output_type": "stream",
     "text": [
      "Деление на 0\n",
      "Исключение\n"
     ]
    }
   ],
   "source": [
    "def func():\n",
    "    try:\n",
    "        1 / 0 # raise ZeroDivisionError  - генерирует ошибку\n",
    "    except ZeroDivisionError:  \n",
    "        print(\"Деление на 0\")\n",
    "        raise ZeroDivisionError        \n",
    "        \n",
    "try:\n",
    "    func()\n",
    "except Exception:\n",
    "    print(\"Исключение\")"
   ]
  },
  {
   "cell_type": "code",
   "execution_count": 33,
   "id": "4fd32113",
   "metadata": {},
   "outputs": [
    {
     "ename": "ZeroDivisionError",
     "evalue": "division by zero",
     "output_type": "error",
     "traceback": [
      "\u001b[1;31m---------------------------------------------------------------------------\u001b[0m",
      "\u001b[1;31mZeroDivisionError\u001b[0m                         Traceback (most recent call last)",
      "Cell \u001b[1;32mIn[33], line 5\u001b[0m\n\u001b[0;32m      2\u001b[0m     \u001b[38;5;241m1\u001b[39m \u001b[38;5;241m/\u001b[39m \u001b[38;5;241m0\u001b[39m \u001b[38;5;66;03m# произошла ошибка деления на 0\u001b[39;00m\n\u001b[0;32m      3\u001b[0m     \u001b[38;5;28;01mraise\u001b[39;00m \u001b[38;5;167;01mException\u001b[39;00m(\u001b[38;5;124m\"\u001b[39m\u001b[38;5;124mпроизшло исключение\u001b[39m\u001b[38;5;124m\"\u001b[39m)  \n\u001b[1;32m----> 5\u001b[0m \u001b[43mfunc\u001b[49m\u001b[43m(\u001b[49m\u001b[43m)\u001b[49m\n",
      "Cell \u001b[1;32mIn[33], line 2\u001b[0m, in \u001b[0;36mfunc\u001b[1;34m()\u001b[0m\n\u001b[0;32m      1\u001b[0m \u001b[38;5;28;01mdef\u001b[39;00m \u001b[38;5;21mfunc\u001b[39m():\n\u001b[1;32m----> 2\u001b[0m     \u001b[38;5;241;43m1\u001b[39;49m\u001b[43m \u001b[49m\u001b[38;5;241;43m/\u001b[39;49m\u001b[43m \u001b[49m\u001b[38;5;241;43m0\u001b[39;49m \u001b[38;5;66;03m# произошла ошибка деления на 0\u001b[39;00m\n\u001b[0;32m      3\u001b[0m     \u001b[38;5;28;01mraise\u001b[39;00m \u001b[38;5;167;01mException\u001b[39;00m(\u001b[38;5;124m\"\u001b[39m\u001b[38;5;124mпроизшло исключение\u001b[39m\u001b[38;5;124m\"\u001b[39m)\n",
      "\u001b[1;31mZeroDivisionError\u001b[0m: division by zero"
     ]
    }
   ],
   "source": [
    "def func():\n",
    "    1 / 0 # произошла ошибка деления на 0\n",
    "    raise Exception(\"произшло исключение\")  \n",
    "        \n",
    "func()"
   ]
  },
  {
   "cell_type": "markdown",
   "id": "5e5e4cd3",
   "metadata": {},
   "source": [
    "### EAFP - easier to ask for forgiveness than permission - проще попросить прощение, чем разрешение"
   ]
  },
  {
   "cell_type": "markdown",
   "id": "a359b378",
   "metadata": {},
   "source": [
    "более питонячий вариант\n",
    "\n",
    "что является нормальным поведением нашей программы?\n",
    "\n",
    "явное лучше неявного"
   ]
  },
  {
   "cell_type": "code",
   "execution_count": 35,
   "id": "8461b6ce",
   "metadata": {},
   "outputs": [
    {
     "name": "stdout",
     "output_type": "stream",
     "text": [
      "нет паспорта!\n"
     ]
    }
   ],
   "source": [
    "d = {}\n",
    "\n",
    "try:\n",
    "    d[\"паспорт\"] # нормальное поведение нашей программы\n",
    "except KeyError:\n",
    "    print(\"нет паспорта!\") # исключение (необычное поведение)"
   ]
  },
  {
   "cell_type": "markdown",
   "id": "f1c7106f",
   "metadata": {},
   "source": [
    "### LBYL - look before you leap - смотри куда прыгаешь"
   ]
  },
  {
   "cell_type": "code",
   "execution_count": null,
   "id": "af5cdf46",
   "metadata": {},
   "outputs": [],
   "source": [
    "# в данном случае запрашиваем значение по ключу 2 раза\n",
    "if \"виза\" in d:\n",
    "    print(d[\"виза\"])"
   ]
  },
  {
   "cell_type": "markdown",
   "id": "e15fb674",
   "metadata": {},
   "source": [
    "# Работа с файлами\n",
    "\n",
    "[это база](https://pythonworld.ru/tipy-dannyx-v-python/fajly-rabota-s-fajlami.html)"
   ]
  },
  {
   "cell_type": "code",
   "execution_count": 37,
   "id": "0a2c4a51",
   "metadata": {},
   "outputs": [
    {
     "name": "stdout",
     "output_type": "stream",
     "text": [
      "b'\\xd1\\x81\\xd1\\x82\\xd1\\x80\\xd0\\xbe\\xd0\\xba\\xd0\\xb0'\n"
     ]
    }
   ],
   "source": [
    "string = \"строка\"\n",
    "str_bytes = string.encode(\"utf-8\")\n",
    "print(str_bytes)"
   ]
  },
  {
   "cell_type": "code",
   "execution_count": 38,
   "id": "582b2bbe",
   "metadata": {},
   "outputs": [
    {
     "data": {
      "text/plain": [
       "'строка'"
      ]
     },
     "execution_count": 38,
     "metadata": {},
     "output_type": "execute_result"
    }
   ],
   "source": [
    "str_bytes.decode(\"utf-8\")"
   ]
  },
  {
   "cell_type": "code",
   "execution_count": 39,
   "id": "853d3c96",
   "metadata": {},
   "outputs": [
    {
     "data": {
      "text/plain": [
       "bytes"
      ]
     },
     "execution_count": 39,
     "metadata": {},
     "output_type": "execute_result"
    }
   ],
   "source": [
    "type(str_bytes)"
   ]
  },
  {
   "cell_type": "markdown",
   "id": "77e3e499",
   "metadata": {},
   "source": [
    "[про байты](https://pythonworld.ru/tipy-dannyx-v-python/bajty-bytes-i-bytearray.html)"
   ]
  },
  {
   "cell_type": "markdown",
   "id": "860d644f",
   "metadata": {},
   "source": [
    "### Работа с txt"
   ]
  },
  {
   "cell_type": "code",
   "execution_count": 40,
   "id": "4b9ff9c3",
   "metadata": {},
   "outputs": [],
   "source": [
    "# чтение\n",
    "f = open(\"txt_example.txt\")\n",
    "data = f.readlines()\n",
    "f.close()"
   ]
  },
  {
   "cell_type": "code",
   "execution_count": 41,
   "id": "3f98cb08",
   "metadata": {},
   "outputs": [
    {
     "data": {
      "text/plain": [
       "['1 line1\\n', '2 line2\\n', '3 line3']"
      ]
     },
     "execution_count": 41,
     "metadata": {},
     "output_type": "execute_result"
    }
   ],
   "source": [
    "data"
   ]
  },
  {
   "cell_type": "markdown",
   "id": "96cbc27f",
   "metadata": {},
   "source": [
    "прочитать файл построчно"
   ]
  },
  {
   "cell_type": "code",
   "execution_count": 34,
   "id": "d3b25378",
   "metadata": {},
   "outputs": [
    {
     "name": "stdout",
     "output_type": "stream",
     "text": [
      "1 line1\n",
      "\n",
      "2 line2\n",
      "\n",
      "3 line3\n"
     ]
    }
   ],
   "source": [
    "f = open(\"txt_example.txt\", \"r\")\n",
    "for line in f:\n",
    "    print(line)\n",
    "f.close()"
   ]
  },
  {
   "cell_type": "code",
   "execution_count": 43,
   "id": "3efede9b",
   "metadata": {},
   "outputs": [
    {
     "ename": "FileExistsError",
     "evalue": "[Errno 17] File exists: 'random.txt'",
     "output_type": "error",
     "traceback": [
      "\u001b[1;31m---------------------------------------------------------------------------\u001b[0m",
      "\u001b[1;31mFileExistsError\u001b[0m                           Traceback (most recent call last)",
      "Cell \u001b[1;32mIn[43], line 1\u001b[0m\n\u001b[1;32m----> 1\u001b[0m \u001b[38;5;28;43mopen\u001b[39;49m\u001b[43m(\u001b[49m\u001b[38;5;124;43m\"\u001b[39;49m\u001b[38;5;124;43mrandom.txt\u001b[39;49m\u001b[38;5;124;43m\"\u001b[39;49m\u001b[43m,\u001b[49m\u001b[43m \u001b[49m\u001b[38;5;124;43m\"\u001b[39;49m\u001b[38;5;124;43mx\u001b[39;49m\u001b[38;5;124;43m\"\u001b[39;49m\u001b[43m)\u001b[49m\n",
      "File \u001b[1;32m~\\AppData\\Local\\Packages\\PythonSoftwareFoundation.Python.3.10_qbz5n2kfra8p0\\LocalCache\\local-packages\\Python310\\site-packages\\IPython\\core\\interactiveshell.py:282\u001b[0m, in \u001b[0;36m_modified_open\u001b[1;34m(file, *args, **kwargs)\u001b[0m\n\u001b[0;32m    275\u001b[0m \u001b[38;5;28;01mif\u001b[39;00m file \u001b[38;5;129;01min\u001b[39;00m {\u001b[38;5;241m0\u001b[39m, \u001b[38;5;241m1\u001b[39m, \u001b[38;5;241m2\u001b[39m}:\n\u001b[0;32m    276\u001b[0m     \u001b[38;5;28;01mraise\u001b[39;00m \u001b[38;5;167;01mValueError\u001b[39;00m(\n\u001b[0;32m    277\u001b[0m         \u001b[38;5;124mf\u001b[39m\u001b[38;5;124m\"\u001b[39m\u001b[38;5;124mIPython won\u001b[39m\u001b[38;5;124m'\u001b[39m\u001b[38;5;124mt let you open fd=\u001b[39m\u001b[38;5;132;01m{\u001b[39;00mfile\u001b[38;5;132;01m}\u001b[39;00m\u001b[38;5;124m by default \u001b[39m\u001b[38;5;124m\"\u001b[39m\n\u001b[0;32m    278\u001b[0m         \u001b[38;5;124m\"\u001b[39m\u001b[38;5;124mas it is likely to crash IPython. If you know what you are doing, \u001b[39m\u001b[38;5;124m\"\u001b[39m\n\u001b[0;32m    279\u001b[0m         \u001b[38;5;124m\"\u001b[39m\u001b[38;5;124myou can use builtins\u001b[39m\u001b[38;5;124m'\u001b[39m\u001b[38;5;124m open.\u001b[39m\u001b[38;5;124m\"\u001b[39m\n\u001b[0;32m    280\u001b[0m     )\n\u001b[1;32m--> 282\u001b[0m \u001b[38;5;28;01mreturn\u001b[39;00m io_open(file, \u001b[38;5;241m*\u001b[39margs, \u001b[38;5;241m*\u001b[39m\u001b[38;5;241m*\u001b[39mkwargs)\n",
      "\u001b[1;31mFileExistsError\u001b[0m: [Errno 17] File exists: 'random.txt'"
     ]
    }
   ],
   "source": [
    "open(\"random.txt\", \"x\")"
   ]
  },
  {
   "cell_type": "code",
   "execution_count": 41,
   "id": "e0e182f3",
   "metadata": {},
   "outputs": [],
   "source": [
    "# запись\n",
    "# w+ создает файл самостоятельно\n",
    "f = open(\"new_txt_example.txt\", \"w+\")\n",
    "f.write(\"Message\")\n",
    "f.close()"
   ]
  },
  {
   "cell_type": "markdown",
   "id": "82850e9f",
   "metadata": {},
   "source": [
    "[почему файл нужно закрывать](https://docs-python.ru/tutorial/metody-fajlovogo-obekta-potoka-python/metod-file-close/)"
   ]
  },
  {
   "cell_type": "markdown",
   "id": "71ad1de9",
   "metadata": {},
   "source": [
    "#### Предпочительный способ чтения файла\n",
    "\n",
    "[что такое with](https://pythonworld.ru/osnovy/with-as-menedzhery-konteksta.html)"
   ]
  },
  {
   "cell_type": "code",
   "execution_count": 44,
   "id": "cd944aac",
   "metadata": {},
   "outputs": [
    {
     "name": "stdout",
     "output_type": "stream",
     "text": [
      "Message\n",
      "kkk\n"
     ]
    }
   ],
   "source": [
    "# можно заменить на try:...except:..., но лучше использовать with\n",
    "with open(\"new_txt_example.txt\") as f:\n",
    "    print(f.read())"
   ]
  },
  {
   "cell_type": "markdown",
   "id": "b42bc6f4",
   "metadata": {},
   "source": [
    "### Работа с csv\n",
    "\n",
    "[как работать с csv файлами](https://pythonworld.ru/moduli/modul-csv.html)\n",
    "\n",
    "[еще одна ссылка на эту же тему](https://pyneng.readthedocs.io/ru/latest/book/17_serialization/csv.html)"
   ]
  },
  {
   "cell_type": "code",
   "execution_count": 46,
   "id": "a39309d5",
   "metadata": {},
   "outputs": [
    {
     "name": "stdout",
     "output_type": "stream",
     "text": [
      "['РќРѕРјРµСЂ', 'Р“РѕСЂРѕРґ', 'РћР±Р»Р°СЃС‚СЊ', 'РЎС‚СЂР°РЅР°']\n",
      "['1', 'РњРёРЅСЃРє', 'РњРёРЅСЃРєР°СЏ', 'Р\\xa0РµСЃРїСѓР±Р»РёРєР° Р‘РµР»Р°СЂСѓСЃСЊ']\n",
      "['2', 'РџРѕР»РѕС†Рє', 'Р’РёС‚РµР±СЃРєР°СЏ', 'Р\\xa0РµСЃРїСѓР±Р»РёРєР° Р‘РµР»Р°СЂСѓСЃСЊ']\n",
      "['3', 'Р‘РѕР±СЂСѓР№СЃРє', 'РњРѕРіРёР»РµРІСЃРєР°СЏ', 'Р\\xa0РµСЃРїСѓР±Р»РёРєР° Р‘РµР»Р°СЂСѓСЃСЊ']\n"
     ]
    }
   ],
   "source": [
    "# чтение\n",
    "import csv\n",
    "\n",
    "with open('cities.csv') as f:\n",
    "    reader = csv.reader(f)\n",
    "    for row in reader:\n",
    "        for column in row:\n",
    "            print(column)\n",
    "        print(row)"
   ]
  },
  {
   "cell_type": "code",
   "execution_count": 46,
   "id": "43017718",
   "metadata": {},
   "outputs": [
    {
     "name": "stdout",
     "output_type": "stream",
     "text": [
      "{'Номер': '1', 'Город': 'Минск', 'Область': 'Минская', 'Страна': 'Республика Беларусь'}\n",
      "{'Номер': '2', 'Город': 'Полоцк', 'Область': 'Витебская', 'Страна': 'Республика Беларусь'}\n",
      "{'Номер': '3', 'Город': 'Бобруйск', 'Область': 'Могилевская', 'Страна': 'Республика Беларусь'}\n"
     ]
    }
   ],
   "source": [
    "import csv\n",
    "\n",
    "with open('cities.csv') as f:\n",
    "    reader = csv.DictReader(f)\n",
    "    for row in reader:\n",
    "        row[\"Город\"]\n",
    "        print(row)"
   ]
  },
  {
   "cell_type": "code",
   "execution_count": 47,
   "id": "69642852",
   "metadata": {},
   "outputs": [
    {
     "name": "stdout",
     "output_type": "stream",
     "text": [
      "hostname,vendor,model,location\n",
      "sw1,Cisco,3750,\"London, Best str\"\n",
      "sw2,Cisco,3850,\"Liverpool, Better str\"\n",
      "sw3,Cisco,3650,\"Liverpool, Better str\"\n",
      "sw4,Cisco,3650,\"London, Best str\"\n",
      "\n"
     ]
    }
   ],
   "source": [
    "# запись\n",
    "import csv\n",
    "\n",
    "data = [['hostname', 'vendor', 'model', 'location'],\n",
    "        ['sw1', 'Cisco', '3750', 'London, Best str'],\n",
    "        ['sw2', 'Cisco', '3850', 'Liverpool, Better str'],\n",
    "        ['sw3', 'Cisco', '3650', 'Liverpool, Better str'],\n",
    "        ['sw4', 'Cisco', '3650', 'London, Best str']]\n",
    "\n",
    "\n",
    "with open('sw_data.csv', 'w+') as f:\n",
    "    writer = csv.writer(f)\n",
    "    for row in data:\n",
    "        writer.writerow(row)\n",
    "\n",
    "with open('sw_data.csv') as f:\n",
    "    print(f.read())"
   ]
  },
  {
   "cell_type": "code",
   "execution_count": 49,
   "id": "e7ff9922",
   "metadata": {},
   "outputs": [],
   "source": [
    "import csv\n",
    "\n",
    "data = [{\n",
    "    'hostname': 'sw1',\n",
    "    'location': 'London',\n",
    "    'model': '3750',\n",
    "    'vendor': 'Cisco'\n",
    "}, {\n",
    "    'hostname': 'sw2',\n",
    "    'location': 'Liverpool',\n",
    "    'model': '3850',\n",
    "    'vendor': 'Cisco'\n",
    "}, {\n",
    "    'hostname': 'sw3',\n",
    "    'location': 'Liverpool',\n",
    "    'model': '3650',\n",
    "    'vendor': 'Cisco'\n",
    "}, {\n",
    "    'hostname': 'sw4',\n",
    "    'location': 'London',\n",
    "    'model': '3650',\n",
    "    'vendor': 'Cisco'\n",
    "}]\n",
    "\n",
    "with open('csv_write_dictwriter.csv', 'w+') as f:\n",
    "    writer = csv.DictWriter(\n",
    "        f, fieldnames=list(data[0].keys()), quoting=csv.QUOTE_NONNUMERIC)\n",
    "    writer.writeheader()\n",
    "    for d in data:\n",
    "        writer.writerow(d)"
   ]
  },
  {
   "cell_type": "markdown",
   "id": "b4a05df8",
   "metadata": {},
   "source": [
    "### Работа с json\n",
    "\n",
    "[базовая информация про работу с json](https://python-scripts.com/json)"
   ]
  },
  {
   "cell_type": "code",
   "execution_count": 49,
   "id": "436592f9",
   "metadata": {},
   "outputs": [
    {
     "data": {
      "text/plain": [
       "'{\"person\": {\"name\": \"Vladimir\", \"species\": \"Software Engineer\"}}'"
      ]
     },
     "execution_count": 49,
     "metadata": {},
     "output_type": "execute_result"
    }
   ],
   "source": [
    "import json\n",
    "\n",
    "data = {\n",
    "    \"person\": {\n",
    "        \"name\": 'Vladimir',\n",
    "        \"species\": \"Software Engineer\",\n",
    "    }\n",
    "}\n",
    "json.dumps(data) # получаем json string"
   ]
  },
  {
   "cell_type": "code",
   "execution_count": 51,
   "id": "ce723819",
   "metadata": {},
   "outputs": [
    {
     "data": {
      "text/plain": [
       "str"
      ]
     },
     "execution_count": 51,
     "metadata": {},
     "output_type": "execute_result"
    }
   ],
   "source": [
    "type(json.dumps(data))"
   ]
  },
  {
   "cell_type": "code",
   "execution_count": 52,
   "id": "5ea0693f",
   "metadata": {},
   "outputs": [],
   "source": [
    "# записать в файл\n",
    "with open(\"data_file.json\", \"w+\") as write_file:\n",
    "    json.dump(data, write_file)"
   ]
  },
  {
   "cell_type": "code",
   "execution_count": 55,
   "id": "5a6c568f",
   "metadata": {},
   "outputs": [
    {
     "name": "stdout",
     "output_type": "stream",
     "text": [
      "{'person': {'name': 'Vladimir', 'species': 'Software Engineer'}}\n"
     ]
    }
   ],
   "source": [
    "# прочитать из файла\n",
    "with open(\"data_file.json\", \"r\") as read_file:\n",
    "    data = json.load(read_file)\n",
    "print(data)"
   ]
  },
  {
   "cell_type": "markdown",
   "id": "1c46477a",
   "metadata": {},
   "source": [
    "Задание: добавить Владимиру атрибут age и сохранить в json файл"
   ]
  },
  {
   "cell_type": "code",
   "execution_count": 59,
   "id": "4e78f73f",
   "metadata": {},
   "outputs": [],
   "source": [
    "import json\n",
    "\n",
    "data = {\n",
    "    \"person\": {\n",
    "        \"name\": 'Vladimir',\n",
    "        \"species\": \"Software Engineer\",\n",
    "    }\n",
    "}\n",
    "data[\"person\"][\"age\"] = 20\n",
    "\n",
    "with open(\"vladimir.json\", \"w+\") as write_file:\n",
    "    json.dump(data, write_file)"
   ]
  },
  {
   "cell_type": "code",
   "execution_count": 61,
   "id": "0a688ce2",
   "metadata": {},
   "outputs": [],
   "source": [
    "with open(\"vladimir.json\") as read_file:\n",
    "    a = json.load(read_file)\n",
    "    \n",
    "with open(\"vladimir.json\", \"w\") as write_file:\n",
    "    a[\"person\"][\"age\"] = 20\n",
    "    json.dump(a, write_file)    "
   ]
  },
  {
   "cell_type": "markdown",
   "id": "00120d84",
   "metadata": {},
   "source": [
    "Задание: сгенерировать список из 10 четных чисел и записать его в txt файл"
   ]
  },
  {
   "cell_type": "code",
   "execution_count": 82,
   "id": "4d9b1328",
   "metadata": {},
   "outputs": [],
   "source": [
    "list_ = list(range(0, 20, 2))\n",
    "list_\n",
    "\n",
    "with open(\"list_.txt\", \"w+\") as write_file:\n",
    "    write_file.write(str(list_))"
   ]
  },
  {
   "cell_type": "markdown",
   "id": "9f8d71e4",
   "metadata": {},
   "source": [
    "Задание: добавить в этот список еще 2 числа и записать в файл"
   ]
  },
  {
   "cell_type": "code",
   "execution_count": 85,
   "id": "bd8e617f",
   "metadata": {},
   "outputs": [],
   "source": [
    "with open(\"list_.txt\", \"r\") as read_file:\n",
    "    data = read_file.readlines()\n",
    "\n",
    "data = [int(i) for i in list(data[0].replace(\"[\", \"\").replace(\"]\", \"\").split(\", \"))]\n",
    "data.extend([20, 22])\n",
    "\n",
    "with open(\"list_.txt\", \"w\") as write_file:\n",
    "    write_file.write(\",\".join([str(d) for d in data]))"
   ]
  },
  {
   "cell_type": "markdown",
   "id": "09314529",
   "metadata": {},
   "source": [
    "Задание: в csv файл с городами добавить флаг is_city=True"
   ]
  },
  {
   "cell_type": "code",
   "execution_count": null,
   "id": "2368f624",
   "metadata": {},
   "outputs": [],
   "source": []
  },
  {
   "cell_type": "markdown",
   "id": "3d2eaa97",
   "metadata": {},
   "source": [
    "Задание: построчно прочитать файл txt_example.txt и получить из него список \n",
    "[\n",
    "     [1, 'Line1'],\n",
    "     [2, 'Line2'],...\n",
    "]"
   ]
  },
  {
   "cell_type": "code",
   "execution_count": 90,
   "id": "4a81fb07",
   "metadata": {},
   "outputs": [
    {
     "name": "stdout",
     "output_type": "stream",
     "text": [
      "[['1', 'line1'], ['2', 'line2'], ['3', 'line3']]\n"
     ]
    }
   ],
   "source": [
    "with open(\"txt_example.txt\") as read_file:\n",
    "    lines = read_file.readlines()\n",
    "    new_lines = [i.split() for i in lines]\n",
    "    print(new_lines)\n"
   ]
  },
  {
   "cell_type": "markdown",
   "id": "e43558e8",
   "metadata": {},
   "source": [
    "Задание: проверить, есть ли слово message в new_txt_example.txt"
   ]
  },
  {
   "cell_type": "code",
   "execution_count": 93,
   "id": "8aeaae62",
   "metadata": {},
   "outputs": [
    {
     "name": "stdout",
     "output_type": "stream",
     "text": [
      "True\n"
     ]
    }
   ],
   "source": [
    "with open(\"new_txt_example.txt\") as read_file:\n",
    "    print(\"Message\" in read_file.read())"
   ]
  },
  {
   "cell_type": "markdown",
   "id": "625070ea",
   "metadata": {},
   "source": [
    "Задание: посчитать количество строк в файле txt_example.txt"
   ]
  },
  {
   "cell_type": "code",
   "execution_count": 95,
   "id": "02f2c709",
   "metadata": {},
   "outputs": [
    {
     "name": "stdout",
     "output_type": "stream",
     "text": [
      "3\n"
     ]
    }
   ],
   "source": [
    "with open(\"txt_example.txt\") as read_file:\n",
    "    text = read_file.readlines()\n",
    "    print(len(text))"
   ]
  },
  {
   "cell_type": "code",
   "execution_count": 111,
   "id": "356fb1eb",
   "metadata": {},
   "outputs": [
    {
     "name": "stdout",
     "output_type": "stream",
     "text": [
      "Введите число23\n",
      "произошла ошибка деления на 0\n",
      "finally\n"
     ]
    }
   ],
   "source": [
    "import random\n",
    "\n",
    "def logger(message):\n",
    "    with open(\"logs.txt\", \"a+\", encoding='utf-8') as write_file:\n",
    "        print(message)\n",
    "        write_file.write(message + \"\\n\")\n",
    "\n",
    "def func():\n",
    "    try:\n",
    "        a = int(input(\"Введите число\"))\n",
    "        b =  a / 0\n",
    "    except ZeroDivisionError:\n",
    "        logger(\"произошла ошибка деления на 0\")\n",
    "    except ArithmeticError:\n",
    "        logger(\"арифметическая ошибка\")\n",
    "    except ValueError:\n",
    "        logger(\"пользователь ввел некорректное значение\")\n",
    "    finally:\n",
    "        print(\"finally\")\n",
    "        \n",
    "func()"
   ]
  },
  {
   "cell_type": "code",
   "execution_count": 119,
   "id": "2cbc0738",
   "metadata": {},
   "outputs": [
    {
     "name": "stdout",
     "output_type": "stream",
     "text": [
      "до вызова функции print_chisla\n",
      "после вызова функции print_chisla\n",
      "result func 1.5\n",
      "1\n"
     ]
    }
   ],
   "source": [
    "def wrapper(func):\n",
    "    def div(a,b):\n",
    "        print(\"до вызова функции print_chisla\")\n",
    "        print()\n",
    "        result = func(a, b)\n",
    "        print(\"после вызова функции print_chisla\")\n",
    "        print(f\"result func {result}\")\n",
    "        return int(result)\n",
    "    return div\n",
    "\n",
    "\n",
    "@wrapper\n",
    "def print_chisla(a, b):\n",
    "    return a/b\n",
    "\n",
    "print(print_chisla(3,2))"
   ]
  },
  {
   "cell_type": "code",
   "execution_count": null,
   "id": "12925e6b",
   "metadata": {},
   "outputs": [],
   "source": []
  }
 ],
 "metadata": {
  "kernelspec": {
   "display_name": "Python 3 (ipykernel)",
   "language": "python",
   "name": "python3"
  },
  "language_info": {
   "codemirror_mode": {
    "name": "ipython",
    "version": 3
   },
   "file_extension": ".py",
   "mimetype": "text/x-python",
   "name": "python",
   "nbconvert_exporter": "python",
   "pygments_lexer": "ipython3",
   "version": "3.10.11"
  }
 },
 "nbformat": 4,
 "nbformat_minor": 5
}
