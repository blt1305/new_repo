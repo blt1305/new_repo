{
 "cells": [
  {
   "cell_type": "markdown",
   "id": "5d4b133b",
   "metadata": {},
   "source": [
    "# Исключения\n",
    "\n",
    "[виды исключений](https://pythonworld.ru/tipy-dannyx-v-python/isklyucheniya-v-python-konstrukciya-try-except-dlya-obrabotki-isklyuchenij.html)"
   ]
  },
  {
   "cell_type": "code",
   "execution_count": 1,
   "id": "3df0fa62",
   "metadata": {},
   "outputs": [
    {
     "ename": "ZeroDivisionError",
     "evalue": "division by zero",
     "output_type": "error",
     "traceback": [
      "\u001b[0;31m---------------------------------------------------------------------------\u001b[0m",
      "\u001b[0;31mZeroDivisionError\u001b[0m                         Traceback (most recent call last)",
      "Cell \u001b[0;32mIn[1], line 1\u001b[0m\n\u001b[0;32m----> 1\u001b[0m \u001b[38;5;241;43m1\u001b[39;49m\u001b[43m \u001b[49m\u001b[38;5;241;43m/\u001b[39;49m\u001b[43m \u001b[49m\u001b[38;5;241;43m0\u001b[39;49m\n",
      "\u001b[0;31mZeroDivisionError\u001b[0m: division by zero"
     ]
    }
   ],
   "source": [
    "1 / 0"
   ]
  },
  {
   "cell_type": "code",
   "execution_count": 2,
   "id": "adfda85e",
   "metadata": {},
   "outputs": [
    {
     "name": "stdout",
     "output_type": "stream",
     "text": [
      "Произошла ошибка!\n"
     ]
    }
   ],
   "source": [
    "try:\n",
    "    1 / 0\n",
    "except Exception:\n",
    "    print(\"Произошла ошибка!\")"
   ]
  },
  {
   "cell_type": "markdown",
   "id": "0b5b8604",
   "metadata": {},
   "source": [
    "#### Синтаксис"
   ]
  },
  {
   "cell_type": "code",
   "execution_count": 10,
   "id": "3592c136",
   "metadata": {},
   "outputs": [
    {
     "name": "stdout",
     "output_type": "stream",
     "text": [
      "Произошла ошибка!\n",
      "Выполнюсь в любом случае\n"
     ]
    }
   ],
   "source": [
    "try:\n",
    "    1 / 0\n",
    "except Exception:\n",
    "    print(\"Произошла ошибка!\")\n",
    "else:\n",
    "    print(\"Выполнюсь только в случае если код в блоке try завершился\")\n",
    "    print(\"буз ошибок, return, continue, break\")\n",
    "finally:\n",
    "    print(\"Выполнюсь в любом случае\")"
   ]
  },
  {
   "cell_type": "markdown",
   "id": "1b3afbfa",
   "metadata": {},
   "source": [
    "#### Важен порядок обработки"
   ]
  },
  {
   "cell_type": "code",
   "execution_count": 12,
   "id": "a24b366a",
   "metadata": {},
   "outputs": [
    {
     "name": "stdout",
     "output_type": "stream",
     "text": [
      "Произошла ошибка!\n"
     ]
    }
   ],
   "source": [
    "# неправильно\n",
    "try:\n",
    "    1 / 0\n",
    "except Exception:\n",
    "    print(\"Произошла ошибка!\")\n",
    "except ZeroDivisionError:\n",
    "    print(\"Произошла ошибка деления на 0!\")"
   ]
  },
  {
   "cell_type": "code",
   "execution_count": 13,
   "id": "7d55bdf7",
   "metadata": {},
   "outputs": [
    {
     "name": "stdout",
     "output_type": "stream",
     "text": [
      "Произошла ошибка деления на 0!\n"
     ]
    }
   ],
   "source": [
    "# правильно\n",
    "try:\n",
    "    1 / 0\n",
    "except ZeroDivisionError:\n",
    "    print(\"Произошла ошибка деления на 0!\")\n",
    "except Exception:\n",
    "    print(\"Произошла ошибка!\")"
   ]
  },
  {
   "cell_type": "markdown",
   "id": "df398a80",
   "metadata": {},
   "source": [
    "## Traceback\n",
    "\n",
    "[маленькая статья с пояснением как его читать](https://python-scripts.com/python-traceback)"
   ]
  },
  {
   "cell_type": "code",
   "execution_count": 14,
   "id": "f888282c",
   "metadata": {},
   "outputs": [
    {
     "name": "stdout",
     "output_type": "stream",
     "text": [
      "Traceback (most recent call last):\n",
      "  File \"/tmp/ipykernel_148399/3038411689.py\", line 7, in <module>\n",
      "    1 / 0\n",
      "ZeroDivisionError: division by zero\n",
      "\n",
      "<traceback object at 0x7f579476cc00>\n",
      "Произошла ошибка деления на 0!\n"
     ]
    }
   ],
   "source": [
    "# как вывести traceback\n",
    "\n",
    "import sys\n",
    "import traceback\n",
    "\n",
    "try:\n",
    "    1 / 0\n",
    "except ZeroDivisionError:\n",
    "    print(traceback.format_exc())\n",
    "    # or\n",
    "    print(sys.exc_info()[2])\n",
    "    print(\"Произошла ошибка деления на 0!\")\n",
    "except Exception:\n",
    "    print(\"Произошла ошибка!\")"
   ]
  },
  {
   "cell_type": "markdown",
   "id": "ab47dcab",
   "metadata": {},
   "source": [
    "## Основные виды ошибок"
   ]
  },
  {
   "cell_type": "markdown",
   "id": "71b59182",
   "metadata": {},
   "source": [
    "- **SystemExit** - исключение, порождаемое функцией sys.exit при выходе из программы\n",
    "- **KeyboardInterrupt** - порождается при прерывании программы пользователем (обычно сочетанием клавиш Ctrl+C)\n",
    "- **GeneratorExit** - порождается при вызове метода close объекта generator.\n",
    "\n",
    "- **Exception** - а вот тут уже заканчиваются полностью системные исключения (которые лучше не трогать) и начинаются обыкновенные, с которыми можно работать\n",
    "    - **ArithmeticError** - арифметическая ошибка\n",
    "        - **ZeroDivisionError** - деление на ноль\n",
    "    - **AttributeError** - объект не имеет данного атрибута (значения или метода)\n",
    "    - **ImportError** - не удалось импортирование модуля или его атрибута\n",
    "    - **LookupError** - некорректный индекс или ключ\n",
    "        - **IndexError** - индекс не входит в диапазон элементов\n",
    "        - **KeyError** - несуществующий ключ (в словаре, множестве или другом объекте)\n",
    "    - **NameError** - не найдено переменной с таким именем\n",
    "    - **TypeError** - операция применена к объекту несоответствующего типа\n",
    "    - **ValueError** - функция получает аргумент правильного типа, но некорректного значения"
   ]
  },
  {
   "cell_type": "code",
   "execution_count": 15,
   "id": "4ff2ce07",
   "metadata": {},
   "outputs": [
    {
     "ename": "NameError",
     "evalue": "name 'a' is not defined",
     "output_type": "error",
     "traceback": [
      "\u001b[0;31m---------------------------------------------------------------------------\u001b[0m",
      "\u001b[0;31mNameError\u001b[0m                                 Traceback (most recent call last)",
      "Cell \u001b[0;32mIn[15], line 1\u001b[0m\n\u001b[0;32m----> 1\u001b[0m \u001b[38;5;28mprint\u001b[39m(\u001b[43ma\u001b[49m)\n",
      "\u001b[0;31mNameError\u001b[0m: name 'a' is not defined"
     ]
    }
   ],
   "source": [
    "print(a) # NameError"
   ]
  },
  {
   "cell_type": "code",
   "execution_count": 16,
   "id": "342455ca",
   "metadata": {},
   "outputs": [
    {
     "ename": "ValueError",
     "evalue": "invalid literal for int() with base 10: 'af'",
     "output_type": "error",
     "traceback": [
      "\u001b[0;31m---------------------------------------------------------------------------\u001b[0m",
      "\u001b[0;31mValueError\u001b[0m                                Traceback (most recent call last)",
      "Cell \u001b[0;32mIn[16], line 1\u001b[0m\n\u001b[0;32m----> 1\u001b[0m \u001b[38;5;28;43mint\u001b[39;49m\u001b[43m(\u001b[49m\u001b[38;5;124;43m\"\u001b[39;49m\u001b[38;5;124;43maf\u001b[39;49m\u001b[38;5;124;43m\"\u001b[39;49m\u001b[43m)\u001b[49m \u001b[38;5;66;03m# ValueError\u001b[39;00m\n",
      "\u001b[0;31mValueError\u001b[0m: invalid literal for int() with base 10: 'af'"
     ]
    }
   ],
   "source": [
    "int(\"af\") # ValueError"
   ]
  },
  {
   "cell_type": "markdown",
   "id": "e6121542",
   "metadata": {},
   "source": [
    "#### Как создать свое исключение"
   ]
  },
  {
   "cell_type": "code",
   "execution_count": 19,
   "id": "268dee04",
   "metadata": {},
   "outputs": [
    {
     "name": "stdout",
     "output_type": "stream",
     "text": [
      "Input positive integer: -1\n",
      "You give negative!\n"
     ]
    }
   ],
   "source": [
    "class MyError(Exception):\n",
    "    def __init__(self, text):\n",
    "        self.txt = text\n",
    "        \n",
    "a = input(\"Input positive integer: \")\n",
    "\n",
    "try:\n",
    "    a = int(a)\n",
    "    if a < 0:\n",
    "        raise MyError(\"You give negative!\")\n",
    "except ValueError:\n",
    "    print(\"Error type of value!\")\n",
    "except MyError as mr:\n",
    "    print(mr)\n",
    "else:\n",
    "    print(a)"
   ]
  },
  {
   "cell_type": "markdown",
   "id": "810c379a",
   "metadata": {},
   "source": [
    "#### Как самостоятельно вызвать исключение"
   ]
  },
  {
   "cell_type": "code",
   "execution_count": 23,
   "id": "f9b2ad2f",
   "metadata": {},
   "outputs": [
    {
     "ename": "ValueError",
     "evalue": "текст ошибки",
     "output_type": "error",
     "traceback": [
      "\u001b[0;31m---------------------------------------------------------------------------\u001b[0m",
      "\u001b[0;31mValueError\u001b[0m                                Traceback (most recent call last)",
      "Cell \u001b[0;32mIn[23], line 1\u001b[0m\n\u001b[0;32m----> 1\u001b[0m \u001b[38;5;28;01mraise\u001b[39;00m \u001b[38;5;167;01mValueError\u001b[39;00m(\u001b[38;5;124m\"\u001b[39m\u001b[38;5;124mтекст ошибки\u001b[39m\u001b[38;5;124m\"\u001b[39m)\n",
      "\u001b[0;31mValueError\u001b[0m: текст ошибки"
     ]
    }
   ],
   "source": [
    "raise ValueError(\"текст ошибки\")"
   ]
  },
  {
   "cell_type": "markdown",
   "id": "7c06c523",
   "metadata": {},
   "source": [
    "Задание: написать программу, которая не будет ломаться при вызове функции ниже"
   ]
  },
  {
   "cell_type": "code",
   "execution_count": 22,
   "id": "27ba9c51",
   "metadata": {},
   "outputs": [
    {
     "ename": "ZeroDivisionError",
     "evalue": "division by zero",
     "output_type": "error",
     "traceback": [
      "\u001b[0;31m---------------------------------------------------------------------------\u001b[0m",
      "\u001b[0;31mZeroDivisionError\u001b[0m                         Traceback (most recent call last)",
      "Cell \u001b[0;32mIn[22], line 6\u001b[0m\n\u001b[1;32m      3\u001b[0m \u001b[38;5;28;01mdef\u001b[39;00m \u001b[38;5;21mfunc\u001b[39m(a):\n\u001b[1;32m      4\u001b[0m     \u001b[38;5;28;01mreturn\u001b[39;00m a \u001b[38;5;241m/\u001b[39m random\u001b[38;5;241m.\u001b[39mrandint(\u001b[38;5;241m0\u001b[39m, \u001b[38;5;241m1\u001b[39m)\n\u001b[0;32m----> 6\u001b[0m \u001b[43mfunc\u001b[49m\u001b[43m(\u001b[49m\u001b[38;5;241;43m2\u001b[39;49m\u001b[43m)\u001b[49m\n",
      "Cell \u001b[0;32mIn[22], line 4\u001b[0m, in \u001b[0;36mfunc\u001b[0;34m(a)\u001b[0m\n\u001b[1;32m      3\u001b[0m \u001b[38;5;28;01mdef\u001b[39;00m \u001b[38;5;21mfunc\u001b[39m(a):\n\u001b[0;32m----> 4\u001b[0m     \u001b[38;5;28;01mreturn\u001b[39;00m \u001b[43ma\u001b[49m\u001b[43m \u001b[49m\u001b[38;5;241;43m/\u001b[39;49m\u001b[43m \u001b[49m\u001b[43mrandom\u001b[49m\u001b[38;5;241;43m.\u001b[39;49m\u001b[43mrandint\u001b[49m\u001b[43m(\u001b[49m\u001b[38;5;241;43m0\u001b[39;49m\u001b[43m,\u001b[49m\u001b[43m \u001b[49m\u001b[38;5;241;43m1\u001b[39;49m\u001b[43m)\u001b[49m\n",
      "\u001b[0;31mZeroDivisionError\u001b[0m: division by zero"
     ]
    }
   ],
   "source": [
    "import random\n",
    "\n",
    "def func(a):\n",
    "    return a / random.randint(0, 1)\n",
    "\n",
    "func(2)"
   ]
  },
  {
   "cell_type": "markdown",
   "id": "1aefb514",
   "metadata": {},
   "source": [
    "Задание: написать программу, которая будет корректно обрабатывать деление на 0, но также не будет ломаться,  если пользователь введет не число"
   ]
  },
  {
   "cell_type": "code",
   "execution_count": null,
   "id": "9606ada1",
   "metadata": {},
   "outputs": [],
   "source": [
    "import random\n",
    "\n",
    "def func():\n",
    "    a = input(\"Введите число\")\n",
    "    return a / random.randint(0, 1)\n",
    "\n",
    "func(2)"
   ]
  },
  {
   "cell_type": "markdown",
   "id": "0af306d4",
   "metadata": {},
   "source": [
    "Задание: написать программу, которая будет бросать исключение в случае если пользователь ввел не число (проверим строку)"
   ]
  },
  {
   "cell_type": "code",
   "execution_count": null,
   "id": "e2b4599a",
   "metadata": {},
   "outputs": [],
   "source": [
    "import random\n",
    "\n",
    "def func():\n",
    "    a = input(\"Введите число\")\n",
    "    return a / random.randint(0, 1)\n",
    "\n",
    "func(2)"
   ]
  },
  {
   "cell_type": "markdown",
   "id": "8665f141",
   "metadata": {},
   "source": [
    "Задание: понять, что произойдет при выполнении программы ниже\n",
    "\n",
    "Как нам вне функции понять, что произошло исключение внутри функции?"
   ]
  },
  {
   "cell_type": "code",
   "execution_count": null,
   "id": "00e3cb2e",
   "metadata": {},
   "outputs": [],
   "source": [
    "def func():\n",
    "    try:\n",
    "        1 / 0\n",
    "    except ZeroDivisionError:\n",
    "        print(\"Деление на 0\")\n",
    "try:\n",
    "    func()\n",
    "\n",
    "except Exception:\n",
    "    print(\"исключение\")"
   ]
  },
  {
   "cell_type": "markdown",
   "id": "5e5e4cd3",
   "metadata": {},
   "source": [
    "### EAFP - easier to ask for forgiveness than permission - проще попросить прощение, чем разрешение"
   ]
  },
  {
   "cell_type": "markdown",
   "id": "a359b378",
   "metadata": {},
   "source": [
    "более питонячий вариант\n",
    "\n",
    "что является нормальным поведением нашей программы?\n",
    "\n",
    "явное лучше неявного"
   ]
  },
  {
   "cell_type": "code",
   "execution_count": null,
   "id": "8461b6ce",
   "metadata": {},
   "outputs": [],
   "source": [
    "d = {}\n",
    "\n",
    "try:\n",
    "    d[\"key\"] # нормальное поведение нашей программы\n",
    "except KeyError:\n",
    "    print(\"нет такого ключа\") # исключение (необычное поведение)"
   ]
  },
  {
   "cell_type": "markdown",
   "id": "f1c7106f",
   "metadata": {},
   "source": [
    "### LBYL - look before you leap - смотри куда прыгаешь"
   ]
  },
  {
   "cell_type": "code",
   "execution_count": null,
   "id": "af5cdf46",
   "metadata": {},
   "outputs": [],
   "source": [
    "# в данном случае запрашиваем значение по ключу 2 раза\n",
    "if \"key\" in d:\n",
    "    print(d[\"Key\"])"
   ]
  },
  {
   "cell_type": "markdown",
   "id": "e15fb674",
   "metadata": {},
   "source": [
    "# Работа с файлами\n",
    "\n",
    "[это база](https://pythonworld.ru/tipy-dannyx-v-python/fajly-rabota-s-fajlami.html)"
   ]
  },
  {
   "cell_type": "code",
   "execution_count": 27,
   "id": "0a2c4a51",
   "metadata": {},
   "outputs": [
    {
     "data": {
      "text/plain": [
       "b'\\xd1\\x81\\xd1\\x82\\xd1\\x80\\xd0\\xbe\\xd0\\xba\\xd0\\xb0'"
      ]
     },
     "execution_count": 27,
     "metadata": {},
     "output_type": "execute_result"
    }
   ],
   "source": [
    "\"строка\".encode(\"utf-8\")"
   ]
  },
  {
   "cell_type": "code",
   "execution_count": 28,
   "id": "582b2bbe",
   "metadata": {},
   "outputs": [
    {
     "data": {
      "text/plain": [
       "'строка'"
      ]
     },
     "execution_count": 28,
     "metadata": {},
     "output_type": "execute_result"
    }
   ],
   "source": [
    "\"строка\".encode(\"utf-8\").decode(\"utf-8\")"
   ]
  },
  {
   "cell_type": "markdown",
   "id": "77e3e499",
   "metadata": {},
   "source": [
    "[про байты](https://pythonworld.ru/tipy-dannyx-v-python/bajty-bytes-i-bytearray.html)"
   ]
  },
  {
   "cell_type": "markdown",
   "id": "860d644f",
   "metadata": {},
   "source": [
    "### Работа с txt"
   ]
  },
  {
   "cell_type": "code",
   "execution_count": 32,
   "id": "4b9ff9c3",
   "metadata": {},
   "outputs": [],
   "source": [
    "# чтение\n",
    "f = open(\"txt_example.txt\")\n",
    "data = f.readlines()\n",
    "f.close()"
   ]
  },
  {
   "cell_type": "code",
   "execution_count": 33,
   "id": "3f98cb08",
   "metadata": {},
   "outputs": [
    {
     "data": {
      "text/plain": [
       "['1 line1\\n', '2 line2\\n', '3 line3']"
      ]
     },
     "execution_count": 33,
     "metadata": {},
     "output_type": "execute_result"
    }
   ],
   "source": [
    "data"
   ]
  },
  {
   "cell_type": "markdown",
   "id": "96cbc27f",
   "metadata": {},
   "source": [
    "прочитать файл построчно"
   ]
  },
  {
   "cell_type": "code",
   "execution_count": 34,
   "id": "d3b25378",
   "metadata": {},
   "outputs": [
    {
     "name": "stdout",
     "output_type": "stream",
     "text": [
      "1 line1\n",
      "\n",
      "2 line2\n",
      "\n",
      "3 line3\n"
     ]
    }
   ],
   "source": [
    "f = open(\"txt_example.txt\")\n",
    "for line in f:\n",
    "    print(line)\n",
    "f.close()"
   ]
  },
  {
   "cell_type": "code",
   "execution_count": 41,
   "id": "e0e182f3",
   "metadata": {},
   "outputs": [],
   "source": [
    "# запись\n",
    "# w+ создает файл самостоятельно\n",
    "f = open(\"new_txt_example.txt\", \"w+\")\n",
    "f.write(\"Message\")\n",
    "f.close()"
   ]
  },
  {
   "cell_type": "markdown",
   "id": "82850e9f",
   "metadata": {},
   "source": [
    "[почему файл нужно закрывать](https://docs-python.ru/tutorial/metody-fajlovogo-obekta-potoka-python/metod-file-close/)"
   ]
  },
  {
   "cell_type": "markdown",
   "id": "71ad1de9",
   "metadata": {},
   "source": [
    "#### Предпочительный способ чтения файла\n",
    "\n",
    "[что такое with](https://pythonworld.ru/osnovy/with-as-menedzhery-konteksta.html)"
   ]
  },
  {
   "cell_type": "code",
   "execution_count": 43,
   "id": "cd944aac",
   "metadata": {},
   "outputs": [
    {
     "name": "stdout",
     "output_type": "stream",
     "text": [
      "Message\n"
     ]
    }
   ],
   "source": [
    "# можно заменить на try:...except:..., но лучше использовать with\n",
    "with open(\"new_txt_example.txt\") as f:\n",
    "    print(f.read())"
   ]
  },
  {
   "cell_type": "markdown",
   "id": "b42bc6f4",
   "metadata": {},
   "source": [
    "### Работа с csv\n",
    "\n",
    "[как работать с csv файлами](https://pythonworld.ru/moduli/modul-csv.html)\n",
    "\n",
    "[еще одна ссылка на эту же тему](https://pyneng.readthedocs.io/ru/latest/book/17_serialization/csv.html)"
   ]
  },
  {
   "cell_type": "code",
   "execution_count": 45,
   "id": "a39309d5",
   "metadata": {},
   "outputs": [
    {
     "name": "stdout",
     "output_type": "stream",
     "text": [
      "['Номер', 'Город', 'Область', 'Страна']\n",
      "['1', 'Минск', 'Минская', 'Республика Беларусь']\n",
      "['2', 'Полоцк', 'Витебская', 'Республика Беларусь']\n",
      "['3', 'Бобруйск', 'Могилевская', 'Республика Беларусь']\n"
     ]
    }
   ],
   "source": [
    "# чтение\n",
    "import csv\n",
    "\n",
    "with open('cities.csv') as f:\n",
    "    reader = csv.reader(f)\n",
    "    for row in reader:\n",
    "        print(row)"
   ]
  },
  {
   "cell_type": "code",
   "execution_count": 46,
   "id": "43017718",
   "metadata": {},
   "outputs": [
    {
     "name": "stdout",
     "output_type": "stream",
     "text": [
      "{'Номер': '1', 'Город': 'Минск', 'Область': 'Минская', 'Страна': 'Республика Беларусь'}\n",
      "{'Номер': '2', 'Город': 'Полоцк', 'Область': 'Витебская', 'Страна': 'Республика Беларусь'}\n",
      "{'Номер': '3', 'Город': 'Бобруйск', 'Область': 'Могилевская', 'Страна': 'Республика Беларусь'}\n"
     ]
    }
   ],
   "source": [
    "import csv\n",
    "\n",
    "with open('cities.csv') as f:\n",
    "    reader = csv.DictReader(f)\n",
    "    for row in reader:\n",
    "        print(row)"
   ]
  },
  {
   "cell_type": "code",
   "execution_count": 47,
   "id": "69642852",
   "metadata": {},
   "outputs": [
    {
     "name": "stdout",
     "output_type": "stream",
     "text": [
      "hostname,vendor,model,location\n",
      "sw1,Cisco,3750,\"London, Best str\"\n",
      "sw2,Cisco,3850,\"Liverpool, Better str\"\n",
      "sw3,Cisco,3650,\"Liverpool, Better str\"\n",
      "sw4,Cisco,3650,\"London, Best str\"\n",
      "\n"
     ]
    }
   ],
   "source": [
    "# запись\n",
    "import csv\n",
    "\n",
    "data = [['hostname', 'vendor', 'model', 'location'],\n",
    "        ['sw1', 'Cisco', '3750', 'London, Best str'],\n",
    "        ['sw2', 'Cisco', '3850', 'Liverpool, Better str'],\n",
    "        ['sw3', 'Cisco', '3650', 'Liverpool, Better str'],\n",
    "        ['sw4', 'Cisco', '3650', 'London, Best str']]\n",
    "\n",
    "\n",
    "with open('sw_data.csv', 'w+') as f:\n",
    "    writer = csv.writer(f)\n",
    "    for row in data:\n",
    "        writer.writerow(row)\n",
    "\n",
    "with open('sw_data.csv') as f:\n",
    "    print(f.read())"
   ]
  },
  {
   "cell_type": "code",
   "execution_count": 49,
   "id": "e7ff9922",
   "metadata": {},
   "outputs": [],
   "source": [
    "import csv\n",
    "\n",
    "data = [{\n",
    "    'hostname': 'sw1',\n",
    "    'location': 'London',\n",
    "    'model': '3750',\n",
    "    'vendor': 'Cisco'\n",
    "}, {\n",
    "    'hostname': 'sw2',\n",
    "    'location': 'Liverpool',\n",
    "    'model': '3850',\n",
    "    'vendor': 'Cisco'\n",
    "}, {\n",
    "    'hostname': 'sw3',\n",
    "    'location': 'Liverpool',\n",
    "    'model': '3650',\n",
    "    'vendor': 'Cisco'\n",
    "}, {\n",
    "    'hostname': 'sw4',\n",
    "    'location': 'London',\n",
    "    'model': '3650',\n",
    "    'vendor': 'Cisco'\n",
    "}]\n",
    "\n",
    "with open('csv_write_dictwriter.csv', 'w+') as f:\n",
    "    writer = csv.DictWriter(\n",
    "        f, fieldnames=list(data[0].keys()), quoting=csv.QUOTE_NONNUMERIC)\n",
    "    writer.writeheader()\n",
    "    for d in data:\n",
    "        writer.writerow(d)"
   ]
  },
  {
   "cell_type": "markdown",
   "id": "b4a05df8",
   "metadata": {},
   "source": [
    "### Работа с json\n",
    "\n",
    "[базовая информация про работу с json](https://python-scripts.com/json)"
   ]
  },
  {
   "cell_type": "code",
   "execution_count": 56,
   "id": "436592f9",
   "metadata": {},
   "outputs": [
    {
     "data": {
      "text/plain": [
       "'{\"person\": {\"name\": \"Vladimir\", \"species\": \"Software Engineer\"}}'"
      ]
     },
     "execution_count": 56,
     "metadata": {},
     "output_type": "execute_result"
    }
   ],
   "source": [
    "import json\n",
    "\n",
    "data = {\n",
    "    \"person\": {\n",
    "        \"name\": \"Vladimir\",\n",
    "        \"species\": \"Software Engineer\"\n",
    "    }\n",
    "}\n",
    "json.dumps(data) # получаем json string"
   ]
  },
  {
   "cell_type": "code",
   "execution_count": 51,
   "id": "ce723819",
   "metadata": {},
   "outputs": [
    {
     "data": {
      "text/plain": [
       "str"
      ]
     },
     "execution_count": 51,
     "metadata": {},
     "output_type": "execute_result"
    }
   ],
   "source": [
    "type(json.dumps(data))"
   ]
  },
  {
   "cell_type": "code",
   "execution_count": 52,
   "id": "5ea0693f",
   "metadata": {},
   "outputs": [],
   "source": [
    "# записать в файл\n",
    "with open(\"data_file.json\", \"w+\") as write_file:\n",
    "    json.dump(data, write_file)"
   ]
  },
  {
   "cell_type": "code",
   "execution_count": 55,
   "id": "5a6c568f",
   "metadata": {},
   "outputs": [
    {
     "name": "stdout",
     "output_type": "stream",
     "text": [
      "{'person': {'name': 'Vladimir', 'species': 'Software Engineer'}}\n"
     ]
    }
   ],
   "source": [
    "# прочитать из файла\n",
    "with open(\"data_file.json\", \"r\") as read_file:\n",
    "    data = json.load(read_file)\n",
    "print(data)"
   ]
  },
  {
   "cell_type": "markdown",
   "id": "1c46477a",
   "metadata": {},
   "source": [
    "Задание: добавить Владимиру атрибут age и сохранить в json файл"
   ]
  },
  {
   "cell_type": "code",
   "execution_count": null,
   "id": "4e78f73f",
   "metadata": {},
   "outputs": [],
   "source": []
  },
  {
   "cell_type": "markdown",
   "id": "00120d84",
   "metadata": {},
   "source": [
    "Задание: сгенерировать список из 10 четных чисел и записать его в txt файл"
   ]
  },
  {
   "cell_type": "code",
   "execution_count": null,
   "id": "4d9b1328",
   "metadata": {},
   "outputs": [],
   "source": []
  },
  {
   "cell_type": "markdown",
   "id": "9f8d71e4",
   "metadata": {},
   "source": [
    "Задание: добавить в этот список еще 2 числа и записать в файл"
   ]
  },
  {
   "cell_type": "code",
   "execution_count": null,
   "id": "bd8e617f",
   "metadata": {},
   "outputs": [],
   "source": []
  },
  {
   "cell_type": "markdown",
   "id": "09314529",
   "metadata": {},
   "source": [
    "Задание: в csv файл с городами добавить флаг is_city=True"
   ]
  },
  {
   "cell_type": "code",
   "execution_count": null,
   "id": "2368f624",
   "metadata": {},
   "outputs": [],
   "source": []
  },
  {
   "cell_type": "markdown",
   "id": "3d2eaa97",
   "metadata": {},
   "source": [
    "Задание: построчно прочитать файл txt_example.txt и получить из него список \n",
    "[\n",
    "     [1, 'Line1'],\n",
    "     [2, 'Line2'],...\n",
    "]"
   ]
  },
  {
   "cell_type": "code",
   "execution_count": null,
   "id": "4a81fb07",
   "metadata": {},
   "outputs": [],
   "source": []
  },
  {
   "cell_type": "markdown",
   "id": "e43558e8",
   "metadata": {},
   "source": [
    "Задание: проверить, есть ли слово message в new_txt_example.txt"
   ]
  },
  {
   "cell_type": "code",
   "execution_count": null,
   "id": "8aeaae62",
   "metadata": {},
   "outputs": [],
   "source": []
  },
  {
   "cell_type": "markdown",
   "id": "625070ea",
   "metadata": {},
   "source": [
    "Задание: посчитать количество строк в файле txt_example.txt"
   ]
  },
  {
   "cell_type": "code",
   "execution_count": null,
   "id": "02f2c709",
   "metadata": {},
   "outputs": [],
   "source": []
  }
 ],
 "metadata": {
  "kernelspec": {
   "display_name": "Python 3 (ipykernel)",
   "language": "python",
   "name": "python3"
  },
  "language_info": {
   "codemirror_mode": {
    "name": "ipython",
    "version": 3
   },
   "file_extension": ".py",
   "mimetype": "text/x-python",
   "name": "python",
   "nbconvert_exporter": "python",
   "pygments_lexer": "ipython3",
   "version": "3.10.6"
  }
 },
 "nbformat": 4,
 "nbformat_minor": 5
}
