{
 "cells": [
  {
   "cell_type": "markdown",
   "id": "9928bf36",
   "metadata": {},
   "source": [
    "# Занятие 12. Практика"
   ]
  },
  {
   "cell_type": "markdown",
   "id": "870059e7",
   "metadata": {},
   "source": [
    "Задание: написать функцию, которая принимает в себя любые агрументы и выводит их на экран"
   ]
  },
  {
   "cell_type": "code",
   "execution_count": 3,
   "id": "da419d1b",
   "metadata": {},
   "outputs": [
    {
     "name": "stdout",
     "output_type": "stream",
     "text": [
      "(1,) {'s': [10, 11]}\n"
     ]
    }
   ],
   "source": [
    "def print_arguments(*args, **kwargs):\n",
    "    print(args, kwargs)\n",
    "\n",
    "print_arguments(1, s=[10, 11])"
   ]
  },
  {
   "cell_type": "markdown",
   "id": "a3c56923",
   "metadata": {},
   "source": [
    "Задание: есть матрица, нужно пройтись по ней и вывести каждое значение на экран при помощи циклов while"
   ]
  },
  {
   "cell_type": "code",
   "execution_count": 6,
   "id": "a523ae28",
   "metadata": {},
   "outputs": [
    {
     "name": "stdout",
     "output_type": "stream",
     "text": [
      "1\n",
      "2\n",
      "3\n",
      "4\n",
      "5\n",
      "6\n",
      "7\n",
      "8\n",
      "9\n"
     ]
    }
   ],
   "source": [
    "matrix = [\n",
    "    [1, 2, 3],\n",
    "    [4, 5, 6],\n",
    "    [7, 8, 9]\n",
    "]\n",
    "n = 0\n",
    "\n",
    "while len(matrix) > n:\n",
    "    i = 0\n",
    "    while len(matrix[n]) > i:\n",
    "        print(matrix[n][i])\n",
    "        i+=1\n",
    "    n += 1"
   ]
  },
  {
   "cell_type": "markdown",
   "id": "d1ec9870",
   "metadata": {},
   "source": [
    "Задание: Даны два массива\n",
    "\n",
    "a = [1, 2, 3]\n",
    "\n",
    "b = [q, w, e]\n",
    "\n",
    "Надо сделать чтобы значения, а были ключами, а значения b — значениями дикта"
   ]
  },
  {
   "cell_type": "code",
   "execution_count": 9,
   "id": "d33836b9",
   "metadata": {},
   "outputs": [
    {
     "name": "stdout",
     "output_type": "stream",
     "text": [
      "{1: 'q', 2: 'w', 3: 'e'}\n"
     ]
    }
   ],
   "source": [
    "a = [1, 2, 3]\n",
    "\n",
    "b = ['q', 'w', 'e']\n",
    "\n",
    "result = dict(zip(a,b))\n",
    "print(result)"
   ]
  },
  {
   "cell_type": "code",
   "execution_count": 11,
   "id": "ef911ae5",
   "metadata": {},
   "outputs": [
    {
     "data": {
      "text/plain": [
       "{1: 'q', 2: 'w', 3: 'e'}"
      ]
     },
     "execution_count": 11,
     "metadata": {},
     "output_type": "execute_result"
    }
   ],
   "source": [
    "{a[index]: b[index] for index in range(len(a))}"
   ]
  },
  {
   "cell_type": "markdown",
   "id": "22cc8e73",
   "metadata": {},
   "source": [
    "Задание: поменять значение a и b местами"
   ]
  },
  {
   "cell_type": "code",
   "execution_count": 12,
   "id": "c20089d0",
   "metadata": {},
   "outputs": [],
   "source": [
    "a = 2\n",
    "b = 3\n",
    "\n",
    "a, b = b, a"
   ]
  },
  {
   "cell_type": "code",
   "execution_count": 13,
   "id": "90106eb6",
   "metadata": {},
   "outputs": [
    {
     "name": "stdout",
     "output_type": "stream",
     "text": [
      "3 2\n"
     ]
    }
   ],
   "source": [
    "print(a, b)"
   ]
  },
  {
   "cell_type": "markdown",
   "id": "64cd9ef8",
   "metadata": {},
   "source": [
    "Задание: написать функцию, которая переводит byn в usd"
   ]
  },
  {
   "cell_type": "code",
   "execution_count": 14,
   "id": "4885a8d5",
   "metadata": {},
   "outputs": [
    {
     "data": {
      "text/plain": [
       "107.14285714285715"
      ]
     },
     "execution_count": 14,
     "metadata": {},
     "output_type": "execute_result"
    }
   ],
   "source": [
    "def convert_byn_to_usd(x, y=2.8):\n",
    "    return x/y\n",
    "\n",
    "\n",
    "x = 300\n",
    "convert_byn_to_usd(x)"
   ]
  },
  {
   "cell_type": "markdown",
   "id": "64f4679e",
   "metadata": {},
   "source": [
    "Задание: написать декоратор, который проверяет, залогинился ли пользователь и не позволяет вызвать функцию если пользователь не залогинен"
   ]
  },
  {
   "cell_type": "code",
   "execution_count": 15,
   "id": "f4a5a576",
   "metadata": {},
   "outputs": [],
   "source": [
    "USER = None\n",
    "\n",
    "def login():\n",
    "    global USER\n",
    "    USER = \"Veranika\"\n",
    "    \n",
    "    \n",
    "def logged_in():\n",
    "    return True if USER else False\n",
    "\n",
    "\n",
    "def login_required(func):\n",
    "    def wrapper(*args, **kwargs):\n",
    "        if USER:\n",
    "            return func(*args, **kwargs)\n",
    "            print(\"c\") # никогда не выполнится\n",
    "        raise Exception(\"login_required failed\")\n",
    "        print(\"a\")\n",
    "    return wrapper\n",
    "\n",
    "@login_required\n",
    "def get_user_posts():\n",
    "    return [\"post 1\", \"post 2\"]"
   ]
  },
  {
   "cell_type": "code",
   "execution_count": 16,
   "id": "d54030c0",
   "metadata": {},
   "outputs": [
    {
     "ename": "Exception",
     "evalue": "login_required failed",
     "output_type": "error",
     "traceback": [
      "\u001b[1;31m---------------------------------------------------------------------------\u001b[0m",
      "\u001b[1;31mException\u001b[0m                                 Traceback (most recent call last)",
      "Cell \u001b[1;32mIn[16], line 1\u001b[0m\n\u001b[1;32m----> 1\u001b[0m \u001b[43mget_user_posts\u001b[49m\u001b[43m(\u001b[49m\u001b[43m)\u001b[49m\n",
      "Cell \u001b[1;32mIn[15], line 13\u001b[0m, in \u001b[0;36mlogin_required.<locals>.wrapper\u001b[1;34m(*args, **kwargs)\u001b[0m\n\u001b[0;32m     11\u001b[0m     \u001b[38;5;28;01mreturn\u001b[39;00m func(\u001b[38;5;241m*\u001b[39margs, \u001b[38;5;241m*\u001b[39m\u001b[38;5;241m*\u001b[39mkwargs)\n\u001b[0;32m     12\u001b[0m \u001b[38;5;28;01melse\u001b[39;00m:\n\u001b[1;32m---> 13\u001b[0m     \u001b[38;5;28;01mraise\u001b[39;00m \u001b[38;5;167;01mException\u001b[39;00m(\u001b[38;5;124m\"\u001b[39m\u001b[38;5;124mlogin_required failed\u001b[39m\u001b[38;5;124m\"\u001b[39m)\n",
      "\u001b[1;31mException\u001b[0m: login_required failed"
     ]
    }
   ],
   "source": [
    "get_user_posts()"
   ]
  },
  {
   "cell_type": "code",
   "execution_count": 17,
   "id": "cbcd9cc9",
   "metadata": {},
   "outputs": [
    {
     "data": {
      "text/plain": [
       "['post 1', 'post 2']"
      ]
     },
     "execution_count": 17,
     "metadata": {},
     "output_type": "execute_result"
    }
   ],
   "source": [
    "login()\n",
    "get_user_posts()"
   ]
  },
  {
   "cell_type": "markdown",
   "id": "3a693680",
   "metadata": {},
   "source": [
    "Задание: написать декоратор, который логгирует вызовы функции (время вызова, какую функцию вызвали, с какими агрументами, были ли исключения)"
   ]
  },
  {
   "cell_type": "code",
   "execution_count": 26,
   "id": "3da6efa5",
   "metadata": {},
   "outputs": [
    {
     "name": "stdout",
     "output_type": "stream",
     "text": [
      "Hi\n",
      "Calling time of test: 1683731406.7525606; arguments, used in the function: ((), {})\n"
     ]
    }
   ],
   "source": [
    "import time\n",
    "def log_data(func):\n",
    "    def wrapper(*args, **kwargs):\n",
    "        exceptions = 0\n",
    "        try:\n",
    "            call_time = time.time()\n",
    "            return func()\n",
    "        except Exception as e:\n",
    "            exceptions += 1\n",
    "            with open('log_error.txt', 'w') as write_file:\n",
    "                print(f'{func.__name__}: {str(e)}')\n",
    "                write_file.write(f'{func.__name__}: {str(e)}')\n",
    "        finally:\n",
    "            with open('log_file.txt', 'w') as write_file:\n",
    "                write_file.write(f'Calling time of {func.__name__}: {call_time}; arguments, used in the function: {(args, kwargs)}')\n",
    "        \n",
    "    return wrapper\n",
    "                        \n",
    "@log_data\n",
    "def test():\n",
    "    print(\"Hi\")\n",
    "    \n",
    "test()"
   ]
  },
  {
   "cell_type": "markdown",
   "id": "19e03c0d",
   "metadata": {},
   "source": [
    "Задание: переписать то же самое в виде класса"
   ]
  },
  {
   "cell_type": "code",
   "execution_count": null,
   "id": "85d11d49",
   "metadata": {},
   "outputs": [],
   "source": [
    "class Logger:\n",
    "    \n",
    "    def __init__(self, func):\n",
    "        self.func = func\n",
    "    \n",
    "    def __call__(self, *args, **kwargs):\n",
    "        exceptions = 0\n",
    "        try:\n",
    "            call_time = time.time()\n",
    "            return func()\n",
    "        except Exception as e:\n",
    "            exceptions += 1\n",
    "            with open('log_error.txt', 'w') as write_file:\n",
    "                print(f'{func.__name__}: {str(e)}')\n",
    "                write_file.write(f'{func.__name__}: {str(e)}')\n",
    "        finally:\n",
    "            with open('log_file.txt', 'w') as write_file:\n",
    "                write_file.write(f'Calling time of {func.__name__}: {call_time}; arguments, used in the function: {(args, kwargs)}')\n",
    "        \n",
    "@Logger\n",
    "def test():\n",
    "    print(\"Hi\")"
   ]
  },
  {
   "cell_type": "markdown",
   "id": "aab925db",
   "metadata": {},
   "source": [
    "Задание: написать декоратор-counter для подсчета количество всех вызовов функций"
   ]
  },
  {
   "cell_type": "code",
   "execution_count": 19,
   "id": "5cc674e0",
   "metadata": {},
   "outputs": [
    {
     "name": "stdout",
     "output_type": "stream",
     "text": [
      "1\n"
     ]
    }
   ],
   "source": [
    "function_calls = 0\n",
    "def call_function_counter(func):\n",
    "    def counter(*args, **kwargs):\n",
    "        global function_calls \n",
    "        function_calls += 1\n",
    "        return func(*args, **kwargs)\n",
    "    return counter\n",
    "\n",
    "\n",
    "@call_function_counter\n",
    "def check_summ(x, y):\n",
    "    return x+y\n",
    "\n",
    "check_summ(5, 6)\n",
    "print(function_calls)"
   ]
  },
  {
   "cell_type": "code",
   "execution_count": 20,
   "id": "28cef15a",
   "metadata": {},
   "outputs": [
    {
     "name": "stdout",
     "output_type": "stream",
     "text": [
      "2\n"
     ]
    }
   ],
   "source": [
    "check_summ(5, 6)\n",
    "print(function_calls)"
   ]
  },
  {
   "cell_type": "code",
   "execution_count": 21,
   "id": "28909d0a",
   "metadata": {},
   "outputs": [
    {
     "name": "stdout",
     "output_type": "stream",
     "text": [
      "test\n"
     ]
    }
   ],
   "source": [
    "@call_function_counter\n",
    "def test():\n",
    "    print(\"test\")\n",
    "    \n",
    "test()"
   ]
  },
  {
   "cell_type": "code",
   "execution_count": 22,
   "id": "f33cc1fd",
   "metadata": {},
   "outputs": [
    {
     "name": "stdout",
     "output_type": "stream",
     "text": [
      "3\n"
     ]
    }
   ],
   "source": [
    "print(function_calls)"
   ]
  },
  {
   "cell_type": "markdown",
   "id": "b11b297e",
   "metadata": {},
   "source": [
    "Задание: написать сортировку пузырьком\n",
    "\n",
    "[что это такое](https://academy.yandex.ru/journal/osnovnye-vidy-sortirovok-i-primery-ikh-realizatsii)"
   ]
  },
  {
   "cell_type": "code",
   "execution_count": 38,
   "id": "fe54163c",
   "metadata": {},
   "outputs": [
    {
     "data": {
      "text/plain": [
       "[1, 3, 5, 9, 38, 43, 84, 99]"
      ]
     },
     "execution_count": 38,
     "metadata": {},
     "output_type": "execute_result"
    }
   ],
   "source": [
    "list_ = [1, 5, 84, 38, 9, 3, 99, 43]\n",
    "\n",
    "\n",
    "while True:\n",
    "    list_sorted = list_[:]\n",
    "    index = 0\n",
    "    while index < len(list_) - 1:\n",
    "        if list_[index] > list_[index + 1]:\n",
    "            list_[index], list_[index + 1] = list_[index + 1], list_[index]\n",
    "        index += 1\n",
    "    if list_sorted == list_:\n",
    "        break\n",
    "        \n",
    "list_\n",
    "# сложность O(n^2)\n",
    "sorted(list_) # n log(n)"
   ]
  },
  {
   "cell_type": "markdown",
   "id": "15d5abac",
   "metadata": {},
   "source": [
    "Задание: отсортировать словарь по age > 18 и дальше по возрасту (по убыванию)"
   ]
  },
  {
   "cell_type": "code",
   "execution_count": 14,
   "id": "8690b4f3",
   "metadata": {},
   "outputs": [],
   "source": [
    "persons = [\n",
    "    {\n",
    "        \"name\": \"Alex\", \n",
    "        \"age\": 13\n",
    "    },\n",
    "    {\n",
    "        \"name\": \"Helen\", \n",
    "        \"age\": 44\n",
    "    },\n",
    "    {\n",
    "        \"name\": \"Nik\", \n",
    "        \"age\": 34\n",
    "    }\n",
    "]"
   ]
  },
  {
   "cell_type": "code",
   "execution_count": 46,
   "id": "bc54491f",
   "metadata": {},
   "outputs": [],
   "source": [
    "class Shop:\n",
    "\n",
    "    def __new__(cls, *args):\n",
    "        if not hasattr(cls, 'instance'):\n",
    "            cls.instance = super(Shop, cls).__new__(cls)\n",
    "        return cls.instance\n",
    "\n",
    "    def __init__(self, list_of_prods=None):\n",
    "        self._list = list_of_prods"
   ]
  },
  {
   "cell_type": "code",
   "execution_count": 47,
   "id": "a7832ef8",
   "metadata": {},
   "outputs": [],
   "source": [
    "shop = Shop([\"milk\"])"
   ]
  },
  {
   "cell_type": "code",
   "execution_count": 48,
   "id": "74e66fc5",
   "metadata": {},
   "outputs": [
    {
     "data": {
      "text/plain": [
       "2190660246240"
      ]
     },
     "execution_count": 48,
     "metadata": {},
     "output_type": "execute_result"
    }
   ],
   "source": [
    "id(shop)"
   ]
  },
  {
   "cell_type": "code",
   "execution_count": 49,
   "id": "79414ecf",
   "metadata": {},
   "outputs": [],
   "source": [
    "shop = Shop()"
   ]
  },
  {
   "cell_type": "code",
   "execution_count": 50,
   "id": "a8cc3893",
   "metadata": {},
   "outputs": [
    {
     "data": {
      "text/plain": [
       "2190660246240"
      ]
     },
     "execution_count": 50,
     "metadata": {},
     "output_type": "execute_result"
    }
   ],
   "source": [
    "id(shop)"
   ]
  },
  {
   "cell_type": "code",
   "execution_count": null,
   "id": "2b2c11eb",
   "metadata": {},
   "outputs": [],
   "source": []
  }
 ],
 "metadata": {
  "kernelspec": {
   "display_name": "Python 3 (ipykernel)",
   "language": "python",
   "name": "python3"
  },
  "language_info": {
   "codemirror_mode": {
    "name": "ipython",
    "version": 3
   },
   "file_extension": ".py",
   "mimetype": "text/x-python",
   "name": "python",
   "nbconvert_exporter": "python",
   "pygments_lexer": "ipython3",
   "version": "3.10.11"
  }
 },
 "nbformat": 4,
 "nbformat_minor": 5
}
