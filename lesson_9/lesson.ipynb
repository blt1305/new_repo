{
 "cells": [
  {
   "cell_type": "markdown",
   "id": "dd0418ed",
   "metadata": {},
   "source": [
    "# Классы"
   ]
  },
  {
   "cell_type": "markdown",
   "id": "fb8d23d7",
   "metadata": {},
   "source": [
    "Какие тут есть проблемы?"
   ]
  },
  {
   "cell_type": "code",
   "execution_count": 1,
   "id": "9ad495b8",
   "metadata": {},
   "outputs": [],
   "source": [
    "person_1 = {\n",
    "    \"name\": \"Lena\",\n",
    "    \"age\": 24\n",
    "}\n",
    "\n",
    "person_2 = {\n",
    "    \"full_name\": \"Ludmila Deykun\",\n",
    "    \"birth_year\": 1980\n",
    "}"
   ]
  },
  {
   "cell_type": "markdown",
   "id": "1ffd4a3a",
   "metadata": {},
   "source": [
    "Пояснение:\n",
    "\n",
    "   - **class** - фабрика по производству объектов (людей), наш собственный тип данных\n",
    "   - **self** - ссылка на экземляр класса\n",
    "   - **экземпляр** - объект класса (конкретный человек)"
   ]
  },
  {
   "cell_type": "code",
   "execution_count": 3,
   "id": "dd49970b",
   "metadata": {},
   "outputs": [],
   "source": [
    "class Person:\n",
    "    def __init__(self, name, age):\n",
    "        self.name = name\n",
    "        self.age = age"
   ]
  },
  {
   "cell_type": "code",
   "execution_count": 4,
   "id": "5d5fa349",
   "metadata": {},
   "outputs": [],
   "source": [
    "person_1 = Person(\"Lena\", 24)"
   ]
  },
  {
   "cell_type": "code",
   "execution_count": 7,
   "id": "75abe195",
   "metadata": {},
   "outputs": [
    {
     "data": {
      "text/plain": [
       "'Lena'"
      ]
     },
     "execution_count": 7,
     "metadata": {},
     "output_type": "execute_result"
    }
   ],
   "source": [
    "person_1.name"
   ]
  },
  {
   "cell_type": "code",
   "execution_count": 8,
   "id": "5a62a881",
   "metadata": {},
   "outputs": [
    {
     "data": {
      "text/plain": [
       "24"
      ]
     },
     "execution_count": 8,
     "metadata": {},
     "output_type": "execute_result"
    }
   ],
   "source": [
    "person_1.age"
   ]
  },
  {
   "cell_type": "code",
   "execution_count": 9,
   "id": "9f4ac298",
   "metadata": {},
   "outputs": [
    {
     "data": {
      "text/plain": [
       "__main__.Person"
      ]
     },
     "execution_count": 9,
     "metadata": {},
     "output_type": "execute_result"
    }
   ],
   "source": [
    "type(person_1)"
   ]
  },
  {
   "cell_type": "code",
   "execution_count": 10,
   "id": "c7995589",
   "metadata": {},
   "outputs": [
    {
     "data": {
      "text/plain": [
       "True"
      ]
     },
     "execution_count": 10,
     "metadata": {},
     "output_type": "execute_result"
    }
   ],
   "source": [
    "isinstance(person_1, Person)"
   ]
  },
  {
   "cell_type": "markdown",
   "id": "5b08f7e6",
   "metadata": {},
   "source": [
    "### ___ init ___ - инициализация экземпляров класса"
   ]
  },
  {
   "cell_type": "code",
   "execution_count": 11,
   "id": "e32cc8d8",
   "metadata": {},
   "outputs": [],
   "source": [
    "class Person:\n",
    "    def __init__(self, name, age):\n",
    "        print(\"Я вызываюсь каждый раз при создании экземпляра класса\")\n",
    "        self.name = name\n",
    "        self.age = age"
   ]
  },
  {
   "cell_type": "code",
   "execution_count": 12,
   "id": "3fb8ed28",
   "metadata": {},
   "outputs": [
    {
     "name": "stdout",
     "output_type": "stream",
     "text": [
      "Я вызываюсь каждый раз при создании экземпляра класса\n"
     ]
    }
   ],
   "source": [
    "person_1 = Person(\"Lena\", 24)"
   ]
  },
  {
   "cell_type": "markdown",
   "id": "ae9f8407",
   "metadata": {},
   "source": [
    "### Способы вызова init"
   ]
  },
  {
   "cell_type": "code",
   "execution_count": 14,
   "id": "387bc43d",
   "metadata": {},
   "outputs": [
    {
     "name": "stdout",
     "output_type": "stream",
     "text": [
      "Lena\n"
     ]
    }
   ],
   "source": [
    "# способ 1\n",
    "class Person:\n",
    "    def __init__(self, name, age):\n",
    "        self.name = name\n",
    "        self.age = age\n",
    "        \n",
    "person_1 = Person(\"Lena\", 24)\n",
    "print(person_1.name)"
   ]
  },
  {
   "cell_type": "code",
   "execution_count": 15,
   "id": "3153b979",
   "metadata": {},
   "outputs": [
    {
     "name": "stdout",
     "output_type": "stream",
     "text": [
      "Lena\n"
     ]
    }
   ],
   "source": [
    "# способ 2\n",
    "class Person:\n",
    "    def __init__(self, name, age):\n",
    "        self.name = name\n",
    "        self.age = age\n",
    "        \n",
    "person_1 = Person(age=24, name=\"Lena\")\n",
    "print(person_1.name)"
   ]
  },
  {
   "cell_type": "code",
   "execution_count": 17,
   "id": "c54d7530",
   "metadata": {},
   "outputs": [
    {
     "name": "stdout",
     "output_type": "stream",
     "text": [
      "Lena\n",
      "None\n"
     ]
    }
   ],
   "source": [
    "# способ 3\n",
    "class Person:\n",
    "    def __init__(self, name, age=None):\n",
    "        self.name = name\n",
    "        self.age = age\n",
    "        \n",
    "person_1 = Person(name=\"Lena\")\n",
    "print(person_1.name)\n",
    "print(person_1.age)"
   ]
  },
  {
   "cell_type": "markdown",
   "id": "b6c9f01b",
   "metadata": {},
   "source": [
    "### Методы - функция, относящаяся к экземпляру класса (например, человек умеет говорить)"
   ]
  },
  {
   "cell_type": "code",
   "execution_count": 18,
   "id": "4ffdf37f",
   "metadata": {},
   "outputs": [
    {
     "name": "stdout",
     "output_type": "stream",
     "text": [
      "Hi! My name is Lena\n"
     ]
    }
   ],
   "source": [
    "class Person:\n",
    "    def __init__(self, name, age=None):\n",
    "        self.name = name\n",
    "        self.age = age\n",
    "        \n",
    "    def say_hi(self):\n",
    "        print(f\"Hi! My name is {self.name}\")\n",
    "        \n",
    "person_1 = Person(name=\"Lena\")\n",
    "person_1.say_hi()"
   ]
  },
  {
   "cell_type": "code",
   "execution_count": 19,
   "id": "a9bbf503",
   "metadata": {},
   "outputs": [
    {
     "data": {
      "text/plain": [
       "1999"
      ]
     },
     "execution_count": 19,
     "metadata": {},
     "output_type": "execute_result"
    }
   ],
   "source": [
    "class Person:\n",
    "    def __init__(self, name, age=None):\n",
    "        self.name = name\n",
    "        self.age = age\n",
    "        \n",
    "    def say_hi(self):\n",
    "        print(f\"Hi! My name is {self.name}\")\n",
    "        \n",
    "    def get_birth_year(self):\n",
    "        return 2023 - self.age\n",
    "    \n",
    "person_1 = Person(name=\"Lena\", age=24)\n",
    "person_1.get_birth_year()"
   ]
  },
  {
   "cell_type": "markdown",
   "id": "5628dff1",
   "metadata": {},
   "source": [
    "Задание: написать класс Animal, у которого есть полe name, а также метод make_sound"
   ]
  },
  {
   "cell_type": "code",
   "execution_count": null,
   "id": "72baf290",
   "metadata": {},
   "outputs": [],
   "source": []
  },
  {
   "cell_type": "markdown",
   "id": "6ee825ca",
   "metadata": {},
   "source": [
    "# Четыре принципа ООП\n",
    "\n",
    "- Наследование\n",
    "- Полиморфизм\n",
    "- Инкапсуляция\n",
    "- Абстрация"
   ]
  },
  {
   "cell_type": "markdown",
   "id": "11d2a6b0",
   "metadata": {},
   "source": [
    "# Наследование\n",
    "\n",
    "дочерний класс содержит в себе все атрибуты родительского, при этом некоторые атрибуты могут быть переопределены или добавлены в дочернем"
   ]
  },
  {
   "cell_type": "code",
   "execution_count": 28,
   "id": "0a439c96",
   "metadata": {},
   "outputs": [],
   "source": [
    "class Animal:\n",
    "    \n",
    "    def __init__(self, name):\n",
    "        self.name = name\n",
    "        \n",
    "    def make_sound(self):\n",
    "        print(\"**animal sound**\")"
   ]
  },
  {
   "cell_type": "code",
   "execution_count": 29,
   "id": "2bf3e324",
   "metadata": {},
   "outputs": [
    {
     "name": "stdout",
     "output_type": "stream",
     "text": [
      "meow\n"
     ]
    }
   ],
   "source": [
    "class Cat(Animal):\n",
    "    \n",
    "    def make_sound(self):\n",
    "        print(\"meow\")\n",
    "        \n",
    "cat = Cat(\"Каспер\")\n",
    "cat.make_sound()"
   ]
  },
  {
   "cell_type": "code",
   "execution_count": 30,
   "id": "fb374355",
   "metadata": {},
   "outputs": [],
   "source": [
    "class Cat(Animal):\n",
    "    \n",
    "    def make_sound(self):\n",
    "        print(\"meow\")\n",
    "        \n",
    "    def scratch_sofa(self):\n",
    "        print(\"Я кот и я умею драть диван\")"
   ]
  },
  {
   "cell_type": "code",
   "execution_count": 31,
   "id": "d0627021",
   "metadata": {},
   "outputs": [
    {
     "name": "stdout",
     "output_type": "stream",
     "text": [
      "Я кот и я умею драть диван\n"
     ]
    }
   ],
   "source": [
    "cat = Cat(\"Каспер\")\n",
    "cat.scratch_sofa()"
   ]
  },
  {
   "cell_type": "code",
   "execution_count": 32,
   "id": "62c8ae76",
   "metadata": {},
   "outputs": [
    {
     "name": "stdout",
     "output_type": "stream",
     "text": [
      "**animal sound**\n"
     ]
    }
   ],
   "source": [
    "animal = Animal(\"любое животное\")\n",
    "animal.make_sound()"
   ]
  },
  {
   "cell_type": "code",
   "execution_count": 27,
   "id": "09c1002b",
   "metadata": {},
   "outputs": [
    {
     "ename": "AttributeError",
     "evalue": "'Animal' object has no attribute 'scratch_sofa'",
     "output_type": "error",
     "traceback": [
      "\u001b[0;31m---------------------------------------------------------------------------\u001b[0m",
      "\u001b[0;31mAttributeError\u001b[0m                            Traceback (most recent call last)",
      "Cell \u001b[0;32mIn[27], line 1\u001b[0m\n\u001b[0;32m----> 1\u001b[0m \u001b[43manimal\u001b[49m\u001b[38;5;241;43m.\u001b[39;49m\u001b[43mscratch_sofa\u001b[49m()\n",
      "\u001b[0;31mAttributeError\u001b[0m: 'Animal' object has no attribute 'scratch_sofa'"
     ]
    }
   ],
   "source": [
    "animal.scratch_sofa() # только котик умеет драть диван"
   ]
  },
  {
   "cell_type": "markdown",
   "id": "7c7c0f81",
   "metadata": {},
   "source": [
    "# Полиморфизм\n",
    "\n",
    "используем единственную сущность для разного поведения"
   ]
  },
  {
   "cell_type": "code",
   "execution_count": 33,
   "id": "e5759a07",
   "metadata": {},
   "outputs": [
    {
     "name": "stdout",
     "output_type": "stream",
     "text": [
      "meow\n"
     ]
    }
   ],
   "source": [
    "class Cat(Animal):\n",
    "    \n",
    "    def make_sound(self):\n",
    "        print(\"meow\")\n",
    "        \n",
    "class Dog(Animal):\n",
    "    \n",
    "    def make_sound(self):\n",
    "        print(\"wow\")\n",
    "        \n",
    "cat = Cat(\"Базилио\")\n",
    "cat.make_sound()"
   ]
  },
  {
   "cell_type": "code",
   "execution_count": 34,
   "id": "0f0a4abf",
   "metadata": {},
   "outputs": [
    {
     "name": "stdout",
     "output_type": "stream",
     "text": [
      "wow\n"
     ]
    }
   ],
   "source": [
    "dof = Dog(\"Стрелка\")\n",
    "dof.make_sound()"
   ]
  },
  {
   "cell_type": "markdown",
   "id": "be68ab1d",
   "metadata": {},
   "source": [
    "Еще один пример полиморфизма\n",
    "\n",
    "мы можем сложить два числа, и можем сложить две строки. При этом получим разный результат, так как числа и строки являются разными классами, то есть мы имеем разное поведение + для разных типов объектов"
   ]
  },
  {
   "cell_type": "code",
   "execution_count": 35,
   "id": "e0169f98",
   "metadata": {},
   "outputs": [
    {
     "data": {
      "text/plain": [
       "2"
      ]
     },
     "execution_count": 35,
     "metadata": {},
     "output_type": "execute_result"
    }
   ],
   "source": [
    "1 + 1"
   ]
  },
  {
   "cell_type": "code",
   "execution_count": 36,
   "id": "606e55ac",
   "metadata": {},
   "outputs": [
    {
     "data": {
      "text/plain": [
       "'11'"
      ]
     },
     "execution_count": 36,
     "metadata": {},
     "output_type": "execute_result"
    }
   ],
   "source": [
    "\"1\" + \"1\""
   ]
  },
  {
   "cell_type": "markdown",
   "id": "5fda8806",
   "metadata": {},
   "source": [
    "# Инкапсуляция\n",
    "\n",
    "ограничение доступа к составляющим объект компонентам (методам и переменным). Инкапсуляция делает некоторые из компонент доступными только внутри класса\n",
    "\n",
    "в python она работает только на уровне соглашений\n",
    "\n",
    "[дополнительная информация](https://habr.com/ru/articles/443192/)"
   ]
  },
  {
   "cell_type": "code",
   "execution_count": 37,
   "id": "261d7099",
   "metadata": {},
   "outputs": [
    {
     "name": "stdout",
     "output_type": "stream",
     "text": [
      "Это приватный метод!\n"
     ]
    }
   ],
   "source": [
    "# Одиночное подчеркивание в начале имени атрибута говорит о том, \n",
    "# что переменная или метод не предназначен для использования вне методов класса,\n",
    "# однако атрибут доступен по этому имени\n",
    "\n",
    "class A:\n",
    "    def _private(self):\n",
    "        print(\"Это приватный метод!\")\n",
    "a = A()\n",
    "a._private()"
   ]
  },
  {
   "cell_type": "code",
   "execution_count": 87,
   "id": "025429c5",
   "metadata": {},
   "outputs": [
    {
     "ename": "AttributeError",
     "evalue": "'B' object has no attribute '__private'",
     "output_type": "error",
     "traceback": [
      "\u001b[0;31m---------------------------------------------------------------------------\u001b[0m",
      "\u001b[0;31mAttributeError\u001b[0m                            Traceback (most recent call last)",
      "Cell \u001b[0;32mIn[87], line 9\u001b[0m\n\u001b[1;32m      6\u001b[0m         \u001b[38;5;28mprint\u001b[39m(\u001b[38;5;124m\"\u001b[39m\u001b[38;5;124mЭто приватный метод!\u001b[39m\u001b[38;5;124m\"\u001b[39m)\n\u001b[1;32m      8\u001b[0m b \u001b[38;5;241m=\u001b[39m B()\n\u001b[0;32m----> 9\u001b[0m \u001b[43mb\u001b[49m\u001b[38;5;241;43m.\u001b[39;49m\u001b[43m__private\u001b[49m()\n",
      "\u001b[0;31mAttributeError\u001b[0m: 'B' object has no attribute '__private'"
     ]
    }
   ],
   "source": [
    "# Двойное подчеркивание в начале имени атрибута даёт большую защиту: \n",
    "# атрибут становится недоступным по этому имени\n",
    "\n",
    "class B:\n",
    "    def __private(self):\n",
    "        print(\"Это приватный метод!\")\n",
    "        \n",
    "b = B()\n",
    "b.__private()"
   ]
  },
  {
   "cell_type": "markdown",
   "id": "a8acf6f8",
   "metadata": {},
   "source": [
    "**name mangling** - [как это работает](https://pythonpip.ru/osnovy/name-mangling-izmenenie-imen-v-python)"
   ]
  },
  {
   "cell_type": "code",
   "execution_count": 39,
   "id": "8054de2f",
   "metadata": {},
   "outputs": [
    {
     "name": "stdout",
     "output_type": "stream",
     "text": [
      "Это приватный метод!\n"
     ]
    }
   ],
   "source": [
    "# но\n",
    "b._B__private()"
   ]
  },
  {
   "cell_type": "markdown",
   "id": "3a81059e",
   "metadata": {},
   "source": [
    "# Абстракция\n",
    "\n",
    "для сокрытия реализации функции, пользователь знает, что умеет делать функция (это определяется по названию), но не знает, как она реализована\n",
    "\n",
    "мы хорошо знакомы с основными функциями смартфона - камера, диктофон и тд, но мы зачастую не знаем, как они работают, мы знаем, как ими пользоваться\n",
    "\n",
    "**Зачем? - для сокрытия излишней сложности** - пользователю необязательно знать, как что-то реализовано, важно только то, что функция делает"
   ]
  },
  {
   "cell_type": "code",
   "execution_count": 42,
   "id": "0bc3fab1",
   "metadata": {},
   "outputs": [
    {
     "data": {
      "text/plain": [
       "\"I'm driving a blue car!\""
      ]
     },
     "execution_count": 42,
     "metadata": {},
     "output_type": "execute_result"
    }
   ],
   "source": [
    "class Vehicle:\n",
    "    \n",
    "    def __init__(self, color, doors, tires, vtype):\n",
    "        self.color = color\n",
    "        self.doors = doors\n",
    "        self.tires = tires\n",
    "        self.vtype = vtype\n",
    "    \n",
    "    def brake(self):\n",
    "        \"\"\"\n",
    "        Stop the car\n",
    "        \"\"\"\n",
    "        return f\"{self.vtype} braking\"\n",
    "    \n",
    "    def drive(self):\n",
    "        \"\"\"\n",
    "        Drive the car\n",
    "        \"\"\"\n",
    "        return f\"I'm driving a {self.color} {self.vtype}!\"\n",
    "\n",
    "car = Vehicle(\"blue\", 5, 4, \"car\")\n",
    "car.drive()"
   ]
  },
  {
   "cell_type": "markdown",
   "id": "e8f03603",
   "metadata": {},
   "source": [
    "# Магические методы\n",
    "\n",
    "это методы, которые вызываются при каком-то действии, например, при создании экземпляра класса вызывается уже знакомый нам метод __ init __\n",
    "\n",
    "[статья про переопределение математических операций](https://habr.com/ru/articles/186608/)"
   ]
  },
  {
   "cell_type": "code",
   "execution_count": 44,
   "id": "cc77fc07",
   "metadata": {},
   "outputs": [],
   "source": [
    "# __del__ вызывается при удалении экземпляра класса\n",
    "\n",
    "class Example:\n",
    "    def __del__(self):\n",
    "        print(\"Я вызываюсь перед тем как мы удалим объект\")\n",
    "        del self"
   ]
  },
  {
   "cell_type": "code",
   "execution_count": 45,
   "id": "f531da5c",
   "metadata": {},
   "outputs": [],
   "source": [
    "ex = Example()"
   ]
  },
  {
   "cell_type": "code",
   "execution_count": 46,
   "id": "4bf68b46",
   "metadata": {},
   "outputs": [
    {
     "name": "stdout",
     "output_type": "stream",
     "text": [
      "Я вызываюсь перед тем как мы удалим объект\n"
     ]
    }
   ],
   "source": [
    "del ex"
   ]
  },
  {
   "cell_type": "code",
   "execution_count": 47,
   "id": "1c875900",
   "metadata": {},
   "outputs": [
    {
     "ename": "NameError",
     "evalue": "name 'ex' is not defined",
     "output_type": "error",
     "traceback": [
      "\u001b[0;31m---------------------------------------------------------------------------\u001b[0m",
      "\u001b[0;31mNameError\u001b[0m                                 Traceback (most recent call last)",
      "Cell \u001b[0;32mIn[47], line 1\u001b[0m\n\u001b[0;32m----> 1\u001b[0m \u001b[43mex\u001b[49m\n",
      "\u001b[0;31mNameError\u001b[0m: name 'ex' is not defined"
     ]
    }
   ],
   "source": [
    "ex"
   ]
  },
  {
   "cell_type": "code",
   "execution_count": 48,
   "id": "b7984540",
   "metadata": {},
   "outputs": [],
   "source": [
    "# __str__ вызывается при приведении объекта к строке\n",
    "class Person:\n",
    "    def __init__(self, name):\n",
    "        self.name = name"
   ]
  },
  {
   "cell_type": "code",
   "execution_count": 49,
   "id": "1b125730",
   "metadata": {},
   "outputs": [
    {
     "data": {
      "text/plain": [
       "'<__main__.Person object at 0x7f7a285e9b40>'"
      ]
     },
     "execution_count": 49,
     "metadata": {},
     "output_type": "execute_result"
    }
   ],
   "source": [
    "person = Person(\"Lena\")\n",
    "str(person)"
   ]
  },
  {
   "cell_type": "code",
   "execution_count": 50,
   "id": "3d4965fe",
   "metadata": {},
   "outputs": [],
   "source": [
    "class Person:\n",
    "    def __init__(self, name):\n",
    "        self.name = name\n",
    "        \n",
    "    def __str__(self):\n",
    "        return f\"Person: {self.name}\""
   ]
  },
  {
   "cell_type": "code",
   "execution_count": 51,
   "id": "d9af48bd",
   "metadata": {},
   "outputs": [
    {
     "data": {
      "text/plain": [
       "'Person: Lena'"
      ]
     },
     "execution_count": 51,
     "metadata": {},
     "output_type": "execute_result"
    }
   ],
   "source": [
    "person = Person(\"Lena\")\n",
    "str(person)"
   ]
  },
  {
   "cell_type": "code",
   "execution_count": 53,
   "id": "75eaac99",
   "metadata": {},
   "outputs": [],
   "source": [
    "# __eq__ - определяет поведение опреатора равенства ==\n",
    "# оператор is мы переопределить не можем!\n",
    "class Person:\n",
    "    def __init__(self, name):\n",
    "        self.name = name"
   ]
  },
  {
   "cell_type": "code",
   "execution_count": 54,
   "id": "afddc04d",
   "metadata": {},
   "outputs": [
    {
     "data": {
      "text/plain": [
       "False"
      ]
     },
     "execution_count": 54,
     "metadata": {},
     "output_type": "execute_result"
    }
   ],
   "source": [
    "person_1 = Person(\"Lena\")\n",
    "person_2 = Person(\"Lena\")\n",
    "person_1 == person_2"
   ]
  },
  {
   "cell_type": "code",
   "execution_count": 55,
   "id": "0add9f1e",
   "metadata": {},
   "outputs": [],
   "source": [
    "class Person:\n",
    "    def __init__(self, name):\n",
    "        self.name = name\n",
    "        \n",
    "    def __eq__(self, other):\n",
    "        if isinstance(other, Person):\n",
    "            return self.name == other.name\n",
    "        return False"
   ]
  },
  {
   "cell_type": "code",
   "execution_count": 56,
   "id": "d32fd97b",
   "metadata": {},
   "outputs": [
    {
     "data": {
      "text/plain": [
       "True"
      ]
     },
     "execution_count": 56,
     "metadata": {},
     "output_type": "execute_result"
    }
   ],
   "source": [
    "person_1 = Person(\"Lena\")\n",
    "person_2 = Person(\"Lena\")\n",
    "person_1 == person_2"
   ]
  },
  {
   "cell_type": "code",
   "execution_count": 64,
   "id": "9c231def",
   "metadata": {},
   "outputs": [
    {
     "data": {
      "text/plain": [
       "['__class__',\n",
       " '__delattr__',\n",
       " '__dict__',\n",
       " '__dir__',\n",
       " '__doc__',\n",
       " '__eq__',\n",
       " '__format__',\n",
       " '__ge__',\n",
       " '__getattribute__',\n",
       " '__gt__',\n",
       " '__hash__',\n",
       " '__init__',\n",
       " '__init_subclass__',\n",
       " '__le__',\n",
       " '__lt__',\n",
       " '__module__',\n",
       " '__ne__',\n",
       " '__new__',\n",
       " '__reduce__',\n",
       " '__reduce_ex__',\n",
       " '__repr__',\n",
       " '__setattr__',\n",
       " '__sizeof__',\n",
       " '__str__',\n",
       " '__subclasshook__',\n",
       " '__weakref__',\n",
       " 'name']"
      ]
     },
     "execution_count": 64,
     "metadata": {},
     "output_type": "execute_result"
    }
   ],
   "source": [
    "dir(person_1) # на самом деле вызывает person_1.__dir__()"
   ]
  },
  {
   "cell_type": "code",
   "execution_count": 65,
   "id": "dab0f436",
   "metadata": {},
   "outputs": [
    {
     "data": {
      "text/plain": [
       "['name',\n",
       " '__module__',\n",
       " '__init__',\n",
       " '__eq__',\n",
       " '__dict__',\n",
       " '__weakref__',\n",
       " '__doc__',\n",
       " '__hash__',\n",
       " '__new__',\n",
       " '__repr__',\n",
       " '__str__',\n",
       " '__getattribute__',\n",
       " '__setattr__',\n",
       " '__delattr__',\n",
       " '__lt__',\n",
       " '__le__',\n",
       " '__ne__',\n",
       " '__gt__',\n",
       " '__ge__',\n",
       " '__reduce_ex__',\n",
       " '__reduce__',\n",
       " '__subclasshook__',\n",
       " '__init_subclass__',\n",
       " '__format__',\n",
       " '__sizeof__',\n",
       " '__dir__',\n",
       " '__class__']"
      ]
     },
     "execution_count": 65,
     "metadata": {},
     "output_type": "execute_result"
    }
   ],
   "source": [
    "person_1.__dir__()"
   ]
  },
  {
   "cell_type": "markdown",
   "id": "2ff0f895",
   "metadata": {},
   "source": [
    "Давайте посмотрим что есть в модуле datetime"
   ]
  },
  {
   "cell_type": "code",
   "execution_count": 66,
   "id": "9600f8c0",
   "metadata": {},
   "outputs": [
    {
     "data": {
      "text/plain": [
       "['MAXYEAR',\n",
       " 'MINYEAR',\n",
       " '__all__',\n",
       " '__builtins__',\n",
       " '__cached__',\n",
       " '__doc__',\n",
       " '__file__',\n",
       " '__loader__',\n",
       " '__name__',\n",
       " '__package__',\n",
       " '__spec__',\n",
       " 'date',\n",
       " 'datetime',\n",
       " 'datetime_CAPI',\n",
       " 'sys',\n",
       " 'time',\n",
       " 'timedelta',\n",
       " 'timezone',\n",
       " 'tzinfo']"
      ]
     },
     "execution_count": 66,
     "metadata": {},
     "output_type": "execute_result"
    }
   ],
   "source": [
    "import datetime\n",
    "dir(datetime)"
   ]
  },
  {
   "cell_type": "code",
   "execution_count": 68,
   "id": "15a5bd4f",
   "metadata": {},
   "outputs": [
    {
     "data": {
      "text/plain": [
       "['__name__',\n",
       " '__doc__',\n",
       " '__package__',\n",
       " '__loader__',\n",
       " '__spec__',\n",
       " '__file__',\n",
       " '__cached__',\n",
       " '__builtins__',\n",
       " '__all__',\n",
       " 'sys',\n",
       " 'MINYEAR',\n",
       " 'MAXYEAR',\n",
       " 'timedelta',\n",
       " 'date',\n",
       " 'tzinfo',\n",
       " 'time',\n",
       " 'datetime',\n",
       " 'timezone',\n",
       " 'datetime_CAPI']"
      ]
     },
     "execution_count": 68,
     "metadata": {},
     "output_type": "execute_result"
    }
   ],
   "source": [
    "datetime.__dir__()"
   ]
  },
  {
   "cell_type": "code",
   "execution_count": 72,
   "id": "40469c67",
   "metadata": {},
   "outputs": [
    {
     "name": "stdout",
     "output_type": "stream",
     "text": [
      "Help on module datetime:\n",
      "\n",
      "NAME\n",
      "    datetime - Fast implementation of the datetime type.\n",
      "\n",
      "MODULE REFERENCE\n",
      "    https://docs.python.org/3.10/library/datetime.html\n",
      "    \n",
      "    The following documentation is automatically generated from the Python\n",
      "    source files.  It may be incomplete, incorrect or include features that\n",
      "    are considered implementation detail and may vary between Python\n",
      "    implementations.  When in doubt, consult the module reference at the\n",
      "    location listed above.\n",
      "\n",
      "CLASSES\n",
      "    builtins.object\n",
      "        date\n",
      "            datetime\n",
      "        time\n",
      "        timedelta\n",
      "        tzinfo\n",
      "            timezone\n",
      "    \n",
      "    class date(builtins.object)\n",
      "     |  date(year, month, day) --> date object\n",
      "     |  \n",
      "     |  Methods defined here:\n",
      "     |  \n",
      "     |  __add__(self, value, /)\n",
      "     |      Return self+value.\n",
      "     |  \n",
      "     |  __eq__(self, value, /)\n",
      "     |      Return self==value.\n",
      "     |  \n",
      "     |  __format__(...)\n",
      "     |      Formats self with strftime.\n",
      "     |  \n",
      "     |  __ge__(self, value, /)\n",
      "     |      Return self>=value.\n",
      "     |  \n",
      "     |  __getattribute__(self, name, /)\n",
      "     |      Return getattr(self, name).\n",
      "     |  \n",
      "     |  __gt__(self, value, /)\n",
      "     |      Return self>value.\n",
      "     |  \n",
      "     |  __hash__(self, /)\n",
      "     |      Return hash(self).\n",
      "     |  \n",
      "     |  __le__(self, value, /)\n",
      "     |      Return self<=value.\n",
      "     |  \n",
      "     |  __lt__(self, value, /)\n",
      "     |      Return self<value.\n",
      "     |  \n",
      "     |  __ne__(self, value, /)\n",
      "     |      Return self!=value.\n",
      "     |  \n",
      "     |  __radd__(self, value, /)\n",
      "     |      Return value+self.\n",
      "     |  \n",
      "     |  __reduce__(...)\n",
      "     |      __reduce__() -> (cls, state)\n",
      "     |  \n",
      "     |  __repr__(self, /)\n",
      "     |      Return repr(self).\n",
      "     |  \n",
      "     |  __rsub__(self, value, /)\n",
      "     |      Return value-self.\n",
      "     |  \n",
      "     |  __str__(self, /)\n",
      "     |      Return str(self).\n",
      "     |  \n",
      "     |  __sub__(self, value, /)\n",
      "     |      Return self-value.\n",
      "     |  \n",
      "     |  ctime(...)\n",
      "     |      Return ctime() style string.\n",
      "     |  \n",
      "     |  isocalendar(...)\n",
      "     |      Return a named tuple containing ISO year, week number, and weekday.\n",
      "     |  \n",
      "     |  isoformat(...)\n",
      "     |      Return string in ISO 8601 format, YYYY-MM-DD.\n",
      "     |  \n",
      "     |  isoweekday(...)\n",
      "     |      Return the day of the week represented by the date.\n",
      "     |      Monday == 1 ... Sunday == 7\n",
      "     |  \n",
      "     |  replace(...)\n",
      "     |      Return date with new specified fields.\n",
      "     |  \n",
      "     |  strftime(...)\n",
      "     |      format -> strftime() style string.\n",
      "     |  \n",
      "     |  timetuple(...)\n",
      "     |      Return time tuple, compatible with time.localtime().\n",
      "     |  \n",
      "     |  toordinal(...)\n",
      "     |      Return proleptic Gregorian ordinal.  January 1 of year 1 is day 1.\n",
      "     |  \n",
      "     |  weekday(...)\n",
      "     |      Return the day of the week represented by the date.\n",
      "     |      Monday == 0 ... Sunday == 6\n",
      "     |  \n",
      "     |  ----------------------------------------------------------------------\n",
      "     |  Class methods defined here:\n",
      "     |  \n",
      "     |  fromisocalendar(...) from builtins.type\n",
      "     |      int, int, int -> Construct a date from the ISO year, week number and weekday.\n",
      "     |      \n",
      "     |      This is the inverse of the date.isocalendar() function\n",
      "     |  \n",
      "     |  fromisoformat(...) from builtins.type\n",
      "     |      str -> Construct a date from the output of date.isoformat()\n",
      "     |  \n",
      "     |  fromordinal(...) from builtins.type\n",
      "     |      int -> date corresponding to a proleptic Gregorian ordinal.\n",
      "     |  \n",
      "     |  fromtimestamp(timestamp, /) from builtins.type\n",
      "     |      Create a date from a POSIX timestamp.\n",
      "     |      \n",
      "     |      The timestamp is a number, e.g. created via time.time(), that is interpreted\n",
      "     |      as local time.\n",
      "     |  \n",
      "     |  today(...) from builtins.type\n",
      "     |      Current date or datetime:  same as self.__class__.fromtimestamp(time.time()).\n",
      "     |  \n",
      "     |  ----------------------------------------------------------------------\n",
      "     |  Static methods defined here:\n",
      "     |  \n",
      "     |  __new__(*args, **kwargs) from builtins.type\n",
      "     |      Create and return a new object.  See help(type) for accurate signature.\n",
      "     |  \n",
      "     |  ----------------------------------------------------------------------\n",
      "     |  Data descriptors defined here:\n",
      "     |  \n",
      "     |  day\n",
      "     |  \n",
      "     |  month\n",
      "     |  \n",
      "     |  year\n",
      "     |  \n",
      "     |  ----------------------------------------------------------------------\n",
      "     |  Data and other attributes defined here:\n",
      "     |  \n",
      "     |  max = datetime.date(9999, 12, 31)\n",
      "     |  \n",
      "     |  min = datetime.date(1, 1, 1)\n",
      "     |  \n",
      "     |  resolution = datetime.timedelta(days=1)\n",
      "    \n",
      "    class datetime(date)\n",
      "     |  datetime(year, month, day[, hour[, minute[, second[, microsecond[,tzinfo]]]]])\n",
      "     |  \n",
      "     |  The year, month and day arguments are required. tzinfo may be None, or an\n",
      "     |  instance of a tzinfo subclass. The remaining arguments may be ints.\n",
      "     |  \n",
      "     |  Method resolution order:\n",
      "     |      datetime\n",
      "     |      date\n",
      "     |      builtins.object\n",
      "     |  \n",
      "     |  Methods defined here:\n",
      "     |  \n",
      "     |  __add__(self, value, /)\n",
      "     |      Return self+value.\n",
      "     |  \n",
      "     |  __eq__(self, value, /)\n",
      "     |      Return self==value.\n",
      "     |  \n",
      "     |  __ge__(self, value, /)\n",
      "     |      Return self>=value.\n",
      "     |  \n",
      "     |  __getattribute__(self, name, /)\n",
      "     |      Return getattr(self, name).\n",
      "     |  \n",
      "     |  __gt__(self, value, /)\n",
      "     |      Return self>value.\n",
      "     |  \n",
      "     |  __hash__(self, /)\n",
      "     |      Return hash(self).\n",
      "     |  \n",
      "     |  __le__(self, value, /)\n",
      "     |      Return self<=value.\n",
      "     |  \n",
      "     |  __lt__(self, value, /)\n",
      "     |      Return self<value.\n",
      "     |  \n",
      "     |  __ne__(self, value, /)\n",
      "     |      Return self!=value.\n",
      "     |  \n",
      "     |  __radd__(self, value, /)\n",
      "     |      Return value+self.\n",
      "     |  \n",
      "     |  __reduce__(...)\n",
      "     |      __reduce__() -> (cls, state)\n",
      "     |  \n",
      "     |  __reduce_ex__(...)\n",
      "     |      __reduce_ex__(proto) -> (cls, state)\n",
      "     |  \n",
      "     |  __repr__(self, /)\n",
      "     |      Return repr(self).\n",
      "     |  \n",
      "     |  __rsub__(self, value, /)\n",
      "     |      Return value-self.\n",
      "     |  \n",
      "     |  __str__(self, /)\n",
      "     |      Return str(self).\n",
      "     |  \n",
      "     |  __sub__(self, value, /)\n",
      "     |      Return self-value.\n",
      "     |  \n",
      "     |  astimezone(...)\n",
      "     |      tz -> convert to local time in new timezone tz\n",
      "     |  \n",
      "     |  ctime(...)\n",
      "     |      Return ctime() style string.\n",
      "     |  \n",
      "     |  date(...)\n",
      "     |      Return date object with same year, month and day.\n",
      "     |  \n",
      "     |  dst(...)\n",
      "     |      Return self.tzinfo.dst(self).\n",
      "     |  \n",
      "     |  isoformat(...)\n",
      "     |      [sep] -> string in ISO 8601 format, YYYY-MM-DDT[HH[:MM[:SS[.mmm[uuu]]]]][+HH:MM].\n",
      "     |      sep is used to separate the year from the time, and defaults to 'T'.\n",
      "     |      The optional argument timespec specifies the number of additional terms\n",
      "     |      of the time to include. Valid options are 'auto', 'hours', 'minutes',\n",
      "     |      'seconds', 'milliseconds' and 'microseconds'.\n",
      "     |  \n",
      "     |  replace(...)\n",
      "     |      Return datetime with new specified fields.\n",
      "     |  \n",
      "     |  time(...)\n",
      "     |      Return time object with same time but with tzinfo=None.\n",
      "     |  \n",
      "     |  timestamp(...)\n",
      "     |      Return POSIX timestamp as float.\n",
      "     |  \n",
      "     |  timetuple(...)\n",
      "     |      Return time tuple, compatible with time.localtime().\n",
      "     |  \n",
      "     |  timetz(...)\n",
      "     |      Return time object with same time and tzinfo.\n",
      "     |  \n",
      "     |  tzname(...)\n",
      "     |      Return self.tzinfo.tzname(self).\n",
      "     |  \n",
      "     |  utcoffset(...)\n",
      "     |      Return self.tzinfo.utcoffset(self).\n",
      "     |  \n",
      "     |  utctimetuple(...)\n",
      "     |      Return UTC time tuple, compatible with time.localtime().\n",
      "     |  \n",
      "     |  ----------------------------------------------------------------------\n",
      "     |  Class methods defined here:\n",
      "     |  \n",
      "     |  combine(...) from builtins.type\n",
      "     |      date, time -> datetime with same date and time fields\n",
      "     |  \n",
      "     |  fromisoformat(...) from builtins.type\n",
      "     |      string -> datetime from datetime.isoformat() output\n",
      "     |  \n",
      "     |  fromtimestamp(...) from builtins.type\n",
      "     |      timestamp[, tz] -> tz's local time from POSIX timestamp.\n",
      "     |  \n",
      "     |  now(tz=None) from builtins.type\n",
      "     |      Returns new datetime object representing current time local to tz.\n",
      "     |      \n",
      "     |        tz\n",
      "     |          Timezone object.\n",
      "     |      \n",
      "     |      If no tz is specified, uses local timezone.\n",
      "     |  \n",
      "     |  strptime(...) from builtins.type\n",
      "     |      string, format -> new datetime parsed from a string (like time.strptime()).\n",
      "     |  \n",
      "     |  utcfromtimestamp(...) from builtins.type\n",
      "     |      Construct a naive UTC datetime from a POSIX timestamp.\n",
      "     |  \n",
      "     |  utcnow(...) from builtins.type\n",
      "     |      Return a new datetime representing UTC day and time.\n",
      "     |  \n",
      "     |  ----------------------------------------------------------------------\n",
      "     |  Static methods defined here:\n",
      "     |  \n",
      "     |  __new__(*args, **kwargs) from builtins.type\n",
      "     |      Create and return a new object.  See help(type) for accurate signature.\n",
      "     |  \n",
      "     |  ----------------------------------------------------------------------\n",
      "     |  Data descriptors defined here:\n",
      "     |  \n",
      "     |  fold\n",
      "     |  \n",
      "     |  hour\n",
      "     |  \n",
      "     |  microsecond\n",
      "     |  \n",
      "     |  minute\n",
      "     |  \n",
      "     |  second\n",
      "     |  \n",
      "     |  tzinfo\n",
      "     |  \n",
      "     |  ----------------------------------------------------------------------\n",
      "     |  Data and other attributes defined here:\n",
      "     |  \n",
      "     |  max = datetime.datetime(9999, 12, 31, 23, 59, 59, 999999)\n",
      "     |  \n",
      "     |  min = datetime.datetime(1, 1, 1, 0, 0)\n",
      "     |  \n",
      "     |  resolution = datetime.timedelta(microseconds=1)\n",
      "     |  \n",
      "     |  ----------------------------------------------------------------------\n",
      "     |  Methods inherited from date:\n",
      "     |  \n",
      "     |  __format__(...)\n",
      "     |      Formats self with strftime.\n",
      "     |  \n",
      "     |  isocalendar(...)\n",
      "     |      Return a named tuple containing ISO year, week number, and weekday.\n",
      "     |  \n",
      "     |  isoweekday(...)\n",
      "     |      Return the day of the week represented by the date.\n",
      "     |      Monday == 1 ... Sunday == 7\n",
      "     |  \n",
      "     |  strftime(...)\n",
      "     |      format -> strftime() style string.\n",
      "     |  \n",
      "     |  toordinal(...)\n",
      "     |      Return proleptic Gregorian ordinal.  January 1 of year 1 is day 1.\n",
      "     |  \n",
      "     |  weekday(...)\n",
      "     |      Return the day of the week represented by the date.\n",
      "     |      Monday == 0 ... Sunday == 6\n",
      "     |  \n",
      "     |  ----------------------------------------------------------------------\n",
      "     |  Class methods inherited from date:\n",
      "     |  \n",
      "     |  fromisocalendar(...) from builtins.type\n",
      "     |      int, int, int -> Construct a date from the ISO year, week number and weekday.\n",
      "     |      \n",
      "     |      This is the inverse of the date.isocalendar() function\n",
      "     |  \n",
      "     |  fromordinal(...) from builtins.type\n",
      "     |      int -> date corresponding to a proleptic Gregorian ordinal.\n",
      "     |  \n",
      "     |  today(...) from builtins.type\n",
      "     |      Current date or datetime:  same as self.__class__.fromtimestamp(time.time()).\n",
      "     |  \n",
      "     |  ----------------------------------------------------------------------\n",
      "     |  Data descriptors inherited from date:\n",
      "     |  \n",
      "     |  day\n",
      "     |  \n",
      "     |  month\n",
      "     |  \n",
      "     |  year\n",
      "    \n",
      "    class time(builtins.object)\n",
      "     |  time([hour[, minute[, second[, microsecond[, tzinfo]]]]]) --> a time object\n",
      "     |  \n",
      "     |  All arguments are optional. tzinfo may be None, or an instance of\n",
      "     |  a tzinfo subclass. The remaining arguments may be ints.\n",
      "     |  \n",
      "     |  Methods defined here:\n",
      "     |  \n",
      "     |  __eq__(self, value, /)\n",
      "     |      Return self==value.\n",
      "     |  \n",
      "     |  __format__(...)\n",
      "     |      Formats self with strftime.\n",
      "     |  \n",
      "     |  __ge__(self, value, /)\n",
      "     |      Return self>=value.\n",
      "     |  \n",
      "     |  __getattribute__(self, name, /)\n",
      "     |      Return getattr(self, name).\n",
      "     |  \n",
      "     |  __gt__(self, value, /)\n",
      "     |      Return self>value.\n",
      "     |  \n",
      "     |  __hash__(self, /)\n",
      "     |      Return hash(self).\n",
      "     |  \n",
      "     |  __le__(self, value, /)\n",
      "     |      Return self<=value.\n",
      "     |  \n",
      "     |  __lt__(self, value, /)\n",
      "     |      Return self<value.\n",
      "     |  \n",
      "     |  __ne__(self, value, /)\n",
      "     |      Return self!=value.\n",
      "     |  \n",
      "     |  __reduce__(...)\n",
      "     |      __reduce__() -> (cls, state)\n",
      "     |  \n",
      "     |  __reduce_ex__(...)\n",
      "     |      __reduce_ex__(proto) -> (cls, state)\n",
      "     |  \n",
      "     |  __repr__(self, /)\n",
      "     |      Return repr(self).\n",
      "     |  \n",
      "     |  __str__(self, /)\n",
      "     |      Return str(self).\n",
      "     |  \n",
      "     |  dst(...)\n",
      "     |      Return self.tzinfo.dst(self).\n",
      "     |  \n",
      "     |  isoformat(...)\n",
      "     |      Return string in ISO 8601 format, [HH[:MM[:SS[.mmm[uuu]]]]][+HH:MM].\n",
      "     |      \n",
      "     |      The optional argument timespec specifies the number of additional terms\n",
      "     |      of the time to include. Valid options are 'auto', 'hours', 'minutes',\n",
      "     |      'seconds', 'milliseconds' and 'microseconds'.\n",
      "     |  \n",
      "     |  replace(...)\n",
      "     |      Return time with new specified fields.\n",
      "     |  \n",
      "     |  strftime(...)\n",
      "     |      format -> strftime() style string.\n",
      "     |  \n",
      "     |  tzname(...)\n",
      "     |      Return self.tzinfo.tzname(self).\n",
      "     |  \n",
      "     |  utcoffset(...)\n",
      "     |      Return self.tzinfo.utcoffset(self).\n",
      "     |  \n",
      "     |  ----------------------------------------------------------------------\n",
      "     |  Class methods defined here:\n",
      "     |  \n",
      "     |  fromisoformat(...) from builtins.type\n",
      "     |      string -> time from time.isoformat() output\n",
      "     |  \n",
      "     |  ----------------------------------------------------------------------\n",
      "     |  Static methods defined here:\n",
      "     |  \n",
      "     |  __new__(*args, **kwargs) from builtins.type\n",
      "     |      Create and return a new object.  See help(type) for accurate signature.\n",
      "     |  \n",
      "     |  ----------------------------------------------------------------------\n",
      "     |  Data descriptors defined here:\n",
      "     |  \n",
      "     |  fold\n",
      "     |  \n",
      "     |  hour\n",
      "     |  \n",
      "     |  microsecond\n",
      "     |  \n",
      "     |  minute\n",
      "     |  \n",
      "     |  second\n",
      "     |  \n",
      "     |  tzinfo\n",
      "     |  \n",
      "     |  ----------------------------------------------------------------------\n",
      "     |  Data and other attributes defined here:\n",
      "     |  \n",
      "     |  max = datetime.time(23, 59, 59, 999999)\n",
      "     |  \n",
      "     |  min = datetime.time(0, 0)\n",
      "     |  \n",
      "     |  resolution = datetime.timedelta(microseconds=1)\n",
      "    \n",
      "    class timedelta(builtins.object)\n",
      "     |  Difference between two datetime values.\n",
      "     |  \n",
      "     |  timedelta(days=0, seconds=0, microseconds=0, milliseconds=0, minutes=0, hours=0, weeks=0)\n",
      "     |  \n",
      "     |  All arguments are optional and default to 0.\n",
      "     |  Arguments may be integers or floats, and may be positive or negative.\n",
      "     |  \n",
      "     |  Methods defined here:\n",
      "     |  \n",
      "     |  __abs__(self, /)\n",
      "     |      abs(self)\n",
      "     |  \n",
      "     |  __add__(self, value, /)\n",
      "     |      Return self+value.\n",
      "     |  \n",
      "     |  __bool__(self, /)\n",
      "     |      True if self else False\n",
      "     |  \n",
      "     |  __divmod__(self, value, /)\n",
      "     |      Return divmod(self, value).\n",
      "     |  \n",
      "     |  __eq__(self, value, /)\n",
      "     |      Return self==value.\n",
      "     |  \n",
      "     |  __floordiv__(self, value, /)\n",
      "     |      Return self//value.\n",
      "     |  \n",
      "     |  __ge__(self, value, /)\n",
      "     |      Return self>=value.\n",
      "     |  \n",
      "     |  __getattribute__(self, name, /)\n",
      "     |      Return getattr(self, name).\n",
      "     |  \n",
      "     |  __gt__(self, value, /)\n",
      "     |      Return self>value.\n",
      "     |  \n",
      "     |  __hash__(self, /)\n",
      "     |      Return hash(self).\n",
      "     |  \n",
      "     |  __le__(self, value, /)\n",
      "     |      Return self<=value.\n",
      "     |  \n",
      "     |  __lt__(self, value, /)\n",
      "     |      Return self<value.\n",
      "     |  \n",
      "     |  __mod__(self, value, /)\n",
      "     |      Return self%value.\n",
      "     |  \n",
      "     |  __mul__(self, value, /)\n",
      "     |      Return self*value.\n",
      "     |  \n",
      "     |  __ne__(self, value, /)\n",
      "     |      Return self!=value.\n",
      "     |  \n",
      "     |  __neg__(self, /)\n",
      "     |      -self\n",
      "     |  \n",
      "     |  __pos__(self, /)\n",
      "     |      +self\n",
      "     |  \n",
      "     |  __radd__(self, value, /)\n",
      "     |      Return value+self.\n",
      "     |  \n",
      "     |  __rdivmod__(self, value, /)\n",
      "     |      Return divmod(value, self).\n",
      "     |  \n",
      "     |  __reduce__(...)\n",
      "     |      __reduce__() -> (cls, state)\n",
      "     |  \n",
      "     |  __repr__(self, /)\n",
      "     |      Return repr(self).\n",
      "     |  \n",
      "     |  __rfloordiv__(self, value, /)\n",
      "     |      Return value//self.\n",
      "     |  \n",
      "     |  __rmod__(self, value, /)\n",
      "     |      Return value%self.\n",
      "     |  \n",
      "     |  __rmul__(self, value, /)\n",
      "     |      Return value*self.\n",
      "     |  \n",
      "     |  __rsub__(self, value, /)\n",
      "     |      Return value-self.\n",
      "     |  \n",
      "     |  __rtruediv__(self, value, /)\n",
      "     |      Return value/self.\n",
      "     |  \n",
      "     |  __str__(self, /)\n",
      "     |      Return str(self).\n",
      "     |  \n",
      "     |  __sub__(self, value, /)\n",
      "     |      Return self-value.\n",
      "     |  \n",
      "     |  __truediv__(self, value, /)\n",
      "     |      Return self/value.\n",
      "     |  \n",
      "     |  total_seconds(...)\n",
      "     |      Total seconds in the duration.\n",
      "     |  \n",
      "     |  ----------------------------------------------------------------------\n",
      "     |  Static methods defined here:\n",
      "     |  \n",
      "     |  __new__(*args, **kwargs) from builtins.type\n",
      "     |      Create and return a new object.  See help(type) for accurate signature.\n",
      "     |  \n",
      "     |  ----------------------------------------------------------------------\n",
      "     |  Data descriptors defined here:\n",
      "     |  \n",
      "     |  days\n",
      "     |      Number of days.\n",
      "     |  \n",
      "     |  microseconds\n",
      "     |      Number of microseconds (>= 0 and less than 1 second).\n",
      "     |  \n",
      "     |  seconds\n",
      "     |      Number of seconds (>= 0 and less than 1 day).\n",
      "     |  \n",
      "     |  ----------------------------------------------------------------------\n",
      "     |  Data and other attributes defined here:\n",
      "     |  \n",
      "     |  max = datetime.timedelta(days=999999999, seconds=86399, microseconds=9...\n",
      "     |  \n",
      "     |  min = datetime.timedelta(days=-999999999)\n",
      "     |  \n",
      "     |  resolution = datetime.timedelta(microseconds=1)\n",
      "    \n",
      "    class timezone(tzinfo)\n",
      "     |  Fixed offset from UTC implementation of tzinfo.\n",
      "     |  \n",
      "     |  Method resolution order:\n",
      "     |      timezone\n",
      "     |      tzinfo\n",
      "     |      builtins.object\n",
      "     |  \n",
      "     |  Methods defined here:\n",
      "     |  \n",
      "     |  __eq__(self, value, /)\n",
      "     |      Return self==value.\n",
      "     |  \n",
      "     |  __ge__(self, value, /)\n",
      "     |      Return self>=value.\n",
      "     |  \n",
      "     |  __getinitargs__(...)\n",
      "     |      pickle support\n",
      "     |  \n",
      "     |  __gt__(self, value, /)\n",
      "     |      Return self>value.\n",
      "     |  \n",
      "     |  __hash__(self, /)\n",
      "     |      Return hash(self).\n",
      "     |  \n",
      "     |  __le__(self, value, /)\n",
      "     |      Return self<=value.\n",
      "     |  \n",
      "     |  __lt__(self, value, /)\n",
      "     |      Return self<value.\n",
      "     |  \n",
      "     |  __ne__(self, value, /)\n",
      "     |      Return self!=value.\n",
      "     |  \n",
      "     |  __repr__(self, /)\n",
      "     |      Return repr(self).\n",
      "     |  \n",
      "     |  __str__(self, /)\n",
      "     |      Return str(self).\n",
      "     |  \n",
      "     |  dst(...)\n",
      "     |      Return None.\n",
      "     |  \n",
      "     |  fromutc(...)\n",
      "     |      datetime in UTC -> datetime in local time.\n",
      "     |  \n",
      "     |  tzname(...)\n",
      "     |      If name is specified when timezone is created, returns the name.  Otherwise returns offset as 'UTC(+|-)HH:MM'.\n",
      "     |  \n",
      "     |  utcoffset(...)\n",
      "     |      Return fixed offset.\n",
      "     |  \n",
      "     |  ----------------------------------------------------------------------\n",
      "     |  Static methods defined here:\n",
      "     |  \n",
      "     |  __new__(*args, **kwargs) from builtins.type\n",
      "     |      Create and return a new object.  See help(type) for accurate signature.\n",
      "     |  \n",
      "     |  ----------------------------------------------------------------------\n",
      "     |  Data and other attributes defined here:\n",
      "     |  \n",
      "     |  max = datetime.timezone(datetime.timedelta(seconds=86340))\n",
      "     |  \n",
      "     |  min = datetime.timezone(datetime.timedelta(days=-1, seconds=60))\n",
      "     |  \n",
      "     |  utc = datetime.timezone.utc\n",
      "     |  \n",
      "     |  ----------------------------------------------------------------------\n",
      "     |  Methods inherited from tzinfo:\n",
      "     |  \n",
      "     |  __getattribute__(self, name, /)\n",
      "     |      Return getattr(self, name).\n",
      "     |  \n",
      "     |  __reduce__(...)\n",
      "     |      -> (cls, state)\n",
      "    \n",
      "    class tzinfo(builtins.object)\n",
      "     |  Abstract base class for time zone info objects.\n",
      "     |  \n",
      "     |  Methods defined here:\n",
      "     |  \n",
      "     |  __getattribute__(self, name, /)\n",
      "     |      Return getattr(self, name).\n",
      "     |  \n",
      "     |  __reduce__(...)\n",
      "     |      -> (cls, state)\n",
      "     |  \n",
      "     |  dst(...)\n",
      "     |      datetime -> DST offset as timedelta positive east of UTC.\n",
      "     |  \n",
      "     |  fromutc(...)\n",
      "     |      datetime in UTC -> datetime in local time.\n",
      "     |  \n",
      "     |  tzname(...)\n",
      "     |      datetime -> string name of time zone.\n",
      "     |  \n",
      "     |  utcoffset(...)\n",
      "     |      datetime -> timedelta showing offset from UTC, negative values indicating West of UTC\n",
      "     |  \n",
      "     |  ----------------------------------------------------------------------\n",
      "     |  Static methods defined here:\n",
      "     |  \n",
      "     |  __new__(*args, **kwargs) from builtins.type\n",
      "     |      Create and return a new object.  See help(type) for accurate signature.\n",
      "\n",
      "DATA\n",
      "    MAXYEAR = 9999\n",
      "    MINYEAR = 1\n",
      "    __all__ = ('date', 'datetime', 'time', 'timedelta', 'timezone', 'tzinf...\n",
      "\n",
      "FILE\n",
      "    /usr/lib/python3.10/datetime.py\n",
      "\n",
      "\n"
     ]
    }
   ],
   "source": [
    "help(datetime) # получить подсказку по использованию модуля datetime"
   ]
  },
  {
   "cell_type": "markdown",
   "id": "5620660f",
   "metadata": {},
   "source": [
    "Задание: создать класс Family, в котором есть список членов семьи, каждый член семье - экземпляр класса FamilyMember, при этом функция len(family) должна возвращать количество членов семьи"
   ]
  },
  {
   "cell_type": "code",
   "execution_count": null,
   "id": "d2cd94cc",
   "metadata": {},
   "outputs": [],
   "source": []
  },
  {
   "cell_type": "markdown",
   "id": "ed209cfc",
   "metadata": {},
   "source": [
    "### Немного про нейминг\n",
    "\n",
    "[памятка](https://github.com/python-dev-blog/python_tutorials/blob/master/0004_naming/0004_naming.ipynb)\n",
    "\n",
    "[видео](https://www.youtube.com/watch?v=NIxluaAcbok)\n",
    "\n",
    "[5 способов использования подчеркивания _ ](https://tproger.ru/translations/5-ways-of-using-underscore-in-python/)"
   ]
  },
  {
   "cell_type": "code",
   "execution_count": null,
   "id": "0f5d2c79",
   "metadata": {},
   "outputs": [],
   "source": []
  },
  {
   "cell_type": "markdown",
   "id": "1900958d",
   "metadata": {},
   "source": [
    "### Где можно добавлять атрибуты класса"
   ]
  },
  {
   "cell_type": "code",
   "execution_count": 73,
   "id": "c84561c6",
   "metadata": {},
   "outputs": [
    {
     "data": {
      "text/plain": [
       "'Lena'"
      ]
     },
     "execution_count": 73,
     "metadata": {},
     "output_type": "execute_result"
    }
   ],
   "source": [
    "class Person:\n",
    "    def __init__(self, name):\n",
    "        self.name = name\n",
    "        \n",
    "person = Person(\"Lena\")\n",
    "person.name"
   ]
  },
  {
   "cell_type": "code",
   "execution_count": 74,
   "id": "f62c8284",
   "metadata": {},
   "outputs": [],
   "source": [
    "person.age = 23"
   ]
  },
  {
   "cell_type": "code",
   "execution_count": 75,
   "id": "97dd96f6",
   "metadata": {},
   "outputs": [
    {
     "name": "stdout",
     "output_type": "stream",
     "text": [
      "23\n"
     ]
    }
   ],
   "source": [
    "print(person.age)"
   ]
  },
  {
   "cell_type": "markdown",
   "id": "edbded37",
   "metadata": {},
   "source": [
    "Задание: написать класс, который при инициализации принимает в себя строку-время: hh:mm:ss и умеет переводить ее в секунды, в часы и в дни"
   ]
  },
  {
   "cell_type": "code",
   "execution_count": null,
   "id": "18eab5ea",
   "metadata": {},
   "outputs": [],
   "source": []
  },
  {
   "cell_type": "markdown",
   "id": "9d33e319",
   "metadata": {},
   "source": [
    "Задание: написать класс фигура, у которого есть метод \"посчитать площадь\", отнаследоваться от него и написать класс для прямоугольника, который принимает в себя ширину и высоту и также умеет считать площадь"
   ]
  },
  {
   "cell_type": "code",
   "execution_count": null,
   "id": "c5440943",
   "metadata": {},
   "outputs": [],
   "source": []
  },
  {
   "cell_type": "markdown",
   "id": "f6553e69",
   "metadata": {},
   "source": [
    "Задание: добавить в этот класс подсчет периметра"
   ]
  },
  {
   "cell_type": "code",
   "execution_count": null,
   "id": "9af22be8",
   "metadata": {},
   "outputs": [],
   "source": []
  },
  {
   "cell_type": "markdown",
   "id": "ab9cf32f",
   "metadata": {},
   "source": [
    "Задание: создать класс person с атрибутами name, age, gender, атрибуты age и gender должны быть необязательными и при этом принимать валидные дефолтные значения (age=1, gender='male')"
   ]
  },
  {
   "cell_type": "code",
   "execution_count": null,
   "id": "8a4112f8",
   "metadata": {},
   "outputs": [],
   "source": []
  },
  {
   "cell_type": "markdown",
   "id": "a300a5c1",
   "metadata": {},
   "source": [
    "Задание: написать класс калькулятор, который принимает в себя a и b  умеет выполнять операции +, -, *, /"
   ]
  },
  {
   "cell_type": "code",
   "execution_count": null,
   "id": "0d167cb4",
   "metadata": {},
   "outputs": [],
   "source": []
  },
  {
   "cell_type": "markdown",
   "id": "a13cb1bc",
   "metadata": {},
   "source": [
    "# Датаклассы - DataClass\n",
    "\n",
    "- класс для хранения данных, в нем нет такой логики как в обычных классах (say_hi, make_sound и тп)\n",
    "- по умолчанию есть методы __ init __, __ repr __, __ eq __\n",
    "\n",
    "\n",
    "[здесь больше информации](https://pythonru.com/osnovy/dataclass-v-python)"
   ]
  },
  {
   "cell_type": "code",
   "execution_count": 77,
   "id": "044f25a9",
   "metadata": {},
   "outputs": [],
   "source": [
    "from dataclasses import dataclass\n",
    "\n",
    "\n",
    "@dataclass\n",
    "class Coordinate:\n",
    "    x: int\n",
    "    y: int\n",
    "    z: int"
   ]
  },
  {
   "cell_type": "code",
   "execution_count": 78,
   "id": "5be44c15",
   "metadata": {},
   "outputs": [
    {
     "data": {
      "text/plain": [
       "Coordinate(x=4, y=5, z=3)"
      ]
     },
     "execution_count": 78,
     "metadata": {},
     "output_type": "execute_result"
    }
   ],
   "source": [
    "a = Coordinate(4, 5, 3)\n",
    "a"
   ]
  },
  {
   "cell_type": "code",
   "execution_count": 79,
   "id": "6d7face0",
   "metadata": {},
   "outputs": [],
   "source": [
    "# можно задавать значения по умолчанию\n",
    "@dataclass\n",
    "class Coordinate:\n",
    "    x: int = 0\n",
    "    y: int = 0\n",
    "    z: int = 0"
   ]
  },
  {
   "cell_type": "code",
   "execution_count": 80,
   "id": "250cf87d",
   "metadata": {},
   "outputs": [
    {
     "data": {
      "text/plain": [
       "Coordinate(x=0, y=0, z=0)"
      ]
     },
     "execution_count": 80,
     "metadata": {},
     "output_type": "execute_result"
    }
   ],
   "source": [
    "a = Coordinate()\n",
    "a"
   ]
  },
  {
   "cell_type": "code",
   "execution_count": 83,
   "id": "4597e58a",
   "metadata": {},
   "outputs": [],
   "source": [
    "@dataclass\n",
    "class Person:\n",
    "    name: str\n",
    "    age: int\n",
    "        \n",
    "    @property\n",
    "    def birth_year(self):\n",
    "        return 2023 - self.age"
   ]
  },
  {
   "cell_type": "code",
   "execution_count": 84,
   "id": "8c66efce",
   "metadata": {},
   "outputs": [
    {
     "data": {
      "text/plain": [
       "1999"
      ]
     },
     "execution_count": 84,
     "metadata": {},
     "output_type": "execute_result"
    }
   ],
   "source": [
    "person = Person(name=\"Lena\", age=24)\n",
    "person.birth_year"
   ]
  },
  {
   "cell_type": "code",
   "execution_count": 85,
   "id": "3a5ba8b2",
   "metadata": {},
   "outputs": [],
   "source": [
    "# если мы хотим чтобы значения не менялись после создания\n",
    "@dataclass(frozen=True)\n",
    "class CircleArea:\n",
    "    r: int\n",
    "    pi: float = 3.14\n",
    "\n",
    "    @property\n",
    "    def area(self):\n",
    "        return self.pi * (self.r ** 2)"
   ]
  },
  {
   "cell_type": "code",
   "execution_count": 86,
   "id": "704dcca9",
   "metadata": {},
   "outputs": [
    {
     "ename": "FrozenInstanceError",
     "evalue": "cannot assign to field 'r'",
     "output_type": "error",
     "traceback": [
      "\u001b[0;31m---------------------------------------------------------------------------\u001b[0m",
      "\u001b[0;31mFrozenInstanceError\u001b[0m                       Traceback (most recent call last)",
      "Cell \u001b[0;32mIn[86], line 2\u001b[0m\n\u001b[1;32m      1\u001b[0m a \u001b[38;5;241m=\u001b[39m CircleArea(\u001b[38;5;241m2\u001b[39m)\n\u001b[0;32m----> 2\u001b[0m \u001b[43ma\u001b[49m\u001b[38;5;241;43m.\u001b[39;49m\u001b[43mr\u001b[49m \u001b[38;5;241m=\u001b[39m \u001b[38;5;241m5\u001b[39m\n",
      "File \u001b[0;32m<string>:4\u001b[0m, in \u001b[0;36m__setattr__\u001b[0;34m(self, name, value)\u001b[0m\n",
      "\u001b[0;31mFrozenInstanceError\u001b[0m: cannot assign to field 'r'"
     ]
    }
   ],
   "source": [
    "a = CircleArea(2)\n",
    "a.r = 5"
   ]
  },
  {
   "cell_type": "markdown",
   "id": "014e889e",
   "metadata": {},
   "source": [
    "Задание: создать датакласс Person с именем и годом рождения, добавить к нему проперти is_adult"
   ]
  },
  {
   "cell_type": "code",
   "execution_count": null,
   "id": "975cdd40",
   "metadata": {},
   "outputs": [],
   "source": []
  },
  {
   "cell_type": "code",
   "execution_count": null,
   "id": "d49303ad",
   "metadata": {},
   "outputs": [],
   "source": []
  },
  {
   "cell_type": "code",
   "execution_count": null,
   "id": "79692f7c",
   "metadata": {},
   "outputs": [],
   "source": []
  }
 ],
 "metadata": {
  "kernelspec": {
   "display_name": "Python 3 (ipykernel)",
   "language": "python",
   "name": "python3"
  },
  "language_info": {
   "codemirror_mode": {
    "name": "ipython",
    "version": 3
   },
   "file_extension": ".py",
   "mimetype": "text/x-python",
   "name": "python",
   "nbconvert_exporter": "python",
   "pygments_lexer": "ipython3",
   "version": "3.10.6"
  }
 },
 "nbformat": 4,
 "nbformat_minor": 5
}
