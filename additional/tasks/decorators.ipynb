{
 "cells": [
  {
   "cell_type": "markdown",
   "id": "899bcce9",
   "metadata": {},
   "source": [
    "# Декораторы"
   ]
  },
  {
   "cell_type": "markdown",
   "id": "80beb348",
   "metadata": {},
   "source": [
    "Задача: написать декоратор, который возвращает int вместо float (хотим получить 1 вместо 1.5 как в примере)"
   ]
  },
  {
   "cell_type": "code",
   "execution_count": 2,
   "id": "749b6e4d",
   "metadata": {},
   "outputs": [
    {
     "data": {
      "text/plain": [
       "1.5"
      ]
     },
     "execution_count": 2,
     "metadata": {},
     "output_type": "execute_result"
    }
   ],
   "source": [
    "def div(a, b):\n",
    "    return a / b\n",
    "div(3, 2)"
   ]
  },
  {
   "cell_type": "markdown",
   "id": "58e2d07d",
   "metadata": {},
   "source": [
    "Задача: написать декоратор, который позволяет сделать не более 3 вызовов функции в секунду"
   ]
  },
  {
   "cell_type": "code",
   "execution_count": null,
   "id": "431d30b7",
   "metadata": {},
   "outputs": [],
   "source": []
  },
  {
   "cell_type": "markdown",
   "id": "78de7bd6",
   "metadata": {},
   "source": [
    "Задача: написать декоратор, который проверяет все аргументы функции и выполняет функцию только в случае если все они больше 0, иначе выводит сообщение об ошибке"
   ]
  },
  {
   "cell_type": "code",
   "execution_count": null,
   "id": "4967a0fd",
   "metadata": {},
   "outputs": [],
   "source": [
    "def func(a, b):\n",
    "    print(a / b)\n",
    "\n",
    "\n",
    "func(1, 0) # должен вывести ошибку"
   ]
  },
  {
   "cell_type": "code",
   "execution_count": null,
   "id": "6586052b",
   "metadata": {},
   "outputs": [],
   "source": []
  }
 ],
 "metadata": {
  "kernelspec": {
   "display_name": "Python 3 (ipykernel)",
   "language": "python",
   "name": "python3"
  },
  "language_info": {
   "codemirror_mode": {
    "name": "ipython",
    "version": 3
   },
   "file_extension": ".py",
   "mimetype": "text/x-python",
   "name": "python",
   "nbconvert_exporter": "python",
   "pygments_lexer": "ipython3",
   "version": "3.10.6"
  }
 },
 "nbformat": 4,
 "nbformat_minor": 5
}
