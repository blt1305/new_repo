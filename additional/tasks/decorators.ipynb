{
 "cells": [
  {
   "cell_type": "markdown",
   "id": "dba39264",
   "metadata": {},
   "source": [
    "# Декораторы"
   ]
  },
  {
   "cell_type": "markdown",
   "id": "8e3f21d7",
   "metadata": {},
   "source": [
    "Задача 1: написать декоратор, который возвращает int вместо float (хотим получить 1 вместо 1.5 как в примере)"
   ]
  },
  {
   "cell_type": "code",
   "execution_count": 2,
   "id": "5007c53a",
   "metadata": {},
   "outputs": [
    {
     "data": {
      "text/plain": [
       "1.5"
      ]
     },
     "execution_count": 2,
     "metadata": {},
     "output_type": "execute_result"
    }
   ],
   "source": [
    "def div(a, b):\n",
    "    return a / b\n",
    "div(3, 2)"
   ]
  },
  {
   "cell_type": "markdown",
   "id": "fefef048",
   "metadata": {},
   "source": [
    "Задача 2: написать декоратор, который позволяет сделать не более 3 вызовов функции в секунду"
   ]
  },
  {
   "cell_type": "code",
   "execution_count": null,
   "id": "4c81fe9f",
   "metadata": {},
   "outputs": [],
   "source": []
  },
  {
   "cell_type": "markdown",
   "id": "72f65026",
   "metadata": {},
   "source": [
    "Задача 3: написать декоратор, который проверяет все аргументы функции и выполняет функцию только в случае если все они больше 0, иначе выводит сообщение об ошибке"
   ]
  },
  {
   "cell_type": "code",
   "execution_count": null,
   "id": "c5f7f609",
   "metadata": {},
   "outputs": [],
   "source": [
    "def func(a, b):\n",
    "    print(a / b)\n",
    "\n",
    "\n",
    "func(1, 0) # должен вывести ошибку"
   ]
  },
  {
   "cell_type": "markdown",
   "id": "641b4d21",
   "metadata": {},
   "source": [
    "Задача 4: написать декоратор для функции, который добавляет 1 к каждому целочисленному агрументу:"
   ]
  },
  {
   "cell_type": "code",
   "execution_count": 1,
   "id": "32ce42ac",
   "metadata": {},
   "outputs": [
    {
     "name": "stdout",
     "output_type": "stream",
     "text": [
      "(1, 2, 3, 'string')\n"
     ]
    }
   ],
   "source": [
    "def func(*args):\n",
    "    print(args)  # после добавления декоратора ожидается что func выведет (2, 3, 4, \"string\")\n",
    "    \n",
    "func(1, 2, 3, \"string\")"
   ]
  },
  {
   "cell_type": "markdown",
   "id": "4d8c1452",
   "metadata": {},
   "source": [
    "Задача 5: Написать декоратор, который добавляет в kwargs время старта выполнения функции"
   ]
  },
  {
   "cell_type": "code",
   "execution_count": 2,
   "id": "4a34c338",
   "metadata": {},
   "outputs": [],
   "source": [
    "def func(**kwargs):\n",
    "    print(kwargs)  # в эти kwargs хотим добавить время старта выполнения функции"
   ]
  },
  {
   "cell_type": "markdown",
   "id": "4019b2f7",
   "metadata": {},
   "source": [
    "Задача 6: Написать декоратор, который будет просить пользователя ввести число до тех пор, пока он не введет положительное число"
   ]
  },
  {
   "cell_type": "code",
   "execution_count": null,
   "id": "8c7aa542",
   "metadata": {},
   "outputs": [],
   "source": [
    "def func(number):\n",
    "    print(number)\n",
    "    return number"
   ]
  },
  {
   "cell_type": "markdown",
   "id": "e82ad686",
   "metadata": {},
   "source": [
    "Задача 6: Написать декоратор, который реализовывает кэш для функции"
   ]
  },
  {
   "cell_type": "code",
   "execution_count": 4,
   "id": "c1623ca4",
   "metadata": {},
   "outputs": [
    {
     "data": {
      "text/plain": [
       "'4'"
      ]
     },
     "execution_count": 4,
     "metadata": {},
     "output_type": "execute_result"
    }
   ],
   "source": [
    "from typing import Optional\n",
    "import random\n",
    "\n",
    "def func(a: str = None) -> Optional[str]:\n",
    "    return a or str(random.randint(1, 10))\n",
    "\n",
    "func()"
   ]
  },
  {
   "cell_type": "markdown",
   "id": "8cca355d",
   "metadata": {},
   "source": [
    "Задача 7: Написать декоратор, который проверяет, есть ли у пользователя birth_year, если есть, то мы его удаляем и записываем age"
   ]
  },
  {
   "cell_type": "code",
   "execution_count": 7,
   "id": "4b2cd285",
   "metadata": {},
   "outputs": [
    {
     "name": "stdout",
     "output_type": "stream",
     "text": [
      "{'name': 'Petr', 'birth_year': 1992}\n"
     ]
    },
    {
     "data": {
      "text/plain": [
       "{'name': 'Petr', 'birth_year': 1992}"
      ]
     },
     "execution_count": 7,
     "metadata": {},
     "output_type": "execute_result"
    }
   ],
   "source": [
    "def func(person):\n",
    "    print(person) # хотим увидеть {\"name\": \"Petr\", \"age\": 31}\n",
    "    return person\n",
    "\n",
    "func({\"name\": \"Petr\", \"birth_year\": 1992})"
   ]
  },
  {
   "cell_type": "markdown",
   "id": "563f8375",
   "metadata": {},
   "source": [
    "Задача 8: Написать декоратор, который удалит из args повторяющиеся элементы"
   ]
  },
  {
   "cell_type": "code",
   "execution_count": 8,
   "id": "ee04a1dc",
   "metadata": {},
   "outputs": [
    {
     "name": "stdout",
     "output_type": "stream",
     "text": [
      "('string', 1, 2, 3, 2, 'string')\n"
     ]
    }
   ],
   "source": [
    "def func(*args):\n",
    "    print(args)  # после добавления декоратора ожидается что func выведет (\"string\", 1, 2, 3)\n",
    "    \n",
    "func(\"string\", 1, 2, 3, 2, \"string\")"
   ]
  },
  {
   "cell_type": "markdown",
   "id": "8103639d",
   "metadata": {},
   "source": [
    "Задача 9: Написать декоратор, который позволяет вызвать функцию только 3 раза, а при дальнейших вызовах будет выводить ошибку"
   ]
  },
  {
   "cell_type": "code",
   "execution_count": null,
   "id": "f4e1fb0b",
   "metadata": {},
   "outputs": [],
   "source": [
    "func()\n",
    "func()\n",
    "func()\n",
    "func() # а тут будет уже ошибка\n",
    "func() # и тут тоже"
   ]
  },
  {
   "cell_type": "markdown",
   "id": "3c0a0cdf",
   "metadata": {},
   "source": [
    "Задача 10: Написать декоратор, который реализовывает кэш для любой функции, даже если в ней есть list или dict в качестве агрументов. В случае изменяемых типов данных кэш сохраняться не должен"
   ]
  },
  {
   "cell_type": "code",
   "execution_count": null,
   "id": "94710863",
   "metadata": {},
   "outputs": [],
   "source": []
  }
 ],
 "metadata": {
  "kernelspec": {
   "display_name": "Python 3 (ipykernel)",
   "language": "python",
   "name": "python3"
  },
  "language_info": {
   "codemirror_mode": {
    "name": "ipython",
    "version": 3
   },
   "file_extension": ".py",
   "mimetype": "text/x-python",
   "name": "python",
   "nbconvert_exporter": "python",
   "pygments_lexer": "ipython3",
   "version": "3.10.6"
  }
 },
 "nbformat": 4,
 "nbformat_minor": 5
}
