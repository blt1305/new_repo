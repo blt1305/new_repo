{
 "cells": [
  {
   "cell_type": "markdown",
   "id": "dba39264",
   "metadata": {},
   "source": [
    "# Декораторы"
   ]
  },
  {
   "cell_type": "markdown",
   "id": "8e3f21d7",
   "metadata": {},
   "source": [
    "Задача: написать декоратор, который возвращает int вместо float (хотим получить 1 вместо 1.5 как в примере)"
   ]
  },
  {
   "cell_type": "code",
   "execution_count": 2,
   "id": "5007c53a",
   "metadata": {},
   "outputs": [
    {
     "data": {
      "text/plain": [
       "1.5"
      ]
     },
     "execution_count": 2,
     "metadata": {},
     "output_type": "execute_result"
    }
   ],
   "source": [
    "def div(a, b):\n",
    "    return a / b\n",
    "div(3, 2)"
   ]
  },
  {
   "cell_type": "markdown",
   "id": "fefef048",
   "metadata": {},
   "source": [
    "Задача: написать декоратор, который позволяет сделать не более 3 вызовов функции в секунду"
   ]
  },
  {
   "cell_type": "code",
   "execution_count": null,
   "id": "4c81fe9f",
   "metadata": {},
   "outputs": [],
   "source": []
  },
  {
   "cell_type": "markdown",
   "id": "72f65026",
   "metadata": {},
   "source": [
    "Задача: написать декоратор, который проверяет все аргументы функции и выполняет функцию только в случае если все они больше 0, иначе выводит сообщение об ошибке"
   ]
  },
  {
   "cell_type": "code",
   "execution_count": null,
   "id": "c5f7f609",
   "metadata": {},
   "outputs": [],
   "source": [
    "def func(a, b):\n",
    "    print(a / b)\n",
    "\n",
    "\n",
    "func(1, 0) # должен вывести ошибку"
   ]
  },
  {
   "cell_type": "code",
   "execution_count": null,
   "id": "f47d41dd",
   "metadata": {},
   "outputs": [],
   "source": []
  }
 ],
 "metadata": {
  "kernelspec": {
   "display_name": "Python 3 (ipykernel)",
   "language": "python",
   "name": "python3"
  },
  "language_info": {
   "codemirror_mode": {
    "name": "ipython",
    "version": 3
   },
   "file_extension": ".py",
   "mimetype": "text/x-python",
   "name": "python",
   "nbconvert_exporter": "python",
   "pygments_lexer": "ipython3",
   "version": "3.10.6"
  }
 },
 "nbformat": 4,
 "nbformat_minor": 5
}
