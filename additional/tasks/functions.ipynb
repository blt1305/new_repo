{
 "cells": [
  {
   "cell_type": "markdown",
   "id": "7d36cfdd",
   "metadata": {},
   "source": [
    "# Функции"
   ]
  },
  {
   "cell_type": "markdown",
   "id": "8bfd56e0",
   "metadata": {},
   "source": [
    "Задание: Даны списки:\n",
    "\n",
    "a = [1, 1, 2, 3, 5, 8, 13, 21, 34, 55, 89]\n",
    "\n",
    "b = [1, 2, 3, 4, 5, 6, 7, 8, 9, 10, 11, 12, 13]\n",
    "\n",
    "Нужно вернуть список, который состоит из элементов, общих для этих двух списков"
   ]
  },
  {
   "cell_type": "code",
   "execution_count": null,
   "id": "b93af610",
   "metadata": {},
   "outputs": [],
   "source": []
  },
  {
   "cell_type": "markdown",
   "id": "a38616aa",
   "metadata": {},
   "source": [
    "Задание: написать программу для вычисления факториала. Факториал - 1 * 2 * 3 ... * n"
   ]
  },
  {
   "cell_type": "code",
   "execution_count": null,
   "id": "41adad20",
   "metadata": {},
   "outputs": [],
   "source": []
  },
  {
   "cell_type": "markdown",
   "id": "96b0a188",
   "metadata": {},
   "source": [
    "Задание: объявить функцию, которая принимает в себя любое количество словарей и возвращает единый словарь, в котором есть ключи из всех переданных словарей"
   ]
  },
  {
   "cell_type": "code",
   "execution_count": null,
   "id": "bd6ae97c",
   "metadata": {},
   "outputs": [],
   "source": []
  },
  {
   "cell_type": "markdown",
   "id": "82c2a0b4",
   "metadata": {},
   "source": [
    "Задание: написать функцию для определения наибольшего числа (реализовать свой max)"
   ]
  },
  {
   "cell_type": "code",
   "execution_count": null,
   "id": "093b4f3a",
   "metadata": {},
   "outputs": [],
   "source": []
  },
  {
   "cell_type": "markdown",
   "id": "4419a07c",
   "metadata": {},
   "source": [
    "Задание: написать функцию, которая извлекает подстроку из строки"
   ]
  },
  {
   "cell_type": "code",
   "execution_count": null,
   "id": "52bb2365",
   "metadata": {},
   "outputs": [],
   "source": []
  },
  {
   "cell_type": "markdown",
   "id": "e0be0cfc",
   "metadata": {},
   "source": [
    "[список задач](https://habr.com/ru/companies/timeweb/articles/579080/)"
   ]
  },
  {
   "cell_type": "code",
   "execution_count": null,
   "id": "0276ff0e",
   "metadata": {},
   "outputs": [],
   "source": []
  }
 ],
 "metadata": {
  "kernelspec": {
   "display_name": "Python 3 (ipykernel)",
   "language": "python",
   "name": "python3"
  },
  "language_info": {
   "codemirror_mode": {
    "name": "ipython",
    "version": 3
   },
   "file_extension": ".py",
   "mimetype": "text/x-python",
   "name": "python",
   "nbconvert_exporter": "python",
   "pygments_lexer": "ipython3",
   "version": "3.10.6"
  }
 },
 "nbformat": 4,
 "nbformat_minor": 5
}
