{
 "cells": [
  {
   "cell_type": "markdown",
   "id": "7d36cfdd",
   "metadata": {},
   "source": [
    "# Функции"
   ]
  },
  {
   "cell_type": "markdown",
   "id": "8bfd56e0",
   "metadata": {},
   "source": [
    "Задание 1: Даны списки:\n",
    "\n",
    "a = [1, 1, 2, 3, 5, 8, 13, 21, 34, 55, 89]\n",
    "\n",
    "b = [1, 2, 3, 4, 5, 6, 7, 8, 9, 10, 11, 12, 13]\n",
    "\n",
    "Нужно вернуть список, который состоит из элементов, общих для этих двух списков"
   ]
  },
  {
   "cell_type": "code",
   "execution_count": null,
   "id": "b93af610",
   "metadata": {},
   "outputs": [],
   "source": []
  },
  {
   "cell_type": "markdown",
   "id": "a38616aa",
   "metadata": {},
   "source": [
    "Задание 2: написать программу для вычисления факториала. Факториал - 1 * 2 * 3 ... * n"
   ]
  },
  {
   "cell_type": "code",
   "execution_count": null,
   "id": "41adad20",
   "metadata": {},
   "outputs": [],
   "source": []
  },
  {
   "cell_type": "markdown",
   "id": "96b0a188",
   "metadata": {},
   "source": [
    "Задание 3: объявить функцию, которая принимает в себя любое количество словарей и возвращает единый словарь, в котором есть ключи из всех переданных словарей"
   ]
  },
  {
   "cell_type": "code",
   "execution_count": null,
   "id": "bd6ae97c",
   "metadata": {},
   "outputs": [],
   "source": []
  },
  {
   "cell_type": "markdown",
   "id": "82c2a0b4",
   "metadata": {},
   "source": [
    "Задание 4: написать функцию для определения наибольшего числа (реализовать свой max)"
   ]
  },
  {
   "cell_type": "code",
   "execution_count": null,
   "id": "093b4f3a",
   "metadata": {},
   "outputs": [],
   "source": []
  },
  {
   "cell_type": "markdown",
   "id": "4419a07c",
   "metadata": {},
   "source": [
    "Задание 5: написать функцию, которая извлекает подстроку из строки без использования стандартных функций для работы со строкой"
   ]
  },
  {
   "cell_type": "code",
   "execution_count": null,
   "id": "52bb2365",
   "metadata": {},
   "outputs": [],
   "source": []
  },
  {
   "cell_type": "markdown",
   "id": "e0be0cfc",
   "metadata": {},
   "source": [
    "[список задач](https://habr.com/ru/companies/timeweb/articles/579080/)"
   ]
  },
  {
   "cell_type": "markdown",
   "id": "6b7c88e6",
   "metadata": {},
   "source": [
    "Задание 6: написать функцию, которая находит максимальное значение в списке (без использования функции max) и с использованием цикла while"
   ]
  },
  {
   "cell_type": "code",
   "execution_count": 1,
   "id": "0276ff0e",
   "metadata": {},
   "outputs": [],
   "source": [
    "list_ = [\n",
    "    [[12, 14, 10], [56, 78, 90]],\n",
    "    [[56, 32, 1, 10], [-1, 2, 67, 90]],\n",
    "    [[100, 102, 56], [78, 65, 43]]\n",
    "]\n",
    "\n",
    "def func(matrix):\n",
    "    pass"
   ]
  },
  {
   "cell_type": "markdown",
   "id": "7f4ba607",
   "metadata": {},
   "source": [
    "Задача 7: написать функцию, которая принимает список, отфильтровывает нечетные значения и возвращает True, если все четные > 0 иначе False"
   ]
  },
  {
   "cell_type": "code",
   "execution_count": 2,
   "id": "015c23c8",
   "metadata": {},
   "outputs": [],
   "source": [
    "def func(list_) -> bool:\n",
    "    return True"
   ]
  },
  {
   "cell_type": "markdown",
   "id": "11af0bb6",
   "metadata": {},
   "source": [
    "Задача 8: написать функцию, которая принимает в себя время в виде \"HH:mm:ss\" и считает, сколько всего секунд"
   ]
  },
  {
   "cell_type": "code",
   "execution_count": null,
   "id": "cc88c13b",
   "metadata": {},
   "outputs": [],
   "source": [
    "def func(time):\n",
    "    pass\n",
    "\n",
    "func(\"12:12:12\") # всего 43932 секнуд"
   ]
  },
  {
   "cell_type": "markdown",
   "id": "e7712e33",
   "metadata": {},
   "source": [
    "Задача 9: Даны два массива\n",
    "\n",
    "a = [1, 2, 3]\n",
    "\n",
    "b = [q, w, e]\n",
    "\n",
    "Надо сделать чтобы значения, а были ключами, а значения b — значениями дикта"
   ]
  },
  {
   "cell_type": "code",
   "execution_count": null,
   "id": "7ea20618",
   "metadata": {},
   "outputs": [],
   "source": []
  },
  {
   "cell_type": "markdown",
   "id": "bf667b6c",
   "metadata": {},
   "source": [
    "Задача 10: Найти три ключа с наибольшими значениями\n",
    "\n",
    "{'a':500, 'b':5874, 'c': 560,'d':400, 'e':5874, 'f': 20}"
   ]
  },
  {
   "cell_type": "code",
   "execution_count": null,
   "id": "e7705aea",
   "metadata": {},
   "outputs": [],
   "source": []
  }
 ],
 "metadata": {
  "kernelspec": {
   "display_name": "Python 3 (ipykernel)",
   "language": "python",
   "name": "python3"
  },
  "language_info": {
   "codemirror_mode": {
    "name": "ipython",
    "version": 3
   },
   "file_extension": ".py",
   "mimetype": "text/x-python",
   "name": "python",
   "nbconvert_exporter": "python",
   "pygments_lexer": "ipython3",
   "version": "3.10.6"
  }
 },
 "nbformat": 4,
 "nbformat_minor": 5
}
