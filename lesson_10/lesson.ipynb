{
 "cells": [
  {
   "cell_type": "markdown",
   "id": "ad0ed36f",
   "metadata": {},
   "source": [
    "# ООП. Часть 2"
   ]
  },
  {
   "cell_type": "markdown",
   "id": "46239074",
   "metadata": {},
   "source": [
    "## Статические методы\n",
    "\n",
    "\n",
    "для функций, которые не относятся к конкретным экземплярам класса\n",
    "\n",
    "- можем использовать для логического объединения функций\n",
    "- не принимает в себя self! (ссылку на экземпляр класса)\n",
    "- искользуются как вспомогательные функции, которые работают с данными, которые в них передают в качестве агрументов\n",
    "- не могут влиять на состояние класса или экземпляра"
   ]
  },
  {
   "cell_type": "code",
   "execution_count": 12,
   "id": "afa8bf00",
   "metadata": {},
   "outputs": [],
   "source": [
    "class Person:\n",
    "    \n",
    "    @staticmethod\n",
    "    def is_adult(age):\n",
    "        return age >= 18\n"
   ]
  },
  {
   "cell_type": "code",
   "execution_count": 13,
   "id": "9ad63d10",
   "metadata": {},
   "outputs": [
    {
     "name": "stdout",
     "output_type": "stream",
     "text": [
      "False\n"
     ]
    }
   ],
   "source": [
    "age = 17\n",
    "print(Person.is_adult(age))"
   ]
  },
  {
   "cell_type": "markdown",
   "id": "bbf8252c",
   "metadata": {},
   "source": [
    "## Методы класса\n",
    "\n",
    "- принимают в себя класс cls\n",
    "- метод привязан к классу, а не к экземпляру\n",
    "- могут менять состояние класса, а это в свою очередь может отразиться на всех объектах, но не могут менять конкретный объект"
   ]
  },
  {
   "cell_type": "code",
   "execution_count": 17,
   "id": "aedfd0c4",
   "metadata": {},
   "outputs": [],
   "source": [
    "from datetime import date\n",
    "\n",
    "\n",
    "class Person:\n",
    "    \n",
    "    def __init__(self, name, age):\n",
    "        self.name = name\n",
    "        self.age = age\n",
    "        \n",
    "    @classmethod\n",
    "    def from_birth_year(cls, name, year):\n",
    "        return cls(name, date.today().year - year)\n",
    "    \n",
    "    @staticmethod\n",
    "    def is_adult(age):\n",
    "        return age > 18\n",
    "    \n",
    "person1 = Person('Sarah', 25)\n",
    "person2 = Person.from_birth_year('Roark', 1994)"
   ]
  },
  {
   "cell_type": "code",
   "execution_count": 18,
   "id": "6043c36a",
   "metadata": {},
   "outputs": [
    {
     "data": {
      "text/plain": [
       "29"
      ]
     },
     "execution_count": 18,
     "metadata": {},
     "output_type": "execute_result"
    }
   ],
   "source": [
    "person2.age"
   ]
  },
  {
   "cell_type": "markdown",
   "id": "051d6d3f",
   "metadata": {},
   "source": [
    "### Паттерн singleton"
   ]
  },
  {
   "cell_type": "code",
   "execution_count": 21,
   "id": "8f946019",
   "metadata": {},
   "outputs": [],
   "source": [
    "class Singleton:\n",
    "    def __new__(cls): # new управляет созданием нового экземпляра класса\n",
    "        if not hasattr(cls, 'instance'):\n",
    "            cls.instance = super(Singleton, cls).__new__(cls)\n",
    "        return cls.instance\n",
    "\n",
    "singleton = Singleton()\n",
    "new_singleton = Singleton()"
   ]
  },
  {
   "cell_type": "code",
   "execution_count": 22,
   "id": "a3cbb55f",
   "metadata": {},
   "outputs": [],
   "source": [
    "singleton = Singleton()"
   ]
  },
  {
   "cell_type": "code",
   "execution_count": 23,
   "id": "59c6340d",
   "metadata": {},
   "outputs": [],
   "source": [
    "new_singleton = Singleton()"
   ]
  },
  {
   "cell_type": "code",
   "execution_count": 24,
   "id": "bd16064f",
   "metadata": {},
   "outputs": [
    {
     "data": {
      "text/plain": [
       "True"
      ]
     },
     "execution_count": 24,
     "metadata": {},
     "output_type": "execute_result"
    }
   ],
   "source": [
    "singleton == new_singleton"
   ]
  },
  {
   "cell_type": "markdown",
   "id": "e12d5dde",
   "metadata": {},
   "source": [
    "## Property\n",
    "\n",
    "когда хотим управлять доступом к атрибутам класса\n",
    "\n",
    "то есть обеспечивает интерфейс для атрибуетов экземпляра класса"
   ]
  },
  {
   "cell_type": "code",
   "execution_count": 35,
   "id": "e5eb930f",
   "metadata": {},
   "outputs": [],
   "source": [
    "class User:\n",
    "    def __init__(self, name, password):\n",
    "        self.name = name\n",
    "        self.password = password # тут вызываем password.setter\n",
    "        \n",
    "    @property\n",
    "    def password(self):\n",
    "        return f\"{self.__password.decode()[:2]}...{self.__password.decode()[-2:]}\"\n",
    "    \n",
    "    @password.setter\n",
    "    def password(self, password):\n",
    "        if len(password) < 8: # тут может быть логика по верификации\n",
    "            raise Exception(\"Недостаточная длина пароля.\")\n",
    "        self.__password = password.encode()\n",
    "    "
   ]
  },
  {
   "cell_type": "code",
   "execution_count": 36,
   "id": "2c4d35f3",
   "metadata": {},
   "outputs": [
    {
     "ename": "Exception",
     "evalue": "Недостаточная длина пароля.",
     "output_type": "error",
     "traceback": [
      "\u001b[0;31m---------------------------------------------------------------------------\u001b[0m",
      "\u001b[0;31mException\u001b[0m                                 Traceback (most recent call last)",
      "Cell \u001b[0;32mIn[36], line 1\u001b[0m\n\u001b[0;32m----> 1\u001b[0m user \u001b[38;5;241m=\u001b[39m \u001b[43mUser\u001b[49m\u001b[43m(\u001b[49m\u001b[43mname\u001b[49m\u001b[38;5;241;43m=\u001b[39;49m\u001b[38;5;124;43m\"\u001b[39;49m\u001b[38;5;124;43mLena\u001b[39;49m\u001b[38;5;124;43m\"\u001b[39;49m\u001b[43m,\u001b[49m\u001b[43m \u001b[49m\u001b[43mpassword\u001b[49m\u001b[38;5;241;43m=\u001b[39;49m\u001b[38;5;124;43m\"\u001b[39;49m\u001b[38;5;124;43m1234\u001b[39;49m\u001b[38;5;124;43m\"\u001b[39;49m\u001b[43m)\u001b[49m\n",
      "Cell \u001b[0;32mIn[35], line 4\u001b[0m, in \u001b[0;36mUser.__init__\u001b[0;34m(self, name, password)\u001b[0m\n\u001b[1;32m      2\u001b[0m \u001b[38;5;28;01mdef\u001b[39;00m \u001b[38;5;21m__init__\u001b[39m(\u001b[38;5;28mself\u001b[39m, name, password):\n\u001b[1;32m      3\u001b[0m     \u001b[38;5;28mself\u001b[39m\u001b[38;5;241m.\u001b[39mname \u001b[38;5;241m=\u001b[39m name\n\u001b[0;32m----> 4\u001b[0m     \u001b[38;5;28;43mself\u001b[39;49m\u001b[38;5;241;43m.\u001b[39;49m\u001b[43mpassword\u001b[49m \u001b[38;5;241m=\u001b[39m password\n",
      "Cell \u001b[0;32mIn[35], line 13\u001b[0m, in \u001b[0;36mUser.password\u001b[0;34m(self, password)\u001b[0m\n\u001b[1;32m     10\u001b[0m \u001b[38;5;129m@password\u001b[39m\u001b[38;5;241m.\u001b[39msetter\n\u001b[1;32m     11\u001b[0m \u001b[38;5;28;01mdef\u001b[39;00m \u001b[38;5;21mpassword\u001b[39m(\u001b[38;5;28mself\u001b[39m, password):\n\u001b[1;32m     12\u001b[0m     \u001b[38;5;28;01mif\u001b[39;00m \u001b[38;5;28mlen\u001b[39m(password) \u001b[38;5;241m<\u001b[39m \u001b[38;5;241m8\u001b[39m:\n\u001b[0;32m---> 13\u001b[0m         \u001b[38;5;28;01mraise\u001b[39;00m \u001b[38;5;167;01mException\u001b[39;00m(\u001b[38;5;124m\"\u001b[39m\u001b[38;5;124mНедостаточная длина пароля.\u001b[39m\u001b[38;5;124m\"\u001b[39m)\n\u001b[1;32m     14\u001b[0m     \u001b[38;5;28mself\u001b[39m\u001b[38;5;241m.\u001b[39m__password \u001b[38;5;241m=\u001b[39m password\u001b[38;5;241m.\u001b[39mencode()\n",
      "\u001b[0;31mException\u001b[0m: Недостаточная длина пароля."
     ]
    }
   ],
   "source": [
    "user = User(name=\"Lena\", password=\"1234\")"
   ]
  },
  {
   "cell_type": "code",
   "execution_count": 37,
   "id": "bbc72cd3",
   "metadata": {},
   "outputs": [],
   "source": [
    "user = User(name=\"Lena\", password=\"12345678\")"
   ]
  },
  {
   "cell_type": "code",
   "execution_count": 38,
   "id": "0f1f457c",
   "metadata": {},
   "outputs": [
    {
     "data": {
      "text/plain": [
       "'Lena'"
      ]
     },
     "execution_count": 38,
     "metadata": {},
     "output_type": "execute_result"
    }
   ],
   "source": [
    "user.name"
   ]
  },
  {
   "cell_type": "code",
   "execution_count": 39,
   "id": "8e95ed48",
   "metadata": {},
   "outputs": [
    {
     "data": {
      "text/plain": [
       "'12...78'"
      ]
     },
     "execution_count": 39,
     "metadata": {},
     "output_type": "execute_result"
    }
   ],
   "source": [
    "user.password"
   ]
  },
  {
   "cell_type": "code",
   "execution_count": 40,
   "id": "ba040177",
   "metadata": {},
   "outputs": [
    {
     "data": {
      "text/plain": [
       "b'12345678'"
      ]
     },
     "execution_count": 40,
     "metadata": {},
     "output_type": "execute_result"
    }
   ],
   "source": [
    "user._User__password"
   ]
  },
  {
   "cell_type": "markdown",
   "id": "150323e7",
   "metadata": {},
   "source": [
    "Задание: когда используем classmethod, а когда staticmethod?"
   ]
  },
  {
   "cell_type": "markdown",
   "id": "d384ba80",
   "metadata": {},
   "source": [
    "Задание: написать класс Animal, у которого есть name, animal_type и voice (то что говорит животное) - animal_type может быть только dog или cat, voice по дефолту None"
   ]
  },
  {
   "cell_type": "code",
   "execution_count": null,
   "id": "c3228890",
   "metadata": {},
   "outputs": [],
   "source": []
  },
  {
   "cell_type": "markdown",
   "id": "f2209854",
   "metadata": {},
   "source": [
    "добавить в этот класс метод, который умеет создавать животное с нужным voice, основываясь на его типе"
   ]
  },
  {
   "cell_type": "code",
   "execution_count": null,
   "id": "dd27f9ba",
   "metadata": {},
   "outputs": [],
   "source": []
  },
  {
   "cell_type": "markdown",
   "id": "5842e7e2",
   "metadata": {},
   "source": [
    "сделать так чтобы мы могли создать только 1 животное с определенным типом (одного кота, одну собачку)"
   ]
  },
  {
   "cell_type": "code",
   "execution_count": null,
   "id": "6bdf9958",
   "metadata": {},
   "outputs": [],
   "source": []
  },
  {
   "cell_type": "markdown",
   "id": "b8a57249",
   "metadata": {},
   "source": [
    "написать метод, который выводит на экран список допустимых животных"
   ]
  },
  {
   "cell_type": "code",
   "execution_count": null,
   "id": "39920190",
   "metadata": {},
   "outputs": [],
   "source": []
  },
  {
   "cell_type": "markdown",
   "id": "497379e5",
   "metadata": {},
   "source": [
    "## Метаклассы - фабрики классов\n",
    "\n",
    "Зачем?\n",
    "- можно динамически создавать классы, то есть автоматически изменять классы во время создания (например, мы хотим чтобы все классы в модуле или атрибуты в верхнем регистре)\n",
    "- возвращают классы\n",
    "- часто используются для реализации API типа Django\n",
    "- редко используется в обычной практике\n",
    "- могут создаваться при помощи функции type\n",
    "\n",
    "\n",
    "[статья](https://habr.com/ru/articles/145835/)"
   ]
  },
  {
   "cell_type": "code",
   "execution_count": 41,
   "id": "c79b5d86",
   "metadata": {},
   "outputs": [],
   "source": [
    "MyDymanicClass = type(\"MyDymanicClass\", (), {})"
   ]
  },
  {
   "cell_type": "code",
   "execution_count": 43,
   "id": "98e7a9d7",
   "metadata": {},
   "outputs": [
    {
     "data": {
      "text/plain": [
       "type"
      ]
     },
     "execution_count": 43,
     "metadata": {},
     "output_type": "execute_result"
    }
   ],
   "source": [
    "type(MyDymanicClass)"
   ]
  },
  {
   "cell_type": "code",
   "execution_count": 44,
   "id": "77fee15d",
   "metadata": {},
   "outputs": [],
   "source": [
    "MyDymanicClass = type(\"MyDymanicClass\", (), {\"attribute_example\": \"example\"})"
   ]
  },
  {
   "cell_type": "code",
   "execution_count": 45,
   "id": "7f637c9f",
   "metadata": {},
   "outputs": [],
   "source": [
    "my_dynamic_instance = MyDymanicClass()"
   ]
  },
  {
   "cell_type": "code",
   "execution_count": 46,
   "id": "3f0f6866",
   "metadata": {},
   "outputs": [
    {
     "data": {
      "text/plain": [
       "__main__.MyDymanicClass"
      ]
     },
     "execution_count": 46,
     "metadata": {},
     "output_type": "execute_result"
    }
   ],
   "source": [
    "type(my_dynamic_instance)"
   ]
  },
  {
   "cell_type": "code",
   "execution_count": 47,
   "id": "a3f52c24",
   "metadata": {},
   "outputs": [
    {
     "data": {
      "text/plain": [
       "'example'"
      ]
     },
     "execution_count": 47,
     "metadata": {},
     "output_type": "execute_result"
    }
   ],
   "source": [
    "my_dynamic_instance.attribute_example"
   ]
  },
  {
   "cell_type": "markdown",
   "id": "a4d4b0c9",
   "metadata": {},
   "source": [
    "Как это делается в реальной жизни"
   ]
  },
  {
   "cell_type": "code",
   "execution_count": null,
   "id": "5abd7a06",
   "metadata": {},
   "outputs": [],
   "source": [
    "class Foo:\n",
    "    __metaclass__ = something...    \n",
    "    [...]"
   ]
  },
  {
   "cell_type": "markdown",
   "id": "8fc05aba",
   "metadata": {},
   "source": [
    "## Дескрипторы \n",
    "\n",
    "[статья](https://pythonist.ru/deskriptory-v-python/)\n",
    "\n",
    "[руководство по дескрипторам](https://habr.com/ru/articles/122082/)"
   ]
  },
  {
   "cell_type": "markdown",
   "id": "526f8c34",
   "metadata": {},
   "source": [
    "## MRO - method resolution order\n",
    "\n",
    "порядок разрешения методов (и атрибутов)\n",
    "\n",
    "[порядок разрешения методов в python](https://habr.com/ru/articles/62203/)\n",
    "\n",
    "[и еще одна, возможно более понятная](https://tirinox.ru/mro-python/)"
   ]
  },
  {
   "cell_type": "code",
   "execution_count": 50,
   "id": "529dbc3b",
   "metadata": {},
   "outputs": [],
   "source": [
    "class Employee:    \n",
    "    @property\n",
    "    def responsibilities(self):\n",
    "        return [\"ходить в офис\", \"предоставлять отчеты\", \"работать с клиентами\"]\n",
    "    \n",
    "    \n",
    "class Parent:\n",
    "    @property\n",
    "    def responsibilities(self):\n",
    "        return [\"кормить ребенка\", \"следить за здоровьем\", \"играть\", \"развивать\"]\n",
    "    \n",
    "\n",
    "class Person(Employee, Parent): # какой тут приоритет?\n",
    "    pass"
   ]
  },
  {
   "cell_type": "code",
   "execution_count": 51,
   "id": "ce395952",
   "metadata": {},
   "outputs": [],
   "source": [
    "person = Person()"
   ]
  },
  {
   "cell_type": "code",
   "execution_count": null,
   "id": "97e693ca",
   "metadata": {},
   "outputs": [],
   "source": [
    "person.responsibilities"
   ]
  },
  {
   "cell_type": "code",
   "execution_count": 54,
   "id": "9db7c197",
   "metadata": {},
   "outputs": [
    {
     "data": {
      "text/plain": [
       "(__main__.Person, __main__.Employee, __main__.Parent, object)"
      ]
     },
     "execution_count": 54,
     "metadata": {},
     "output_type": "execute_result"
    }
   ],
   "source": [
    "Person.__mro__"
   ]
  },
  {
   "cell_type": "code",
   "execution_count": 56,
   "id": "bce500a7",
   "metadata": {},
   "outputs": [],
   "source": [
    "class Employee:    \n",
    "    @property\n",
    "    def responsibilities(self):\n",
    "        return [\"ходить в офис\", \"предоставлять отчеты\", \"работать с клиентами\"]\n",
    "    \n",
    "    \n",
    "class Parent:\n",
    "    @property\n",
    "    def responsibilities(self):\n",
    "        return [\"кормить ребенка\", \"следить за здоровьем\", \"играть\", \"развивать\"]\n",
    "    \n",
    "    @property\n",
    "    def featues(self):\n",
    "        return [\"есть маленький человек, который похож на тебя\"]\n",
    "    \n",
    "\n",
    "class Person(Employee, Parent):\n",
    "    pass"
   ]
  },
  {
   "cell_type": "code",
   "execution_count": 57,
   "id": "341dca08",
   "metadata": {},
   "outputs": [
    {
     "data": {
      "text/plain": [
       "['есть маленький человек, который похож на тебя']"
      ]
     },
     "execution_count": 57,
     "metadata": {},
     "output_type": "execute_result"
    }
   ],
   "source": [
    "person = Person()\n",
    "person.featues"
   ]
  },
  {
   "cell_type": "markdown",
   "id": "b439dc82",
   "metadata": {},
   "source": [
    "Задание: как явно вызвать родительский метод?"
   ]
  },
  {
   "cell_type": "code",
   "execution_count": null,
   "id": "cd890574",
   "metadata": {},
   "outputs": [],
   "source": []
  },
  {
   "cell_type": "markdown",
   "id": "8af54249",
   "metadata": {},
   "source": [
    "## Mixin - классы-примеси\n",
    "\n",
    "[пример](https://www.codecamp.ru/blog/python-mixins/)\n",
    "\n",
    "- предоставить множество дополнительных функций для класса;\n",
    "- использовать определённую функцию во множестве разных классов."
   ]
  },
  {
   "cell_type": "code",
   "execution_count": 12,
   "id": "58b251d0",
   "metadata": {},
   "outputs": [],
   "source": [
    "class YandexMusicMixin:\n",
    "    \n",
    "    def play_yandex_music(self):\n",
    "        print(\"сейчас играет подборка дня\")\n",
    "        \n",
    "        \n",
    "class Station:\n",
    "    def __init__(self):\n",
    "        self.is_off = True\n",
    "    \n",
    "    def turn_on(self):\n",
    "        self.is_off = False\n",
    "        \n",
    "    def turn_off(self):\n",
    "        self.is_off = True\n",
    "    \n",
    "    \n",
    "class YandexStation(Station, YandexMusicMixin):\n",
    "    pass\n",
    "\n",
    "\n",
    "class Phone(YandexMusicMixin):\n",
    "    def __init__(self, model):\n",
    "        self.model = model\n",
    "        \n",
    "        \n",
    "class GooglePixel(Phone, YandexMusicMixin):\n",
    "    pass"
   ]
  },
  {
   "cell_type": "code",
   "execution_count": 13,
   "id": "e398eec2",
   "metadata": {},
   "outputs": [
    {
     "name": "stdout",
     "output_type": "stream",
     "text": [
      "сейчас играет подборка дня\n"
     ]
    }
   ],
   "source": [
    "yandex_station = YandexStation()\n",
    "yandex_station.play_yandex_music()"
   ]
  },
  {
   "cell_type": "code",
   "execution_count": 14,
   "id": "7fd3709d",
   "metadata": {},
   "outputs": [],
   "source": [
    "yandex_station.turn_off()"
   ]
  },
  {
   "cell_type": "code",
   "execution_count": 15,
   "id": "332048d8",
   "metadata": {},
   "outputs": [
    {
     "data": {
      "text/plain": [
       "True"
      ]
     },
     "execution_count": 15,
     "metadata": {},
     "output_type": "execute_result"
    }
   ],
   "source": [
    "yandex_station.is_off"
   ]
  },
  {
   "cell_type": "code",
   "execution_count": 16,
   "id": "7d35e2e7",
   "metadata": {},
   "outputs": [
    {
     "data": {
      "text/plain": [
       "'pixel 6'"
      ]
     },
     "execution_count": 16,
     "metadata": {},
     "output_type": "execute_result"
    }
   ],
   "source": [
    "pixel = GooglePixel(\"pixel 6\")\n",
    "pixel.model"
   ]
  },
  {
   "cell_type": "code",
   "execution_count": 17,
   "id": "0815bba2",
   "metadata": {},
   "outputs": [
    {
     "name": "stdout",
     "output_type": "stream",
     "text": [
      "сейчас играет подборка дня\n"
     ]
    }
   ],
   "source": [
    "pixel.play_yandex_music()"
   ]
  },
  {
   "cell_type": "markdown",
   "id": "8681c57e",
   "metadata": {},
   "source": [
    "## Абстрактные классы / методы\n",
    "\n",
    "[ссылка](http://pythonicway.com/education/python-oop-themes/33-python-abstract-class)\n",
    "\n",
    "- нужны для того чтобы определить интерфейс и сказать что все дочерние классы должны его реализовать\n",
    "- нельзя создать экземпляр абстрактного класса\n",
    "- нельзя создать экземпляр класса с нереализованными абстрактными методами"
   ]
  },
  {
   "cell_type": "code",
   "execution_count": 1,
   "id": "9821b7b2",
   "metadata": {},
   "outputs": [],
   "source": [
    "from abc import ABC, abstractmethod\n",
    "\n",
    "class Animal(ABC):\n",
    "    def __init__(self, name):\n",
    "        self.name = name\n",
    "    \n",
    "    @abstractmethod\n",
    "    def make_sound(self):\n",
    "        pass"
   ]
  },
  {
   "cell_type": "code",
   "execution_count": 2,
   "id": "0e658fd7",
   "metadata": {},
   "outputs": [
    {
     "name": "stdout",
     "output_type": "stream",
     "text": [
      "meow\n"
     ]
    },
    {
     "data": {
      "text/plain": [
       "'Kacпер'"
      ]
     },
     "execution_count": 2,
     "metadata": {},
     "output_type": "execute_result"
    }
   ],
   "source": [
    "class Cat(Animal):\n",
    "    \n",
    "    def make_sound(self):\n",
    "        print(\"meow\")\n",
    "        \n",
    "cat = Cat(\"Kacпер\")\n",
    "cat.make_sound()\n",
    "cat.name"
   ]
  },
  {
   "cell_type": "code",
   "execution_count": 3,
   "id": "0713e6da",
   "metadata": {},
   "outputs": [
    {
     "ename": "TypeError",
     "evalue": "Can't instantiate abstract class Animal with abstract method make_sound",
     "output_type": "error",
     "traceback": [
      "\u001b[0;31m---------------------------------------------------------------------------\u001b[0m",
      "\u001b[0;31mTypeError\u001b[0m                                 Traceback (most recent call last)",
      "Cell \u001b[0;32mIn[3], line 1\u001b[0m\n\u001b[0;32m----> 1\u001b[0m animal \u001b[38;5;241m=\u001b[39m \u001b[43mAnimal\u001b[49m\u001b[43m(\u001b[49m\u001b[38;5;124;43m\"\u001b[39;49m\u001b[38;5;124;43mrandom animal\u001b[39;49m\u001b[38;5;124;43m\"\u001b[39;49m\u001b[43m)\u001b[49m\n",
      "\u001b[0;31mTypeError\u001b[0m: Can't instantiate abstract class Animal with abstract method make_sound"
     ]
    }
   ],
   "source": [
    "animal = Animal(\"random animal\")"
   ]
  },
  {
   "cell_type": "code",
   "execution_count": 4,
   "id": "4714c50d",
   "metadata": {},
   "outputs": [
    {
     "ename": "TypeError",
     "evalue": "Can't instantiate abstract class Dog with abstract method make_sound",
     "output_type": "error",
     "traceback": [
      "\u001b[0;31m---------------------------------------------------------------------------\u001b[0m",
      "\u001b[0;31mTypeError\u001b[0m                                 Traceback (most recent call last)",
      "Cell \u001b[0;32mIn[4], line 4\u001b[0m\n\u001b[1;32m      1\u001b[0m \u001b[38;5;28;01mclass\u001b[39;00m \u001b[38;5;21;01mDog\u001b[39;00m(Animal):\n\u001b[1;32m      2\u001b[0m     \u001b[38;5;28;01mpass\u001b[39;00m\n\u001b[0;32m----> 4\u001b[0m dog \u001b[38;5;241m=\u001b[39m \u001b[43mDog\u001b[49m\u001b[43m(\u001b[49m\u001b[38;5;124;43m\"\u001b[39;49m\u001b[38;5;124;43mКексик\u001b[39;49m\u001b[38;5;124;43m\"\u001b[39;49m\u001b[43m)\u001b[49m\n",
      "\u001b[0;31mTypeError\u001b[0m: Can't instantiate abstract class Dog with abstract method make_sound"
     ]
    }
   ],
   "source": [
    "class Dog(Animal):\n",
    "    pass\n",
    "\n",
    "dog = Dog(\"Кексик\")"
   ]
  },
  {
   "cell_type": "markdown",
   "id": "9a18fef1",
   "metadata": {},
   "source": [
    "Можно самостоятельно реализовать:"
   ]
  },
  {
   "cell_type": "code",
   "execution_count": 7,
   "id": "cbfae506",
   "metadata": {},
   "outputs": [],
   "source": [
    "class Animal:\n",
    "    def __init__(self, name):\n",
    "        self.name = name\n",
    "    \n",
    "    def make_sound(self):\n",
    "        raise NotImplementedError(\"метод make_sound должен быть реализован в дочерних классах!\")\n",
    "        \n",
    "class Dog(Animal):\n",
    "    pass\n",
    "\n",
    "dog = Dog(\"Кексик\")"
   ]
  },
  {
   "cell_type": "code",
   "execution_count": 8,
   "id": "a657cb5d",
   "metadata": {},
   "outputs": [
    {
     "ename": "NotImplementedError",
     "evalue": "метод make_sound должен быть реализован в дочерних классах!",
     "output_type": "error",
     "traceback": [
      "\u001b[0;31m---------------------------------------------------------------------------\u001b[0m",
      "\u001b[0;31mNotImplementedError\u001b[0m                       Traceback (most recent call last)",
      "Cell \u001b[0;32mIn[8], line 1\u001b[0m\n\u001b[0;32m----> 1\u001b[0m \u001b[43mdog\u001b[49m\u001b[38;5;241;43m.\u001b[39;49m\u001b[43mmake_sound\u001b[49m\u001b[43m(\u001b[49m\u001b[43m)\u001b[49m\n",
      "Cell \u001b[0;32mIn[7], line 6\u001b[0m, in \u001b[0;36mAnimal.make_sound\u001b[0;34m(self)\u001b[0m\n\u001b[1;32m      5\u001b[0m \u001b[38;5;28;01mdef\u001b[39;00m \u001b[38;5;21mmake_sound\u001b[39m(\u001b[38;5;28mself\u001b[39m):\n\u001b[0;32m----> 6\u001b[0m     \u001b[38;5;28;01mraise\u001b[39;00m \u001b[38;5;167;01mNotImplementedError\u001b[39;00m(\u001b[38;5;124m\"\u001b[39m\u001b[38;5;124mметод make_sound должен быть реализован в дочерних классах!\u001b[39m\u001b[38;5;124m\"\u001b[39m)\n",
      "\u001b[0;31mNotImplementedError\u001b[0m: метод make_sound должен быть реализован в дочерних классах!"
     ]
    }
   ],
   "source": [
    "dog.make_sound()"
   ]
  },
  {
   "cell_type": "code",
   "execution_count": null,
   "id": "98394428",
   "metadata": {},
   "outputs": [],
   "source": []
  },
  {
   "cell_type": "code",
   "execution_count": null,
   "id": "cc7ab47f",
   "metadata": {},
   "outputs": [],
   "source": []
  },
  {
   "cell_type": "markdown",
   "id": "70704dea",
   "metadata": {},
   "source": [
    "## Менеджер контекста - with\n",
    "\n",
    "\n",
    "- можно написать свой, для этого нужно реализовать методы __ enter __ , __ exit __ \n",
    "- нужны для того чтобы выделять и освобождать ресурсы строго по необходимости (и не забыть что-то открыть или закрыть)\n",
    "\n",
    "[почитать](https://pavel-karateev.gitbook.io/intermediate-python/sintaksis/context_managers)"
   ]
  },
  {
   "cell_type": "code",
   "execution_count": 10,
   "id": "bf060b97",
   "metadata": {},
   "outputs": [],
   "source": [
    "class File:\n",
    "    def __init__(self, file_name, method):\n",
    "        self.file_obj = open(file_name, method)\n",
    "        \n",
    "    def __enter__(self):\n",
    "            return self.file_obj\n",
    "        \n",
    "    def __exit__(self, type, value, traceback):\n",
    "        self.file_obj.close()"
   ]
  },
  {
   "cell_type": "code",
   "execution_count": 11,
   "id": "7f61ad1e",
   "metadata": {},
   "outputs": [],
   "source": [
    "with File('demo.txt', 'w') as opened_file:\n",
    "    opened_file.write('Hola!')"
   ]
  },
  {
   "cell_type": "code",
   "execution_count": null,
   "id": "246305ab",
   "metadata": {},
   "outputs": [],
   "source": []
  }
 ],
 "metadata": {
  "kernelspec": {
   "display_name": "Python 3 (ipykernel)",
   "language": "python",
   "name": "python3"
  },
  "language_info": {
   "codemirror_mode": {
    "name": "ipython",
    "version": 3
   },
   "file_extension": ".py",
   "mimetype": "text/x-python",
   "name": "python",
   "nbconvert_exporter": "python",
   "pygments_lexer": "ipython3",
   "version": "3.10.6"
  }
 },
 "nbformat": 4,
 "nbformat_minor": 5
}
