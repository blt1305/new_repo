{
 "cells": [
  {
   "cell_type": "markdown",
   "id": "e9345b65",
   "metadata": {},
   "source": [
    "# Занятие 4"
   ]
  },
  {
   "cell_type": "markdown",
   "id": "a822ddf7",
   "metadata": {},
   "source": [
    "### Формы операторов присваивания"
   ]
  },
  {
   "cell_type": "code",
   "execution_count": 15,
   "id": "11e7bcbf",
   "metadata": {},
   "outputs": [],
   "source": [
    "# каноническая\n",
    "example = \"example\""
   ]
  },
  {
   "cell_type": "code",
   "execution_count": 23,
   "id": "a208c07f",
   "metadata": {},
   "outputs": [
    {
     "data": {
      "text/plain": [
       "2"
      ]
     },
     "execution_count": 23,
     "metadata": {},
     "output_type": "execute_result"
    }
   ],
   "source": [
    "# комбинированное присваивание\n",
    "n = 1\n",
    "n += 1\n",
    "n"
   ]
  },
  {
   "cell_type": "code",
   "execution_count": 3,
   "id": "f1e9a273",
   "metadata": {},
   "outputs": [
    {
     "name": "stdout",
     "output_type": "stream",
     "text": [
      "a = 1, b = 2, c=3\n"
     ]
    }
   ],
   "source": [
    "# присваивание кортежей (позиционное)\n",
    "a, b, c = 1, 2, 3\n",
    "print(f\"a = {a}, b = {b}, c={c}\")"
   ]
  },
  {
   "cell_type": "code",
   "execution_count": 18,
   "id": "fc450a93",
   "metadata": {},
   "outputs": [
    {
     "name": "stdout",
     "output_type": "stream",
     "text": [
      "a = 1, b = 2, c = 3, d = 4\n"
     ]
    }
   ],
   "source": [
    "# присваивание последовательностей\n",
    "a, b, c, d = [1, 2, 3, 4]\n",
    "print(f\"a = {a}, b = {b}, c = {c}, d = {d}\")"
   ]
  },
  {
   "cell_type": "code",
   "execution_count": 4,
   "id": "dff205fc",
   "metadata": {},
   "outputs": [
    {
     "name": "stdout",
     "output_type": "stream",
     "text": [
      "a = 1, b = 2, c = [3, 4, 5]\n"
     ]
    }
   ],
   "source": [
    "# расширенная операция распаковки последовательности\n",
    "a, b, *c = [1, 2, 3, 4, 5]\n",
    "print(f\"a = {a}, b = {b}, c = {c}\")"
   ]
  },
  {
   "cell_type": "code",
   "execution_count": 12,
   "id": "84bc7293",
   "metadata": {},
   "outputs": [
    {
     "name": "stdout",
     "output_type": "stream",
     "text": [
      "a = 1, b = 2, c = [3, [4, 5]]\n"
     ]
    }
   ],
   "source": [
    "# или\n",
    "a, b, *c = (1, 2, 3, [4, 5])\n",
    "print(f\"a = {a}, b = {b}, c = {c}\")"
   ]
  },
  {
   "cell_type": "code",
   "execution_count": 11,
   "id": "d1cdc352",
   "metadata": {},
   "outputs": [
    {
     "data": {
      "text/plain": [
       "'a = a, b = [2, 3], c = [4, 5]'"
      ]
     },
     "execution_count": 11,
     "metadata": {},
     "output_type": "execute_result"
    }
   ],
   "source": [
    "string = f\"a = {a}, b = {b}, c = {c}\"\n",
    "string"
   ]
  },
  {
   "cell_type": "code",
   "execution_count": 14,
   "id": "fbb66196",
   "metadata": {},
   "outputs": [
    {
     "name": "stdout",
     "output_type": "stream",
     "text": [
      "a = 1, b = [2, 3], c = 8\n"
     ]
    }
   ],
   "source": [
    "# или\n",
    "a, *b, c = (1, 2, 3, 8)\n",
    "print(f\"a = {a}, b = {b}, c = {c}\")"
   ]
  },
  {
   "cell_type": "code",
   "execution_count": 16,
   "id": "3fb5e8d5",
   "metadata": {},
   "outputs": [
    {
     "name": "stdout",
     "output_type": "stream",
     "text": [
      "a = 1, b = 2, _ = [3, [4, 5]]\n"
     ]
    }
   ],
   "source": [
    "# если нам нужны только первые значения, то обычно остальное записывается в переменную _\n",
    "a, b, *_ = (1, 2, 3, [4, 5])\n",
    "print(f\"a = {a}, b = {b}, _ = {_}\")"
   ]
  },
  {
   "cell_type": "code",
   "execution_count": 17,
   "id": "abaa36ed",
   "metadata": {},
   "outputs": [
    {
     "name": "stdout",
     "output_type": "stream",
     "text": [
      "a = [1, 2, 3], b = [1, 2, 3]\n"
     ]
    }
   ],
   "source": [
    "# групповое присвоение одного значения\n",
    "a = b = [1, 2, 3]\n",
    "print(f\"a = {a}, b = {b}\")"
   ]
  },
  {
   "cell_type": "code",
   "execution_count": 26,
   "id": "eb4f6e4e",
   "metadata": {},
   "outputs": [
    {
     "name": "stdout",
     "output_type": "stream",
     "text": [
      "a = 2, b = 1\n"
     ]
    }
   ],
   "source": [
    "# обмен значениями\n",
    "a = 1\n",
    "b = 2\n",
    "a, b = b, a\n",
    "print(f\"a = {a}, b = {b}\")"
   ]
  },
  {
   "cell_type": "markdown",
   "id": "97267d7b",
   "metadata": {},
   "source": [
    "Задание: есть set = {24, 27, 56, 34}, записать 24 в переменную a, 27 в b"
   ]
  },
  {
   "cell_type": "code",
   "execution_count": 22,
   "id": "7752c8b8",
   "metadata": {},
   "outputs": [
    {
     "name": "stdout",
     "output_type": "stream",
     "text": [
      "a = 24, b = [56, 27], _ = 34\n"
     ]
    }
   ],
   "source": [
    "set_ = {24, 27, 56, 34}\n",
    "a, b, *_ = set_\n",
    "print(f\"a = {a}, b = {b}, _ = {_}\")"
   ]
  },
  {
   "cell_type": "code",
   "execution_count": 23,
   "id": "f4dc8be6",
   "metadata": {},
   "outputs": [
    {
     "name": "stdout",
     "output_type": "stream",
     "text": [
      "a = 24, b = 27, _ = 34\n"
     ]
    }
   ],
   "source": [
    "set_ = {24, 27, 56, 34}\n",
    "a, _, b, _ = set_\n",
    "print(f\"a = {a}, b = {b}, _ = {_}\")"
   ]
  },
  {
   "cell_type": "markdown",
   "id": "e5263277",
   "metadata": {},
   "source": [
    "Задание: записать первые три значения списка в переменные"
   ]
  },
  {
   "cell_type": "code",
   "execution_count": 20,
   "id": "631b2e56",
   "metadata": {},
   "outputs": [
    {
     "name": "stdout",
     "output_type": "stream",
     "text": [
      "a = 1, b = 2, c = 3, _ = [4, 5]\n"
     ]
    }
   ],
   "source": [
    "list_ = [1, 2, 3, 4, 5]\n",
    "a, b, c, *_ = list_\n",
    "print(f\"a = {a}, b = {b}, c = {c}, _ = {_}\")"
   ]
  },
  {
   "cell_type": "markdown",
   "id": "e05bac34",
   "metadata": {},
   "source": [
    "Задание: поменять значения a=3, b=4"
   ]
  },
  {
   "cell_type": "code",
   "execution_count": 21,
   "id": "41c62c42",
   "metadata": {},
   "outputs": [
    {
     "name": "stdout",
     "output_type": "stream",
     "text": [
      "a = 3, b = 4\n"
     ]
    }
   ],
   "source": [
    "a = 4\n",
    "b = 3\n",
    "a, b = b, a\n",
    "print(f\"a = {a}, b = {b}\")"
   ]
  },
  {
   "cell_type": "markdown",
   "id": "cfc82e4e",
   "metadata": {},
   "source": [
    "# [Функции](https://pythonworld.ru/tipy-dannyx-v-python/vse-o-funkciyax-i-ix-argumentax.html)"
   ]
  },
  {
   "cell_type": "markdown",
   "id": "d8e51776",
   "metadata": {},
   "source": [
    "### Что такое объект\n",
    "\n",
    "Объект в python это все что угодно, то есть все в python является объектом, например, число, строка, список, функция и тд"
   ]
  },
  {
   "cell_type": "markdown",
   "id": "d83b3104",
   "metadata": {},
   "source": [
    "### Что такое функция\n",
    "\n",
    "Функция - объект, принимающий аргументы и возвращающий значения, определается при помощи ключевого слова **def**\n",
    "\n",
    "! Правила именования такие же как и для переменных - snake_case"
   ]
  },
  {
   "cell_type": "code",
   "execution_count": 27,
   "id": "e1ba6187",
   "metadata": {},
   "outputs": [
    {
     "name": "stdout",
     "output_type": "stream",
     "text": [
      "Hi\n",
      "Hello world!\n",
      "Hello world!\n",
      "Hello world!\n",
      "Hello world!\n"
     ]
    }
   ],
   "source": [
    "def say_hello():\n",
    "    print(\"Hello world!\")\n",
    "    \n",
    "print(\"Hi\")\n",
    "say_hello()\n",
    "say_hello()\n",
    "say_hello()\n",
    "say_hello()"
   ]
  },
  {
   "cell_type": "code",
   "execution_count": 33,
   "id": "ece258cb",
   "metadata": {},
   "outputs": [],
   "source": [
    "def say_welcome_message(name):\n",
    "    return f\"Hello {name}\""
   ]
  },
  {
   "cell_type": "code",
   "execution_count": 34,
   "id": "7df88c80",
   "metadata": {},
   "outputs": [
    {
     "name": "stdout",
     "output_type": "stream",
     "text": [
      "Hello Mary\n"
     ]
    }
   ],
   "source": [
    "message = say_welcome_message(\"Mary\")\n",
    "print(message)"
   ]
  },
  {
   "cell_type": "code",
   "execution_count": 11,
   "id": "ac832e84",
   "metadata": {},
   "outputs": [
    {
     "name": "stdout",
     "output_type": "stream",
     "text": [
      "Hello Bree\n"
     ]
    }
   ],
   "source": [
    "woman = {\n",
    "    \"name\": \"Bree\",\n",
    "    \"age\": 44\n",
    "}\n",
    "message = say_welcome_message(woman[\"name\"])\n",
    "print(message)"
   ]
  },
  {
   "cell_type": "markdown",
   "id": "7da1fd1f",
   "metadata": {},
   "source": [
    "## Как вызывать функию"
   ]
  },
  {
   "cell_type": "markdown",
   "id": "9cdd894c",
   "metadata": {},
   "source": [
    "**Аргументы**"
   ]
  },
  {
   "cell_type": "code",
   "execution_count": 41,
   "id": "0aa2c037",
   "metadata": {},
   "outputs": [
    {
     "name": "stdout",
     "output_type": "stream",
     "text": [
      "Hello Mary\n"
     ]
    }
   ],
   "source": [
    "def say_welcome_message(name):\n",
    "    return f\"Hello {name}\"\n",
    "\n",
    "message = say_welcome_message(\"Mary\")\n",
    "print(message)"
   ]
  },
  {
   "cell_type": "markdown",
   "id": "7ffcfff5",
   "metadata": {},
   "source": [
    "**Аргументы по умолчанию**"
   ]
  },
  {
   "cell_type": "code",
   "execution_count": 37,
   "id": "9e5dd4df",
   "metadata": {},
   "outputs": [
    {
     "name": "stdout",
     "output_type": "stream",
     "text": [
      "Hi Mary\n"
     ]
    }
   ],
   "source": [
    "def say_welcome_message(name, hi_message = \"Hi\"):\n",
    "    return f\"{hi_message} {name}\"\n",
    "\n",
    "message = say_welcome_message(\"Mary\")\n",
    "print(message)"
   ]
  },
  {
   "cell_type": "code",
   "execution_count": 39,
   "id": "173f92a5",
   "metadata": {},
   "outputs": [
    {
     "name": "stdout",
     "output_type": "stream",
     "text": [
      "Hello Mary\n"
     ]
    }
   ],
   "source": [
    "message = say_welcome_message(\"Mary\", \"Hello\")\n",
    "print(message)"
   ]
  },
  {
   "cell_type": "markdown",
   "id": "ad937e1c",
   "metadata": {},
   "source": [
    "**Именованные аргументы**\n",
    "\n",
    "нужны для того чтобы не приходилось учитывать порядок передачи аргументов в функцию"
   ]
  },
  {
   "cell_type": "code",
   "execution_count": 4,
   "id": "c23e0b9b",
   "metadata": {},
   "outputs": [
    {
     "name": "stdout",
     "output_type": "stream",
     "text": [
      "hi Mary\n"
     ]
    }
   ],
   "source": [
    "message = say_welcome_message(hi_message=\"hi\", name=\"Mary\")\n",
    "print(message)"
   ]
  },
  {
   "cell_type": "markdown",
   "id": "e9cec526",
   "metadata": {},
   "source": [
    "**Сбор аргументов в кортеж**"
   ]
  },
  {
   "cell_type": "code",
   "execution_count": 46,
   "id": "7481b35b",
   "metadata": {},
   "outputs": [
    {
     "name": "stdout",
     "output_type": "stream",
     "text": [
      "(1, 2, 3, 4, 5)\n",
      "15\n"
     ]
    }
   ],
   "source": [
    "def func(*args):\n",
    "    print(args)\n",
    "    print(sum(args))\n",
    "    \n",
    "\n",
    "func(1, 2, 3, 4, 5)"
   ]
  },
  {
   "cell_type": "code",
   "execution_count": 43,
   "id": "c3623076",
   "metadata": {},
   "outputs": [
    {
     "data": {
      "text/plain": [
       "90"
      ]
     },
     "execution_count": 43,
     "metadata": {},
     "output_type": "execute_result"
    }
   ],
   "source": [
    "max(1, 2, 3, 90, -10, 3)"
   ]
  },
  {
   "cell_type": "markdown",
   "id": "de546987",
   "metadata": {},
   "source": [
    "**Сбор аргументов в словарь**"
   ]
  },
  {
   "cell_type": "code",
   "execution_count": 7,
   "id": "0c106b49",
   "metadata": {},
   "outputs": [
    {
     "name": "stdout",
     "output_type": "stream",
     "text": [
      "{'a': 1, 'b': 2, 'c': 3}\n"
     ]
    }
   ],
   "source": [
    "def func(**kwargs):\n",
    "    print(kwargs)\n",
    "    \n",
    "\n",
    "func(a=1, b=2, c=3)"
   ]
  },
  {
   "cell_type": "code",
   "execution_count": 47,
   "id": "4e6f094e",
   "metadata": {},
   "outputs": [
    {
     "ename": "TypeError",
     "evalue": "func() takes 0 positional arguments but 3 were given",
     "output_type": "error",
     "traceback": [
      "\u001b[1;31m---------------------------------------------------------------------------\u001b[0m",
      "\u001b[1;31mTypeError\u001b[0m                                 Traceback (most recent call last)",
      "Cell \u001b[1;32mIn[47], line 5\u001b[0m\n\u001b[0;32m      1\u001b[0m \u001b[38;5;28;01mdef\u001b[39;00m \u001b[38;5;21mfunc\u001b[39m(\u001b[38;5;241m*\u001b[39m\u001b[38;5;241m*\u001b[39mkwargs):\n\u001b[0;32m      2\u001b[0m     \u001b[38;5;28mprint\u001b[39m(kwargs)\n\u001b[1;32m----> 5\u001b[0m \u001b[43mfunc\u001b[49m\u001b[43m(\u001b[49m\u001b[38;5;241;43m1\u001b[39;49m\u001b[43m,\u001b[49m\u001b[43m \u001b[49m\u001b[38;5;241;43m2\u001b[39;49m\u001b[43m,\u001b[49m\u001b[43m \u001b[49m\u001b[38;5;241;43m3\u001b[39;49m\u001b[43m)\u001b[49m\n",
      "\u001b[1;31mTypeError\u001b[0m: func() takes 0 positional arguments but 3 were given"
     ]
    }
   ],
   "source": [
    "def func(**kwargs):\n",
    "    print(kwargs)\n",
    "    \n",
    "\n",
    "func(1, 2, 3)"
   ]
  },
  {
   "cell_type": "markdown",
   "id": "0d5a80af",
   "metadata": {},
   "source": [
    "**Обобщенное определение функции**"
   ]
  },
  {
   "cell_type": "code",
   "execution_count": 51,
   "id": "ae9cbe78",
   "metadata": {},
   "outputs": [
    {
     "name": "stdout",
     "output_type": "stream",
     "text": [
      "3\n",
      "args = (1, 4, 3, [1, 2, 3])\n",
      "kwargs = {'name': 'Mary', 'age': 23}\n"
     ]
    }
   ],
   "source": [
    "def func(*args, **kwargs):\n",
    "    print(args[2])\n",
    "    print(f\"args = {args}\")\n",
    "    print(f\"kwargs = {kwargs}\")\n",
    "    \n",
    "a = 4\n",
    "func(1, a, 3, [1, 2, 3], name=\"Mary\", age=23)"
   ]
  },
  {
   "cell_type": "code",
   "execution_count": 48,
   "id": "a43cc22a",
   "metadata": {},
   "outputs": [
    {
     "ename": "SyntaxError",
     "evalue": "positional argument follows keyword argument (2637521345.py, line 1)",
     "output_type": "error",
     "traceback": [
      "\u001b[1;36m  Cell \u001b[1;32mIn[48], line 1\u001b[1;36m\u001b[0m\n\u001b[1;33m    func(a=2, 1, 2)\u001b[0m\n\u001b[1;37m                  ^\u001b[0m\n\u001b[1;31mSyntaxError\u001b[0m\u001b[1;31m:\u001b[0m positional argument follows keyword argument\n"
     ]
    }
   ],
   "source": [
    "func(a=2, 1, 2)"
   ]
  },
  {
   "cell_type": "code",
   "execution_count": 62,
   "id": "9871bb2a",
   "metadata": {},
   "outputs": [
    {
     "name": "stdout",
     "output_type": "stream",
     "text": [
      "title = 1\n",
      "args = (2, 3, 'title')\n",
      "kwargs = {'name': 'Mary', 'age': 23}\n"
     ]
    }
   ],
   "source": [
    "def func(title, *args, **kwargs):\n",
    "    print(f\"title = {title}\")\n",
    "    print(f\"args = {args}\")\n",
    "    print(f\"kwargs = {kwargs}\")\n",
    "    \n",
    "#func(1)\n",
    "#func()\n",
    "func(1, 2, 3, \"title\", name=\"Mary\", age=23)"
   ]
  },
  {
   "cell_type": "markdown",
   "id": "cf7524ab",
   "metadata": {},
   "source": [
    "Задание: объявить функцию, которая принимает обязательный параметр name, а age - необязательный параметр"
   ]
  },
  {
   "cell_type": "code",
   "execution_count": 65,
   "id": "fb29089b",
   "metadata": {},
   "outputs": [
    {
     "name": "stdout",
     "output_type": "stream",
     "text": [
      "name Kate, age None\n",
      "name Kate, age None\n"
     ]
    }
   ],
   "source": [
    "def func(name, age=None):\n",
    "    print(f\"name {name}, age {age}\")\n",
    "    return f\"name {name}, age {age}\"\n",
    "\n",
    "message = func(\"Kate\")\n",
    "print(message)"
   ]
  },
  {
   "cell_type": "code",
   "execution_count": 64,
   "id": "5327283c",
   "metadata": {},
   "outputs": [
    {
     "name": "stdout",
     "output_type": "stream",
     "text": [
      "name Kate, age 23\n"
     ]
    }
   ],
   "source": [
    "func(\"Kate\", 23)"
   ]
  },
  {
   "cell_type": "code",
   "execution_count": 67,
   "id": "25cb162a",
   "metadata": {},
   "outputs": [
    {
     "name": "stdout",
     "output_type": "stream",
     "text": [
      "name Kate, \n"
     ]
    }
   ],
   "source": [
    "def func(name, *args):\n",
    "    print(f\"name {name}, \")\n",
    "\n",
    "func(\"Kate\")"
   ]
  },
  {
   "cell_type": "markdown",
   "id": "2d29842f",
   "metadata": {},
   "source": [
    "Задание: объявить функцию, которая принимает любое количество неименованных агрументов"
   ]
  },
  {
   "cell_type": "code",
   "execution_count": 69,
   "id": "6b903e09",
   "metadata": {},
   "outputs": [
    {
     "name": "stdout",
     "output_type": "stream",
     "text": [
      "(1, 2, {'name': 'name'})\n"
     ]
    }
   ],
   "source": [
    "def func(*args):\n",
    "    print(args)\n",
    "\n",
    "func(1, 2, {\"name\": \"name\"})"
   ]
  },
  {
   "cell_type": "markdown",
   "id": "c718d635",
   "metadata": {},
   "source": [
    "Задание: объявить функцию, которая принимает любое количество именованных агрументов"
   ]
  },
  {
   "cell_type": "code",
   "execution_count": 72,
   "id": "788dc12f",
   "metadata": {},
   "outputs": [
    {
     "name": "stdout",
     "output_type": "stream",
     "text": [
      "{'age': 5, 'sex': 'male'}\n"
     ]
    }
   ],
   "source": [
    "def func(**kwargs):\n",
    "    print(kwargs)\n",
    "\n",
    "func(age=5, sex=\"male\")"
   ]
  },
  {
   "cell_type": "markdown",
   "id": "f6bdf158",
   "metadata": {},
   "source": [
    "Задание: объявить функцию, которая принимает в себя любые аргументы"
   ]
  },
  {
   "cell_type": "code",
   "execution_count": 83,
   "id": "74615f6d",
   "metadata": {},
   "outputs": [
    {
     "name": "stdout",
     "output_type": "stream",
     "text": [
      "title (54,) {'name': 'Vova'}\n"
     ]
    }
   ],
   "source": [
    "def func(title, *args, **kwargs):\n",
    "    print(title, args, kwargs)\n",
    "\n",
    "func(\"title\", 54, name=\"Vova\")"
   ]
  },
  {
   "cell_type": "code",
   "execution_count": null,
   "id": "cbf12639",
   "metadata": {},
   "outputs": [],
   "source": [
    "# дефолтное значение здесь не работает\n",
    "def func(title=\"msg\", *args, **kwargs):\n",
    "    print(title, args, kwargs)\n",
    "\n",
    "func(54, 56, name=\"Vova\")"
   ]
  },
  {
   "cell_type": "markdown",
   "id": "96463103",
   "metadata": {},
   "source": [
    "### Что может возвращать функция"
   ]
  },
  {
   "cell_type": "code",
   "execution_count": 84,
   "id": "fcd5a2d4",
   "metadata": {},
   "outputs": [
    {
     "name": "stdout",
     "output_type": "stream",
     "text": [
      "Hello\n",
      "None\n"
     ]
    }
   ],
   "source": [
    "# ничего\n",
    "def func():\n",
    "    print(\"Hello\")\n",
    "    \n",
    "var = func()\n",
    "print(var)"
   ]
  },
  {
   "cell_type": "code",
   "execution_count": 19,
   "id": "4bb9fd92",
   "metadata": {},
   "outputs": [],
   "source": [
    "# значение\n",
    "def func():\n",
    "    return 1 # тут может быть словарь, список и тд,т е любой тип данных"
   ]
  },
  {
   "cell_type": "code",
   "execution_count": 85,
   "id": "4e812aa7",
   "metadata": {},
   "outputs": [
    {
     "data": {
      "text/plain": [
       "(1, 2, 3)"
      ]
     },
     "execution_count": 85,
     "metadata": {},
     "output_type": "execute_result"
    }
   ],
   "source": [
    "# несколько значений\n",
    "def func():\n",
    "    a = 1\n",
    "    b = 2\n",
    "    c = 3\n",
    "    return a, b, c\n",
    "\n",
    "func()"
   ]
  },
  {
   "cell_type": "markdown",
   "id": "16302128",
   "metadata": {},
   "source": [
    "Как нам теперь записать каждое значение в переменную?"
   ]
  },
  {
   "cell_type": "code",
   "execution_count": 89,
   "id": "3cfe2e46",
   "metadata": {},
   "outputs": [
    {
     "name": "stdout",
     "output_type": "stream",
     "text": [
      "1\n"
     ]
    }
   ],
   "source": [
    "a, b, c = func()\n",
    "print(a, b, c)"
   ]
  },
  {
   "cell_type": "code",
   "execution_count": 92,
   "id": "7d32818f",
   "metadata": {},
   "outputs": [
    {
     "name": "stdout",
     "output_type": "stream",
     "text": [
      "[1, 2, 3, 4, 5, 6]\n"
     ]
    }
   ],
   "source": [
    "a = [1, 2, 3]\n",
    "b = [*a, 4, 5, 6]\n",
    "print(b)"
   ]
  },
  {
   "cell_type": "markdown",
   "id": "693bc7fa",
   "metadata": {},
   "source": [
    "### Когда нам нужен дефолтный аргумент пустой список или любой другой изменяемый тип данных"
   ]
  },
  {
   "cell_type": "markdown",
   "id": "c394f3eb",
   "metadata": {},
   "source": [
    "Разберем передачу изменяемых и неизменяемых типов данных в функцию еще раз:"
   ]
  },
  {
   "cell_type": "code",
   "execution_count": 93,
   "id": "7e44638c",
   "metadata": {},
   "outputs": [
    {
     "name": "stdout",
     "output_type": "stream",
     "text": [
      "Result [1, 2, 3, 'element']\n",
      "My List [1, 2, 3]\n"
     ]
    }
   ],
   "source": [
    "def add_element(list_):\n",
    "    list_.append(\"element\")\n",
    "    return list_\n",
    "\n",
    "my_list = [1, 2, 3]\n",
    "result = add_element(my_list[:])\n",
    "print(f\"Result {result}\")\n",
    "print(f\"My List {my_list}\")"
   ]
  },
  {
   "cell_type": "code",
   "execution_count": 62,
   "id": "1d257474",
   "metadata": {},
   "outputs": [
    {
     "name": "stdout",
     "output_type": "stream",
     "text": [
      "list_ [1, 2, 3, 'element']\n",
      "My List [1, 2, 3, 'element']\n"
     ]
    }
   ],
   "source": [
    "# эквивалентно тому что ниже\n",
    "my_list = [1, 2, 3]\n",
    "list_ = my_list\n",
    "list_.append(\"element\")\n",
    "print(f\"list_ {list_}\")\n",
    "print(f\"My List {my_list}\")\n"
   ]
  },
  {
   "cell_type": "markdown",
   "id": "61e05bc6",
   "metadata": {},
   "source": [
    "##### поэтому важно передавать копию, если не хотим, чтобы изначальный список поменялся"
   ]
  },
  {
   "cell_type": "markdown",
   "id": "597943d3",
   "metadata": {},
   "source": [
    "что делать если мы хотим чтобы list_ = [] был дефолтным агрументом?"
   ]
  },
  {
   "cell_type": "code",
   "execution_count": 112,
   "id": "1590e26f",
   "metadata": {},
   "outputs": [
    {
     "name": "stdout",
     "output_type": "stream",
     "text": [
      "Result ['element']\n"
     ]
    }
   ],
   "source": [
    "def add_element(list_=[]):\n",
    "    list_.append(\"element\")\n",
    "    return list_\n",
    "\n",
    "\n",
    "result = add_element()\n",
    "print(f\"Result {result}\")"
   ]
  },
  {
   "cell_type": "code",
   "execution_count": 119,
   "id": "c3044bbf",
   "metadata": {},
   "outputs": [
    {
     "name": "stdout",
     "output_type": "stream",
     "text": [
      "Result ['element', 'element', 'element', 'element', 'element', 'element', 'element', 'element']\n"
     ]
    }
   ],
   "source": [
    "result = add_element()\n",
    "print(f\"Result {result}\")"
   ]
  },
  {
   "cell_type": "markdown",
   "id": "cbaacc13",
   "metadata": {},
   "source": [
    "**Решение**"
   ]
  },
  {
   "cell_type": "code",
   "execution_count": 97,
   "id": "32866023",
   "metadata": {},
   "outputs": [
    {
     "name": "stdout",
     "output_type": "stream",
     "text": [
      "Result ['element']\n"
     ]
    }
   ],
   "source": [
    "def add_element(list_=None):\n",
    "    list_ = list_ or []\n",
    "    list_.append(\"element\")\n",
    "    return list_\n",
    "\n",
    "\n",
    "result = add_element()\n",
    "print(f\"Result {result}\")"
   ]
  },
  {
   "cell_type": "code",
   "execution_count": 98,
   "id": "8a0a6da4",
   "metadata": {},
   "outputs": [
    {
     "name": "stdout",
     "output_type": "stream",
     "text": [
      "Result ['element']\n"
     ]
    }
   ],
   "source": [
    "result = add_element()\n",
    "print(f\"Result {result}\")"
   ]
  },
  {
   "cell_type": "code",
   "execution_count": 100,
   "id": "4be7535c",
   "metadata": {},
   "outputs": [
    {
     "data": {
      "text/plain": [
       "[1, 2, 3]"
      ]
     },
     "execution_count": 100,
     "metadata": {},
     "output_type": "execute_result"
    }
   ],
   "source": [
    "[1, 2, 3] or []"
   ]
  },
  {
   "cell_type": "code",
   "execution_count": 109,
   "id": "23cc49ba",
   "metadata": {},
   "outputs": [
    {
     "name": "stdout",
     "output_type": "stream",
     "text": [
      "Result ['хлеб', 'milk']\n"
     ]
    }
   ],
   "source": [
    "def add_milk(products=None):\n",
    "    products = products or []\n",
    "    products.append(\"milk\")\n",
    "    return products\n",
    "\n",
    "products = [\"хлеб\"]\n",
    "add_milk(products)\n",
    "print(f\"Result {products}\")"
   ]
  },
  {
   "cell_type": "code",
   "execution_count": 110,
   "id": "23f5888a",
   "metadata": {},
   "outputs": [
    {
     "name": "stdout",
     "output_type": "stream",
     "text": [
      "Result ['milk']\n"
     ]
    }
   ],
   "source": [
    "products = add_milk()\n",
    "print(f\"Result {products}\")"
   ]
  },
  {
   "cell_type": "code",
   "execution_count": 111,
   "id": "6f1165c2",
   "metadata": {},
   "outputs": [
    {
     "name": "stdout",
     "output_type": "stream",
     "text": [
      "Result ['milk']\n"
     ]
    }
   ],
   "source": [
    "products = add_milk()\n",
    "print(f\"Result {products}\")"
   ]
  },
  {
   "cell_type": "code",
   "execution_count": 121,
   "id": "60f7a02f",
   "metadata": {},
   "outputs": [
    {
     "name": "stdout",
     "output_type": "stream",
     "text": [
      "['хлеб']\n"
     ]
    },
    {
     "data": {
      "text/plain": [
       "['хлеб', 'milk']"
      ]
     },
     "execution_count": 121,
     "metadata": {},
     "output_type": "execute_result"
    }
   ],
   "source": [
    "def add_milk(products=None):\n",
    "    print(products)\n",
    "    products = products or []\n",
    "    products.append(\"milk\")\n",
    "    return products\n",
    "\n",
    "abc = [\"хлеб\"]\n",
    "add_milk(abc)\n",
    "#print(f\"Result {products}\")"
   ]
  },
  {
   "cell_type": "code",
   "execution_count": 122,
   "id": "0e8f4591",
   "metadata": {},
   "outputs": [
    {
     "name": "stdout",
     "output_type": "stream",
     "text": [
      "['хлеб', 'milk']\n"
     ]
    },
    {
     "data": {
      "text/plain": [
       "['хлеб', 'milk', 'milk']"
      ]
     },
     "execution_count": 122,
     "metadata": {},
     "output_type": "execute_result"
    }
   ],
   "source": [
    "add_milk(abc)"
   ]
  },
  {
   "cell_type": "markdown",
   "id": "b67a1be6",
   "metadata": {},
   "source": [
    "# Область видимости - LEGB\n",
    "\n",
    " - L - local - локальный (внутри функций)\n",
    " - E - enclosed - внешний (в пределах внешних функций)\n",
    " - G - global - глобальный (в пределах модуля)\n",
    " - B - built-in - встроенный (print, len, max...)\n",
    " \n",
    "\n",
    "**Интерпретатор начинает поиск переменной изнутри наружу**"
   ]
  },
  {
   "cell_type": "code",
   "execution_count": 24,
   "id": "ec9a086a",
   "metadata": {},
   "outputs": [
    {
     "name": "stdout",
     "output_type": "stream",
     "text": [
      "local\n"
     ]
    }
   ],
   "source": [
    "scope = \"global\"\n",
    "\n",
    "def func():\n",
    "    scope = \"enclosed\"\n",
    "    \n",
    "    def inner_func():\n",
    "        scope = \"local\" # заканчивает поиск там где находит переменную\n",
    "        print(scope)\n",
    "    \n",
    "    inner_func()\n",
    "\n",
    "func()"
   ]
  },
  {
   "cell_type": "code",
   "execution_count": 50,
   "id": "2b4382f4",
   "metadata": {},
   "outputs": [
    {
     "ename": "TypeError",
     "evalue": "'int' object is not callable",
     "output_type": "error",
     "traceback": [
      "\u001b[0;31m---------------------------------------------------------------------------\u001b[0m",
      "\u001b[0;31mTypeError\u001b[0m                                 Traceback (most recent call last)",
      "Cell \u001b[0;32mIn[50], line 3\u001b[0m\n\u001b[1;32m      1\u001b[0m \u001b[38;5;66;03m# built-in функцию можно переопределить, но ТАК ЛУЧШЕ НЕ ДЕЛАТЬ, ЭТО ПЛОХАЯ ПРАКТИКА\u001b[39;00m\n\u001b[1;32m      2\u001b[0m \u001b[38;5;28mmin\u001b[39m \u001b[38;5;241m=\u001b[39m \u001b[38;5;241m10\u001b[39m\n\u001b[0;32m----> 3\u001b[0m \u001b[38;5;28;43mmin\u001b[39;49m\u001b[43m(\u001b[49m\u001b[43m[\u001b[49m\u001b[38;5;241;43m1\u001b[39;49m\u001b[43m,\u001b[49m\u001b[43m \u001b[49m\u001b[38;5;241;43m2\u001b[39;49m\u001b[43m,\u001b[49m\u001b[43m \u001b[49m\u001b[38;5;241;43m3\u001b[39;49m\u001b[43m]\u001b[49m\u001b[43m)\u001b[49m\n",
      "\u001b[0;31mTypeError\u001b[0m: 'int' object is not callable"
     ]
    }
   ],
   "source": [
    "# built-in функцию можно переопределить, но ТАК ЛУЧШЕ НЕ ДЕЛАТЬ, ЭТО ПЛОХАЯ ПРАКТИКА\n",
    "min = 10\n",
    "min([1, 2, 3])"
   ]
  },
  {
   "cell_type": "markdown",
   "id": "90c054d1",
   "metadata": {},
   "source": [
    "##### Ключевое слово nonlocal - для того чтобы обновить значение переменной выше по scope"
   ]
  },
  {
   "cell_type": "code",
   "execution_count": 47,
   "id": "74dba214",
   "metadata": {},
   "outputs": [
    {
     "name": "stdout",
     "output_type": "stream",
     "text": [
      "inner_func: new value\n",
      "func: new value\n",
      "global: global\n"
     ]
    }
   ],
   "source": [
    "scope = \"global\"\n",
    "\n",
    "def func():\n",
    "    scope = \"enclosed\"\n",
    "    \n",
    "    def inner_func():\n",
    "        nonlocal scope # должна существовать во внешнем scope\n",
    "        scope = \"new value\"\n",
    "        print(f\"inner_func: {scope}\")\n",
    "    \n",
    "    inner_func()\n",
    "    print(f\"func: {scope}\")\n",
    "\n",
    "func()\n",
    "print(f\"global: {scope}\")"
   ]
  },
  {
   "cell_type": "code",
   "execution_count": 49,
   "id": "297040e1",
   "metadata": {},
   "outputs": [
    {
     "ename": "SyntaxError",
     "evalue": "no binding for nonlocal 'scope' found (3165781047.py, line 5)",
     "output_type": "error",
     "traceback": [
      "\u001b[0;36m  Cell \u001b[0;32mIn[49], line 5\u001b[0;36m\u001b[0m\n\u001b[0;31m    nonlocal scope # должна существовать во внешнем scope\u001b[0m\n\u001b[0m    ^\u001b[0m\n\u001b[0;31mSyntaxError\u001b[0m\u001b[0;31m:\u001b[0m no binding for nonlocal 'scope' found\n"
     ]
    }
   ],
   "source": [
    "scope = \"global\"\n",
    "\n",
    "def func():    \n",
    "    def inner_func():\n",
    "        nonlocal scope # должна существовать во внешнем scope\n",
    "        scope = \"new value\"\n",
    "        print(f\"inner_func: {scope}\")\n",
    "    \n",
    "    inner_func()\n",
    "    print(f\"func: {scope}\")\n",
    "\n",
    "func()\n",
    "print(f\"global: {scope}\")"
   ]
  },
  {
   "cell_type": "markdown",
   "id": "65c40fff",
   "metadata": {},
   "source": [
    "##### Ключевое слово global - для того чтобы обновить значение глобальной переменной\n",
    "\n",
    "**Важно: лучше избегать изменения внешних переменных при помощи nonlocal или global**"
   ]
  },
  {
   "cell_type": "code",
   "execution_count": 41,
   "id": "9aa568a9",
   "metadata": {},
   "outputs": [
    {
     "name": "stdout",
     "output_type": "stream",
     "text": [
      "inner_func: new value\n",
      "func: enclosed\n",
      "global: new value\n"
     ]
    }
   ],
   "source": [
    "scope = \"global\"\n",
    "\n",
    "def func():\n",
    "    scope = \"enclosed\"\n",
    "    \n",
    "    def inner_func():\n",
    "        global scope\n",
    "        scope = \"new value\"\n",
    "        print(f\"inner_func: {scope}\")\n",
    "    \n",
    "    inner_func()\n",
    "    print(f\"func: {scope}\")\n",
    "\n",
    "func()\n",
    "print(f\"global: {scope}\")"
   ]
  },
  {
   "cell_type": "code",
   "execution_count": 44,
   "id": "78c83cc1",
   "metadata": {},
   "outputs": [
    {
     "name": "stdout",
     "output_type": "stream",
     "text": [
      "inner_func: new value\n",
      "func: enclosed\n",
      "global: new value\n"
     ]
    }
   ],
   "source": [
    "# либо можно объявить новую глобальную переменную внутри функции\n",
    "def func():\n",
    "    scope = \"enclosed\"\n",
    "    \n",
    "    def inner_func():\n",
    "        global scope\n",
    "        scope = \"new value\"\n",
    "        print(f\"inner_func: {scope}\")\n",
    "    \n",
    "    inner_func()\n",
    "    print(f\"func: {scope}\")\n",
    "\n",
    "func()\n",
    "print(f\"global: {scope}\")"
   ]
  },
  {
   "cell_type": "markdown",
   "id": "26e7eced",
   "metadata": {},
   "source": [
    "Задание: внутри функции создать глобальную переменную x = 10, вывести ее на экран вне этой функции"
   ]
  },
  {
   "cell_type": "code",
   "execution_count": 52,
   "id": "7f7aa3e7",
   "metadata": {},
   "outputs": [],
   "source": [
    "def func():\n",
    "    pass # pass - ключевое слово для выполнения НИЧЕГО"
   ]
  },
  {
   "cell_type": "markdown",
   "id": "f4c7c54a",
   "metadata": {},
   "source": [
    "Задание: поменять значение глобальной переменной X внутри функции inner"
   ]
  },
  {
   "cell_type": "code",
   "execution_count": 53,
   "id": "2bc40e44",
   "metadata": {},
   "outputs": [],
   "source": [
    "X = 10\n",
    "\n",
    "def func():\n",
    "    def func_1():\n",
    "        def inner():\n",
    "            pass\n",
    "        inner()\n",
    "    func_1()\n",
    "func()"
   ]
  },
  {
   "cell_type": "markdown",
   "id": "8cee6336",
   "metadata": {},
   "source": [
    "Задание: что выведет print?"
   ]
  },
  {
   "cell_type": "code",
   "execution_count": 4,
   "id": "08d86268",
   "metadata": {},
   "outputs": [
    {
     "name": "stdout",
     "output_type": "stream",
     "text": [
      "\n"
     ]
    }
   ],
   "source": [
    "def func():\n",
    "    for i in range(10):\n",
    "        pass\n",
    "    print(i)\n",
    "\n",
    "func()"
   ]
  },
  {
   "cell_type": "markdown",
   "id": "e137b9de",
   "metadata": {},
   "source": [
    "Задание: что выведет print?"
   ]
  },
  {
   "cell_type": "code",
   "execution_count": 6,
   "id": "ea1214ae",
   "metadata": {},
   "outputs": [
    {
     "name": "stdout",
     "output_type": "stream",
     "text": [
      "\n"
     ]
    }
   ],
   "source": [
    "def func():\n",
    "    def inner_func():\n",
    "        for i in range(10):\n",
    "            pass\n",
    "        \n",
    "    inner_func()\n",
    "    print(i)\n",
    "\n",
    "func()"
   ]
  },
  {
   "cell_type": "markdown",
   "id": "f7e9835a",
   "metadata": {},
   "source": [
    "Задание: что выведет print?"
   ]
  },
  {
   "cell_type": "code",
   "execution_count": 9,
   "id": "e87012e3",
   "metadata": {},
   "outputs": [],
   "source": [
    "name = \"Egor\"\n",
    "\n",
    "def func(name):\n",
    "    def inner_func():\n",
    "        print(name)\n",
    "\n",
    "func('Marya')"
   ]
  },
  {
   "cell_type": "markdown",
   "id": "cb2dd02f",
   "metadata": {},
   "source": [
    "Задание: поменять значение переменной name внутри функции inner_func"
   ]
  },
  {
   "cell_type": "code",
   "execution_count": 11,
   "id": "660826df",
   "metadata": {},
   "outputs": [],
   "source": [
    "def func(name):\n",
    "    def inner_func():\n",
    "        pass\n",
    "    \n",
    "    inner_func()\n",
    "    \n",
    "func('Marya')"
   ]
  },
  {
   "cell_type": "markdown",
   "id": "b7946437",
   "metadata": {},
   "source": [
    "# Lambda функции\n",
    "\n",
    "- анонимная функция (не имеет названия)\n",
    "- однострочная\n",
    "- используется (чаще всего) 1 раз"
   ]
  },
  {
   "cell_type": "code",
   "execution_count": 54,
   "id": "24130aa1",
   "metadata": {},
   "outputs": [],
   "source": [
    "def sum_up(a, b):\n",
    "    return a + b"
   ]
  },
  {
   "cell_type": "code",
   "execution_count": 55,
   "id": "3e8b2916",
   "metadata": {},
   "outputs": [],
   "source": [
    "# может быть сокращена до\n",
    "sum_up = lambda a, b: a + b"
   ]
  },
  {
   "cell_type": "code",
   "execution_count": 56,
   "id": "e9c2716a",
   "metadata": {},
   "outputs": [
    {
     "data": {
      "text/plain": [
       "3"
      ]
     },
     "execution_count": 56,
     "metadata": {},
     "output_type": "execute_result"
    }
   ],
   "source": [
    "sum_up(1, 2)"
   ]
  },
  {
   "cell_type": "markdown",
   "id": "86be41bc",
   "metadata": {},
   "source": [
    "Пример использования:"
   ]
  },
  {
   "cell_type": "code",
   "execution_count": 57,
   "id": "36adc5c7",
   "metadata": {},
   "outputs": [
    {
     "data": {
      "text/plain": [
       "[('DB_VLAN', 11), ('Mngmt_VLAN', 99), ('IT_VLAN', 320), ('User_VLAN', 1010)]"
      ]
     },
     "execution_count": 57,
     "metadata": {},
     "output_type": "execute_result"
    }
   ],
   "source": [
    "list_of_tuples = [('IT_VLAN', 320), ('Mngmt_VLAN', 99), ('User_VLAN', 1010), ('DB_VLAN', 11)]\n",
    "sorted(list_of_tuples, key=lambda x: x[1])"
   ]
  },
  {
   "cell_type": "markdown",
   "id": "ff7b1151",
   "metadata": {},
   "source": [
    "Может быть и лямбда без аргументов"
   ]
  },
  {
   "cell_type": "code",
   "execution_count": 67,
   "id": "973bcefd",
   "metadata": {},
   "outputs": [
    {
     "data": {
      "text/plain": [
       "True"
      ]
     },
     "execution_count": 67,
     "metadata": {},
     "output_type": "execute_result"
    }
   ],
   "source": [
    "f = lambda: True\n",
    "f()"
   ]
  },
  {
   "cell_type": "markdown",
   "id": "e8864a1f",
   "metadata": {},
   "source": [
    "**Когда использовать?**\n",
    "\n",
    "- в функциях типа sort, map, sum, max\n",
    "- когда она не содержит в себе сложной логики\n",
    "- когда ее не нужно документировать"
   ]
  },
  {
   "cell_type": "markdown",
   "id": "7c72a5dd",
   "metadata": {},
   "source": [
    "Задание: найти максимальный возраст"
   ]
  },
  {
   "cell_type": "code",
   "execution_count": 72,
   "id": "436f10a5",
   "metadata": {},
   "outputs": [],
   "source": [
    "persons = [\n",
    "    {\n",
    "        \"name\": \"John\",\n",
    "        \"age\": 54\n",
    "    },\n",
    "    {\n",
    "        \"name\": \"Liam\",\n",
    "        \"age\": 5\n",
    "    },\n",
    "    {\n",
    "        \"name\": \"Oliver\",\n",
    "        \"age\": 14\n",
    "    },\n",
    "]"
   ]
  },
  {
   "cell_type": "markdown",
   "id": "2c9010cc",
   "metadata": {},
   "source": [
    "Задание: получить сумму возрастов этих людей"
   ]
  },
  {
   "cell_type": "code",
   "execution_count": null,
   "id": "1256d622",
   "metadata": {},
   "outputs": [],
   "source": []
  },
  {
   "cell_type": "markdown",
   "id": "c38871cc",
   "metadata": {},
   "source": [
    "Задание: получить средний возраст этих людей"
   ]
  },
  {
   "cell_type": "code",
   "execution_count": null,
   "id": "1dcc55b7",
   "metadata": {},
   "outputs": [],
   "source": []
  },
  {
   "cell_type": "markdown",
   "id": "b7386f73",
   "metadata": {},
   "source": [
    "Задание: записать функцию в виде лямбды"
   ]
  },
  {
   "cell_type": "code",
   "execution_count": 76,
   "id": "8b1fd23f",
   "metadata": {},
   "outputs": [],
   "source": [
    "def say_hi(name):\n",
    "    print(f\"Hello {name}\")"
   ]
  },
  {
   "cell_type": "markdown",
   "id": "8a570adc",
   "metadata": {},
   "source": [
    "Задание: написать лямбду, которая по сторонам a и b считает периметр прямоугольника"
   ]
  },
  {
   "cell_type": "code",
   "execution_count": null,
   "id": "9d89c9cf",
   "metadata": {},
   "outputs": [],
   "source": []
  },
  {
   "cell_type": "markdown",
   "id": "1c7a0ece",
   "metadata": {},
   "source": [
    "### Практика по теме функции"
   ]
  },
  {
   "cell_type": "markdown",
   "id": "65d502ab",
   "metadata": {},
   "source": [
    "Задание: написать функцию, которая добавляет в словарь ключ \"key\" со значением \"example\", словарь должен быть опциональным параметром (необязательным)"
   ]
  },
  {
   "cell_type": "code",
   "execution_count": 132,
   "id": "d7d453e6",
   "metadata": {},
   "outputs": [
    {
     "name": "stdout",
     "output_type": "stream",
     "text": [
      "a = {'name': 'Roma', 'key': 'example'}\n",
      "{'name': 'Roma'}\n"
     ]
    }
   ],
   "source": [
    "dict_ = {\n",
    "    \"name\": \"Roma\"\n",
    "}\n",
    "\n",
    "def add_key(a=None):\n",
    "    a = a or {}\n",
    "    a[\"key\"] = \"example\"\n",
    "    print(f\"a = {a}\")\n",
    "\n",
    "add_key(dict_.copy())\n",
    "print(dict_)"
   ]
  },
  {
   "cell_type": "code",
   "execution_count": 133,
   "id": "8fc150a8",
   "metadata": {},
   "outputs": [
    {
     "name": "stdout",
     "output_type": "stream",
     "text": [
      "a = {'key': 'example'}\n"
     ]
    }
   ],
   "source": [
    "add_key()"
   ]
  },
  {
   "cell_type": "code",
   "execution_count": 134,
   "id": "ce6ae34b",
   "metadata": {},
   "outputs": [
    {
     "name": "stdout",
     "output_type": "stream",
     "text": [
      "a = {'key': 'example'}\n"
     ]
    }
   ],
   "source": [
    "add_key()"
   ]
  },
  {
   "cell_type": "markdown",
   "id": "35199d79",
   "metadata": {},
   "source": [
    "Задание: написать функцию, которая возводит число в степень, а если степень не задана, то возводит в степень 2"
   ]
  },
  {
   "cell_type": "code",
   "execution_count": 136,
   "id": "404af11e",
   "metadata": {},
   "outputs": [
    {
     "name": "stdout",
     "output_type": "stream",
     "text": [
      "Введите число: 10\n",
      "Число 10 в степени 2 = 1000\n"
     ]
    }
   ],
   "source": [
    "def degree(n, st=2):\n",
    "    return n**st\n",
    "\n",
    "number = int(input('Введите число: '))\n",
    "result = degree(number, 3)\n",
    "print(f\"Число {number} в степени 2 = {result}\")"
   ]
  },
  {
   "cell_type": "markdown",
   "id": "ec4da934",
   "metadata": {},
   "source": [
    "Задание: реализовать функцию abs"
   ]
  },
  {
   "cell_type": "code",
   "execution_count": null,
   "id": "cc415fa0",
   "metadata": {},
   "outputs": [],
   "source": []
  },
  {
   "cell_type": "markdown",
   "id": "f84ced7e",
   "metadata": {},
   "source": [
    "Задание: написать функцию, которая шифрует строку по таблице Unicode с шагом 3"
   ]
  },
  {
   "cell_type": "code",
   "execution_count": null,
   "id": "214e0c77",
   "metadata": {},
   "outputs": [],
   "source": []
  },
  {
   "cell_type": "markdown",
   "id": "a541ac4c",
   "metadata": {},
   "source": [
    "Задание: написать функцию is_prime, принимающую 1 аргумент — число от 0 до 1000, и возвращающую True, если оно простое, и False - иначе"
   ]
  },
  {
   "cell_type": "code",
   "execution_count": null,
   "id": "82982983",
   "metadata": {},
   "outputs": [],
   "source": []
  },
  {
   "cell_type": "markdown",
   "id": "f74a3ceb",
   "metadata": {},
   "source": [
    "Задание: проверить уникальность элементовв списке [Решение](https://younglinux.info/python/task/uniqueness)"
   ]
  },
  {
   "cell_type": "code",
   "execution_count": null,
   "id": "5392f5cf",
   "metadata": {},
   "outputs": [],
   "source": []
  },
  {
   "cell_type": "markdown",
   "id": "c6aed23c",
   "metadata": {},
   "source": [
    "Задание: Даны списки:\n",
    "\n",
    "a = [1, 1, 2, 3, 5, 8, 13, 21, 34, 55, 89]\n",
    "\n",
    "b = [1, 2, 3, 4, 5, 6, 7, 8, 9, 10, 11, 12, 13]\n",
    "\n",
    "Нужно вернуть список, который состоит из элементов, общих для этих двух списков"
   ]
  },
  {
   "cell_type": "code",
   "execution_count": null,
   "id": "acf93f18",
   "metadata": {},
   "outputs": [],
   "source": []
  },
  {
   "cell_type": "markdown",
   "id": "7fd7ac8e",
   "metadata": {},
   "source": [
    "Задание: написать функцию для слияния нескольких словарей в один"
   ]
  },
  {
   "cell_type": "code",
   "execution_count": null,
   "id": "44ca2c2d",
   "metadata": {},
   "outputs": [],
   "source": []
  },
  {
   "cell_type": "markdown",
   "id": "ff0a8bc0",
   "metadata": {},
   "source": [
    "Задание: написать функцию, которая принимает произвольное количество аргументов и суммирует их"
   ]
  },
  {
   "cell_type": "code",
   "execution_count": null,
   "id": "6901e162",
   "metadata": {},
   "outputs": [],
   "source": []
  },
  {
   "cell_type": "markdown",
   "id": "628451fc",
   "metadata": {},
   "source": [
    "Задание: написать функцию, которая принимает в себя произвольное количество именованных агрументов и обновляет имена этих аргументов следующим образом:\n",
    "\n",
    "из a=10, b=11\n",
    "\n",
    "\n",
    "в func_a=10, func_b=11"
   ]
  },
  {
   "cell_type": "code",
   "execution_count": null,
   "id": "3c573f8f",
   "metadata": {},
   "outputs": [],
   "source": []
  },
  {
   "cell_type": "markdown",
   "id": "f3196766",
   "metadata": {},
   "source": [
    "Задание: написать программу для вычисления факториала. Факториал - 1 * 2 * 3 ... * n"
   ]
  },
  {
   "cell_type": "code",
   "execution_count": null,
   "id": "3bbfc208",
   "metadata": {},
   "outputs": [],
   "source": []
  }
 ],
 "metadata": {
  "kernelspec": {
   "display_name": "Python 3 (ipykernel)",
   "language": "python",
   "name": "python3"
  },
  "language_info": {
   "codemirror_mode": {
    "name": "ipython",
    "version": 3
   },
   "file_extension": ".py",
   "mimetype": "text/x-python",
   "name": "python",
   "nbconvert_exporter": "python",
   "pygments_lexer": "ipython3",
   "version": "3.10.10"
  }
 },
 "nbformat": 4,
 "nbformat_minor": 5
}
