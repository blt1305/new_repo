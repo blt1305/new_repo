{
 "cells": [
  {
   "cell_type": "markdown",
   "id": "c27d846c",
   "metadata": {},
   "source": [
    "# Занятие 6"
   ]
  },
  {
   "cell_type": "markdown",
   "id": "35872878",
   "metadata": {},
   "source": [
    "# Python\n",
    "\n",
    "высокоуровневый интерпретирумый язык с сильной динамической типизацией"
   ]
  },
  {
   "cell_type": "markdown",
   "id": "ced2ae62",
   "metadata": {},
   "source": [
    "## Интерпретируемый\n",
    "\n",
    "**Комплириуемые языки:**\n",
    "\n",
    "- более высокая скорость исполнения, так как они конвертируются в машинный код\n",
    "- для запуска нужно изначально скомпилировать программу, а затем запустить\n",
    "- эти языки плотформо-зависимые\n",
    "- например, С, С++\n",
    "\n",
    "**Интерпретируемые языки:**\n",
    "- выполняются интерпретатором построчно\n",
    "- проверяет отступы, синтаксис и т д\n",
    "- не проверяет типы (т к python язык с динамической типизацией), то есть ошибка деления на 0 возникнет на этапе выполнение, а не копиляции в байт код\n",
    "\n",
    "[видео: как интерпретируется python код](https://www.youtube.com/watch?v=f-jFxO2Kzlo)\n",
    "\n",
    "[статья про интерпретаторы python](https://pythonchik.ru/osnovy/kak-rabotaet-python-interpretator)"
   ]
  },
  {
   "cell_type": "markdown",
   "id": "d9aa925a",
   "metadata": {},
   "source": [
    "## Типизация - сильная динамическая\n",
    "\n",
    "- не нужно объявлять типы переменных при написании кода, python сам вычисляет их во время выполнения\n",
    "\n",
    "**Утиная типизация** - если это выглядит как утка, плавает как утка и крякает как утка, то это, вероятно, и есть утка - то есть это определение **динамической типизации**\n",
    "\n",
    "\n",
    "То есть важно то, какое поведение поддерживает объект, а конкретный тип неважен"
   ]
  },
  {
   "cell_type": "code",
   "execution_count": 3,
   "id": "cf03beb8",
   "metadata": {},
   "outputs": [
    {
     "data": {
      "text/plain": [
       "int"
      ]
     },
     "execution_count": 3,
     "metadata": {},
     "output_type": "execute_result"
    }
   ],
   "source": [
    "a = 10 # не нужно писать int a = 10 как мы писали бы в C#\n",
    "type(a) # вывести тип"
   ]
  },
  {
   "cell_type": "code",
   "execution_count": 4,
   "id": "55e09f28",
   "metadata": {},
   "outputs": [
    {
     "data": {
      "text/plain": [
       "True"
      ]
     },
     "execution_count": 4,
     "metadata": {},
     "output_type": "execute_result"
    }
   ],
   "source": [
    "isinstance(a, int)  # проверить, является ли переменная а типом int"
   ]
  },
  {
   "cell_type": "markdown",
   "id": "6c4d2127",
   "metadata": {},
   "source": [
    "### Сильная\n",
    "\n",
    "значит что язык не позволяет смешивать в выражениях различные типвы и не выполняет автоматические неявные преобразования/"
   ]
  },
  {
   "cell_type": "code",
   "execution_count": 5,
   "id": "c71a72f3",
   "metadata": {},
   "outputs": [
    {
     "data": {
      "text/plain": [
       "2.3"
      ]
     },
     "execution_count": 5,
     "metadata": {},
     "output_type": "execute_result"
    }
   ],
   "source": [
    "0.3 + 2"
   ]
  },
  {
   "cell_type": "code",
   "execution_count": 6,
   "id": "bc53f575",
   "metadata": {},
   "outputs": [
    {
     "ename": "TypeError",
     "evalue": "unsupported operand type(s) for +: 'float' and 'str'",
     "output_type": "error",
     "traceback": [
      "\u001b[0;31m---------------------------------------------------------------------------\u001b[0m",
      "\u001b[0;31mTypeError\u001b[0m                                 Traceback (most recent call last)",
      "Cell \u001b[0;32mIn[6], line 1\u001b[0m\n\u001b[0;32m----> 1\u001b[0m \u001b[38;5;241;43m0.3\u001b[39;49m\u001b[43m \u001b[49m\u001b[38;5;241;43m+\u001b[39;49m\u001b[43m \u001b[49m\u001b[38;5;124;43m\"\u001b[39;49m\u001b[38;5;124;43m2\u001b[39;49m\u001b[38;5;124;43m\"\u001b[39;49m\n",
      "\u001b[0;31mTypeError\u001b[0m: unsupported operand type(s) for +: 'float' and 'str'"
     ]
    }
   ],
   "source": [
    "0.3 + \"2\""
   ]
  },
  {
   "cell_type": "markdown",
   "id": "6c45b2ad",
   "metadata": {},
   "source": [
    "**js - язык со слабой типизацией**"
   ]
  },
  {
   "cell_type": "code",
   "execution_count": 11,
   "id": "1c758521",
   "metadata": {},
   "outputs": [
    {
     "data": {
      "application/javascript": [
       "alert(0.3 + 2) // выведет 2.3\n"
      ],
      "text/plain": [
       "<IPython.core.display.Javascript object>"
      ]
     },
     "metadata": {},
     "output_type": "display_data"
    }
   ],
   "source": [
    "%%js\n",
    "alert(0.3 + 2) // выведет 2.3"
   ]
  },
  {
   "cell_type": "code",
   "execution_count": 13,
   "id": "ccf48766",
   "metadata": {},
   "outputs": [
    {
     "data": {
      "application/javascript": [
       "alert(0.3 + \"2\") // выведет 0.32\n"
      ],
      "text/plain": [
       "<IPython.core.display.Javascript object>"
      ]
     },
     "metadata": {},
     "output_type": "display_data"
    }
   ],
   "source": [
    "%%js\n",
    "alert(0.3 + \"2\") // выведет 0.32, то есть приведет 0.3 к строке"
   ]
  },
  {
   "cell_type": "markdown",
   "id": "7c08b464",
   "metadata": {},
   "source": [
    "# Синтаксический сахар"
   ]
  },
  {
   "cell_type": "markdown",
   "id": "86221acd",
   "metadata": {},
   "source": [
    "**all** - проверяет что все элементы True"
   ]
  },
  {
   "cell_type": "code",
   "execution_count": 15,
   "id": "26eea46b",
   "metadata": {},
   "outputs": [
    {
     "data": {
      "text/plain": [
       "True"
      ]
     },
     "execution_count": 15,
     "metadata": {},
     "output_type": "execute_result"
    }
   ],
   "source": [
    "all([True, 2 < 3, [\"список с элементами\"]])"
   ]
  },
  {
   "cell_type": "markdown",
   "id": "f285afb4",
   "metadata": {},
   "source": [
    "**any** - проверяет что хотя бы один элемент равен True"
   ]
  },
  {
   "cell_type": "code",
   "execution_count": 16,
   "id": "942679bf",
   "metadata": {},
   "outputs": [
    {
     "data": {
      "text/plain": [
       "True"
      ]
     },
     "execution_count": 16,
     "metadata": {},
     "output_type": "execute_result"
    }
   ],
   "source": [
    "any([False, [], 2 < 3])"
   ]
  },
  {
   "cell_type": "code",
   "execution_count": 17,
   "id": "f5296ba4",
   "metadata": {},
   "outputs": [
    {
     "data": {
      "text/plain": [
       "False"
      ]
     },
     "execution_count": 17,
     "metadata": {},
     "output_type": "execute_result"
    }
   ],
   "source": [
    "any([False, [], 2 > 3])"
   ]
  },
  {
   "cell_type": "markdown",
   "id": "cc264ae0",
   "metadata": {},
   "source": [
    "## List comprehension (генератор списка)\n",
    "\n",
    "упрощенный подход к созданию списка, может содержать в себе if-else\n",
    "\n",
    "[почитать про list comprehension](https://pythonru.com/osnovy/python-list-comprehension#:~:text=List%20comprehension%20%E2%80%94%20%D1%8D%D1%82%D0%BE%20%D1%83%D0%BF%D1%80%D0%BE%D1%89%D0%B5%D0%BD%D0%BD%D1%8B%D0%B9%20%D0%BF%D0%BE%D0%B4%D1%85%D0%BE%D0%B4,%D0%B8%D1%82%D0%BE%D0%B3%D0%B5%20%D0%BE%D0%BA%D0%B0%D0%B6%D0%B5%D1%82%D1%81%D1%8F%20%D0%B2%20%D1%84%D0%B8%D0%BD%D0%B0%D0%BB%D1%8C%D0%BD%D0%BE%D0%BC%20%D1%81%D0%BF%D0%B8%D1%81%D0%BA%D0%B5.)"
   ]
  },
  {
   "cell_type": "code",
   "execution_count": 51,
   "id": "1d668bf9",
   "metadata": {},
   "outputs": [
    {
     "name": "stdout",
     "output_type": "stream",
     "text": [
      "[1, 4, 9, 16]\n"
     ]
    }
   ],
   "source": [
    "list_ = [1, 2, 3, 4]\n",
    "new_list = [elem ** 2 for elem in list_]\n",
    "print(new_list)"
   ]
  },
  {
   "cell_type": "code",
   "execution_count": 19,
   "id": "3c819584",
   "metadata": {},
   "outputs": [
    {
     "name": "stdout",
     "output_type": "stream",
     "text": [
      "[1, 4, 9, 16]\n"
     ]
    }
   ],
   "source": [
    "# замена тому что выше\n",
    "new_list = []\n",
    "for elem in list_:\n",
    "    new_list.append(elem ** 2)\n",
    "    \n",
    "print(new_list)"
   ]
  },
  {
   "cell_type": "code",
   "execution_count": 20,
   "id": "e11dad31",
   "metadata": {},
   "outputs": [
    {
     "name": "stdout",
     "output_type": "stream",
     "text": [
      "[1, 4, 9, 16]\n"
     ]
    }
   ],
   "source": [
    "# замена тому что выше\n",
    "new_list = list(map(lambda x: x**2, list_))\n",
    "print(new_list)"
   ]
  },
  {
   "cell_type": "code",
   "execution_count": 52,
   "id": "8b3fd435",
   "metadata": {},
   "outputs": [
    {
     "name": "stdout",
     "output_type": "stream",
     "text": [
      "[1, 2, 3, 4]\n"
     ]
    }
   ],
   "source": [
    "# при этом изначальный list_ не изменяется\n",
    "print(list_)"
   ]
  },
  {
   "cell_type": "markdown",
   "id": "65a1cbfa",
   "metadata": {},
   "source": [
    "Пример с **if-else**"
   ]
  },
  {
   "cell_type": "code",
   "execution_count": 28,
   "id": "00ad17df",
   "metadata": {},
   "outputs": [
    {
     "name": "stdout",
     "output_type": "stream",
     "text": [
      "[1, 3, 5]\n"
     ]
    }
   ],
   "source": [
    "# замена filter\n",
    "nums = [1, 2, 3, 4, 5]\n",
    "odd_nums = [n for n in nums if n%2 == 1] # тут не может быть else\n",
    "print(odd_nums)"
   ]
  },
  {
   "cell_type": "code",
   "execution_count": 29,
   "id": "e4fb29e5",
   "metadata": {},
   "outputs": [
    {
     "name": "stdout",
     "output_type": "stream",
     "text": [
      "[1, 9, 25]\n"
     ]
    }
   ],
   "source": [
    "nums = [1, 2, 3, 4, 5]\n",
    "odd_squares = [n*n for n in nums if n%2 == 1]\n",
    "print(odd_squares)"
   ]
  },
  {
   "cell_type": "code",
   "execution_count": 31,
   "id": "05b86032",
   "metadata": {},
   "outputs": [
    {
     "name": "stdout",
     "output_type": "stream",
     "text": [
      "[1, 8, 9, 64, 25]\n"
     ]
    }
   ],
   "source": [
    "nums = [1, 2, 3, 4, 5]\n",
    "pow_nums = [n*n if n%2 == 1 else n ** 3 for n in nums]\n",
    "print(pow_nums)"
   ]
  },
  {
   "cell_type": "markdown",
   "id": "aa0326fa",
   "metadata": {},
   "source": [
    "Задание: из данной структуры данных получить список возрастов"
   ]
  },
  {
   "cell_type": "code",
   "execution_count": 32,
   "id": "05d6496e",
   "metadata": {},
   "outputs": [],
   "source": [
    "persons = [\n",
    "    {\"name\": \"Victor\", \"age\": 25},\n",
    "    {\"name\": \"Oliver\", \"age\": 32},\n",
    "    {\"name\": \"Bree\", \"age\": 14},\n",
    "]"
   ]
  },
  {
   "cell_type": "markdown",
   "id": "dd27c172",
   "metadata": {},
   "source": [
    "Задание: из данной структуры данных получить список возрастов старше 18"
   ]
  },
  {
   "cell_type": "code",
   "execution_count": 38,
   "id": "79de5b3f",
   "metadata": {},
   "outputs": [],
   "source": [
    "persons = [\n",
    "    {\"name\": \"Victor\", \"age\": 25},\n",
    "    {\"name\": \"Oliver\", \"age\": 32},\n",
    "    {\"name\": \"Bree\", \"age\": 14},\n",
    "]"
   ]
  },
  {
   "cell_type": "markdown",
   "id": "22941776",
   "metadata": {},
   "source": [
    "Задание: Вывести сообщение \"старше 18\" в случае если человек старше 18, иначе \"младше 18\""
   ]
  },
  {
   "cell_type": "code",
   "execution_count": 39,
   "id": "eb982ecb",
   "metadata": {},
   "outputs": [],
   "source": [
    "persons = [\n",
    "    {\"name\": \"Victor\", \"age\": 25},\n",
    "    {\"name\": \"Oliver\", \"age\": 32},\n",
    "    {\"name\": \"Bree\", \"age\": 14},\n",
    "]"
   ]
  },
  {
   "cell_type": "markdown",
   "id": "7051de86",
   "metadata": {},
   "source": [
    "Задание: посчитать сумму квадратов только четных элементов"
   ]
  },
  {
   "cell_type": "code",
   "execution_count": 33,
   "id": "2881da76",
   "metadata": {},
   "outputs": [],
   "source": [
    "list_ = [2, 1, 4, 1]"
   ]
  },
  {
   "cell_type": "markdown",
   "id": "83920ad4",
   "metadata": {},
   "source": [
    "Задание: Проверить что все числа списка четные"
   ]
  },
  {
   "cell_type": "code",
   "execution_count": null,
   "id": "2803c8bf",
   "metadata": {},
   "outputs": [],
   "source": [
    "list_1 = [1, 2, 4, 6, 8, 10]"
   ]
  },
  {
   "cell_type": "markdown",
   "id": "21b0a9f3",
   "metadata": {},
   "source": [
    "Задание: Проверить что все хотя бы одно число списка нечетное"
   ]
  },
  {
   "cell_type": "code",
   "execution_count": 41,
   "id": "48b488bd",
   "metadata": {},
   "outputs": [],
   "source": [
    "list_1 = [1, 2, 4, 6, 8, 10]"
   ]
  },
  {
   "cell_type": "markdown",
   "id": "e3bde1b3",
   "metadata": {},
   "source": [
    "Может быть несколько уровней вложенности"
   ]
  },
  {
   "cell_type": "code",
   "execution_count": 42,
   "id": "b93f3295",
   "metadata": {},
   "outputs": [
    {
     "name": "stdout",
     "output_type": "stream",
     "text": [
      "[[1, 2, 3], [1, 2, 3], [1, 2, 3], [1, 2, 3]]\n"
     ]
    }
   ],
   "source": [
    "matrix = [[x for x in range(1, 4)] for y in range(1, 5)]\n",
    "print(matrix)"
   ]
  },
  {
   "cell_type": "markdown",
   "id": "7ca8b58b",
   "metadata": {},
   "source": [
    "# Dict comprehensions (генераторы словарей)\n",
    "\n",
    "Для создания словарей"
   ]
  },
  {
   "cell_type": "code",
   "execution_count": 43,
   "id": "5950ea92",
   "metadata": {},
   "outputs": [],
   "source": [
    "new_dict = {num: num**2 for num in range(1, 11)}"
   ]
  },
  {
   "cell_type": "markdown",
   "id": "7c90dace",
   "metadata": {},
   "source": [
    "Перевести все ключи в нижний регистр:"
   ]
  },
  {
   "cell_type": "code",
   "execution_count": 44,
   "id": "91952ba8",
   "metadata": {},
   "outputs": [
    {
     "name": "stdout",
     "output_type": "stream",
     "text": [
      "{'ios': '15.4', 'ip': '10.255.0.1', 'hostname': 'london_r1', 'location': '21 New Globe Walk', 'model': '4451', 'vendor': 'Cisco'}\n"
     ]
    }
   ],
   "source": [
    "r1 = {\n",
    "    'ios': '15.4',\n",
    "    'ip': '10.255.0.1',\n",
    "    'hostname': 'london_r1',\n",
    "    'location': '21 New Globe Walk',\n",
    "    'model': '4451',\n",
    "    'vendor': 'Cisco'\n",
    "}\n",
    "\n",
    "lower_r1 = {}\n",
    "\n",
    "for key, value in r1.items():\n",
    "    lower_r1[key.lower()] = value\n",
    "print(lower_r1)"
   ]
  },
  {
   "cell_type": "code",
   "execution_count": 46,
   "id": "374c506d",
   "metadata": {},
   "outputs": [
    {
     "name": "stdout",
     "output_type": "stream",
     "text": [
      "{'ios': '15.4', 'ip': '10.255.0.1', 'hostname': 'london_r1', 'location': '21 New Globe Walk', 'model': '4451', 'vendor': 'Cisco'}\n"
     ]
    }
   ],
   "source": [
    "# с использованием генератора словаря\n",
    "r1 = {\n",
    "    'ios': '15.4',\n",
    "    'ip': '10.255.0.1',\n",
    "    'hostname': 'london_r1',\n",
    "    'location': '21 New Globe Walk',\n",
    "    'model': '4451',\n",
    "    'vendor': 'Cisco'\n",
    "}\n",
    "\n",
    "lower_r1 = {key.lower(): value for key, value in r1.items()}\n",
    "print(lower_r1)"
   ]
  },
  {
   "cell_type": "code",
   "execution_count": 48,
   "id": "3124f2bc",
   "metadata": {},
   "outputs": [
    {
     "name": "stdout",
     "output_type": "stream",
     "text": [
      "{'Ios': '15.4', 'Ip': '10.255.0.1', 'Hostname': 'london_r1', 'Location': '21 New Globe Walk', 'Model': '4451'}\n"
     ]
    }
   ],
   "source": [
    "# можно фильтровать также при помощи if\n",
    "# а if-else использовать в первой части\n",
    "r1 = {\n",
    "    'ios': '15.4',\n",
    "    'ip': '10.255.0.1',\n",
    "    'hostname': 'london_r1',\n",
    "    'location': '21 New Globe Walk',\n",
    "    'model': '4451',\n",
    "    'vendor': 'Cisco'\n",
    "}\n",
    "\n",
    "lower_r1 = {key.capitalize(): value for key, value in r1.items() if key != \"vendor\"}\n",
    "print(lower_r1)"
   ]
  },
  {
   "cell_type": "markdown",
   "id": "662f0a38",
   "metadata": {},
   "source": [
    "## Set comprehensions (генераторы множеств)"
   ]
  },
  {
   "cell_type": "code",
   "execution_count": 53,
   "id": "c1d8c882",
   "metadata": {},
   "outputs": [
    {
     "name": "stdout",
     "output_type": "stream",
     "text": [
      "{1, 2, 3, 4}\n"
     ]
    }
   ],
   "source": [
    "# получить уникальные числа\n",
    "list_ = [1, 2, \"3\", 4, 3, 2, 1]\n",
    "unique_nums = {int(num) for num in list_}\n",
    "print(unique_nums)"
   ]
  },
  {
   "cell_type": "code",
   "execution_count": 54,
   "id": "507e0655",
   "metadata": {},
   "outputs": [
    {
     "data": {
      "text/plain": [
       "set"
      ]
     },
     "execution_count": 54,
     "metadata": {},
     "output_type": "execute_result"
    }
   ],
   "source": [
    "type(unique_nums)"
   ]
  },
  {
   "cell_type": "markdown",
   "id": "340443b4",
   "metadata": {},
   "source": [
    "# Философия python"
   ]
  },
  {
   "cell_type": "code",
   "execution_count": 55,
   "id": "8dcd96f8",
   "metadata": {},
   "outputs": [
    {
     "name": "stdout",
     "output_type": "stream",
     "text": [
      "The Zen of Python, by Tim Peters\n",
      "\n",
      "Beautiful is better than ugly.\n",
      "Explicit is better than implicit.\n",
      "Simple is better than complex.\n",
      "Complex is better than complicated.\n",
      "Flat is better than nested.\n",
      "Sparse is better than dense.\n",
      "Readability counts.\n",
      "Special cases aren't special enough to break the rules.\n",
      "Although practicality beats purity.\n",
      "Errors should never pass silently.\n",
      "Unless explicitly silenced.\n",
      "In the face of ambiguity, refuse the temptation to guess.\n",
      "There should be one-- and preferably only one --obvious way to do it.\n",
      "Although that way may not be obvious at first unless you're Dutch.\n",
      "Now is better than never.\n",
      "Although never is often better than *right* now.\n",
      "If the implementation is hard to explain, it's a bad idea.\n",
      "If the implementation is easy to explain, it may be a good idea.\n",
      "Namespaces are one honking great idea -- let's do more of those!\n"
     ]
    }
   ],
   "source": [
    "import this"
   ]
  },
  {
   "cell_type": "markdown",
   "id": "0580fd28",
   "metadata": {},
   "source": [
    "Красивое лучше, чем уродливое.</br>\n",
    "Явное лучше, чем неявное.</br>\n",
    "Простое лучше, чем сложное.</br>\n",
    "Сложное лучше, чем запутанное.</br>\n",
    "Плоское лучше, чем вложенное.</br>\n",
    "Разреженное лучше, чем плотное.</br>\n",
    "Читаемость имеет значение.</br>\n",
    "Особые случаи не настолько особые, чтобы нарушать правила.</br>\n",
    "При этом практичность важнее безупречности.</br>\n",
    "Ошибки никогда не должны замалчиваться.</br>\n",
    "Если они не замалчиваются явно.</br>\n",
    "Встретив двусмысленность, отбрось искушение угадать.</br>\n",
    "Должен существовать один и, желательно, только один очевидный способ сделать это.</br>\n",
    "Хотя он поначалу может быть и не очевиден, если вы не голландец [^1].</br>\n",
    "Сейчас лучше, чем никогда.</br>\n",
    "Хотя никогда зачастую лучше, чем прямо сейчас.</br>\n",
    "Если реализацию сложно объяснить — идея плоха.</br>\n",
    "Если реализацию легко объяснить — идея, возможно, хороша.</br>\n",
    "Пространства имён — отличная штука! Будем делать их больше!"
   ]
  },
  {
   "cell_type": "markdown",
   "id": "6ad8017a",
   "metadata": {},
   "source": [
    "# PEP\n",
    "\n",
    "\n",
    "**Python Enhancement Proposal** - предложения по улучшению python\n",
    "\n",
    "[PEP index](https://peps.python.org/)"
   ]
  },
  {
   "cell_type": "markdown",
   "id": "69fbf589",
   "metadata": {},
   "source": [
    "# PEP8 - соглашение о написании кода\n",
    "\n",
    "[ссылка на статью](https://pythonworld.ru/osnovy/pep-8-rukovodstvo-po-napisaniyu-koda-na-python.html)\n",
    "\n",
    "Код читается намного чаще чем пишется, поэтому важно писать хорошо читаемый код\n",
    "\n",
    "Всегда есть правильные вариации, важно выбрать единый стиль и придерживаться его"
   ]
  },
  {
   "cell_type": "markdown",
   "id": "c9f62a17",
   "metadata": {},
   "source": [
    "# Документирование\n",
    "\n",
    "[ссылка на статью](https://pythonworld.ru/osnovy/dokumentirovanie-koda-v-python-pep-257.html)"
   ]
  },
  {
   "cell_type": "code",
   "execution_count": 56,
   "id": "22a2a1bc",
   "metadata": {},
   "outputs": [],
   "source": [
    "def pow(a, b):\n",
    "    \"\"\"Функция возвращает результат возведения числа а в степень b.\"\"\"\n",
    "    return a ** b"
   ]
  },
  {
   "cell_type": "code",
   "execution_count": 57,
   "id": "853a37dd",
   "metadata": {},
   "outputs": [
    {
     "name": "stdout",
     "output_type": "stream",
     "text": [
      "Help on function pow in module __main__:\n",
      "\n",
      "pow(a, b)\n",
      "    Функция возвращает результат возведения числа а в степень b.\n",
      "\n"
     ]
    }
   ],
   "source": [
    "help(pow)"
   ]
  },
  {
   "cell_type": "markdown",
   "id": "69c73693",
   "metadata": {},
   "source": [
    "# Как называть переменные и функции\n",
    "\n",
    "[ссылка на статью](https://pythonchik.ru/osnovy/imenovanie-v-python)"
   ]
  },
  {
   "cell_type": "code",
   "execution_count": 59,
   "id": "43ff494f",
   "metadata": {},
   "outputs": [],
   "source": [
    "# плохо\n",
    "def area(side1, side2):\n",
    "    return side1 * side2\n",
    "\n",
    "d = area(4, 5)"
   ]
  },
  {
   "cell_type": "code",
   "execution_count": 60,
   "id": "7833626a",
   "metadata": {},
   "outputs": [],
   "source": [
    "# хорошо \n",
    "def get_rectangle_area(length, width):\n",
    "    return length * width\n",
    "\n",
    "\n",
    "area = get_rectangle_area(4, 5)"
   ]
  },
  {
   "cell_type": "markdown",
   "id": "e377b72d",
   "metadata": {},
   "source": [
    "# Модули, пакеты и библиотеки\n",
    "\n",
    "\n",
    "[ссылка на статью](https://devpractice.ru/python-lesson-13-modules-and-packages/)"
   ]
  },
  {
   "cell_type": "markdown",
   "id": "a1d9db46",
   "metadata": {},
   "source": [
    "**Модуль** - файл с расширением .py\n",
    "\n",
    "Модули предназначены для того, чтобы в них хранить часто используемые функции, классы, константы и т.п. "
   ]
  },
  {
   "cell_type": "markdown",
   "id": "fbf32d68",
   "metadata": {},
   "source": [
    "**Пакет** - папка, в которой есть __ init__.py и другие модули"
   ]
  },
  {
   "cell_type": "markdown",
   "id": "76c1aade",
   "metadata": {},
   "source": [
    "**Библиотека** - тоже набор модулей, отвечает за набор задач, например, библиотека для отправки http запросов - requests, библиотека для работы с датами - datetime и тд"
   ]
  },
  {
   "cell_type": "code",
   "execution_count": 70,
   "id": "071f216a",
   "metadata": {},
   "outputs": [
    {
     "data": {
      "text/plain": [
       "datetime.datetime(2023, 4, 9, 21, 21, 3, 754877)"
      ]
     },
     "execution_count": 70,
     "metadata": {},
     "output_type": "execute_result"
    }
   ],
   "source": [
    "# как импортировать\n",
    "import datetime\n",
    "datetime.datetime.now()"
   ]
  },
  {
   "cell_type": "code",
   "execution_count": 72,
   "id": "62b10aa3",
   "metadata": {},
   "outputs": [
    {
     "data": {
      "text/plain": [
       "datetime.datetime(2023, 4, 9, 21, 21, 30, 416876)"
      ]
     },
     "execution_count": 72,
     "metadata": {},
     "output_type": "execute_result"
    }
   ],
   "source": [
    "# или\n",
    "from datetime import datetime\n",
    "datetime.now()"
   ]
  },
  {
   "cell_type": "code",
   "execution_count": 74,
   "id": "f84d9062",
   "metadata": {},
   "outputs": [
    {
     "data": {
      "text/plain": [
       "datetime.date(2023, 4, 9)"
      ]
     },
     "execution_count": 74,
     "metadata": {},
     "output_type": "execute_result"
    }
   ],
   "source": [
    "from datetime import date\n",
    "date.today()"
   ]
  },
  {
   "cell_type": "code",
   "execution_count": 75,
   "id": "05e722d0",
   "metadata": {},
   "outputs": [],
   "source": [
    "# импортирует все сразу, так лучше не делать!\n",
    "from datetime import *"
   ]
  },
  {
   "cell_type": "markdown",
   "id": "6b74f1d5",
   "metadata": {},
   "source": [
    "# PyPI - python pachage index\n",
    "\n",
    "каталог python библиотек\n",
    "\n",
    "https://pypi.org/"
   ]
  },
  {
   "cell_type": "markdown",
   "id": "a4046680",
   "metadata": {},
   "source": [
    "# pip\n",
    "\n",
    "система управления пакетами, которая используется для установки и управления программными пакетами, написанными на Python. Много пакетов можно найти в Python Package Index"
   ]
  },
  {
   "cell_type": "markdown",
   "id": "47d22c81",
   "metadata": {},
   "source": [
    "[статья про pip](https://pythonworld.ru/osnovy/pip.html)"
   ]
  },
  {
   "cell_type": "code",
   "execution_count": null,
   "id": "0f4d9475",
   "metadata": {},
   "outputs": [],
   "source": [
    "# как установить библиотеку\n",
    "# эту команду нужно выполнять в терминале\n",
    "pip install <имя_библиотеки>\n",
    "\n",
    "# например\n",
    "pip install mypy"
   ]
  },
  {
   "cell_type": "markdown",
   "id": "d7c89454",
   "metadata": {},
   "source": [
    "# Аннотации\n",
    "\n",
    "[ссылка на статью с примерами](https://proglib.io/p/annotacii-tipov-v-python-vse-chto-nuzhno-znat-za-5-minut-2022-01-30)\n",
    "\n",
    "- позволяют обозначить тип принимаемых или возвращаемых значений, нужно для читаемости кода и в качестве самодокументации функции\n",
    "\n",
    "- аннотации типов никак не обрабатываются при интерпретации кода\n",
    "\n",
    "- аннотации типов помогают при написании кода в IDE, так как pycharm будет предлагать возможные функции для атрибута\n",
    "\n",
    "- они могут обрабатываться статическими анализаторами типа mypy\n",
    "\n",
    "[пример использования mypy](https://www.8host.com/blog/modul-typing-i-annotaciya-tipov-v-python/)\n"
   ]
  },
  {
   "cell_type": "code",
   "execution_count": 61,
   "id": "606ddaa3",
   "metadata": {},
   "outputs": [],
   "source": [
    "# без аннотаций\n",
    "def get_full_name(first_name, last_name):\n",
    "    full_name = first_name.title() + \" \" + last_name.title()\n",
    "    return full_name"
   ]
  },
  {
   "cell_type": "code",
   "execution_count": 62,
   "id": "82b9e699",
   "metadata": {},
   "outputs": [],
   "source": [
    "# с аннотациями\n",
    "def get_full_name(first_name: str, last_name: str) -> str:\n",
    "    full_name = first_name.title() + \" \" + last_name.title()\n",
    "    return full_name"
   ]
  },
  {
   "cell_type": "markdown",
   "id": "6f444f56",
   "metadata": {},
   "source": [
    "**Стандартные типы данных - int, float, str, bool, None**\n",
    "\n",
    "Все остальное зависит от версии python, но в общем случае импортируем из встроенного модуля typing"
   ]
  },
  {
   "cell_type": "code",
   "execution_count": 64,
   "id": "ffd1f5ce",
   "metadata": {},
   "outputs": [],
   "source": [
    "from typing import List, Dict, Union, Optional\n",
    "\n",
    "def func(a: List): # параметр а должен быть списком\n",
    "    pass"
   ]
  },
  {
   "cell_type": "code",
   "execution_count": null,
   "id": "9d3c6e8d",
   "metadata": {},
   "outputs": [],
   "source": [
    "def func(a: Dict):  # параметр а должен быть словарем\n",
    "    pass"
   ]
  },
  {
   "cell_type": "code",
   "execution_count": null,
   "id": "da93d3e4",
   "metadata": {},
   "outputs": [],
   "source": [
    "def func(a: Optional[Dict] = None):  # параметр а должен быть словарем, либо ничем, параметр опциональный\n",
    "    pass"
   ]
  },
  {
   "cell_type": "code",
   "execution_count": null,
   "id": "434ef19a",
   "metadata": {},
   "outputs": [],
   "source": [
    "def func(a: Union[Dict, List]):  # параметр а может быть словарем ИЛИ списком\n",
    "    pass"
   ]
  },
  {
   "cell_type": "markdown",
   "id": "52f3bcf1",
   "metadata": {},
   "source": [
    "для возвращаемых значений запись выглядит чуть иначе"
   ]
  },
  {
   "cell_type": "code",
   "execution_count": 66,
   "id": "1714dfd9",
   "metadata": {},
   "outputs": [],
   "source": [
    "def func() -> str:\n",
    "    return \"abc\""
   ]
  },
  {
   "cell_type": "code",
   "execution_count": 67,
   "id": "77d34735",
   "metadata": {},
   "outputs": [],
   "source": [
    "def func() -> List: # возвращаемое значение должно быть списком\n",
    "    return [1, 2, 3]"
   ]
  },
  {
   "cell_type": "code",
   "execution_count": 69,
   "id": "687fa782",
   "metadata": {},
   "outputs": [],
   "source": [
    "def func() -> Optional[List]: # возвращаемое значение может быть списком либо None\n",
    "    return [1, 2, 3]"
   ]
  },
  {
   "cell_type": "markdown",
   "id": "1fb3584d",
   "metadata": {},
   "source": [
    "# Английский язык\n",
    "\n",
    "- пишите код с переводчиком, осмысленно называйте переменные и функции\n",
    "- гуглите на английском (например: python how to read pdf file)\n",
    "\n",
    "Чем больше вы будете использовать новые английские слова во время написания кода, тем легче будет идти его изучение и вы будете знать нужные технические английские слова и выражения"
   ]
  }
 ],
 "metadata": {
  "kernelspec": {
   "display_name": "Python 3 (ipykernel)",
   "language": "python",
   "name": "python3"
  },
  "language_info": {
   "codemirror_mode": {
    "name": "ipython",
    "version": 3
   },
   "file_extension": ".py",
   "mimetype": "text/x-python",
   "name": "python",
   "nbconvert_exporter": "python",
   "pygments_lexer": "ipython3",
   "version": "3.10.6"
  }
 },
 "nbformat": 4,
 "nbformat_minor": 5
}
