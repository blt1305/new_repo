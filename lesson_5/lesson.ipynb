{
 "cells": [
  {
   "cell_type": "markdown",
   "id": "2d6bc3b7",
   "metadata": {},
   "source": [
    "# Занятие 5"
   ]
  },
  {
   "cell_type": "markdown",
   "id": "81bbd01d",
   "metadata": {},
   "source": [
    "### map \n",
    "\n",
    "используется для применения ф-ции к каждому элементу итерируемого объекта и возврата новых значений"
   ]
  },
  {
   "cell_type": "code",
   "execution_count": 2,
   "id": "516aba1e",
   "metadata": {},
   "outputs": [
    {
     "data": {
      "text/plain": [
       "[1, 4, 9, 16]"
      ]
     },
     "execution_count": 2,
     "metadata": {},
     "output_type": "execute_result"
    }
   ],
   "source": [
    "list_ = [1, 2, 3, 4]\n",
    "\n",
    "list(map(lambda x: x**2, list_))"
   ]
  },
  {
   "cell_type": "markdown",
   "id": "9f9a4e3b",
   "metadata": {},
   "source": [
    "### filter\n",
    "\n",
    "для фильтрации"
   ]
  },
  {
   "cell_type": "code",
   "execution_count": 4,
   "id": "7163fd3a",
   "metadata": {},
   "outputs": [
    {
     "data": {
      "text/plain": [
       "[2, 3, 4]"
      ]
     },
     "execution_count": 4,
     "metadata": {},
     "output_type": "execute_result"
    }
   ],
   "source": [
    "list_ = [-10, 2, 3, 4, -1, -2, -3]\n",
    "list(filter(lambda x: x > 0, list_))"
   ]
  },
  {
   "cell_type": "markdown",
   "id": "b5a86b99",
   "metadata": {},
   "source": [
    "### reduce\n",
    "\n",
    "последовательно применяет ф-цию к элементам списка, возвращает единичное значение"
   ]
  },
  {
   "cell_type": "code",
   "execution_count": 9,
   "id": "665f4061",
   "metadata": {},
   "outputs": [
    {
     "data": {
      "text/plain": [
       "6"
      ]
     },
     "execution_count": 9,
     "metadata": {},
     "output_type": "execute_result"
    }
   ],
   "source": [
    "from functools import reduce\n",
    "reduce(lambda a, x: a + x, [1, 2, 3], 0)"
   ]
  },
  {
   "cell_type": "markdown",
   "id": "782005b5",
   "metadata": {},
   "source": [
    "Задание: из списка [1, 2, 3, 4] получить список [1, 8, 27, 64]"
   ]
  },
  {
   "cell_type": "code",
   "execution_count": null,
   "id": "026329f7",
   "metadata": {},
   "outputs": [],
   "source": [
    "list_ = [1, 2, 3, 4]"
   ]
  },
  {
   "cell_type": "markdown",
   "id": "4d5762a1",
   "metadata": {},
   "source": [
    "Задание: посчитать сумму квадратов каждого элемента списка"
   ]
  },
  {
   "cell_type": "code",
   "execution_count": 10,
   "id": "3b8e7dc6",
   "metadata": {},
   "outputs": [],
   "source": [
    "list_ = [10, 20, 30, 40]"
   ]
  },
  {
   "cell_type": "code",
   "execution_count": null,
   "id": "87deec9d",
   "metadata": {},
   "outputs": [],
   "source": [
    "Задание: посчитать сумму квадратов только четных элементов"
   ]
  },
  {
   "cell_type": "code",
   "execution_count": null,
   "id": "bf2b174b",
   "metadata": {},
   "outputs": [],
   "source": [
    "list_ = [10, 15, 20, 25]"
   ]
  },
  {
   "cell_type": "markdown",
   "id": "3f5482e6",
   "metadata": {},
   "source": [
    "Задание: из списка получить только те строки, в которых есть H"
   ]
  },
  {
   "cell_type": "code",
   "execution_count": 11,
   "id": "d776eab5",
   "metadata": {},
   "outputs": [],
   "source": [
    "list_ = [\"hello\", \"Hi\", \"123\"]"
   ]
  },
  {
   "cell_type": "markdown",
   "id": "076b290d",
   "metadata": {},
   "source": [
    "Задание: из данной структуры данных получить список возрастов"
   ]
  },
  {
   "cell_type": "code",
   "execution_count": 12,
   "id": "c66f3faa",
   "metadata": {},
   "outputs": [],
   "source": [
    "persons = [\n",
    "    {\"name\": \"Victor\", \"age\": 25},\n",
    "    {\"name\": \"Oliver\", \"age\": 32},\n",
    "    {\"name\": \"Bree\", \"age\": 14},\n",
    "]"
   ]
  },
  {
   "cell_type": "markdown",
   "id": "faca0147",
   "metadata": {},
   "source": [
    "# Функции высшего порядка\n",
    "\n",
    "функции, которые принимают в себя другие функции или возвращают их, например map, reduce, filter"
   ]
  },
  {
   "cell_type": "code",
   "execution_count": 13,
   "id": "7c28d30b",
   "metadata": {},
   "outputs": [],
   "source": [
    "# пример\n",
    "\n",
    "def func():\n",
    "    def inner_func():\n",
    "        print(\"Это внутренняя функция\")\n",
    "    return inner_func\n",
    "\n",
    "result = func() # чему равен result?"
   ]
  },
  {
   "cell_type": "markdown",
   "id": "0dec1220",
   "metadata": {},
   "source": [
    "# [Декоратор](https://pythonworld.ru/osnovy/dekoratory.html)\n",
    "\n",
    "функция, которая позволяет обернуть другую функцию для расширения ее функциональности без изменения ее кода"
   ]
  },
  {
   "cell_type": "code",
   "execution_count": 14,
   "id": "2987e8ec",
   "metadata": {},
   "outputs": [],
   "source": [
    "def wrapper(func):\n",
    "    \n",
    "    def inner():\n",
    "        print(\"Логика, которая выполняется до вызова функции\")\n",
    "        func()\n",
    "        print(\"Логика, которая выполняется после вызова функции\")\n",
    "        \n",
    "    return inner\n",
    "        \n",
    "\n",
    "@wrapper    \n",
    "def say_hi():\n",
    "    print(\"Hello\")"
   ]
  },
  {
   "cell_type": "code",
   "execution_count": 16,
   "id": "ad131004",
   "metadata": {},
   "outputs": [
    {
     "name": "stdout",
     "output_type": "stream",
     "text": [
      "Логика, которая выполняется до вызова функции\n",
      "Hello\n",
      "Логика, которая выполняется после вызова функции\n"
     ]
    }
   ],
   "source": [
    "say_hi()"
   ]
  },
  {
   "cell_type": "code",
   "execution_count": 19,
   "id": "59287479",
   "metadata": {},
   "outputs": [],
   "source": [
    "# второй вариант вызова\n",
    "def wrapper(func):\n",
    "    \n",
    "    def inner():\n",
    "        print(\"Логика, которая выполняется до вызова функции\")\n",
    "        func()\n",
    "        print(\"Логика, которая выполняется после вызова функции\")\n",
    "        \n",
    "    return inner\n",
    "        \n",
    "\n",
    "def say_hi():\n",
    "    print(\"Hello\")"
   ]
  },
  {
   "cell_type": "code",
   "execution_count": 20,
   "id": "6dbd36ed",
   "metadata": {},
   "outputs": [
    {
     "name": "stdout",
     "output_type": "stream",
     "text": [
      "Логика, которая выполняется до вызова функции\n",
      "Hello\n",
      "Логика, которая выполняется после вызова функции\n"
     ]
    }
   ],
   "source": [
    "wrapper(say_hi)()"
   ]
  },
  {
   "cell_type": "markdown",
   "id": "a375e15e",
   "metadata": {},
   "source": [
    "**Для чего используются**\n",
    "\n",
    "- для кэширования (чтобы не повторять вычисления)\n",
    "- для логгирования времени вызова функции\n",
    "- переопределить возвращаемое значение\n",
    "\n",
    "\n",
    "Важно помнить что декоратор немного замедляет вызов фунции"
   ]
  },
  {
   "cell_type": "code",
   "execution_count": 30,
   "id": "523b8c95",
   "metadata": {},
   "outputs": [],
   "source": [
    "import time\n",
    "\n",
    "def timer(func):\n",
    "    def wrapper():\n",
    "        start_time = time.time()\n",
    "        func()\n",
    "        print(f\"Время выполнения функции {time.time() - start_time}\")\n",
    "    return wrapper\n",
    "        \n",
    "@timer   \n",
    "def say_hi():\n",
    "    time.sleep(2)\n",
    "    print(\"Hello\")\n",
    "    "
   ]
  },
  {
   "cell_type": "code",
   "execution_count": 31,
   "id": "253503de",
   "metadata": {},
   "outputs": [
    {
     "name": "stdout",
     "output_type": "stream",
     "text": [
      "Hello\n",
      "Время выполнения функции 2.000582456588745\n"
     ]
    }
   ],
   "source": [
    "say_hi()"
   ]
  },
  {
   "cell_type": "code",
   "execution_count": 94,
   "id": "54ad12eb",
   "metadata": {},
   "outputs": [],
   "source": [
    "# что если функция принимает аргументы?\n",
    "\n",
    "def wrapper(func):\n",
    "    def inner(*args, **kwargs):\n",
    "        return func(*args, **kwargs)\n",
    "    return inner\n",
    "\n",
    "\n",
    "@wrapper\n",
    "def say_hi(name):\n",
    "    print(f\"Hi {name}\")"
   ]
  },
  {
   "cell_type": "code",
   "execution_count": 95,
   "id": "13e5d9a8",
   "metadata": {},
   "outputs": [
    {
     "name": "stdout",
     "output_type": "stream",
     "text": [
      "Hi Lena\n"
     ]
    },
    {
     "data": {
      "text/plain": [
       "1"
      ]
     },
     "execution_count": 95,
     "metadata": {},
     "output_type": "execute_result"
    }
   ],
   "source": [
    "say_hi(\"Lena\")"
   ]
  },
  {
   "cell_type": "markdown",
   "id": "3225bf38",
   "metadata": {},
   "source": [
    "### Декораторы с агрументами"
   ]
  },
  {
   "cell_type": "code",
   "execution_count": 37,
   "id": "0c8f4985",
   "metadata": {},
   "outputs": [],
   "source": [
    "def timer(max_time=2):\n",
    "    \n",
    "    def wrapper(func):\n",
    "        \n",
    "        def wrapped(*args, **kwargs):\n",
    "            start_time = time.time()\n",
    "            func(*args, **kwargs)\n",
    "            total_time = time.time() - start_time\n",
    "            print(f\"Время выполнения функции {total_time}\")\n",
    "            if total_time > max_time:\n",
    "                print(\"Время выполнения функции превысило 2 секунды!\")\n",
    "                \n",
    "        return wrapped\n",
    "    \n",
    "    return wrapper\n",
    "        \n",
    "@timer(2)\n",
    "def say_hi():\n",
    "    time.sleep(2)\n",
    "    print(\"Hello\")"
   ]
  },
  {
   "cell_type": "code",
   "execution_count": 38,
   "id": "441d31d4",
   "metadata": {},
   "outputs": [
    {
     "name": "stdout",
     "output_type": "stream",
     "text": [
      "Hello\n",
      "Время выполнения функции 2.0025479793548584\n",
      "Время выполнения функции превысило 2 секунды!\n"
     ]
    }
   ],
   "source": [
    "say_hi()"
   ]
  },
  {
   "cell_type": "code",
   "execution_count": 39,
   "id": "68a68593",
   "metadata": {},
   "outputs": [],
   "source": [
    "def decorator_maker():\n",
    "    print(\"Я создаю декораторы! Я буду вызван только раз: когда ты попросишь меня создать декоратор.\")\n",
    "    def my_decorator(func):\n",
    "        print(\"Я - декоратор! Я буду вызван только раз: в момент декорирования функции.\")\n",
    "        def wrapped():\n",
    "            print (\"Я - обёртка вокруг декорируемой функции.\\n\"\n",
    "                   \"Я буду вызвана каждый раз, когда ты вызываешь декорируемую функцию.\\n\"\n",
    "                   \"Я возвращаю результат работы декорируемой функции.\")\n",
    "            return func()\n",
    "        print(\"Я возвращаю обёрнутую функцию.\")\n",
    "        return wrapped\n",
    "    print(\"Я возвращаю декоратор.\")\n",
    "    return my_decorator"
   ]
  },
  {
   "cell_type": "code",
   "execution_count": 40,
   "id": "a52f2583",
   "metadata": {},
   "outputs": [
    {
     "name": "stdout",
     "output_type": "stream",
     "text": [
      "Я создаю декораторы! Я буду вызван только раз: когда ты попросишь меня создать декоратор.\n",
      "Я возвращаю декоратор.\n",
      "Я - декоратор! Я буду вызван только раз: в момент декорирования функции.\n",
      "Я возвращаю обёрнутую функцию.\n"
     ]
    }
   ],
   "source": [
    "@decorator_maker()\n",
    "def say_hi():\n",
    "    time.sleep(2)\n",
    "    print(\"Hello\")"
   ]
  },
  {
   "cell_type": "code",
   "execution_count": 41,
   "id": "d7efc30f",
   "metadata": {},
   "outputs": [
    {
     "name": "stdout",
     "output_type": "stream",
     "text": [
      "Я - обёртка вокруг декорируемой функции.\n",
      "Я буду вызвана каждый раз, когда ты вызываешь декорируемую функцию.\n",
      "Я возвращаю результат работы декорируемой функции.\n",
      "Hello\n"
     ]
    }
   ],
   "source": [
    "say_hi()"
   ]
  },
  {
   "cell_type": "markdown",
   "id": "3b7ed428",
   "metadata": {},
   "source": [
    "### Можно применять сразу несколько декораторов"
   ]
  },
  {
   "cell_type": "code",
   "execution_count": 47,
   "id": "8f02ed5a",
   "metadata": {},
   "outputs": [],
   "source": [
    "def logger(func):\n",
    "    def wrapper(*args, **kwargs):\n",
    "        print(f\"Мы вызвали функцию {func.__name__} с параметрами {args} {kwargs}\")\n",
    "        func(*args, **kwargs)\n",
    "    return wrapper\n",
    "\n",
    "\n",
    "@timer(2)\n",
    "@logger\n",
    "def say_hi(name):\n",
    "    time.sleep(2)\n",
    "    print(f\"Hello {name}\")"
   ]
  },
  {
   "cell_type": "code",
   "execution_count": 48,
   "id": "df11f281",
   "metadata": {},
   "outputs": [
    {
     "name": "stdout",
     "output_type": "stream",
     "text": [
      "Мы вызвали функцию say_hi с параметрами ('Andrew',) {}\n",
      "Hello Andrew\n",
      "Время выполнения функции 2.002312421798706\n",
      "Время выполнения функции превысило 2 секунды!\n"
     ]
    }
   ],
   "source": [
    "say_hi(\"Andrew\")"
   ]
  },
  {
   "cell_type": "markdown",
   "id": "3af4be55",
   "metadata": {},
   "source": [
    "Написать декотратор, который подсчитывает, сколько раз была вызвана функция"
   ]
  },
  {
   "cell_type": "code",
   "execution_count": 65,
   "id": "abbc9586",
   "metadata": {},
   "outputs": [],
   "source": [
    "count = 0\n",
    "def counter(func):\n",
    "    def inner_wrapper(*args, **kwargs):\n",
    "        func(*args, **kwargs)\n",
    "        global count\n",
    "        count += 1\n",
    "        print(f\"Count: {count}\")\n",
    "    return inner_wrapper"
   ]
  },
  {
   "cell_type": "code",
   "execution_count": 66,
   "id": "73a009f3",
   "metadata": {},
   "outputs": [],
   "source": [
    "@counter\n",
    "def say():\n",
    "    print(\"meow\")"
   ]
  },
  {
   "cell_type": "code",
   "execution_count": 69,
   "id": "7df31de0",
   "metadata": {},
   "outputs": [
    {
     "name": "stdout",
     "output_type": "stream",
     "text": [
      "meow\n",
      "Count: 3\n",
      "meow\n",
      "Count: 4\n",
      "meow\n",
      "Count: 5\n"
     ]
    }
   ],
   "source": [
    "say()\n",
    "say()\n",
    "say()"
   ]
  },
  {
   "cell_type": "markdown",
   "id": "24cc88a8",
   "metadata": {},
   "source": [
    "Но функция - объект, поэтому мы можем назначить ей атрибуты"
   ]
  },
  {
   "cell_type": "code",
   "execution_count": 84,
   "id": "06aabdae",
   "metadata": {},
   "outputs": [],
   "source": [
    "def counter(func):\n",
    "    \"\"\"\n",
    "    Декоратор, считающий и выводящий количество вызовов\n",
    "    декорируемой функции.\n",
    "    \"\"\"\n",
    "    def wrapper(*args, **kwargs):\n",
    "        wrapper.count += 1\n",
    "        res = func(*args, **kwargs)\n",
    "        print(f\"{func.__name__} была вызвана: {wrapper.count} раз(а)\")\n",
    "        return res\n",
    "    \n",
    "    wrapper.count = 0\n",
    "    return wrapper"
   ]
  },
  {
   "cell_type": "code",
   "execution_count": 85,
   "id": "d8c70a07",
   "metadata": {},
   "outputs": [
    {
     "name": "stdout",
     "output_type": "stream",
     "text": [
      "meow\n",
      "say была вызвана: 1 раз(а)\n",
      "meow\n",
      "say была вызвана: 2 раз(а)\n",
      "meow\n",
      "say была вызвана: 3 раз(а)\n",
      "meow\n",
      "say была вызвана: 4 раз(а)\n"
     ]
    }
   ],
   "source": [
    "@counter\n",
    "def say():\n",
    "    print(\"meow\")\n",
    "    \n",
    "say()\n",
    "say()\n",
    "say()\n",
    "say()"
   ]
  },
  {
   "cell_type": "code",
   "execution_count": 90,
   "id": "05207c8f",
   "metadata": {},
   "outputs": [],
   "source": [
    "def timer(times=[]):\n",
    "    \n",
    "    def wrapper(func):\n",
    "        \n",
    "        def wrapped(*args, **kwargs):\n",
    "            start_time = time.time()\n",
    "            func(*args, **kwargs)\n",
    "            total_time = time.time() - start_time\n",
    "            print(f\"Время выполнения функции {total_time}\")\n",
    "            if total_time > 2:\n",
    "                print(\"Время выполнения функции превысило 2 секунды!\")\n",
    "            times.append(total_time)\n",
    "            print(f\"Times {times}\")\n",
    "                \n",
    "        return wrapped\n",
    "    \n",
    "    return wrapper\n",
    "\n",
    "@timer()\n",
    "def say_hi():\n",
    "    time.sleep(2)\n",
    "    print(\"Hello\")"
   ]
  },
  {
   "cell_type": "code",
   "execution_count": 91,
   "id": "16129914",
   "metadata": {},
   "outputs": [
    {
     "name": "stdout",
     "output_type": "stream",
     "text": [
      "Hello\n",
      "Время выполнения функции 2.0023481845855713\n",
      "Время выполнения функции превысило 2 секунды!\n",
      "Times [2.0023481845855713]\n",
      "Hello\n",
      "Время выполнения функции 2.000194787979126\n",
      "Время выполнения функции превысило 2 секунды!\n",
      "Times [2.0023481845855713, 2.000194787979126]\n"
     ]
    }
   ],
   "source": [
    "say_hi()\n",
    "say_hi()"
   ]
  },
  {
   "cell_type": "markdown",
   "id": "1cabec3a",
   "metadata": {},
   "source": [
    "Задание: написать декторатор, который добавляет в kwargs ключ \"key\" со значением \"value\""
   ]
  },
  {
   "cell_type": "code",
   "execution_count": null,
   "id": "f1cf7675",
   "metadata": {},
   "outputs": [],
   "source": []
  },
  {
   "cell_type": "markdown",
   "id": "a10d6248",
   "metadata": {},
   "source": [
    "Задание: написать декоратор, который выводит сообщение, если функция возвращает четное число"
   ]
  },
  {
   "cell_type": "code",
   "execution_count": null,
   "id": "e0062da0",
   "metadata": {},
   "outputs": [],
   "source": [
    "import random\n",
    "\n",
    "def func():\n",
    "    return random.randint(1, 100)"
   ]
  },
  {
   "cell_type": "markdown",
   "id": "ad09df02",
   "metadata": {},
   "source": [
    "Задание: написать декоратор retry, который просит пользователя ввести число до тех пор, пока пользователь не введет число больше 0"
   ]
  },
  {
   "cell_type": "code",
   "execution_count": 92,
   "id": "39a249d5",
   "metadata": {},
   "outputs": [],
   "source": [
    "def input_positive_int():\n",
    "    return int(input(\"Введите положительное число\"))"
   ]
  },
  {
   "cell_type": "markdown",
   "id": "1e7cc6cd",
   "metadata": {},
   "source": [
    "Задание: написать декоратор, который выводит сообщение об ошибке, если мы хотим передать в функцию 0"
   ]
  },
  {
   "cell_type": "code",
   "execution_count": 93,
   "id": "6a5a9c58",
   "metadata": {},
   "outputs": [],
   "source": [
    "def div(a, b):\n",
    "    return a / b"
   ]
  },
  {
   "cell_type": "code",
   "execution_count": null,
   "id": "e1b781eb",
   "metadata": {},
   "outputs": [],
   "source": []
  }
 ],
 "metadata": {
  "kernelspec": {
   "display_name": "Python 3 (ipykernel)",
   "language": "python",
   "name": "python3"
  },
  "language_info": {
   "codemirror_mode": {
    "name": "ipython",
    "version": 3
   },
   "file_extension": ".py",
   "mimetype": "text/x-python",
   "name": "python",
   "nbconvert_exporter": "python",
   "pygments_lexer": "ipython3",
   "version": "3.10.6"
  }
 },
 "nbformat": 4,
 "nbformat_minor": 5
}
