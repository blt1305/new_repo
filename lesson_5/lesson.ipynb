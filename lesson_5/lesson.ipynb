{
 "cells": [
  {
   "cell_type": "markdown",
   "id": "2d6bc3b7",
   "metadata": {},
   "source": [
    "# Занятие 5"
   ]
  },
  {
   "cell_type": "markdown",
   "id": "81bbd01d",
   "metadata": {},
   "source": [
    "### map \n",
    "\n",
    "используется для применения ф-ции к каждому элементу итерируемого объекта и возврата новых значений"
   ]
  },
  {
   "cell_type": "code",
   "execution_count": 3,
   "id": "516aba1e",
   "metadata": {},
   "outputs": [
    {
     "data": {
      "text/plain": [
       "[1, 4, 9, 16]"
      ]
     },
     "execution_count": 3,
     "metadata": {},
     "output_type": "execute_result"
    }
   ],
   "source": [
    "list_ = [1, 2, 3, 4]\n",
    "list(map(lambda x: x**2, list_))"
   ]
  },
  {
   "cell_type": "markdown",
   "id": "9f9a4e3b",
   "metadata": {},
   "source": [
    "### filter\n",
    "\n",
    "для фильтрации"
   ]
  },
  {
   "cell_type": "code",
   "execution_count": 4,
   "id": "7163fd3a",
   "metadata": {},
   "outputs": [
    {
     "data": {
      "text/plain": [
       "[2, 3, 4]"
      ]
     },
     "execution_count": 4,
     "metadata": {},
     "output_type": "execute_result"
    }
   ],
   "source": [
    "list_ = [-10, 2, 3, 4, -1, -2, -3]\n",
    "list(filter(lambda x: x > 0, list_))"
   ]
  },
  {
   "cell_type": "markdown",
   "id": "b5a86b99",
   "metadata": {},
   "source": [
    "### reduce\n",
    "\n",
    "последовательно применяет ф-цию к элементам списка, возвращает единичное значение"
   ]
  },
  {
   "cell_type": "code",
   "execution_count": 14,
   "id": "665f4061",
   "metadata": {},
   "outputs": [
    {
     "name": "stdout",
     "output_type": "stream",
     "text": [
      "6\n"
     ]
    }
   ],
   "source": [
    "from functools import reduce\n",
    "x = reduce(lambda result, x: result * x, [1, 2, 3], 1) # custom sum\n",
    "print(x)"
   ]
  },
  {
   "cell_type": "markdown",
   "id": "782005b5",
   "metadata": {},
   "source": [
    "Задание: из списка [1, 2, 3, 4] получить список [1, 8, 27, 64]"
   ]
  },
  {
   "cell_type": "code",
   "execution_count": 23,
   "id": "026329f7",
   "metadata": {},
   "outputs": [
    {
     "data": {
      "text/plain": [
       "(1, 8, 27, 64)"
      ]
     },
     "execution_count": 23,
     "metadata": {},
     "output_type": "execute_result"
    }
   ],
   "source": [
    "list_ = [1, 2, 3, 4]\n",
    "tuple(map(lambda x: x**3, list_))"
   ]
  },
  {
   "cell_type": "markdown",
   "id": "4d5762a1",
   "metadata": {},
   "source": [
    "Задание: посчитать сумму квадратов элементов списка"
   ]
  },
  {
   "cell_type": "code",
   "execution_count": 31,
   "id": "3b8e7dc6",
   "metadata": {},
   "outputs": [
    {
     "data": {
      "text/plain": [
       "2910"
      ]
     },
     "execution_count": 31,
     "metadata": {},
     "output_type": "execute_result"
    }
   ],
   "source": [
    "list_ = [10, 20, 30, 40]\n",
    "reduce(lambda d, x: d + x ** 2, list_)"
   ]
  },
  {
   "cell_type": "code",
   "execution_count": null,
   "id": "87deec9d",
   "metadata": {},
   "outputs": [],
   "source": [
    "Задание: посчитать сумму квадратов только четных элементов"
   ]
  },
  {
   "cell_type": "code",
   "execution_count": 42,
   "id": "bf2b174b",
   "metadata": {},
   "outputs": [
    {
     "data": {
      "text/plain": [
       "20"
      ]
     },
     "execution_count": 42,
     "metadata": {},
     "output_type": "execute_result"
    }
   ],
   "source": [
    "list_ = [2, 1, 4, 1]\n",
    "reduce(lambda x, y: (x + y ** 2) if y % 2 == 0 else x, list_, 0)"
   ]
  },
  {
   "cell_type": "markdown",
   "id": "3f5482e6",
   "metadata": {},
   "source": [
    "Задание: из списка получить только те строки, в которых есть H"
   ]
  },
  {
   "cell_type": "code",
   "execution_count": 35,
   "id": "d776eab5",
   "metadata": {},
   "outputs": [
    {
     "data": {
      "text/plain": [
       "['Hi']"
      ]
     },
     "execution_count": 35,
     "metadata": {},
     "output_type": "execute_result"
    }
   ],
   "source": [
    "list_ = [\"hello\", \"Hi\", \"123\"]\n",
    "list(filter(lambda x: \"H\" in x, list_))"
   ]
  },
  {
   "cell_type": "markdown",
   "id": "076b290d",
   "metadata": {},
   "source": [
    "Задание: из данной структуры данных получить список возрастов"
   ]
  },
  {
   "cell_type": "code",
   "execution_count": 40,
   "id": "c66f3faa",
   "metadata": {},
   "outputs": [
    {
     "data": {
      "text/plain": [
       "[25, 32, 14]"
      ]
     },
     "execution_count": 40,
     "metadata": {},
     "output_type": "execute_result"
    }
   ],
   "source": [
    "persons = [\n",
    "    {\"name\": \"Victor\", \"age\": 25},\n",
    "    {\"name\": \"Oliver\", \"age\": 32},\n",
    "    {\"name\": \"Bree\", \"age\": 14},\n",
    "]\n",
    "list(map(lambda h: h[\"age\"], persons))"
   ]
  },
  {
   "cell_type": "markdown",
   "id": "faca0147",
   "metadata": {},
   "source": [
    "# Функции высшего порядка\n",
    "\n",
    "функции, которые принимают в себя другие функции или возвращают их, например map, reduce, filter"
   ]
  },
  {
   "cell_type": "code",
   "execution_count": 47,
   "id": "7c28d30b",
   "metadata": {},
   "outputs": [],
   "source": [
    "# пример\n",
    "\n",
    "def func():\n",
    "    def inner_func():\n",
    "        print(\"Это внутренняя функция\")\n",
    "    return inner_func\n",
    "\n",
    "result = func() # чему равен result?"
   ]
  },
  {
   "cell_type": "code",
   "execution_count": 48,
   "id": "a485954e",
   "metadata": {},
   "outputs": [
    {
     "data": {
      "text/plain": [
       "<function __main__.func.<locals>.inner_func()>"
      ]
     },
     "execution_count": 48,
     "metadata": {},
     "output_type": "execute_result"
    }
   ],
   "source": [
    "result"
   ]
  },
  {
   "cell_type": "code",
   "execution_count": 49,
   "id": "07252c39",
   "metadata": {},
   "outputs": [
    {
     "name": "stdout",
     "output_type": "stream",
     "text": [
      "Это внутренняя функция\n"
     ]
    }
   ],
   "source": [
    "result()"
   ]
  },
  {
   "cell_type": "markdown",
   "id": "0dec1220",
   "metadata": {},
   "source": [
    "# [Декоратор](https://pythonworld.ru/osnovy/dekoratory.html)\n",
    "\n",
    "функция, которая позволяет обернуть другую функцию для расширения ее функциональности без изменения ее кода"
   ]
  },
  {
   "cell_type": "code",
   "execution_count": 60,
   "id": "2987e8ec",
   "metadata": {},
   "outputs": [],
   "source": [
    "def wrapper(func):\n",
    "    \n",
    "    def inner():\n",
    "        print(\"Логика, которая выполняется до вызова функции\")\n",
    "        func()\n",
    "        print(\"Логика, которая выполняется после вызова функции\")\n",
    "        \n",
    "    return inner\n",
    "        \n",
    "\n",
    "@wrapper\n",
    "def say_hi():\n",
    "    print(\"Hello\")"
   ]
  },
  {
   "cell_type": "code",
   "execution_count": 61,
   "id": "1f176b99",
   "metadata": {},
   "outputs": [
    {
     "name": "stdout",
     "output_type": "stream",
     "text": [
      "Логика, которая выполняется до вызова функции\n",
      "Hello\n",
      "Логика, которая выполняется после вызова функции\n"
     ]
    }
   ],
   "source": [
    "say_hi()"
   ]
  },
  {
   "cell_type": "code",
   "execution_count": 55,
   "id": "372c1882",
   "metadata": {},
   "outputs": [
    {
     "name": "stdout",
     "output_type": "stream",
     "text": [
      "Логика, которая выполняется до вызова функции\n",
      "Hello\n",
      "Логика, которая выполняется после вызова функции\n"
     ]
    }
   ],
   "source": [
    "def say_hi():\n",
    "    print(\"Hello\")\n",
    "    \n",
    "wrapper(say_hi)()"
   ]
  },
  {
   "cell_type": "code",
   "execution_count": 54,
   "id": "b6e430a8",
   "metadata": {},
   "outputs": [
    {
     "name": "stdout",
     "output_type": "stream",
     "text": [
      "Логика, которая выполняется до вызова функции\n",
      "Hello\n",
      "Логика, которая выполняется после вызова функции\n"
     ]
    }
   ],
   "source": []
  },
  {
   "cell_type": "code",
   "execution_count": 16,
   "id": "ad131004",
   "metadata": {},
   "outputs": [
    {
     "name": "stdout",
     "output_type": "stream",
     "text": [
      "Логика, которая выполняется до вызова функции\n",
      "Hello\n",
      "Логика, которая выполняется после вызова функции\n"
     ]
    }
   ],
   "source": [
    "say_hi()"
   ]
  },
  {
   "cell_type": "code",
   "execution_count": 19,
   "id": "59287479",
   "metadata": {},
   "outputs": [],
   "source": [
    "# второй вариант вызова\n",
    "def wrapper(func):\n",
    "    \n",
    "    def inner():\n",
    "        print(\"Логика, которая выполняется до вызова функции\")\n",
    "        func()\n",
    "        print(\"Логика, которая выполняется после вызова функции\")\n",
    "        \n",
    "    return inner\n",
    "        \n",
    "\n",
    "def say_hi():\n",
    "    print(\"Hello\")"
   ]
  },
  {
   "cell_type": "code",
   "execution_count": 20,
   "id": "6dbd36ed",
   "metadata": {},
   "outputs": [
    {
     "name": "stdout",
     "output_type": "stream",
     "text": [
      "Логика, которая выполняется до вызова функции\n",
      "Hello\n",
      "Логика, которая выполняется после вызова функции\n"
     ]
    }
   ],
   "source": [
    "wrapper(say_hi)()"
   ]
  },
  {
   "cell_type": "markdown",
   "id": "a375e15e",
   "metadata": {},
   "source": [
    "**Для чего используются**\n",
    "\n",
    "- для кэширования (чтобы не повторять вычисления)\n",
    "- для логгирования времени вызова функции\n",
    "- переопределить возвращаемое значение\n",
    "\n",
    "\n",
    "Важно помнить что декоратор немного замедляет вызов фунции"
   ]
  },
  {
   "cell_type": "code",
   "execution_count": 72,
   "id": "523b8c95",
   "metadata": {},
   "outputs": [],
   "source": [
    "import time\n",
    "\n",
    "def timer(func):\n",
    "    def inner():\n",
    "        start_time = time.time()\n",
    "        func()\n",
    "        print(f\"Время выполнения функции {time.time() - start_time}\")\n",
    "    return inner\n",
    "        \n",
    "@timer   \n",
    "def say_hi():\n",
    "    time.sleep(2) # спать 2 сек\n",
    "    print(\"Hello\")\n",
    "    "
   ]
  },
  {
   "cell_type": "code",
   "execution_count": 73,
   "id": "253503de",
   "metadata": {},
   "outputs": [
    {
     "name": "stdout",
     "output_type": "stream",
     "text": [
      "Hello\n",
      "Время выполнения функции 2.014202833175659\n"
     ]
    }
   ],
   "source": [
    "say_hi()"
   ]
  },
  {
   "cell_type": "code",
   "execution_count": 77,
   "id": "d9e5be8c",
   "metadata": {},
   "outputs": [
    {
     "name": "stdout",
     "output_type": "stream",
     "text": [
      "Hello from decorator\n",
      "Hi Petr\n"
     ]
    }
   ],
   "source": [
    "# что если функция принимает аргументы?\n",
    "\n",
    "def wrapper(func):\n",
    "    def inner(name):\n",
    "        print(\"Hello from decorator\")\n",
    "        return func(name)\n",
    "    return inner\n",
    "\n",
    "\n",
    "@wrapper\n",
    "def say_hi(name):\n",
    "    print(f\"Hi {name}\")\n",
    "    \n",
    "say_hi(\"Petr\")"
   ]
  },
  {
   "cell_type": "code",
   "execution_count": 94,
   "id": "54ad12eb",
   "metadata": {},
   "outputs": [],
   "source": [
    "# что если функция принимает аргументы?\n",
    "\n",
    "def wrapper(func):\n",
    "    def inner(*args, **kwargs):\n",
    "        return func(*args, **kwargs)\n",
    "    return inner\n",
    "\n",
    "\n",
    "@wrapper\n",
    "def say_hi(name):\n",
    "    print(f\"Hi {name}\")"
   ]
  },
  {
   "cell_type": "code",
   "execution_count": 95,
   "id": "13e5d9a8",
   "metadata": {},
   "outputs": [
    {
     "name": "stdout",
     "output_type": "stream",
     "text": [
      "Hi Lena\n"
     ]
    },
    {
     "data": {
      "text/plain": [
       "1"
      ]
     },
     "execution_count": 95,
     "metadata": {},
     "output_type": "execute_result"
    }
   ],
   "source": [
    "say_hi(\"Lena\")"
   ]
  },
  {
   "cell_type": "markdown",
   "id": "3225bf38",
   "metadata": {},
   "source": [
    "### Декораторы с агрументами"
   ]
  },
  {
   "cell_type": "code",
   "execution_count": 86,
   "id": "0c8f4985",
   "metadata": {},
   "outputs": [],
   "source": [
    "def timer(max_time=2):\n",
    "    \n",
    "    def wrapper(func):\n",
    "        \n",
    "        def wrapped(*args, **kwargs):\n",
    "            start_time = time.time()\n",
    "            func(*args, **kwargs)\n",
    "            total_time = time.time() - start_time\n",
    "            print(f\"Время выполнения функции {total_time}\")\n",
    "            if total_time > max_time:\n",
    "                print(f\"Время выполнения функции превысило {max_time} секунды!\")\n",
    "                \n",
    "        return wrapped\n",
    "    \n",
    "    return wrapper\n",
    "        \n",
    "@timer()\n",
    "def say_hi():\n",
    "    time.sleep(2)\n",
    "    print(\"Hello\")"
   ]
  },
  {
   "cell_type": "code",
   "execution_count": null,
   "id": "a3ccac4c",
   "metadata": {},
   "outputs": [],
   "source": [
    "timer(2)(say_hi)()"
   ]
  },
  {
   "cell_type": "code",
   "execution_count": 87,
   "id": "441d31d4",
   "metadata": {},
   "outputs": [
    {
     "name": "stdout",
     "output_type": "stream",
     "text": [
      "Hello\n",
      "Время выполнения функции 2.014209270477295\n",
      "Время выполнения функции превысило 2 секунды!\n"
     ]
    }
   ],
   "source": [
    "say_hi()"
   ]
  },
  {
   "cell_type": "code",
   "execution_count": null,
   "id": "fcfad942",
   "metadata": {},
   "outputs": [],
   "source": [
    "@timer(2)\n",
    "def say_hi_name(name):\n",
    "    time.sleep(2)\n",
    "    print(f\"Hello {name}\")"
   ]
  },
  {
   "cell_type": "code",
   "execution_count": 39,
   "id": "68a68593",
   "metadata": {},
   "outputs": [],
   "source": [
    "def decorator_maker():\n",
    "    print(\"Я создаю декораторы! Я буду вызван только раз: когда ты попросишь меня создать декоратор.\")\n",
    "    def my_decorator(func):\n",
    "        print(\"Я - декоратор! Я буду вызван только раз: в момент декорирования функции.\")\n",
    "        def wrapped():\n",
    "            print (\"Я - обёртка вокруг декорируемой функции.\\n\"\n",
    "                   \"Я буду вызвана каждый раз, когда ты вызываешь декорируемую функцию.\\n\"\n",
    "                   \"Я возвращаю результат работы декорируемой функции.\")\n",
    "            return func()\n",
    "        print(\"Я возвращаю обёрнутую функцию.\")\n",
    "        return wrapped\n",
    "    print(\"Я возвращаю декоратор.\")\n",
    "    return my_decorator"
   ]
  },
  {
   "cell_type": "code",
   "execution_count": 40,
   "id": "a52f2583",
   "metadata": {},
   "outputs": [
    {
     "name": "stdout",
     "output_type": "stream",
     "text": [
      "Я создаю декораторы! Я буду вызван только раз: когда ты попросишь меня создать декоратор.\n",
      "Я возвращаю декоратор.\n",
      "Я - декоратор! Я буду вызван только раз: в момент декорирования функции.\n",
      "Я возвращаю обёрнутую функцию.\n"
     ]
    }
   ],
   "source": [
    "@decorator_maker()\n",
    "def say_hi():\n",
    "    time.sleep(2)\n",
    "    print(\"Hello\")"
   ]
  },
  {
   "cell_type": "code",
   "execution_count": 41,
   "id": "d7efc30f",
   "metadata": {},
   "outputs": [
    {
     "name": "stdout",
     "output_type": "stream",
     "text": [
      "Я - обёртка вокруг декорируемой функции.\n",
      "Я буду вызвана каждый раз, когда ты вызываешь декорируемую функцию.\n",
      "Я возвращаю результат работы декорируемой функции.\n",
      "Hello\n"
     ]
    }
   ],
   "source": [
    "say_hi()"
   ]
  },
  {
   "cell_type": "markdown",
   "id": "3b7ed428",
   "metadata": {},
   "source": [
    "### Можно применять сразу несколько декораторов"
   ]
  },
  {
   "cell_type": "code",
   "execution_count": 47,
   "id": "8f02ed5a",
   "metadata": {},
   "outputs": [],
   "source": [
    "def logger(func):\n",
    "    def wrapper(*args, **kwargs):\n",
    "        print(f\"Мы вызвали функцию {func.__name__} с параметрами {args} {kwargs}\")\n",
    "        func(*args, **kwargs)\n",
    "    return wrapper\n",
    "\n",
    "\n",
    "@timer(2)\n",
    "@logger\n",
    "def say_hi(name):\n",
    "    time.sleep(2)\n",
    "    print(f\"Hello {name}\")"
   ]
  },
  {
   "cell_type": "code",
   "execution_count": 48,
   "id": "df11f281",
   "metadata": {},
   "outputs": [
    {
     "name": "stdout",
     "output_type": "stream",
     "text": [
      "Мы вызвали функцию say_hi с параметрами ('Andrew',) {}\n",
      "Hello Andrew\n",
      "Время выполнения функции 2.002312421798706\n",
      "Время выполнения функции превысило 2 секунды!\n"
     ]
    }
   ],
   "source": [
    "say_hi(\"Andrew\")"
   ]
  },
  {
   "cell_type": "markdown",
   "id": "3af4be55",
   "metadata": {},
   "source": [
    "Написать декотратор, который подсчитывает, сколько раз была вызвана функция"
   ]
  },
  {
   "cell_type": "code",
   "execution_count": 88,
   "id": "abbc9586",
   "metadata": {},
   "outputs": [],
   "source": [
    "count = 0\n",
    "def counter(func):\n",
    "    def inner_wrapper(*args, **kwargs):\n",
    "        func(*args, **kwargs)\n",
    "        global count\n",
    "        count += 1\n",
    "        print(f\"Count: {count}\")\n",
    "    return inner_wrapper"
   ]
  },
  {
   "cell_type": "code",
   "execution_count": 92,
   "id": "8b1ba325",
   "metadata": {},
   "outputs": [
    {
     "data": {
      "text/plain": [
       "6"
      ]
     },
     "execution_count": 92,
     "metadata": {},
     "output_type": "execute_result"
    }
   ],
   "source": [
    "count"
   ]
  },
  {
   "cell_type": "code",
   "execution_count": 89,
   "id": "73a009f3",
   "metadata": {},
   "outputs": [],
   "source": [
    "@counter\n",
    "def say():\n",
    "    print(\"meow\")"
   ]
  },
  {
   "cell_type": "code",
   "execution_count": 91,
   "id": "7df31de0",
   "metadata": {},
   "outputs": [
    {
     "name": "stdout",
     "output_type": "stream",
     "text": [
      "meow\n",
      "Count: 4\n",
      "meow\n",
      "Count: 5\n",
      "meow\n",
      "Count: 6\n"
     ]
    }
   ],
   "source": [
    "say()\n",
    "say()\n",
    "say()"
   ]
  },
  {
   "cell_type": "markdown",
   "id": "24cc88a8",
   "metadata": {},
   "source": [
    "Но функция - объект, поэтому мы можем назначить ей атрибуты"
   ]
  },
  {
   "cell_type": "code",
   "execution_count": 93,
   "id": "06aabdae",
   "metadata": {},
   "outputs": [],
   "source": [
    "def counter(func):\n",
    "    \"\"\"\n",
    "    Декоратор, считающий и выводящий количество вызовов\n",
    "    декорируемой функции.\n",
    "    \"\"\"\n",
    "    def wrapper(*args, **kwargs):\n",
    "        wrapper.count += 1\n",
    "        res = func(*args, **kwargs)\n",
    "        print(f\"{func.__name__} была вызвана: {wrapper.count} раз(а)\")\n",
    "        return res\n",
    "    \n",
    "    wrapper.count = 0\n",
    "    return wrapper"
   ]
  },
  {
   "cell_type": "code",
   "execution_count": 94,
   "id": "d8c70a07",
   "metadata": {},
   "outputs": [
    {
     "name": "stdout",
     "output_type": "stream",
     "text": [
      "meow\n",
      "say была вызвана: 1 раз(а)\n",
      "meow\n",
      "say была вызвана: 2 раз(а)\n",
      "meow\n",
      "say была вызвана: 3 раз(а)\n",
      "meow\n",
      "say была вызвана: 4 раз(а)\n"
     ]
    }
   ],
   "source": [
    "@counter\n",
    "def say():\n",
    "    print(\"meow\")\n",
    "    \n",
    "say()\n",
    "say()\n",
    "say()\n",
    "say()"
   ]
  },
  {
   "cell_type": "code",
   "execution_count": 90,
   "id": "05207c8f",
   "metadata": {},
   "outputs": [],
   "source": [
    "def timer(times=[]):\n",
    "    \n",
    "    def wrapper(func):\n",
    "        \n",
    "        def wrapped(*args, **kwargs):\n",
    "            start_time = time.time()\n",
    "            func(*args, **kwargs)\n",
    "            total_time = time.time() - start_time\n",
    "            print(f\"Время выполнения функции {total_time}\")\n",
    "            if total_time > 2:\n",
    "                print(\"Время выполнения функции превысило 2 секунды!\")\n",
    "            times.append(total_time)\n",
    "            print(f\"Times {times}\")\n",
    "                \n",
    "        return wrapped\n",
    "    \n",
    "    return wrapper\n",
    "\n",
    "@timer()\n",
    "def say_hi():\n",
    "    time.sleep(2)\n",
    "    print(\"Hello\")"
   ]
  },
  {
   "cell_type": "code",
   "execution_count": 91,
   "id": "16129914",
   "metadata": {},
   "outputs": [
    {
     "name": "stdout",
     "output_type": "stream",
     "text": [
      "Hello\n",
      "Время выполнения функции 2.0023481845855713\n",
      "Время выполнения функции превысило 2 секунды!\n",
      "Times [2.0023481845855713]\n",
      "Hello\n",
      "Время выполнения функции 2.000194787979126\n",
      "Время выполнения функции превысило 2 секунды!\n",
      "Times [2.0023481845855713, 2.000194787979126]\n"
     ]
    }
   ],
   "source": [
    "say_hi()\n",
    "say_hi()"
   ]
  },
  {
   "cell_type": "markdown",
   "id": "1cabec3a",
   "metadata": {},
   "source": [
    "Задание: написать декторатор, который добавляет в kwargs ключ \"key\" со значением \"value\""
   ]
  },
  {
   "cell_type": "code",
   "execution_count": null,
   "id": "f1cf7675",
   "metadata": {},
   "outputs": [],
   "source": []
  },
  {
   "cell_type": "markdown",
   "id": "a10d6248",
   "metadata": {},
   "source": [
    "Задание: написать декоратор, который выводит сообщение, если функция возвращает четное число"
   ]
  },
  {
   "cell_type": "code",
   "execution_count": 110,
   "id": "e0062da0",
   "metadata": {},
   "outputs": [
    {
     "name": "stdout",
     "output_type": "stream",
     "text": [
      "calculate\n"
     ]
    },
    {
     "data": {
      "text/plain": [
       "4"
      ]
     },
     "execution_count": 110,
     "metadata": {},
     "output_type": "execute_result"
    }
   ],
   "source": [
    "import random\n",
    "\n",
    "def counter(func):    \n",
    "    def inner(number):\n",
    "        if number in inner.cache:\n",
    "            print(\"from cache\", inner.cache)\n",
    "            return inner.cache[number]\n",
    "        else:\n",
    "            print(\"calculate\")\n",
    "            result = func(number)\n",
    "            inner.cache[number] = result\n",
    "            return result \n",
    "    \n",
    "    inner.cache = {}\n",
    "    return inner\n",
    "    \n",
    "\n",
    "\n",
    "@counter\n",
    "def calculate(number):\n",
    "    return number ** 2 # возвращает рандомное целое число от 1 до 100\n",
    "\n",
    "calculate(2)"
   ]
  },
  {
   "cell_type": "code",
   "execution_count": 111,
   "id": "d2f26dad",
   "metadata": {},
   "outputs": [
    {
     "name": "stdout",
     "output_type": "stream",
     "text": [
      "from cache {2: 4}\n"
     ]
    },
    {
     "data": {
      "text/plain": [
       "4"
      ]
     },
     "execution_count": 111,
     "metadata": {},
     "output_type": "execute_result"
    }
   ],
   "source": [
    "calculate(2)"
   ]
  },
  {
   "cell_type": "code",
   "execution_count": 106,
   "id": "4fdce8ae",
   "metadata": {},
   "outputs": [
    {
     "name": "stdout",
     "output_type": "stream",
     "text": [
      "число четное!\n",
      "3\n"
     ]
    },
    {
     "data": {
      "text/plain": [
       "94"
      ]
     },
     "execution_count": 106,
     "metadata": {},
     "output_type": "execute_result"
    }
   ],
   "source": [
    "func()"
   ]
  },
  {
   "cell_type": "code",
   "execution_count": 107,
   "id": "79a95433",
   "metadata": {},
   "outputs": [
    {
     "ename": "TypeError",
     "evalue": "'NoneType' object is not callable",
     "output_type": "error",
     "traceback": [
      "\u001b[1;31m---------------------------------------------------------------------------\u001b[0m",
      "\u001b[1;31mTypeError\u001b[0m                                 Traceback (most recent call last)",
      "Cell \u001b[1;32mIn[107], line 13\u001b[0m\n\u001b[0;32m      9\u001b[0m \u001b[38;5;129m@counter\u001b[39m\n\u001b[0;32m     10\u001b[0m \u001b[38;5;28;01mdef\u001b[39;00m \u001b[38;5;21mfunc\u001b[39m():\n\u001b[0;32m     11\u001b[0m     \u001b[38;5;28;01mreturn\u001b[39;00m random\u001b[38;5;241m.\u001b[39mrandint(\u001b[38;5;241m1\u001b[39m, \u001b[38;5;241m100\u001b[39m) \u001b[38;5;66;03m# возвращает рандомное целое число от 1 до 100\u001b[39;00m\n\u001b[1;32m---> 13\u001b[0m \u001b[43mfunc\u001b[49m\u001b[43m(\u001b[49m\u001b[43m)\u001b[49m\n",
      "\u001b[1;31mTypeError\u001b[0m: 'NoneType' object is not callable"
     ]
    }
   ],
   "source": [
    "import random\n",
    "\n",
    "def counter(func):    \n",
    "    def inner(name):\n",
    "        return func(name)\n",
    "    return inner\n",
    "    \n",
    "counter(func) # None\n",
    "\n",
    "@counter\n",
    "def func(name):\n",
    "    return random.randint(1, 100) # возвращает рандомное целое число от 1 до 100\n",
    "\n",
    "func()"
   ]
  },
  {
   "cell_type": "markdown",
   "id": "ad09df02",
   "metadata": {},
   "source": [
    "Задание: написать декоратор retry, который просит пользователя ввести число до тех пор, пока пользователь не введет число больше 0"
   ]
  },
  {
   "cell_type": "code",
   "execution_count": 1,
   "id": "39a249d5",
   "metadata": {},
   "outputs": [
    {
     "name": "stdout",
     "output_type": "stream",
     "text": [
      "Введите положительное число-1\n",
      "Введите положительное число-90\n",
      "Введите положительное число2\n"
     ]
    },
    {
     "data": {
      "text/plain": [
       "2"
      ]
     },
     "execution_count": 1,
     "metadata": {},
     "output_type": "execute_result"
    }
   ],
   "source": [
    "def retry(func):    \n",
    "    def inner():\n",
    "        while True:\n",
    "            result = func()\n",
    "            if result > 0:\n",
    "                return result\n",
    "    return inner\n",
    "    \n",
    "@retry\n",
    "def input_positive_int():\n",
    "    return int(input(\"Введите положительное число\"))\n",
    "\n",
    "input_positive_int()\n",
    "# retry(input_positive_int)() - эквивалентная запись"
   ]
  },
  {
   "cell_type": "markdown",
   "id": "1e7cc6cd",
   "metadata": {},
   "source": [
    "Задание: написать декоратор, который выводит сообщение об ошибке, если мы хотим передать в функцию 0"
   ]
  },
  {
   "cell_type": "code",
   "execution_count": 93,
   "id": "6a5a9c58",
   "metadata": {},
   "outputs": [],
   "source": [
    "def div(a, b):\n",
    "    return a / b"
   ]
  },
  {
   "cell_type": "code",
   "execution_count": null,
   "id": "e1b781eb",
   "metadata": {},
   "outputs": [],
   "source": []
  }
 ],
 "metadata": {
  "kernelspec": {
   "display_name": "Python 3 (ipykernel)",
   "language": "python",
   "name": "python3"
  },
  "language_info": {
   "codemirror_mode": {
    "name": "ipython",
    "version": 3
   },
   "file_extension": ".py",
   "mimetype": "text/x-python",
   "name": "python",
   "nbconvert_exporter": "python",
   "pygments_lexer": "ipython3",
   "version": "3.10.10"
  }
 },
 "nbformat": 4,
 "nbformat_minor": 5
}
