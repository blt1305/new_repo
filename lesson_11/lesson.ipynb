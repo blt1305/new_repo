{
 "cells": [
  {
   "cell_type": "markdown",
   "id": "32bbe7ba",
   "metadata": {},
   "source": [
    "# Генераторы и итераторы\n",
    "\n",
    "\n",
    "**Итерируемый объект** - объект, который предоставляет возможность обойти поочередно свои элементы (например: строка, список)\n",
    "\n",
    "у них должен быть реализован магический метод __ iter __\n",
    "\n",
    "[информация по теме](https://habr.com/ru/companies/domclick/articles/674194/)"
   ]
  },
  {
   "cell_type": "code",
   "execution_count": 4,
   "id": "9f96ff1b",
   "metadata": {},
   "outputs": [
    {
     "name": "stdout",
     "output_type": "stream",
     "text": [
      "1\n",
      "4\n",
      "9\n",
      "16\n",
      "25\n"
     ]
    }
   ],
   "source": [
    "numbers = [1, 2, 3, 4, 5] # iterable\n",
    "\n",
    "for number in numbers:\n",
    "    print(number ** 2)"
   ]
  },
  {
   "cell_type": "code",
   "execution_count": 7,
   "id": "938b5bb0",
   "metadata": {},
   "outputs": [
    {
     "data": {
      "text/plain": [
       "['__add__',\n",
       " '__class__',\n",
       " '__class_getitem__',\n",
       " '__contains__',\n",
       " '__delattr__',\n",
       " '__delitem__',\n",
       " '__dir__',\n",
       " '__doc__',\n",
       " '__eq__',\n",
       " '__format__',\n",
       " '__ge__',\n",
       " '__getattribute__',\n",
       " '__getitem__',\n",
       " '__gt__',\n",
       " '__hash__',\n",
       " '__iadd__',\n",
       " '__imul__',\n",
       " '__init__',\n",
       " '__init_subclass__',\n",
       " '__iter__',\n",
       " '__le__',\n",
       " '__len__',\n",
       " '__lt__',\n",
       " '__mul__',\n",
       " '__ne__',\n",
       " '__new__',\n",
       " '__reduce__',\n",
       " '__reduce_ex__',\n",
       " '__repr__',\n",
       " '__reversed__',\n",
       " '__rmul__',\n",
       " '__setattr__',\n",
       " '__setitem__',\n",
       " '__sizeof__',\n",
       " '__str__',\n",
       " '__subclasshook__',\n",
       " 'append',\n",
       " 'clear',\n",
       " 'copy',\n",
       " 'count',\n",
       " 'extend',\n",
       " 'index',\n",
       " 'insert',\n",
       " 'pop',\n",
       " 'remove',\n",
       " 'reverse',\n",
       " 'sort']"
      ]
     },
     "execution_count": 7,
     "metadata": {},
     "output_type": "execute_result"
    }
   ],
   "source": [
    "dir(numbers)"
   ]
  },
  {
   "cell_type": "markdown",
   "id": "36036c0b",
   "metadata": {},
   "source": [
    "### Итератор - протокол, для которого нужны два магических метода: __ iter __, __ next __"
   ]
  },
  {
   "cell_type": "code",
   "execution_count": 6,
   "id": "dc609548",
   "metadata": {},
   "outputs": [
    {
     "data": {
      "text/plain": [
       "<list_iterator at 0x7ff5d6a46350>"
      ]
     },
     "execution_count": 6,
     "metadata": {},
     "output_type": "execute_result"
    }
   ],
   "source": [
    "numbers.__iter__()"
   ]
  },
  {
   "cell_type": "code",
   "execution_count": 8,
   "id": "953017af",
   "metadata": {},
   "outputs": [
    {
     "data": {
      "text/plain": [
       "['__class__',\n",
       " '__delattr__',\n",
       " '__dir__',\n",
       " '__doc__',\n",
       " '__eq__',\n",
       " '__format__',\n",
       " '__ge__',\n",
       " '__getattribute__',\n",
       " '__gt__',\n",
       " '__hash__',\n",
       " '__init__',\n",
       " '__init_subclass__',\n",
       " '__iter__',\n",
       " '__le__',\n",
       " '__length_hint__',\n",
       " '__lt__',\n",
       " '__ne__',\n",
       " '__new__',\n",
       " '__next__',\n",
       " '__reduce__',\n",
       " '__reduce_ex__',\n",
       " '__repr__',\n",
       " '__setattr__',\n",
       " '__setstate__',\n",
       " '__sizeof__',\n",
       " '__str__',\n",
       " '__subclasshook__']"
      ]
     },
     "execution_count": 8,
     "metadata": {},
     "output_type": "execute_result"
    }
   ],
   "source": [
    "dir(numbers.__iter__())"
   ]
  },
  {
   "cell_type": "code",
   "execution_count": 9,
   "id": "b27a76bb",
   "metadata": {},
   "outputs": [],
   "source": [
    "number_iterator = numbers.__iter__()"
   ]
  },
  {
   "cell_type": "code",
   "execution_count": 10,
   "id": "2e1891b5",
   "metadata": {},
   "outputs": [
    {
     "data": {
      "text/plain": [
       "1"
      ]
     },
     "execution_count": 10,
     "metadata": {},
     "output_type": "execute_result"
    }
   ],
   "source": [
    "number_iterator.__next__()"
   ]
  },
  {
   "cell_type": "code",
   "execution_count": 11,
   "id": "cfef992d",
   "metadata": {},
   "outputs": [
    {
     "data": {
      "text/plain": [
       "2"
      ]
     },
     "execution_count": 11,
     "metadata": {},
     "output_type": "execute_result"
    }
   ],
   "source": [
    "number_iterator.__next__()"
   ]
  },
  {
   "cell_type": "code",
   "execution_count": 12,
   "id": "525dffdf",
   "metadata": {},
   "outputs": [
    {
     "data": {
      "text/plain": [
       "3"
      ]
     },
     "execution_count": 12,
     "metadata": {},
     "output_type": "execute_result"
    }
   ],
   "source": [
    "number_iterator.__next__()"
   ]
  },
  {
   "cell_type": "code",
   "execution_count": 13,
   "id": "6e118854",
   "metadata": {},
   "outputs": [
    {
     "data": {
      "text/plain": [
       "4"
      ]
     },
     "execution_count": 13,
     "metadata": {},
     "output_type": "execute_result"
    }
   ],
   "source": [
    "number_iterator.__next__()"
   ]
  },
  {
   "cell_type": "code",
   "execution_count": 14,
   "id": "420bca55",
   "metadata": {},
   "outputs": [
    {
     "data": {
      "text/plain": [
       "5"
      ]
     },
     "execution_count": 14,
     "metadata": {},
     "output_type": "execute_result"
    }
   ],
   "source": [
    "number_iterator.__next__()"
   ]
  },
  {
   "cell_type": "code",
   "execution_count": 15,
   "id": "7e7950d6",
   "metadata": {},
   "outputs": [
    {
     "ename": "StopIteration",
     "evalue": "",
     "output_type": "error",
     "traceback": [
      "\u001b[0;31m---------------------------------------------------------------------------\u001b[0m",
      "\u001b[0;31mStopIteration\u001b[0m                             Traceback (most recent call last)",
      "Cell \u001b[0;32mIn[15], line 1\u001b[0m\n\u001b[0;32m----> 1\u001b[0m \u001b[43mnumber_iterator\u001b[49m\u001b[38;5;241;43m.\u001b[39;49m\u001b[38;5;21;43m__next__\u001b[39;49m\u001b[43m(\u001b[49m\u001b[43m)\u001b[49m\n",
      "\u001b[0;31mStopIteration\u001b[0m: "
     ]
    }
   ],
   "source": [
    "number_iterator.__next__()"
   ]
  },
  {
   "cell_type": "markdown",
   "id": "a00deeea",
   "metadata": {},
   "source": [
    "получить итератор можно и другим способом:"
   ]
  },
  {
   "cell_type": "code",
   "execution_count": 16,
   "id": "0224bb43",
   "metadata": {},
   "outputs": [],
   "source": [
    "numbers_iterator = iter(numbers)"
   ]
  },
  {
   "cell_type": "code",
   "execution_count": 17,
   "id": "b4eacaf0",
   "metadata": {},
   "outputs": [
    {
     "data": {
      "text/plain": [
       "1"
      ]
     },
     "execution_count": 17,
     "metadata": {},
     "output_type": "execute_result"
    }
   ],
   "source": [
    "next(numbers_iterator)"
   ]
  },
  {
   "cell_type": "code",
   "execution_count": 19,
   "id": "688b6175",
   "metadata": {},
   "outputs": [
    {
     "data": {
      "text/plain": [
       "2"
      ]
     },
     "execution_count": 19,
     "metadata": {},
     "output_type": "execute_result"
    }
   ],
   "source": [
    "next(numbers_iterator)"
   ]
  },
  {
   "cell_type": "code",
   "execution_count": 20,
   "id": "592e700b",
   "metadata": {},
   "outputs": [
    {
     "data": {
      "text/plain": [
       "3"
      ]
     },
     "execution_count": 20,
     "metadata": {},
     "output_type": "execute_result"
    }
   ],
   "source": [
    "next(numbers_iterator)"
   ]
  },
  {
   "cell_type": "code",
   "execution_count": 21,
   "id": "7a5b2635",
   "metadata": {},
   "outputs": [
    {
     "data": {
      "text/plain": [
       "4"
      ]
     },
     "execution_count": 21,
     "metadata": {},
     "output_type": "execute_result"
    }
   ],
   "source": [
    "next(numbers_iterator)"
   ]
  },
  {
   "cell_type": "code",
   "execution_count": 22,
   "id": "8f0dd8be",
   "metadata": {},
   "outputs": [
    {
     "data": {
      "text/plain": [
       "5"
      ]
     },
     "execution_count": 22,
     "metadata": {},
     "output_type": "execute_result"
    }
   ],
   "source": [
    "next(numbers_iterator)"
   ]
  },
  {
   "cell_type": "code",
   "execution_count": 23,
   "id": "c9df6fb5",
   "metadata": {},
   "outputs": [
    {
     "ename": "StopIteration",
     "evalue": "",
     "output_type": "error",
     "traceback": [
      "\u001b[0;31m---------------------------------------------------------------------------\u001b[0m",
      "\u001b[0;31mStopIteration\u001b[0m                             Traceback (most recent call last)",
      "Cell \u001b[0;32mIn[23], line 1\u001b[0m\n\u001b[0;32m----> 1\u001b[0m \u001b[38;5;28;43mnext\u001b[39;49m\u001b[43m(\u001b[49m\u001b[43mnumbers_iterator\u001b[49m\u001b[43m)\u001b[49m\n",
      "\u001b[0;31mStopIteration\u001b[0m: "
     ]
    }
   ],
   "source": [
    "next(numbers_iterator)"
   ]
  },
  {
   "cell_type": "markdown",
   "id": "a39be489",
   "metadata": {},
   "source": [
    "Как в итоге работает for?"
   ]
  },
  {
   "cell_type": "code",
   "execution_count": 25,
   "id": "def926e9",
   "metadata": {},
   "outputs": [
    {
     "name": "stdout",
     "output_type": "stream",
     "text": [
      "1\n",
      "4\n",
      "9\n",
      "16\n",
      "25\n"
     ]
    }
   ],
   "source": [
    "for number in numbers: # вначале вызывает iter(numbers)\n",
    "                       # на каждой итерации вызывает next и результат вызова кладет в number\n",
    "                       # next вызывается до тех пор пока не возникнет исключение StopIteration\n",
    "    print(number ** 2)"
   ]
  },
  {
   "cell_type": "markdown",
   "id": "5fae04aa",
   "metadata": {},
   "source": [
    "Создаем свой итератор:"
   ]
  },
  {
   "cell_type": "code",
   "execution_count": 26,
   "id": "b6bdb8ec",
   "metadata": {},
   "outputs": [],
   "source": [
    "class HelloIterator:\n",
    "    \n",
    "    def __init__(self, num_iters):\n",
    "        self.num_iters = num_iters\n",
    "        self.counter = 0\n",
    "        \n",
    "    \n",
    "    def __iter__(self):\n",
    "        return self # возвращаем self тк HelloIterator уже будет ябляться итератором\n",
    "    \n",
    "    def __next__(self):\n",
    "        if self.counter < self.num_iters:\n",
    "            self.counter += 1\n",
    "            return \"Hello from Iterator\"\n",
    "        raise StopIteration  \n",
    "        "
   ]
  },
  {
   "cell_type": "code",
   "execution_count": 27,
   "id": "11bdc418",
   "metadata": {},
   "outputs": [
    {
     "name": "stdout",
     "output_type": "stream",
     "text": [
      "Hello from Iterator\n",
      "Hello from Iterator\n",
      "Hello from Iterator\n",
      "Hello from Iterator\n"
     ]
    }
   ],
   "source": [
    "for item in HelloIterator(4):\n",
    "    print(item)"
   ]
  },
  {
   "cell_type": "code",
   "execution_count": 34,
   "id": "21133185",
   "metadata": {},
   "outputs": [],
   "source": [
    "class Library:\n",
    "    \n",
    "    def __init__(self, books):\n",
    "        self.books = books\n",
    "        self.counter = 0\n",
    "        self.num_books = len(books)\n",
    "        \n",
    "    def __iter__(self):\n",
    "        return self\n",
    "    \n",
    "    def __next__(self):\n",
    "        if self.counter < self.num_books:\n",
    "            self.counter += 1\n",
    "            return self.books[self.counter - 1]\n",
    "        raise StopIteration  \n",
    "        \n",
    "    def __len__(self):\n",
    "        return len(self.books)"
   ]
  },
  {
   "cell_type": "code",
   "execution_count": 35,
   "id": "98bf344a",
   "metadata": {},
   "outputs": [
    {
     "name": "stdout",
     "output_type": "stream",
     "text": [
      "Book 1\n",
      "Book 2\n",
      "Book 3\n"
     ]
    }
   ],
   "source": [
    "library = Library(books=[\"Book 1\", \"Book 2\", \"Book 3\"])\n",
    "\n",
    "for book in library:\n",
    "    print(book)"
   ]
  },
  {
   "cell_type": "code",
   "execution_count": 36,
   "id": "bc94e51a",
   "metadata": {},
   "outputs": [
    {
     "data": {
      "text/plain": [
       "3"
      ]
     },
     "execution_count": 36,
     "metadata": {},
     "output_type": "execute_result"
    }
   ],
   "source": [
    "len(library)"
   ]
  },
  {
   "cell_type": "markdown",
   "id": "9bc10a1e",
   "metadata": {},
   "source": [
    "**Зачем и когда используются:**\n",
    "\n",
    "- все строки, списки, множества, кортежи и тд\n",
    "- то есть объекты, по которым можно итерироваться (пройтись по всем элементам)\n",
    "- наши кастомные структуры (библиотека и тд), когда мы хотим создать кастомную коллекцию"
   ]
  },
  {
   "cell_type": "code",
   "execution_count": 37,
   "id": "c2cd66c1",
   "metadata": {},
   "outputs": [
    {
     "ename": "TypeError",
     "evalue": "'Library' object is not subscriptable",
     "output_type": "error",
     "traceback": [
      "\u001b[0;31m---------------------------------------------------------------------------\u001b[0m",
      "\u001b[0;31mTypeError\u001b[0m                                 Traceback (most recent call last)",
      "Cell \u001b[0;32mIn[37], line 1\u001b[0m\n\u001b[0;32m----> 1\u001b[0m \u001b[43mlibrary\u001b[49m\u001b[43m[\u001b[49m\u001b[38;5;241;43m1\u001b[39;49m\u001b[43m]\u001b[49m\n",
      "\u001b[0;31mTypeError\u001b[0m: 'Library' object is not subscriptable"
     ]
    }
   ],
   "source": [
    "library[1]"
   ]
  },
  {
   "cell_type": "markdown",
   "id": "ed0bb308",
   "metadata": {},
   "source": [
    "# Генераторы\n",
    "\n",
    "- основное отличие в том что **не выдают сразу все значения**, например, функция range\n",
    "- они **генерируют их по одному**\n",
    "- например, хотим прочитать большой файл и если мы будем обрабатывать его не по частям, то у нас возникнет Memory Error\n",
    "- генератор - итератор, элементы которого можно итерировать только один раз"
   ]
  },
  {
   "cell_type": "code",
   "execution_count": 45,
   "id": "e87fe33b",
   "metadata": {},
   "outputs": [],
   "source": [
    "def get_num_list(num, power):\n",
    "    numbers = []\n",
    "    for i in range(num):\n",
    "        numbers.append(i ** power)\n",
    "        \n",
    "    return numbers"
   ]
  },
  {
   "cell_type": "code",
   "execution_count": 46,
   "id": "2beeb51d",
   "metadata": {},
   "outputs": [
    {
     "data": {
      "text/plain": [
       "[0, 1, 4, 9]"
      ]
     },
     "execution_count": 46,
     "metadata": {},
     "output_type": "execute_result"
    }
   ],
   "source": [
    "get_num_list(4, 2)"
   ]
  },
  {
   "cell_type": "code",
   "execution_count": null,
   "id": "6de15d09",
   "metadata": {},
   "outputs": [],
   "source": [
    "get_num_list(10000000000000000000000000000000000000000000000, 2) # будет ошибка"
   ]
  },
  {
   "cell_type": "code",
   "execution_count": 1,
   "id": "cefe2853",
   "metadata": {},
   "outputs": [],
   "source": [
    "def get_num_generator(num, power):\n",
    "    for i in range(num):\n",
    "        yield i ** power # тут код приостанавливается до следующего вызова"
   ]
  },
  {
   "cell_type": "code",
   "execution_count": 3,
   "id": "f7046414",
   "metadata": {},
   "outputs": [
    {
     "data": {
      "text/plain": [
       "<generator object get_num_generator at 0x7fb6a40a14d0>"
      ]
     },
     "execution_count": 3,
     "metadata": {},
     "output_type": "execute_result"
    }
   ],
   "source": [
    "get_num_generator(4, 2)"
   ]
  },
  {
   "cell_type": "code",
   "execution_count": 6,
   "id": "df96c44e",
   "metadata": {},
   "outputs": [
    {
     "name": "stdout",
     "output_type": "stream",
     "text": [
      "0\n",
      "1\n",
      "4\n",
      "9\n"
     ]
    }
   ],
   "source": [
    "for i in get_num_generator(4, 2):\n",
    "    print(i)"
   ]
  },
  {
   "cell_type": "code",
   "execution_count": 7,
   "id": "09d69fe4",
   "metadata": {},
   "outputs": [
    {
     "data": {
      "text/plain": [
       "0"
      ]
     },
     "execution_count": 7,
     "metadata": {},
     "output_type": "execute_result"
    }
   ],
   "source": [
    "generator = get_num_generator(4, 2)\n",
    "next(generator)"
   ]
  },
  {
   "cell_type": "code",
   "execution_count": 8,
   "id": "b9cbcf69",
   "metadata": {},
   "outputs": [
    {
     "data": {
      "text/plain": [
       "1"
      ]
     },
     "execution_count": 8,
     "metadata": {},
     "output_type": "execute_result"
    }
   ],
   "source": [
    "next(generator)"
   ]
  },
  {
   "cell_type": "code",
   "execution_count": 9,
   "id": "1d96898f",
   "metadata": {},
   "outputs": [
    {
     "data": {
      "text/plain": [
       "4"
      ]
     },
     "execution_count": 9,
     "metadata": {},
     "output_type": "execute_result"
    }
   ],
   "source": [
    "next(generator)"
   ]
  },
  {
   "cell_type": "code",
   "execution_count": 10,
   "id": "ecc3d46a",
   "metadata": {},
   "outputs": [
    {
     "data": {
      "text/plain": [
       "9"
      ]
     },
     "execution_count": 10,
     "metadata": {},
     "output_type": "execute_result"
    }
   ],
   "source": [
    "next(generator)"
   ]
  },
  {
   "cell_type": "code",
   "execution_count": 11,
   "id": "91e78db7",
   "metadata": {},
   "outputs": [
    {
     "ename": "StopIteration",
     "evalue": "",
     "output_type": "error",
     "traceback": [
      "\u001b[0;31m---------------------------------------------------------------------------\u001b[0m",
      "\u001b[0;31mStopIteration\u001b[0m                             Traceback (most recent call last)",
      "Cell \u001b[0;32mIn[11], line 1\u001b[0m\n\u001b[0;32m----> 1\u001b[0m \u001b[38;5;28;43mnext\u001b[39;49m\u001b[43m(\u001b[49m\u001b[43mgenerator\u001b[49m\u001b[43m)\u001b[49m\n",
      "\u001b[0;31mStopIteration\u001b[0m: "
     ]
    }
   ],
   "source": [
    "next(generator)"
   ]
  },
  {
   "cell_type": "code",
   "execution_count": 12,
   "id": "a5fb56ac",
   "metadata": {},
   "outputs": [],
   "source": [
    "def get_num_generator(num, power):\n",
    "    for i in range(num):\n",
    "        if i > 2: # таким образом по условию можем дострочно прервать исполнение\n",
    "            return None\n",
    "        else:\n",
    "            yield i ** power"
   ]
  },
  {
   "cell_type": "code",
   "execution_count": 13,
   "id": "bc4cd24d",
   "metadata": {},
   "outputs": [
    {
     "name": "stdout",
     "output_type": "stream",
     "text": [
      "0\n",
      "1\n",
      "4\n"
     ]
    }
   ],
   "source": [
    "for i in get_num_generator(4, 2):\n",
    "    print(i)"
   ]
  },
  {
   "cell_type": "markdown",
   "id": "79a6c50d",
   "metadata": {},
   "source": [
    "#### Генератор - удобный способ реализовать итератор-протокол\n",
    "\n",
    "Генератор есть итератор"
   ]
  },
  {
   "cell_type": "markdown",
   "id": "007a1543",
   "metadata": {},
   "source": [
    "### Генератор списка"
   ]
  },
  {
   "cell_type": "code",
   "execution_count": 14,
   "id": "e7706a03",
   "metadata": {},
   "outputs": [
    {
     "data": {
      "text/plain": [
       "[1, 4, 9, 16, 25]"
      ]
     },
     "execution_count": 14,
     "metadata": {},
     "output_type": "execute_result"
    }
   ],
   "source": [
    "[i**2 for i in range(1, 6)]"
   ]
  },
  {
   "cell_type": "markdown",
   "id": "a2cf9b66",
   "metadata": {},
   "source": [
    "### Выражение-генератор"
   ]
  },
  {
   "cell_type": "code",
   "execution_count": 15,
   "id": "f794ec41",
   "metadata": {},
   "outputs": [
    {
     "data": {
      "text/plain": [
       "<generator object <genexpr> at 0x7fb6a40a21f0>"
      ]
     },
     "execution_count": 15,
     "metadata": {},
     "output_type": "execute_result"
    }
   ],
   "source": [
    "(i**2 for i in range(1, 6))"
   ]
  },
  {
   "cell_type": "code",
   "execution_count": 16,
   "id": "d7b6c665",
   "metadata": {},
   "outputs": [],
   "source": [
    "gen = (i**2 for i in range(1, 6))"
   ]
  },
  {
   "cell_type": "code",
   "execution_count": 17,
   "id": "824e73b1",
   "metadata": {},
   "outputs": [
    {
     "name": "stdout",
     "output_type": "stream",
     "text": [
      "1\n",
      "4\n",
      "9\n",
      "16\n",
      "25\n"
     ]
    }
   ],
   "source": [
    "for item in gen:\n",
    "    print(item)"
   ]
  },
  {
   "cell_type": "code",
   "execution_count": 18,
   "id": "82083d80",
   "metadata": {},
   "outputs": [],
   "source": [
    "for item in gen: # второй раз ничего не вывелось, так как пройтись по генератору можно только 1 раз\n",
    "    print(item)"
   ]
  },
  {
   "cell_type": "markdown",
   "id": "f1915acb",
   "metadata": {},
   "source": [
    "Почему мы можем обойти элементы генератора только один раз:\n",
    "\n",
    "- потому что элементы формируются по одному, а не хранятся в памяти как в случае с итератором\n"
   ]
  },
  {
   "cell_type": "code",
   "execution_count": null,
   "id": "9fb4d554",
   "metadata": {},
   "outputs": [],
   "source": [
    "[i for i in range(10000000000000000000000)] # будет ошибка памяти"
   ]
  },
  {
   "cell_type": "code",
   "execution_count": 22,
   "id": "d33c043e",
   "metadata": {},
   "outputs": [
    {
     "data": {
      "text/plain": [
       "<generator object <genexpr> at 0x7fb6a40a30d0>"
      ]
     },
     "execution_count": 22,
     "metadata": {},
     "output_type": "execute_result"
    }
   ],
   "source": [
    "(i for i in range(10000000000000000000000)) # не будет ошибки, так как мы не будем хранить все эти эл-ты в памяти"
   ]
  },
  {
   "cell_type": "markdown",
   "id": "a0d37483",
   "metadata": {},
   "source": [
    "**Особенности использования:**\n",
    "\n",
    "- можно преобразовать к списку list(generator), при этом это равносильно тому что мы бы написали сразу итератор\n",
    "- нельзя получить длину len(generator)\n",
    "- нельзя получить элемент по индексу"
   ]
  },
  {
   "cell_type": "code",
   "execution_count": 23,
   "id": "02274b0b",
   "metadata": {},
   "outputs": [
    {
     "data": {
      "text/plain": [
       "[1, 2, 3, 4, 5, 6, 7, 8, 9]"
      ]
     },
     "execution_count": 23,
     "metadata": {},
     "output_type": "execute_result"
    }
   ],
   "source": [
    "list(range(1, 10))"
   ]
  },
  {
   "cell_type": "code",
   "execution_count": 26,
   "id": "2f8aa416",
   "metadata": {},
   "outputs": [
    {
     "ename": "TypeError",
     "evalue": "object of type 'generator' has no len()",
     "output_type": "error",
     "traceback": [
      "\u001b[0;31m---------------------------------------------------------------------------\u001b[0m",
      "\u001b[0;31mTypeError\u001b[0m                                 Traceback (most recent call last)",
      "Cell \u001b[0;32mIn[26], line 1\u001b[0m\n\u001b[0;32m----> 1\u001b[0m \u001b[38;5;28;43mlen\u001b[39;49m\u001b[43m(\u001b[49m\u001b[43m(\u001b[49m\u001b[43mi\u001b[49m\u001b[43m \u001b[49m\u001b[38;5;28;43;01mfor\u001b[39;49;00m\u001b[43m \u001b[49m\u001b[43mi\u001b[49m\u001b[43m \u001b[49m\u001b[38;5;129;43;01min\u001b[39;49;00m\u001b[43m \u001b[49m\u001b[38;5;28;43mrange\u001b[39;49m\u001b[43m(\u001b[49m\u001b[38;5;241;43m10\u001b[39;49m\u001b[43m)\u001b[49m\u001b[43m)\u001b[49m\u001b[43m)\u001b[49m\n",
      "\u001b[0;31mTypeError\u001b[0m: object of type 'generator' has no len()"
     ]
    }
   ],
   "source": [
    "len((i for i in range(10)))"
   ]
  },
  {
   "cell_type": "code",
   "execution_count": 28,
   "id": "4f3bd225",
   "metadata": {},
   "outputs": [
    {
     "name": "stderr",
     "output_type": "stream",
     "text": [
      "<>:1: SyntaxWarning: 'generator' object is not subscriptable; perhaps you missed a comma?\n",
      "<>:1: SyntaxWarning: 'generator' object is not subscriptable; perhaps you missed a comma?\n",
      "/tmp/ipykernel_35551/370332662.py:1: SyntaxWarning: 'generator' object is not subscriptable; perhaps you missed a comma?\n",
      "  (i for i in range(10))[1]\n",
      "/tmp/ipykernel_35551/370332662.py:1: SyntaxWarning: 'generator' object is not subscriptable; perhaps you missed a comma?\n",
      "  (i for i in range(10))[1]\n",
      "/tmp/ipykernel_35551/370332662.py:1: SyntaxWarning: 'generator' object is not subscriptable; perhaps you missed a comma?\n",
      "  (i for i in range(10))[1]\n"
     ]
    },
    {
     "ename": "TypeError",
     "evalue": "'generator' object is not subscriptable",
     "output_type": "error",
     "traceback": [
      "\u001b[0;31m---------------------------------------------------------------------------\u001b[0m",
      "\u001b[0;31mTypeError\u001b[0m                                 Traceback (most recent call last)",
      "Cell \u001b[0;32mIn[28], line 1\u001b[0m\n\u001b[0;32m----> 1\u001b[0m \u001b[43m(\u001b[49m\u001b[43mi\u001b[49m\u001b[43m \u001b[49m\u001b[38;5;28;43;01mfor\u001b[39;49;00m\u001b[43m \u001b[49m\u001b[43mi\u001b[49m\u001b[43m \u001b[49m\u001b[38;5;129;43;01min\u001b[39;49;00m\u001b[43m \u001b[49m\u001b[38;5;28;43mrange\u001b[39;49m\u001b[43m(\u001b[49m\u001b[38;5;241;43m10\u001b[39;49m\u001b[43m)\u001b[49m\u001b[43m)\u001b[49m\u001b[43m[\u001b[49m\u001b[38;5;241;43m1\u001b[39;49m\u001b[43m]\u001b[49m\n",
      "\u001b[0;31mTypeError\u001b[0m: 'generator' object is not subscriptable"
     ]
    }
   ],
   "source": [
    "(i for i in range(10))[1]"
   ]
  },
  {
   "cell_type": "markdown",
   "id": "eb106367",
   "metadata": {},
   "source": [
    "### Поиск при помощи функции next"
   ]
  },
  {
   "cell_type": "code",
   "execution_count": 32,
   "id": "4e985853",
   "metadata": {},
   "outputs": [
    {
     "data": {
      "text/plain": [
       "{'id': 2, 'name': 'Name 1'}"
      ]
     },
     "execution_count": 32,
     "metadata": {},
     "output_type": "execute_result"
    }
   ],
   "source": [
    "persons = [\n",
    "    {\n",
    "        \"id\": 1,\n",
    "        \"name\": \"Name 1\",\n",
    "    },\n",
    "    {\n",
    "        \"id\": 2,\n",
    "        \"name\": \"Name 1\",\n",
    "    },\n",
    "    {\n",
    "        \"id\": 3,\n",
    "        \"name\": \"Name 1\",\n",
    "    }\n",
    "]\n",
    "next((person for person in persons if person[\"id\"] == 2), None)"
   ]
  },
  {
   "cell_type": "code",
   "execution_count": 34,
   "id": "ddea3a0f",
   "metadata": {},
   "outputs": [
    {
     "name": "stdout",
     "output_type": "stream",
     "text": [
      "None\n"
     ]
    }
   ],
   "source": [
    "print(next((person for person in persons if person[\"id\"] == 10), None))"
   ]
  },
  {
   "cell_type": "markdown",
   "id": "b5e0a9b6",
   "metadata": {},
   "source": [
    "Задание: написать генератор, который принимает в себя последовательность range(1, 20) и возвращает из нее только четные числа"
   ]
  },
  {
   "cell_type": "code",
   "execution_count": null,
   "id": "cc0c0d44",
   "metadata": {},
   "outputs": [],
   "source": []
  },
  {
   "cell_type": "markdown",
   "id": "a8e7b291",
   "metadata": {},
   "source": [
    "Задание: написать то же самое с использованием итератора"
   ]
  },
  {
   "cell_type": "code",
   "execution_count": null,
   "id": "7d20b3c0",
   "metadata": {},
   "outputs": [],
   "source": []
  },
  {
   "cell_type": "markdown",
   "id": "a29d6862",
   "metadata": {},
   "source": [
    "Задание: написать генератор, который принимает в себя строку и возвращает по одной букве в верхнем регистре"
   ]
  },
  {
   "cell_type": "code",
   "execution_count": null,
   "id": "d76dfe6f",
   "metadata": {},
   "outputs": [],
   "source": []
  },
  {
   "cell_type": "markdown",
   "id": "2f43ccac",
   "metadata": {},
   "source": [
    "Задание: написать класс Fleet vehicle (автопарк), который умеет возвращает длину как длину машин, принадлежащих автопарку"
   ]
  },
  {
   "cell_type": "code",
   "execution_count": null,
   "id": "c5ac2083",
   "metadata": {},
   "outputs": [],
   "source": []
  },
  {
   "cell_type": "markdown",
   "id": "0f6d9dc5",
   "metadata": {},
   "source": [
    "Задание: дописать этот класс таким образом, чтобы мы могли пройтись инстансу по нему при помощи цикла for"
   ]
  },
  {
   "cell_type": "code",
   "execution_count": null,
   "id": "82b3ef50",
   "metadata": {},
   "outputs": [],
   "source": []
  },
  {
   "cell_type": "markdown",
   "id": "a42421fb",
   "metadata": {},
   "source": [
    "Задание: дописать этот класс таким образом, чтобы мы могли найти машину по id"
   ]
  },
  {
   "cell_type": "code",
   "execution_count": null,
   "id": "a74eec6f",
   "metadata": {},
   "outputs": [],
   "source": []
  },
  {
   "cell_type": "markdown",
   "id": "83bf54e3",
   "metadata": {},
   "source": [
    "Задание: написать генератор последовательности от 1 до 10,\n",
    "в первом цикле вывести 3 первых элемента, а во втором - остальные"
   ]
  },
  {
   "cell_type": "code",
   "execution_count": null,
   "id": "9aaf9832",
   "metadata": {},
   "outputs": [],
   "source": []
  },
  {
   "cell_type": "markdown",
   "id": "74208993",
   "metadata": {},
   "source": [
    "Задание: написать декоратор, который считает, сколько раз были вызваны функции класса"
   ]
  },
  {
   "cell_type": "code",
   "execution_count": null,
   "id": "c9d589f5",
   "metadata": {},
   "outputs": [],
   "source": []
  },
  {
   "cell_type": "markdown",
   "id": "486b79cd",
   "metadata": {},
   "source": [
    "# Домашнее задание\n",
    "\n",
    "1. Напишите генератор, который будет генерировать числа от 0 до бесконечности и вызовите его несколько раз\n",
    "2. Напишите итератор, который будет генерировать числа от 0 до заданного (по сути реализовать функцию range только в виде итератора)\n",
    "3. Допишите класс Family таким образом чтобы он влялся итератором и мы могли при помощи цикла for вывести всех ченов семьи\n",
    "4. Допишите классы таким образом чтобы у FamilyMember был id и в классе Family мы могли найти member по id"
   ]
  },
  {
   "cell_type": "code",
   "execution_count": 38,
   "id": "2bbac768",
   "metadata": {},
   "outputs": [],
   "source": [
    "class Family:\n",
    "    \n",
    "    def __init__(self, last_name, members):\n",
    "        self.last_name = last_name\n",
    "        self.members = members\n",
    "        \n",
    "    def __len__(self):\n",
    "        return len(self.members)\n",
    "    \n",
    "    def add_family_member(self, member):\n",
    "        self.members.append(member)\n",
    "        \n",
    "    def __str__(self):\n",
    "        return f\"Family: last_name - {self.last_name}, count - {len(self.members)}\"\n",
    "        \n",
    "        \n",
    "class FamilyMember:\n",
    "    \n",
    "    def __init__(self, name, role=None, age=None):\n",
    "        self.name = name\n",
    "        self.role = role\n",
    "        self.age = age\n",
    "        \n",
    "    def __str__(self):\n",
    "        return f\"FamilyMember: {self.name}, role: {self.role}\"\n",
    "\n",
    "son = FamilyMember(name=\"Roma\", role=\"son\")\n",
    "father = FamilyMember(name=\"Nikita\", role=\"father\", age=43)\n",
    "\n",
    "members = [son, father]\n",
    "family = Family(last_name=\"Гаврильчик\", members=members)"
   ]
  },
  {
   "cell_type": "markdown",
   "id": "271a25f7",
   "metadata": {},
   "source": [
    "4.* Реализовать генератор чисел Фибоначчи\n",
    "\n",
    "5.* Реализовать у Family возможность взятия элемента по индексу - family[0] - при помощи метода __getitem__"
   ]
  },
  {
   "cell_type": "markdown",
   "id": "66061797",
   "metadata": {},
   "source": [
    "### Дополнительные задания / вопросы:\n",
    "\n",
    "1. Для чего нужны абстрактные классы\n",
    "2. Что такое паттерн синглтон и зачем он нужен\n",
    "3. Что такое менеджер контекста и как он реализован\n",
    "4. Какие декораторы для методов вы знаете\n",
    "5. Как написать декоратор (синтаксис) и почему\n",
    "6. Чем статические методы отличаются от методов класса\n",
    "7. Что такое property и как оно реализовано\n",
    "8. 4 основных принципа ООП\n",
    "9. Что такое Mixin\n",
    "10. Какие магические методы вы знаете\n",
    "11. Почему магические методы называются магическими\n",
    "12. Что такое дандер методы\n",
    "13. Как вызвать метод родителя из метода класс-наследника\n",
    "14. Как называть методы и property класса\n",
    "15. Что такое dataclass\n",
    "16. Чувствителен ли python к регистру\n",
    "17. Чем tuple отличается от списка, когда его использовать\n",
    "18. Что такое lambda"
   ]
  }
 ],
 "metadata": {
  "kernelspec": {
   "display_name": "Python 3 (ipykernel)",
   "language": "python",
   "name": "python3"
  },
  "language_info": {
   "codemirror_mode": {
    "name": "ipython",
    "version": 3
   },
   "file_extension": ".py",
   "mimetype": "text/x-python",
   "name": "python",
   "nbconvert_exporter": "python",
   "pygments_lexer": "ipython3",
   "version": "3.10.6"
  }
 },
 "nbformat": 4,
 "nbformat_minor": 5
}
