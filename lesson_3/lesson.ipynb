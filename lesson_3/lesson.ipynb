{
 "cells": [
  {
   "cell_type": "markdown",
   "id": "69a964e7",
   "metadata": {},
   "source": [
    "# Занятие 3"
   ]
  },
  {
   "cell_type": "markdown",
   "id": "d5b8c4ad",
   "metadata": {},
   "source": [
    "# [Условный оператор if](https://pythonworld.ru/osnovy/instrukciya-if-elif-else-proverka-istinnosti-trexmestnoe-vyrazhenie-ifelse.html)\n",
    "\n",
    "\n",
    "Выбор действия в зависимости от условия"
   ]
  },
  {
   "cell_type": "code",
   "execution_count": 5,
   "id": "88e0a7c1",
   "metadata": {},
   "outputs": [
    {
     "name": "stdout",
     "output_type": "stream",
     "text": [
      "Этот человек взрослый!\n"
     ]
    }
   ],
   "source": [
    "age = 19\n",
    "if age >= 18:\n",
    "    print(\"Этот человек взрослый!\")"
   ]
  },
  {
   "cell_type": "markdown",
   "id": "4d3b20fd",
   "metadata": {},
   "source": [
    "Несколько условий можно записать в таком виде:"
   ]
  },
  {
   "cell_type": "code",
   "execution_count": 6,
   "id": "861e4c4b",
   "metadata": {},
   "outputs": [
    {
     "name": "stdout",
     "output_type": "stream",
     "text": [
      "Этот человек младше 18 лет!\n"
     ]
    }
   ],
   "source": [
    "age = 15\n",
    "\n",
    "if age >= 18:\n",
    "    print(f\"Этот человек взрослый: {age}!\")\n",
    "\n",
    "if age < 18:\n",
    "    print(f\"Этот человек младше 18 лет!\")  "
   ]
  },
  {
   "cell_type": "markdown",
   "id": "bf766b19",
   "metadata": {},
   "source": [
    "Но для того чтобы не проверять оба условия можно возпользоваться блоком else"
   ]
  },
  {
   "cell_type": "code",
   "execution_count": 6,
   "id": "27d33acc",
   "metadata": {},
   "outputs": [
    {
     "name": "stdout",
     "output_type": "stream",
     "text": [
      "Этот человек младше 18 лет!\n"
     ]
    }
   ],
   "source": [
    "age = 15\n",
    "if age >= 18:\n",
    "    print(f\"Этот человек взрослый!\")    \n",
    "else:\n",
    "    print(f\"Этот человек младше 18 лет!\") "
   ]
  },
  {
   "cell_type": "markdown",
   "id": "7f71ecfe",
   "metadata": {},
   "source": [
    "Может быть также несколько условий"
   ]
  },
  {
   "cell_type": "code",
   "execution_count": 9,
   "id": "f6414a80",
   "metadata": {},
   "outputs": [
    {
     "name": "stdout",
     "output_type": "stream",
     "text": [
      "Это взрослый человек\n"
     ]
    }
   ],
   "source": [
    "age =20\n",
    "\n",
    "if age == 0:\n",
    "    print(\"Это младенец\")\n",
    "elif age < 6:\n",
    "    print(\"Дошкольник\")\n",
    "elif age <= 17:\n",
    "    print(\"Школьник\")\n",
    "else:\n",
    "    print(\"Это взрослый человек\")"
   ]
  },
  {
   "cell_type": "code",
   "execution_count": 10,
   "id": "e4ab5e49",
   "metadata": {},
   "outputs": [
    {
     "name": "stdout",
     "output_type": "stream",
     "text": [
      "a > 7\n"
     ]
    }
   ],
   "source": [
    "# в чем подвох?\n",
    "age = 9\n",
    "if age == 0:\n",
    "    print(\"a == 0\")\n",
    "elif age > 7:\n",
    "    print(\"a > 7\")\n",
    "elif age > 9:\n",
    "    print(\"a > 9\")"
   ]
  },
  {
   "cell_type": "markdown",
   "id": "f7ad891a",
   "metadata": {},
   "source": [
    "**not** - превращает false в true, а true в false"
   ]
  },
  {
   "cell_type": "code",
   "execution_count": 11,
   "id": "af81169a",
   "metadata": {},
   "outputs": [
    {
     "data": {
      "text/plain": [
       "False"
      ]
     },
     "execution_count": 11,
     "metadata": {},
     "output_type": "execute_result"
    }
   ],
   "source": [
    "\"a\" in \"cd\""
   ]
  },
  {
   "cell_type": "code",
   "execution_count": 12,
   "id": "c26ef219",
   "metadata": {},
   "outputs": [
    {
     "data": {
      "text/plain": [
       "True"
      ]
     },
     "execution_count": 12,
     "metadata": {},
     "output_type": "execute_result"
    }
   ],
   "source": [
    "\"a\" not in \"cd\" # Буква а не в строке cd"
   ]
  },
  {
   "cell_type": "code",
   "execution_count": 13,
   "id": "3d80f913",
   "metadata": {},
   "outputs": [],
   "source": [
    "products = [\"молоко\", \"хлеб\", \"орешки\"]"
   ]
  },
  {
   "cell_type": "markdown",
   "id": "161e1553",
   "metadata": {},
   "source": [
    "Задание: вывести сообщение \"Надо купить орешки\", если орешки есть в списке products"
   ]
  },
  {
   "cell_type": "code",
   "execution_count": 16,
   "id": "37a3b4bf",
   "metadata": {},
   "outputs": [
    {
     "name": "stdout",
     "output_type": "stream",
     "text": [
      "Надо купить орешки\n"
     ]
    }
   ],
   "source": [
    "if \"орешки\" in products:\n",
    "    print(\"Надо купить орешки\")\n",
    "else:\n",
    "    print(\"Орешки не надо\")"
   ]
  },
  {
   "cell_type": "markdown",
   "id": "a59181ec",
   "metadata": {},
   "source": [
    "Задание: вывести сообщение, если молока нет в списке products"
   ]
  },
  {
   "cell_type": "code",
   "execution_count": 18,
   "id": "412d6a93",
   "metadata": {},
   "outputs": [],
   "source": [
    "if \"молоко\" not in products:\n",
    "    print(\"Молоко покупать не надо\")"
   ]
  },
  {
   "cell_type": "code",
   "execution_count": 19,
   "id": "788e9630",
   "metadata": {},
   "outputs": [],
   "source": [
    "string = \"abcd\""
   ]
  },
  {
   "cell_type": "markdown",
   "id": "88f2b376",
   "metadata": {},
   "source": [
    "Задание: вывести сообщение, если в строке есть буква c"
   ]
  },
  {
   "cell_type": "code",
   "execution_count": 21,
   "id": "95fe2ad6",
   "metadata": {},
   "outputs": [
    {
     "name": "stdout",
     "output_type": "stream",
     "text": [
      "Буква с есть\n"
     ]
    }
   ],
   "source": [
    "if \"c\" in string:\n",
    "    print(\"Буква с есть\")"
   ]
  },
  {
   "cell_type": "markdown",
   "id": "116286e3",
   "metadata": {},
   "source": [
    "Задание: вывести сообщение, если в строке нет буквы z"
   ]
  },
  {
   "cell_type": "code",
   "execution_count": 22,
   "id": "d07d04d0",
   "metadata": {},
   "outputs": [
    {
     "name": "stdout",
     "output_type": "stream",
     "text": [
      "Нет буквы z\n"
     ]
    }
   ],
   "source": [
    "if \"z\" not in string:\n",
    "    print(\"Нет буквы z\")"
   ]
  },
  {
   "cell_type": "markdown",
   "id": "7f64386e",
   "metadata": {},
   "source": [
    "### Для проверки нескольких условий есть два оператора - and и or"
   ]
  },
  {
   "cell_type": "markdown",
   "id": "c212e638",
   "metadata": {},
   "source": [
    "**and** - все условия должны быть True, при этом вычисляются все условия"
   ]
  },
  {
   "cell_type": "code",
   "execution_count": 24,
   "id": "1fab9de9",
   "metadata": {},
   "outputs": [
    {
     "name": "stdout",
     "output_type": "stream",
     "text": [
      "Программист старше 18\n"
     ]
    }
   ],
   "source": [
    "age = 18\n",
    "profession = \"programmer\"\n",
    "\n",
    "if age >= 18 and profession == \"programmer\":\n",
    "    print(\"Программист старше 18\")"
   ]
  },
  {
   "cell_type": "code",
   "execution_count": 14,
   "id": "2133619b",
   "metadata": {},
   "outputs": [
    {
     "data": {
      "text/plain": [
       "True"
      ]
     },
     "execution_count": 14,
     "metadata": {},
     "output_type": "execute_result"
    }
   ],
   "source": [
    "age >= 18 and profession == \"programmer\""
   ]
  },
  {
   "cell_type": "code",
   "execution_count": 25,
   "id": "9a91ddc6",
   "metadata": {},
   "outputs": [
    {
     "data": {
      "text/plain": [
       "['milk', 'bread']"
      ]
     },
     "execution_count": 25,
     "metadata": {},
     "output_type": "execute_result"
    }
   ],
   "source": [
    "products = ['milk', 'bread']\n",
    "money = 15\n",
    "money >= 5 and products # возвращает эл-т, на котором закончилось вычисление"
   ]
  },
  {
   "cell_type": "code",
   "execution_count": 26,
   "id": "bf3d5074",
   "metadata": {},
   "outputs": [
    {
     "data": {
      "text/plain": [
       "True"
      ]
     },
     "execution_count": 26,
     "metadata": {},
     "output_type": "execute_result"
    }
   ],
   "source": [
    "bool(products)"
   ]
  },
  {
   "cell_type": "code",
   "execution_count": 16,
   "id": "54f3692f",
   "metadata": {},
   "outputs": [
    {
     "data": {
      "text/plain": [
       "[]"
      ]
     },
     "execution_count": 16,
     "metadata": {},
     "output_type": "execute_result"
    }
   ],
   "source": [
    "products = []\n",
    "weather = \"солнце\"\n",
    "money = 15\n",
    "money >= 5 and products and weather != \"дождь\""
   ]
  },
  {
   "cell_type": "code",
   "execution_count": 17,
   "id": "2723a88b",
   "metadata": {},
   "outputs": [
    {
     "data": {
      "text/plain": [
       "False"
      ]
     },
     "execution_count": 17,
     "metadata": {},
     "output_type": "execute_result"
    }
   ],
   "source": [
    "bool([])"
   ]
  },
  {
   "cell_type": "markdown",
   "id": "75f33bcf",
   "metadata": {},
   "source": [
    "**or** - хотя бы одно из условий должно быть True, при этом вычисление заканчивается на первом выражении, которое возвращает True"
   ]
  },
  {
   "cell_type": "code",
   "execution_count": 32,
   "id": "40c0e3d2",
   "metadata": {},
   "outputs": [],
   "source": [
    "money = 15\n",
    "products_in_freeze = [\"салат\", \"борщ\", \"яйца\"]\n",
    "\n",
    "if money > 5 or products_in_freeze:\n",
    "    print(\"Я сегодня поем!\")"
   ]
  },
  {
   "cell_type": "code",
   "execution_count": 30,
   "id": "0716f809",
   "metadata": {},
   "outputs": [
    {
     "data": {
      "text/plain": [
       "['салат', 'борщ', 'яйца']"
      ]
     },
     "execution_count": 30,
     "metadata": {},
     "output_type": "execute_result"
    }
   ],
   "source": [
    "money > 20 or products_in_freeze"
   ]
  },
  {
   "cell_type": "code",
   "execution_count": 31,
   "id": "d287e60a",
   "metadata": {},
   "outputs": [
    {
     "data": {
      "text/plain": [
       "[]"
      ]
     },
     "execution_count": 31,
     "metadata": {},
     "output_type": "execute_result"
    }
   ],
   "source": [
    "money = 0\n",
    "products_in_freeze = []\n",
    "money > 5 or products_in_freeze"
   ]
  },
  {
   "cell_type": "code",
   "execution_count": 22,
   "id": "c3a1ac75",
   "metadata": {},
   "outputs": [
    {
     "data": {
      "text/plain": [
       "False"
      ]
     },
     "execution_count": 22,
     "metadata": {},
     "output_type": "execute_result"
    }
   ],
   "source": [
    "bool(money > 5 or products_in_freeze)"
   ]
  },
  {
   "cell_type": "markdown",
   "id": "5b624c04",
   "metadata": {},
   "source": [
    "Эти условия можно как угодно комбинировать между собой, главное правильно поставить скобки при этом:"
   ]
  },
  {
   "cell_type": "code",
   "execution_count": 24,
   "id": "47517830",
   "metadata": {},
   "outputs": [
    {
     "name": "stdout",
     "output_type": "stream",
     "text": [
      "Я могу поесть дома, потому что у меня есть продукты и свободное время\n",
      "Также я могу заказать еду, потому что у меня есть деньги\n"
     ]
    }
   ],
   "source": [
    "money = 30\n",
    "products_in_freeze = [\"салат\", \"борщ\", \"яйца\"]\n",
    "have_free_time = True\n",
    "\n",
    "\n",
    "if money > 15 or have_free_time and products_in_freeze:\n",
    "    print(\"Я могу поесть дома, потому что у меня есть продукты и свободное время\")\n",
    "    print(\"Либо я могу заказать еду, потому что у меня есть деньги\")"
   ]
  },
  {
   "cell_type": "code",
   "execution_count": 33,
   "id": "fcac619e",
   "metadata": {},
   "outputs": [
    {
     "name": "stdout",
     "output_type": "stream",
     "text": [
      "Я могу поесть дома, потому что у меня есть продукты и свободное время\n",
      "Также я могу заказать еду, потому что у меня есть деньги\n"
     ]
    }
   ],
   "source": [
    "money = 30\n",
    "products_in_freeze = [\"салат\", \"борщ\", \"яйца\"]\n",
    "have_free_time = True\n",
    "\n",
    "\n",
    "if money > 15 and have_free_time and products_in_freeze:\n",
    "    print(\"Я могу поесть дома, потому что у меня есть продукты и свободное время\")\n",
    "    print(\"Также я могу заказать еду, потому что у меня есть деньги\")"
   ]
  },
  {
   "cell_type": "markdown",
   "id": "001fd298",
   "metadata": {},
   "source": [
    "Но лучше использовать скобки для удобства чтения:"
   ]
  },
  {
   "cell_type": "code",
   "execution_count": 25,
   "id": "e0d9ebfc",
   "metadata": {},
   "outputs": [
    {
     "name": "stdout",
     "output_type": "stream",
     "text": [
      "Я могу поесть дома, потому что у меня есть продукты и свободное время\n",
      "Также я могу заказать еду, потому что у меня есть деньги\n"
     ]
    }
   ],
   "source": [
    "if money > 15 or (have_free_time and products_in_freeze):\n",
    "    print(\"Я могу поесть дома, потому что у меня есть продукты и свободное время\")\n",
    "    print(\"Также я могу заказать еду, потому что у меня есть деньги\")"
   ]
  },
  {
   "cell_type": "code",
   "execution_count": 35,
   "id": "7534d36f",
   "metadata": {},
   "outputs": [
    {
     "name": "stdout",
     "output_type": "stream",
     "text": [
      "Я могу поесть дома, потому что у меня есть продукты и свободное время\n",
      "Но не могу заказать еду, потому что у меня недостаточно средств\n"
     ]
    }
   ],
   "source": [
    "money = 10\n",
    "if money < 15 and (have_free_time and products_in_freeze):\n",
    "    print(\"Я могу поесть дома, потому что у меня есть продукты и свободное время\")\n",
    "    print(\"Но не могу заказать еду, потому что у меня недостаточно средств\")\n",
    "    \n",
    "\n",
    "print()"
   ]
  },
  {
   "cell_type": "code",
   "execution_count": 71,
   "id": "9789a666",
   "metadata": {},
   "outputs": [],
   "source": [
    "products_in_freeze = [\"салат\", \"борщ\", \"яйца\"]\n",
    "have_free_time = False\n",
    "if money > 15 and (have_free_time or not products_in_freeze):\n",
    "    print(\"Я могу сегодня заказать еду, потому что есть деньги, но нет времени или продуктов\")"
   ]
  },
  {
   "cell_type": "code",
   "execution_count": 72,
   "id": "5b90b5d5",
   "metadata": {},
   "outputs": [
    {
     "data": {
      "text/plain": [
       "True"
      ]
     },
     "execution_count": 72,
     "metadata": {},
     "output_type": "execute_result"
    }
   ],
   "source": [
    "not have_free_time # У меня нет свободного времени? - Да"
   ]
  },
  {
   "cell_type": "code",
   "execution_count": 73,
   "id": "9252fd8c",
   "metadata": {},
   "outputs": [
    {
     "data": {
      "text/plain": [
       "True"
      ]
     },
     "execution_count": 73,
     "metadata": {},
     "output_type": "execute_result"
    }
   ],
   "source": [
    "not have_free_time or not products_in_freeze # У меня нет свободного времени или продуктов? - Да"
   ]
  },
  {
   "cell_type": "code",
   "execution_count": 39,
   "id": "7454283f",
   "metadata": {},
   "outputs": [],
   "source": [
    "products_in_freeze = [\"салат\", \"борщ\", \"яйца\"]\n",
    "have_free_time = False\n",
    "if have_free_time or not products_in_freeze:\n",
    "    print(\"У меня либо нет времени, либо нет продуктов\")"
   ]
  },
  {
   "cell_type": "markdown",
   "id": "56840ab3",
   "metadata": {},
   "source": [
    "## Тернарный оператор"
   ]
  },
  {
   "cell_type": "code",
   "execution_count": 41,
   "id": "faeeea82",
   "metadata": {},
   "outputs": [
    {
     "data": {
      "text/plain": [
       "'Младше 18'"
      ]
     },
     "execution_count": 41,
     "metadata": {},
     "output_type": "execute_result"
    }
   ],
   "source": [
    "age = 5\n",
    "message = \"Старше 18\" if age >= 18 else \"Младше 18\"\n",
    "message"
   ]
  },
  {
   "cell_type": "code",
   "execution_count": null,
   "id": "b684be1f",
   "metadata": {},
   "outputs": [],
   "source": []
  },
  {
   "cell_type": "markdown",
   "id": "86e24fb2",
   "metadata": {},
   "source": [
    "### Вложенные условия"
   ]
  },
  {
   "cell_type": "code",
   "execution_count": 45,
   "id": "929dad19",
   "metadata": {},
   "outputs": [
    {
     "name": "stdout",
     "output_type": "stream",
     "text": [
      "Я могу приготовить еду дома\n",
      "У меня есть свободное время и деньги. Я могу пойти покушать в заведении\n"
     ]
    }
   ],
   "source": [
    "money = 30\n",
    "products_in_freeze = [\"картошка\"]\n",
    "have_free_time = True\n",
    "\n",
    "if have_free_time:\n",
    "    if products_in_freeze:\n",
    "        print(\"Я могу приготовить еду дома\")\n",
    "    if money > 15:\n",
    "        print(\"У меня есть свободное время и деньги. Я могу пойти покушать в заведении\")       \n",
    "    \n",
    "elif money > 15:\n",
    "    print(\"У меня нет свободного времени, но я могу заказать еду\")\n",
    "else:\n",
    "    print(\"Сегодня я не ем\")"
   ]
  },
  {
   "cell_type": "code",
   "execution_count": 43,
   "id": "2eb8cc98",
   "metadata": {},
   "outputs": [
    {
     "name": "stdout",
     "output_type": "stream",
     "text": [
      "Я могу приготовить еду дома\n",
      "У меня есть свободное время и деньги. Я могу пойти покушать в заведении\n"
     ]
    }
   ],
   "source": [
    "money = 30\n",
    "products_in_freeze = [\"салат\", \"борщ\", \"яйца\"]\n",
    "have_free_time = True\n",
    "\n",
    "if have_free_time:\n",
    "    if products_in_freeze:\n",
    "        print(\"Я могу приготовить еду дома\")\n",
    "    if money > 15:\n",
    "        print(\"У меня есть свободное время и деньги. Я могу пойти покушать в заведении\")\n",
    "elif money > 15:\n",
    "    print(\"У меня нет свободного времени, но я могу заказать еду\")"
   ]
  },
  {
   "cell_type": "markdown",
   "id": "33ec5eed",
   "metadata": {},
   "source": [
    "Задание: Есть длина и ширина входной двери. Вывести сообщение о неверных данных в случае если ширина больше либо равна длине. Вывести сообщение \"параметры приняты\" в ином случае"
   ]
  },
  {
   "cell_type": "code",
   "execution_count": 47,
   "id": "fc945442",
   "metadata": {},
   "outputs": [
    {
     "name": "stdout",
     "output_type": "stream",
     "text": [
      "Данные приняты\n"
     ]
    }
   ],
   "source": [
    "dl = 200\n",
    "shr = 100\n",
    "if shr >= dl:\n",
    "    print(\"Неверные данные\")\n",
    "else: \n",
    "    print(\"Данные приняты\")"
   ]
  },
  {
   "cell_type": "markdown",
   "id": "940827cf",
   "metadata": {},
   "source": [
    "Задание: Пользователь вводит число, если оно положительное, то возводим его в квадрат и выводим его на экран, если отрицательное, то выводим на экран его модуль"
   ]
  },
  {
   "cell_type": "code",
   "execution_count": 48,
   "id": "9021ce76",
   "metadata": {},
   "outputs": [
    {
     "name": "stdout",
     "output_type": "stream",
     "text": [
      "Введите число -100\n",
      "100\n"
     ]
    }
   ],
   "source": [
    "chislo = int(input (\"Введите число \" ))\n",
    "if chislo > 0:\n",
    "    print(chislo**2)\n",
    "elif chislo<0:\n",
    "    print(abs(chislo))"
   ]
  },
  {
   "cell_type": "markdown",
   "id": "4e733799",
   "metadata": {},
   "source": [
    "Задание: Написать программу, которая просит пользователя ввести что-то с клавиатуры, если он ничего не вводит и нажимает Enter, то программа должна вывести сообщение об ошибке"
   ]
  },
  {
   "cell_type": "code",
   "execution_count": 49,
   "id": "d06a03fb",
   "metadata": {},
   "outputs": [
    {
     "name": "stdout",
     "output_type": "stream",
     "text": [
      " введите что то\n",
      "Error\n"
     ]
    }
   ],
   "source": [
    "string = input(\" введите что то\")\n",
    "if len(string)==0:\n",
    "    print(\"Error\")"
   ]
  },
  {
   "cell_type": "code",
   "execution_count": 50,
   "id": "2696dee6",
   "metadata": {},
   "outputs": [
    {
     "name": "stdout",
     "output_type": "stream",
     "text": [
      " введите что то\n",
      "Error\n"
     ]
    }
   ],
   "source": [
    "string = input(\" введите что то\")\n",
    "if not string:\n",
    "    print(\"Error\")"
   ]
  },
  {
   "cell_type": "code",
   "execution_count": 52,
   "id": "aff32cb7",
   "metadata": {},
   "outputs": [
    {
     "data": {
      "text/plain": [
       "True"
      ]
     },
     "execution_count": 52,
     "metadata": {},
     "output_type": "execute_result"
    }
   ],
   "source": [
    "bool(\"\") == False"
   ]
  },
  {
   "cell_type": "markdown",
   "id": "f62474ff",
   "metadata": {},
   "source": [
    "Задание: Пользователь вводит с клавиатуры год рождения, если он больше либо равен 18, то мы запрашиваем его имя и проверяем, ввел ли он его, если да, то выводим сообщение \"Регистрация закончена\". Если же пользователь младше 18 лет, то вывести сообщение \"Регистрация запрещена\""
   ]
  },
  {
   "cell_type": "code",
   "execution_count": null,
   "id": "10682017",
   "metadata": {},
   "outputs": [],
   "source": []
  },
  {
   "cell_type": "markdown",
   "id": "2bf11557",
   "metadata": {},
   "source": [
    "Задача: Вывести сообщение о том что ДЗ сдано в случае если у пользователя имя Паша, домашнее задание готово и дедлайн наступил, если же дедлайн не наступил и Паша уже сдал ДЗ, то написать, что он молодец"
   ]
  },
  {
   "cell_type": "code",
   "execution_count": 56,
   "id": "8eca161e",
   "metadata": {},
   "outputs": [],
   "source": [
    "person = {\n",
    "    \"name\": \"Паша\",\n",
    "    \"is_homework_ready\": True\n",
    "}\n",
    "deadline_expired = True"
   ]
  },
  {
   "cell_type": "code",
   "execution_count": 57,
   "id": "a7af4363",
   "metadata": {},
   "outputs": [
    {
     "name": "stdout",
     "output_type": "stream",
     "text": [
      "Скоро проверю\n"
     ]
    }
   ],
   "source": [
    "if person[\"name\"] == \"Паша\" and person[\"is_homework_ready\"] and deadline_expired:\n",
    "    print(\"Скоро проверю\")\n",
    "elif person[\"name\"] == \"Паша\" and person[\"is_homework_ready\"] and not deadline_expired:\n",
    "    print(\"Паша молодец\")"
   ]
  },
  {
   "cell_type": "code",
   "execution_count": 55,
   "id": "22914f08",
   "metadata": {},
   "outputs": [
    {
     "data": {
      "text/plain": [
       "'Паша'"
      ]
     },
     "execution_count": 55,
     "metadata": {},
     "output_type": "execute_result"
    }
   ],
   "source": [
    "person[\"name\"]"
   ]
  },
  {
   "cell_type": "markdown",
   "id": "0fe61fee",
   "metadata": {},
   "source": [
    "# [Циклы](https://pythonworld.ru/osnovy/cikly-for-i-while-operatory-break-i-continue-volshebnoe-slovo-else.html)\n",
    "\n",
    "способ повторить действие N раз"
   ]
  },
  {
   "cell_type": "code",
   "execution_count": 59,
   "id": "3d959ddd",
   "metadata": {},
   "outputs": [
    {
     "name": "stdout",
     "output_type": "stream",
     "text": [
      "1\n",
      "4\n",
      "9\n"
     ]
    }
   ],
   "source": [
    "list_1 = [1, 2, 3]\n",
    "for i in list_1:\n",
    "    print(i ** 2)"
   ]
  },
  {
   "cell_type": "code",
   "execution_count": 62,
   "id": "f21179b4",
   "metadata": {},
   "outputs": [
    {
     "name": "stdout",
     "output_type": "stream",
     "text": [
      "a1\n",
      "a2\n",
      "3\n"
     ]
    }
   ],
   "source": [
    "for i in [\"a1\", \"a2\", 3]:\n",
    "    print(i)"
   ]
  },
  {
   "cell_type": "code",
   "execution_count": 60,
   "id": "4762e53f",
   "metadata": {},
   "outputs": [
    {
     "name": "stdout",
     "output_type": "stream",
     "text": [
      "H\n",
      "E\n",
      "L\n",
      "L\n",
      "O\n"
     ]
    }
   ],
   "source": [
    "for i in \"hello\":\n",
    "    print(i.capitalize())"
   ]
  },
  {
   "cell_type": "code",
   "execution_count": 63,
   "id": "e2502de8",
   "metadata": {},
   "outputs": [
    {
     "name": "stdout",
     "output_type": "stream",
     "text": [
      "Число четное: 6\n"
     ]
    }
   ],
   "source": [
    "l = [1, 3, 5, 3, 6, 8]\n",
    "l[::2]\n",
    "[1, 3, 5, 3, 6, 8][::2]\n",
    "\n",
    "for i in [1, 3, 5, 3, 6, 8][::2]:\n",
    "    if not i % 2:\n",
    "        print(f\"Число четное: {i}\")"
   ]
  },
  {
   "cell_type": "code",
   "execution_count": 61,
   "id": "f3492de2",
   "metadata": {},
   "outputs": [
    {
     "ename": "TypeError",
     "evalue": "'int' object is not iterable",
     "output_type": "error",
     "traceback": [
      "\u001b[1;31m---------------------------------------------------------------------------\u001b[0m",
      "\u001b[1;31mTypeError\u001b[0m                                 Traceback (most recent call last)",
      "Cell \u001b[1;32mIn[61], line 1\u001b[0m\n\u001b[1;32m----> 1\u001b[0m \u001b[38;5;28;01mfor\u001b[39;00m i \u001b[38;5;129;01min\u001b[39;00m \u001b[38;5;241m10\u001b[39m:\n\u001b[0;32m      2\u001b[0m     \u001b[38;5;28mprint\u001b[39m(i)\n",
      "\u001b[1;31mTypeError\u001b[0m: 'int' object is not iterable"
     ]
    }
   ],
   "source": [
    "for i in 10:\n",
    "    print(i)"
   ]
  },
  {
   "cell_type": "markdown",
   "id": "27149c4f",
   "metadata": {},
   "source": [
    "### Цикл в цикле"
   ]
  },
  {
   "cell_type": "code",
   "execution_count": 51,
   "id": "8f6ce8ff",
   "metadata": {},
   "outputs": [
    {
     "name": "stdout",
     "output_type": "stream",
     "text": [
      "Value from list: 1\n",
      "Value from list: 2\n",
      "Value from list: 3\n"
     ]
    }
   ],
   "source": [
    "for i in [1,[1, 2, 3], 5]:\n",
    "    if isinstance(i, list):\n",
    "        for j in i:\n",
    "            print(f\"Value from list: {j}\")"
   ]
  },
  {
   "cell_type": "markdown",
   "id": "7eb6947d",
   "metadata": {},
   "source": [
    "### Continue - не заканчивать текущий проход цикла, начать следующий"
   ]
  },
  {
   "cell_type": "code",
   "execution_count": 56,
   "id": "37e13b16",
   "metadata": {},
   "outputs": [
    {
     "name": "stdout",
     "output_type": "stream",
     "text": [
      "100 / 2 = 50.0\n",
      "100 / 3 = 33.333333333333336\n",
      "100 / 4 = 25.0\n",
      "100 / 9 = 11.11111111111111\n",
      "100 / 8 = 12.5\n"
     ]
    }
   ],
   "source": [
    "for i in [2, 3, 4, 0, 9, 8]:\n",
    "    if i == 0:\n",
    "        continue\n",
    "    print(f\"100 / {i} = {100 / i}\")"
   ]
  },
  {
   "cell_type": "markdown",
   "id": "0925a4f2",
   "metadata": {},
   "source": [
    "### Break - прервать цикл"
   ]
  },
  {
   "cell_type": "code",
   "execution_count": 55,
   "id": "9c96103f",
   "metadata": {},
   "outputs": [
    {
     "name": "stdout",
     "output_type": "stream",
     "text": [
      "100 / 2 = 50.0\n",
      "100 / 3 = 33.333333333333336\n",
      "100 / 4 = 25.0\n",
      "Деление на 0 запрещено!\n"
     ]
    }
   ],
   "source": [
    "for i in [2, 3, 4, 0, 9, 8]:\n",
    "    if i == 0:\n",
    "        print(\"Деление на 0 запрещено!\")\n",
    "        break\n",
    "        print(\"А это сообщение уже не выведется\")\n",
    "    print(f\"100 / {i} = {100 / i}\")"
   ]
  },
  {
   "cell_type": "markdown",
   "id": "0688dc49",
   "metadata": {},
   "source": [
    "### Else - способ узнать, был ли цикл прерван при помощи break"
   ]
  },
  {
   "cell_type": "code",
   "execution_count": 59,
   "id": "159c8889",
   "metadata": {},
   "outputs": [
    {
     "name": "stdout",
     "output_type": "stream",
     "text": [
      "100 / 2 = 50.0\n",
      "100 / 3 = 33.333333333333336\n",
      "100 / 4 = 25.0\n",
      "Деление на 0 запрещено!\n"
     ]
    }
   ],
   "source": [
    "for i in [2, 3, 4, 0, 9, 8]:\n",
    "    if i == 0:\n",
    "        print(\"Деление на 0 запрещено!\")\n",
    "        break\n",
    "    print(f\"100 / {i} = {100 / i}\")\n",
    "else:\n",
    "    print(\"Мы не прервывали выполнение при помощи break. Цикл завершился естественным способом\")"
   ]
  },
  {
   "cell_type": "code",
   "execution_count": 60,
   "id": "56787ad9",
   "metadata": {},
   "outputs": [
    {
     "name": "stdout",
     "output_type": "stream",
     "text": [
      "100 / 2 = 50.0\n",
      "100 / 3 = 33.333333333333336\n",
      "100 / 4 = 25.0\n",
      "100 / 9 = 11.11111111111111\n",
      "100 / 8 = 12.5\n",
      "Мы не прервывали выполнение при помощи break. Цикл завершился естественным способом\n"
     ]
    }
   ],
   "source": [
    "for i in [2, 3, 4, 9, 8]:\n",
    "    if i == 0:\n",
    "        print(\"Деление на 0 запрещено!\")\n",
    "        break\n",
    "    print(f\"100 / {i} = {100 / i}\")\n",
    "else:\n",
    "    print(\"Мы не прервывали выполнение при помощи break. Цикл завершился естественным способом\")"
   ]
  },
  {
   "cell_type": "markdown",
   "id": "a0c1f364",
   "metadata": {},
   "source": [
    "Задача: есть список строк, нужно в каждую строку привести к нижнему регистру, есть два способа:"
   ]
  },
  {
   "cell_type": "code",
   "execution_count": 67,
   "id": "d77638ba",
   "metadata": {},
   "outputs": [
    {
     "name": "stdout",
     "output_type": "stream",
     "text": [
      "['name', 'value', 'value_type']\n"
     ]
    }
   ],
   "source": [
    "# не pythonic\n",
    "list_1 = [\"Name\", \"Value\", \"Value_Type\"]\n",
    "for i in range(len(list_1)):\n",
    "    list_1[i] = list_1[i].lower()\n",
    "print(list_1)"
   ]
  },
  {
   "cell_type": "code",
   "execution_count": 64,
   "id": "e6108d69",
   "metadata": {},
   "outputs": [
    {
     "name": "stdout",
     "output_type": "stream",
     "text": [
      "0 Name\n",
      "1 Value\n",
      "2 Value_Type\n",
      "['name', 'value', 'value_type']\n"
     ]
    }
   ],
   "source": [
    "# pythonic\n",
    "list_1 = [\"Name\", \"Value\", \"Value_Type\"]\n",
    "for idx, item in enumerate(list_1):\n",
    "    print(idx, item)\n",
    "    list_1[idx] = item.lower()\n",
    "print(list_1)"
   ]
  },
  {
   "cell_type": "code",
   "execution_count": 69,
   "id": "7791a60c",
   "metadata": {},
   "outputs": [
    {
     "name": "stdout",
     "output_type": "stream",
     "text": [
      "0 h\n",
      "1 e\n",
      "2 l\n",
      "3 l\n",
      "4 o\n"
     ]
    }
   ],
   "source": [
    "for idx, letter in enumerate(\"hello\"):\n",
    "    print(idx, letter)"
   ]
  },
  {
   "cell_type": "markdown",
   "id": "9da0898a",
   "metadata": {},
   "source": [
    "Задача: Есть список list_1 = [1, 2, 3, 4, 5], нужно получить второй список list_2 = [1, 4, 9, 16, 25]"
   ]
  },
  {
   "cell_type": "code",
   "execution_count": 67,
   "id": "3db91ae3",
   "metadata": {},
   "outputs": [
    {
     "name": "stdout",
     "output_type": "stream",
     "text": [
      "1\n",
      "4\n",
      "9\n",
      "16\n",
      "25\n"
     ]
    },
    {
     "data": {
      "text/plain": [
       "[1, 4, 9, 16, 25]"
      ]
     },
     "execution_count": 67,
     "metadata": {},
     "output_type": "execute_result"
    }
   ],
   "source": [
    "list_1 = [1, 2, 3, 4, 5]\n",
    "list_2 = []\n",
    "for i in list_1:\n",
    "    print(i ** 2)\n",
    "    list_2.append(i ** 2)\n",
    "    \n",
    "list_2"
   ]
  },
  {
   "cell_type": "markdown",
   "id": "72d180ba",
   "metadata": {},
   "source": [
    "Задача: Есть список list_1 = [\"str\", \"str1\", \"str2\"], нужно пройтись по каждому элементу и проверить, есть ли в нем что-то кроме букв, если да - нужно прервать выполнение цикла"
   ]
  },
  {
   "cell_type": "code",
   "execution_count": 69,
   "id": "5943045b",
   "metadata": {},
   "outputs": [
    {
     "name": "stdout",
     "output_type": "stream",
     "text": [
      "str\n",
      "есть что-то кроме букв\n"
     ]
    }
   ],
   "source": [
    "list_1 = [\"str\", \"str1\", \"str2\"]\n",
    "for i in list_1:\n",
    "    if not i.isalpha():\n",
    "        print(\"есть что-то кроме букв\")\n",
    "        break\n",
    "    print(i)"
   ]
  },
  {
   "cell_type": "markdown",
   "id": "2a5b9fb8",
   "metadata": {},
   "source": [
    "Задача: Проверить что все элементы в списке непустые"
   ]
  },
  {
   "cell_type": "code",
   "execution_count": 74,
   "id": "9b3faa30",
   "metadata": {},
   "outputs": [],
   "source": [
    "list_1 = [\"str\", \"str\", \"\"]\n"
   ]
  },
  {
   "cell_type": "markdown",
   "id": "100ddc9e",
   "metadata": {},
   "source": [
    "Задача: Проверить что все значения в списке больше 0"
   ]
  },
  {
   "cell_type": "code",
   "execution_count": null,
   "id": "1763b15d",
   "metadata": {},
   "outputs": [],
   "source": [
    "list_ = [\n",
    "    [1, 2, 3],\n",
    "    [3, -1, 2],\n",
    "    [4, 2, 0]\n",
    "]"
   ]
  },
  {
   "cell_type": "markdown",
   "id": "944df6b6",
   "metadata": {},
   "source": [
    "Задача: Узнать, сколько в списке значений меньше 0"
   ]
  },
  {
   "cell_type": "code",
   "execution_count": null,
   "id": "6981ded5",
   "metadata": {},
   "outputs": [],
   "source": [
    "list_ = [\n",
    "    [1, 2, 3],\n",
    "    [3, -1, 2],\n",
    "    [4, 2, 0]\n",
    "]"
   ]
  },
  {
   "cell_type": "markdown",
   "id": "09cbb70a",
   "metadata": {},
   "source": [
    "Задача: Найти минимальное значение"
   ]
  },
  {
   "cell_type": "code",
   "execution_count": 32,
   "id": "17df18f0",
   "metadata": {},
   "outputs": [
    {
     "data": {
      "text/plain": [
       "-1"
      ]
     },
     "execution_count": 32,
     "metadata": {},
     "output_type": "execute_result"
    }
   ],
   "source": [
    "list_ = [\n",
    "    [1, 2, 3],\n",
    "    [3, -1, 2],\n",
    "    [4, 2, 0]\n",
    "]\n",
    "\n",
    "list_1 = []\n",
    "for element in list_:\n",
    "    list_1.append(min(element))\n",
    "    \n",
    "min(list_1)"
   ]
  },
  {
   "cell_type": "code",
   "execution_count": 49,
   "id": "1c8f585f",
   "metadata": {},
   "outputs": [
    {
     "data": {
      "text/plain": [
       "-1"
      ]
     },
     "execution_count": 49,
     "metadata": {},
     "output_type": "execute_result"
    }
   ],
   "source": [
    "list_ = [\n",
    "    [1, 2, 3],\n",
    "    [3, -1, 2],\n",
    "    [4, 2, 0]\n",
    "]\n",
    "\n",
    "min_element = list_[0][0]\n",
    "\n",
    "for element in list_:\n",
    "    if isinstance(element, list):\n",
    "        for number in element:\n",
    "            if number < min_element:\n",
    "                min_element = number\n",
    "            \n",
    "min_element"
   ]
  },
  {
   "cell_type": "code",
   "execution_count": 39,
   "id": "2b840fab",
   "metadata": {},
   "outputs": [
    {
     "data": {
      "text/plain": [
       "[1, 2, 3]"
      ]
     },
     "execution_count": 39,
     "metadata": {},
     "output_type": "execute_result"
    }
   ],
   "source": [
    "list_[0]"
   ]
  },
  {
   "cell_type": "code",
   "execution_count": 43,
   "id": "c9550f8e",
   "metadata": {},
   "outputs": [
    {
     "data": {
      "text/plain": [
       "56"
      ]
     },
     "execution_count": 43,
     "metadata": {},
     "output_type": "execute_result"
    }
   ],
   "source": [
    "list_[0][0][0]"
   ]
  },
  {
   "cell_type": "code",
   "execution_count": 47,
   "id": "9a50e503",
   "metadata": {},
   "outputs": [
    {
     "data": {
      "text/plain": [
       "1"
      ]
     },
     "execution_count": 47,
     "metadata": {},
     "output_type": "execute_result"
    }
   ],
   "source": [
    "list_ = [[[[1]]]]\n",
    "list_[0][0][0][0]"
   ]
  },
  {
   "cell_type": "markdown",
   "id": "7edf3130",
   "metadata": {},
   "source": [
    "Задача: Посчитать сумму значений списка"
   ]
  },
  {
   "cell_type": "code",
   "execution_count": 77,
   "id": "55b192a2",
   "metadata": {},
   "outputs": [],
   "source": [
    "list_1 = [1, 2, 3]\n",
    "# двумя способами"
   ]
  },
  {
   "cell_type": "markdown",
   "id": "ac3c51f2",
   "metadata": {},
   "source": [
    "Задача: Есть словарь, нужно получить список ключей, в котором есть name"
   ]
  },
  {
   "cell_type": "code",
   "execution_count": 23,
   "id": "0e714f58",
   "metadata": {},
   "outputs": [
    {
     "data": {
      "text/plain": [
       "['full_name', 'last_name', 'middle_name', 'first_name']"
      ]
     },
     "execution_count": 23,
     "metadata": {},
     "output_type": "execute_result"
    }
   ],
   "source": [
    "dict_ = {\n",
    "    \"full_name\": \"Full Name\",\n",
    "    \"last_name\": \"Last Name\",\n",
    "    \"age\": 56,\n",
    "    \"middle_name\": \"Middle Name\",\n",
    "    \"first_name\": \"First Name\"\n",
    "}\n",
    "list_ = []\n",
    "for i in dict_.keys():\n",
    "    if \"name\" in i:\n",
    "        list_.append(i)\n",
    "        \n",
    "list_"
   ]
  },
  {
   "cell_type": "markdown",
   "id": "8f2b8c7e",
   "metadata": {},
   "source": [
    "# While \n",
    "\n",
    "- можно организовать бесконечный цикл\n",
    "- не нужно изначально знать, сколько итераций у нас будет\n",
    "\n",
    "**работает медленнее чем for**"
   ]
  },
  {
   "cell_type": "code",
   "execution_count": 61,
   "id": "9c495823",
   "metadata": {},
   "outputs": [
    {
     "name": "stdout",
     "output_type": "stream",
     "text": [
      "Итерация 0\n",
      "Итерация 1\n",
      "Итерация 2\n",
      "Итерация 3\n",
      "Итерация 4\n"
     ]
    }
   ],
   "source": [
    "count = 5\n",
    "i = 0\n",
    "\n",
    "\n",
    "while i < count:\n",
    "    print(f\"Итерация {i}\")\n",
    "    i += 1"
   ]
  },
  {
   "cell_type": "code",
   "execution_count": 12,
   "id": "5854833d",
   "metadata": {},
   "outputs": [
    {
     "name": "stdout",
     "output_type": "stream",
     "text": [
      "Введите число: 10\n",
      "Вы угадали!\n"
     ]
    }
   ],
   "source": [
    "# просим пользователя ввести число до тех пор пока он не догадается, что за число мы загадали\n",
    "x = 10\n",
    "\n",
    "while True:\n",
    "    value = int(input(\"Введите число: \"))\n",
    "    if value == x:\n",
    "        print(\"Вы угадали!\")\n",
    "        break\n",
    "    else:\n",
    "        print(\"Вы не угадали, попробуйте еще раз!\")\n"
   ]
  },
  {
   "cell_type": "code",
   "execution_count": 66,
   "id": "7dc812b9",
   "metadata": {},
   "outputs": [
    {
     "name": "stdout",
     "output_type": "stream",
     "text": [
      "Введите число: 1\n",
      "Вы не угадали, попробуйте еще раз!\n",
      "Введите число: 1\n",
      "Вы не угадали, попробуйте еще раз!\n",
      "Введите число: 1\n",
      "Вы не угадали, попробуйте еще раз!\n",
      "break не вызывался\n"
     ]
    }
   ],
   "source": [
    "# просим пользователя ввести число до тех пор пока он не догадается, что за число мы загадали/ \n",
    "x = 10\n",
    "attempts = 3\n",
    "\n",
    "while attempts:\n",
    "    value = int(input(\"Введите число: \"))\n",
    "    attempts -= 1\n",
    "    if value == x:\n",
    "        print(\"Вы угадали!\")\n",
    "        break\n",
    "    else:\n",
    "        print(\"Вы не угадали, попробуйте еще раз!\")\n",
    "else:\n",
    "    print(\"break не вызывался. пользователь не угадал число\")"
   ]
  },
  {
   "cell_type": "markdown",
   "id": "9695dc7a",
   "metadata": {},
   "source": [
    "Задание: При помощи цикла while вывести на экран последовательно все элементы списка"
   ]
  },
  {
   "cell_type": "code",
   "execution_count": 16,
   "id": "15f0093f",
   "metadata": {},
   "outputs": [
    {
     "name": "stdout",
     "output_type": "stream",
     "text": [
      "1\n",
      "2\n",
      "3\n",
      "4\n",
      "5\n"
     ]
    }
   ],
   "source": [
    "list_ = [1, 2, 3, 4, 5]\n",
    "n = 0\n",
    "\n",
    "while n < len(list_):\n",
    "    print(list_[n])\n",
    "    n += 1"
   ]
  },
  {
   "cell_type": "markdown",
   "id": "6a6ab317",
   "metadata": {},
   "source": [
    "Задание: Написать программу, которая спрашивает год рождения пользователя и выдает сообщение об ошибке, если возраст меньше 18,и просит снова ввести возраст. Если возраст больше 18, то программа завершается"
   ]
  },
  {
   "cell_type": "code",
   "execution_count": 19,
   "id": "27ef36fe",
   "metadata": {},
   "outputs": [
    {
     "name": "stdout",
     "output_type": "stream",
     "text": [
      "Введите год рождения:2013\n",
      "Ошибка, попробуйте еще раз\n",
      "Введите год рождения:2023\n",
      "Ошибка, попробуйте еще раз\n",
      "Введите год рождения:1999\n"
     ]
    }
   ],
   "source": [
    "\n",
    "while True:\n",
    "    age = 2023 - int(input(\"Введите год рождения:\"))\n",
    "    if age < 18:\n",
    "        print(\"Ошибка, попробуйте еще раз\")    \n",
    "    else:\n",
    "        break\n",
    "        \n"
   ]
  },
  {
   "cell_type": "code",
   "execution_count": null,
   "id": "c7ce398a",
   "metadata": {},
   "outputs": [],
   "source": []
  },
  {
   "cell_type": "code",
   "execution_count": null,
   "id": "b0401274",
   "metadata": {},
   "outputs": [],
   "source": []
  }
 ],
 "metadata": {
  "kernelspec": {
   "display_name": "Python 3 (ipykernel)",
   "language": "python",
   "name": "python3"
  },
  "language_info": {
   "codemirror_mode": {
    "name": "ipython",
    "version": 3
   },
   "file_extension": ".py",
   "mimetype": "text/x-python",
   "name": "python",
   "nbconvert_exporter": "python",
   "pygments_lexer": "ipython3",
   "version": "3.10.10"
  }
 },
 "nbformat": 4,
 "nbformat_minor": 5
}
