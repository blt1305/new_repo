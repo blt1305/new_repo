{
 "cells": [
  {
   "cell_type": "markdown",
   "id": "0ee72c5c",
   "metadata": {},
   "source": [
    "#  Комментарии"
   ]
  },
  {
   "cell_type": "markdown",
   "id": "fbbb892b",
   "metadata": {},
   "source": [
    "##### Зачем? Комментарии нужны для того чтобы оставлять заметки по коду, они могут использоваться как для пояснения сложных моментов, так и для документирования кода"
   ]
  },
  {
   "cell_type": "code",
   "execution_count": 12,
   "id": "1d554980",
   "metadata": {},
   "outputs": [],
   "source": [
    "# комментарий может быть однострочным"
   ]
  },
  {
   "cell_type": "code",
   "execution_count": 13,
   "id": "5814d7b4",
   "metadata": {},
   "outputs": [
    {
     "data": {
      "text/plain": [
       "'\\nЛибо комментарий может быть \\nмногострочным\\n'"
      ]
     },
     "execution_count": 13,
     "metadata": {},
     "output_type": "execute_result"
    }
   ],
   "source": [
    "\"\"\"\n",
    "Либо комментарий может быть \n",
    "многострочным\n",
    "\"\"\""
   ]
  },
  {
   "cell_type": "code",
   "execution_count": 14,
   "id": "8b858fe8",
   "metadata": {},
   "outputs": [
    {
     "data": {
      "text/plain": [
       "'Также никто не мешает писать его в одну строку'"
      ]
     },
     "execution_count": 14,
     "metadata": {},
     "output_type": "execute_result"
    }
   ],
   "source": [
    "\"\"\"Также никто не мешает писать его в одну строку\"\"\""
   ]
  },
  {
   "cell_type": "code",
   "execution_count": 15,
   "id": "b541de07",
   "metadata": {},
   "outputs": [
    {
     "data": {
      "text/plain": [
       "'И в одинарных кавычках'"
      ]
     },
     "execution_count": 15,
     "metadata": {},
     "output_type": "execute_result"
    }
   ],
   "source": [
    "'''И в одинарных кавычках'''"
   ]
  },
  {
   "cell_type": "markdown",
   "id": "6e39ec33",
   "metadata": {},
   "source": [
    "# Функции"
   ]
  },
  {
   "cell_type": "markdown",
   "id": "92952095",
   "metadata": {},
   "source": [
    "##### Зачем? Функция - кусок кода, который мы можем использовать МНОГОКРАТНО и нам не нужно будет его снова писать"
   ]
  },
  {
   "cell_type": "code",
   "execution_count": 1,
   "id": "b67b30ae",
   "metadata": {},
   "outputs": [],
   "source": [
    "# функция выводит сообщение на экран\n",
    "def func():\n",
    "    print(\"Hello world!\")"
   ]
  },
  {
   "cell_type": "code",
   "execution_count": 2,
   "id": "fa92187a",
   "metadata": {},
   "outputs": [
    {
     "name": "stdout",
     "output_type": "stream",
     "text": [
      "Hello world!\n"
     ]
    }
   ],
   "source": [
    "# таким образом мы вызываем функцию\n",
    "func()"
   ]
  },
  {
   "cell_type": "code",
   "execution_count": 176,
   "id": "365ba2d3",
   "metadata": {},
   "outputs": [],
   "source": [
    "# функция может принимать аргументы - переменные,\n",
    "# которые она будет использовать для вычислений\n",
    "def func(name):\n",
    "    string = f\"Hello, {name}\"\n",
    "    return string # при помощи return функция возвращает значение\n"
   ]
  },
  {
   "cell_type": "code",
   "execution_count": 177,
   "id": "2d2696c9",
   "metadata": {},
   "outputs": [],
   "source": [
    "message = func(\"Lena\")"
   ]
  },
  {
   "cell_type": "code",
   "execution_count": 178,
   "id": "36012e8e",
   "metadata": {},
   "outputs": [
    {
     "data": {
      "text/plain": [
       "'Hello, Lena'"
      ]
     },
     "execution_count": 178,
     "metadata": {},
     "output_type": "execute_result"
    }
   ],
   "source": [
    "message"
   ]
  },
  {
   "cell_type": "code",
   "execution_count": 179,
   "id": "5dd4bc92",
   "metadata": {},
   "outputs": [],
   "source": [
    "# пример функции, которая выполняет математические операции\n",
    "def func(a, b): # она может принимать несколько аргументов через запятую\n",
    "    return a ** b"
   ]
  },
  {
   "cell_type": "code",
   "execution_count": 180,
   "id": "9a0c8466",
   "metadata": {},
   "outputs": [
    {
     "name": "stdout",
     "output_type": "stream",
     "text": [
      "8\n"
     ]
    }
   ],
   "source": [
    "res = func(2, 3)\n",
    "print(res)"
   ]
  },
  {
   "cell_type": "code",
   "execution_count": 181,
   "id": "ab57c76f",
   "metadata": {},
   "outputs": [
    {
     "name": "stdout",
     "output_type": "stream",
     "text": [
      "Hello world!\n",
      "None\n"
     ]
    }
   ],
   "source": [
    "# функция в любом случае что-то возвращает, даже есть нет return\n",
    "# по дефолту это None - ничего\n",
    "def func():\n",
    "    print(\"Hello world!\")\n",
    "\n",
    "value = func()\n",
    "print(value)"
   ]
  },
  {
   "cell_type": "markdown",
   "id": "ff46930f",
   "metadata": {},
   "source": [
    "#### [None](https://pythonworld.ru/tipy-dannyx-v-python/none.html)\n",
    "\n",
    "Отдельный тип данных, нужен для того чтобы сказать что нет значения"
   ]
  },
  {
   "cell_type": "code",
   "execution_count": 154,
   "id": "a07d257d",
   "metadata": {},
   "outputs": [
    {
     "data": {
      "text/plain": [
       "NoneType"
      ]
     },
     "execution_count": 154,
     "metadata": {},
     "output_type": "execute_result"
    }
   ],
   "source": [
    "type(None)"
   ]
  },
  {
   "cell_type": "markdown",
   "id": "7b8cc490",
   "metadata": {},
   "source": [
    "Задание: Написать функцию, которая запрашивает у пользователя год рождения и возвращает его возраст"
   ]
  },
  {
   "cell_type": "code",
   "execution_count": 182,
   "id": "b81a8620",
   "metadata": {},
   "outputs": [
    {
     "name": "stdout",
     "output_type": "stream",
     "text": [
      "Введите год рождения:1990\n"
     ]
    }
   ],
   "source": [
    "def get_age():\n",
    "    return 2023 - int(input(\"Введите год рождения:\"))\n",
    "    \n",
    "age1 = get_age()"
   ]
  },
  {
   "cell_type": "code",
   "execution_count": 183,
   "id": "dbe16094",
   "metadata": {},
   "outputs": [
    {
     "name": "stdout",
     "output_type": "stream",
     "text": [
      "33\n"
     ]
    }
   ],
   "source": [
    "print(age1)"
   ]
  },
  {
   "cell_type": "markdown",
   "id": "e3605108",
   "metadata": {},
   "source": [
    "Задание: Написать функцию, которая запрашивает у пользователя его имя и возвращает его"
   ]
  },
  {
   "cell_type": "code",
   "execution_count": 4,
   "id": "ed9d301a",
   "metadata": {},
   "outputs": [],
   "source": [
    "def get_name():\n",
    "    name = input(\"Как вас зовут\")\n",
    "    return name"
   ]
  },
  {
   "cell_type": "code",
   "execution_count": 5,
   "id": "c3c93b30",
   "metadata": {},
   "outputs": [
    {
     "name": "stdout",
     "output_type": "stream",
     "text": [
      "Как вас зовутKatya\n"
     ]
    }
   ],
   "source": [
    "name = get_name()"
   ]
  },
  {
   "cell_type": "code",
   "execution_count": 6,
   "id": "0ec77b6e",
   "metadata": {},
   "outputs": [
    {
     "name": "stdout",
     "output_type": "stream",
     "text": [
      "Katya\n"
     ]
    }
   ],
   "source": [
    "print(name)"
   ]
  },
  {
   "cell_type": "code",
   "execution_count": 7,
   "id": "13f0fdc4",
   "metadata": {},
   "outputs": [
    {
     "name": "stdout",
     "output_type": "stream",
     "text": [
      "Как вас зовутLena\n",
      "Lena\n"
     ]
    }
   ],
   "source": [
    "print(get_name())"
   ]
  },
  {
   "cell_type": "markdown",
   "id": "8eec8914",
   "metadata": {},
   "source": [
    "Задание: Написать функцию, которая принимает в себя число a, возводит его в квадрат и возвращает результат вычисления"
   ]
  },
  {
   "cell_type": "code",
   "execution_count": 8,
   "id": "9ce3e284",
   "metadata": {},
   "outputs": [],
   "source": [
    "def enter_digit(a):\n",
    "    return a ** 2"
   ]
  },
  {
   "cell_type": "code",
   "execution_count": 9,
   "id": "56f5d0cd",
   "metadata": {},
   "outputs": [
    {
     "name": "stdout",
     "output_type": "stream",
     "text": [
      "144\n"
     ]
    }
   ],
   "source": [
    "print(enter_digit(12))"
   ]
  },
  {
   "cell_type": "code",
   "execution_count": 11,
   "id": "4f3160be",
   "metadata": {},
   "outputs": [
    {
     "name": "stdout",
     "output_type": "stream",
     "text": [
      "12\n",
      "144\n"
     ]
    }
   ],
   "source": [
    "a = int(input())\n",
    "print(enter_digit(a))"
   ]
  },
  {
   "cell_type": "markdown",
   "id": "53c2045c",
   "metadata": {},
   "source": [
    "# Математические операции над числами"
   ]
  },
  {
   "cell_type": "markdown",
   "id": "3b1b3b0f",
   "metadata": {},
   "source": [
    "Найти минимальное число из представленных:"
   ]
  },
  {
   "cell_type": "code",
   "execution_count": 13,
   "id": "7bd8283d",
   "metadata": {},
   "outputs": [
    {
     "data": {
      "text/plain": [
       "0"
      ]
     },
     "execution_count": 13,
     "metadata": {},
     "output_type": "execute_result"
    }
   ],
   "source": [
    "a = 10\n",
    "b = 2\n",
    "min(2, 0, 100)"
   ]
  },
  {
   "cell_type": "code",
   "execution_count": 14,
   "id": "9c5b49a2",
   "metadata": {},
   "outputs": [
    {
     "data": {
      "text/plain": [
       "2"
      ]
     },
     "execution_count": 14,
     "metadata": {},
     "output_type": "execute_result"
    }
   ],
   "source": [
    "min(a, b)"
   ]
  },
  {
   "cell_type": "markdown",
   "id": "49f0f38d",
   "metadata": {},
   "source": [
    "Найти максимальное число из представленных:"
   ]
  },
  {
   "cell_type": "code",
   "execution_count": 16,
   "id": "7cabd89e",
   "metadata": {},
   "outputs": [
    {
     "data": {
      "text/plain": [
       "100"
      ]
     },
     "execution_count": 16,
     "metadata": {},
     "output_type": "execute_result"
    }
   ],
   "source": [
    "b = -2000\n",
    "max(2, 0, 100, b)"
   ]
  },
  {
   "cell_type": "markdown",
   "id": "8d68403e",
   "metadata": {},
   "source": [
    "Получить абсолютное значение (модуль) числа:"
   ]
  },
  {
   "cell_type": "code",
   "execution_count": 3,
   "id": "52cde1c6",
   "metadata": {},
   "outputs": [
    {
     "data": {
      "text/plain": [
       "10000"
      ]
     },
     "execution_count": 3,
     "metadata": {},
     "output_type": "execute_result"
    }
   ],
   "source": [
    "abs(-10000)"
   ]
  },
  {
   "cell_type": "code",
   "execution_count": 4,
   "id": "4c12464a",
   "metadata": {},
   "outputs": [
    {
     "data": {
      "text/plain": [
       "1.2"
      ]
     },
     "execution_count": 4,
     "metadata": {},
     "output_type": "execute_result"
    }
   ],
   "source": [
    "abs(-1.2)"
   ]
  },
  {
   "cell_type": "code",
   "execution_count": 5,
   "id": "78c2d595",
   "metadata": {},
   "outputs": [
    {
     "data": {
      "text/plain": [
       "90"
      ]
     },
     "execution_count": 5,
     "metadata": {},
     "output_type": "execute_result"
    }
   ],
   "source": [
    "abs(90)"
   ]
  },
  {
   "cell_type": "markdown",
   "id": "1e54cab1",
   "metadata": {},
   "source": [
    "Округлить число:\n",
    "\n",
    "round(число, количество знаков, до которого нужно округлить)"
   ]
  },
  {
   "cell_type": "code",
   "execution_count": 17,
   "id": "5bac7efd",
   "metadata": {},
   "outputs": [
    {
     "data": {
      "text/plain": [
       "10.99"
      ]
     },
     "execution_count": 17,
     "metadata": {},
     "output_type": "execute_result"
    }
   ],
   "source": [
    "n = 10.989921898129389\n",
    "round(n, 2)"
   ]
  },
  {
   "cell_type": "markdown",
   "id": "3ce9c049",
   "metadata": {},
   "source": [
    "Возведение в степень:"
   ]
  },
  {
   "cell_type": "code",
   "execution_count": 7,
   "id": "1a10e518",
   "metadata": {},
   "outputs": [
    {
     "data": {
      "text/plain": [
       "8"
      ]
     },
     "execution_count": 7,
     "metadata": {},
     "output_type": "execute_result"
    }
   ],
   "source": [
    "pow(2, 3)"
   ]
  },
  {
   "cell_type": "code",
   "execution_count": 18,
   "id": "a46480ca",
   "metadata": {},
   "outputs": [
    {
     "data": {
      "text/plain": [
       "8"
      ]
     },
     "execution_count": 18,
     "metadata": {},
     "output_type": "execute_result"
    }
   ],
   "source": [
    "2 ** 3"
   ]
  },
  {
   "cell_type": "markdown",
   "id": "d2f34608",
   "metadata": {},
   "source": [
    "Задание: найти модуль числа -999"
   ]
  },
  {
   "cell_type": "code",
   "execution_count": 19,
   "id": "41fc8df2",
   "metadata": {},
   "outputs": [
    {
     "data": {
      "text/plain": [
       "999"
      ]
     },
     "execution_count": 19,
     "metadata": {},
     "output_type": "execute_result"
    }
   ],
   "source": [
    "abs(-999)"
   ]
  },
  {
   "cell_type": "markdown",
   "id": "b1ddcc25",
   "metadata": {},
   "source": [
    "Задание: получить число 0.33 в качестве результата следующего выражения:"
   ]
  },
  {
   "cell_type": "code",
   "execution_count": 20,
   "id": "862081d8",
   "metadata": {},
   "outputs": [
    {
     "data": {
      "text/plain": [
       "0.33"
      ]
     },
     "execution_count": 20,
     "metadata": {},
     "output_type": "execute_result"
    }
   ],
   "source": [
    "round(1/3, 2)"
   ]
  },
  {
   "cell_type": "markdown",
   "id": "ccfa68f8",
   "metadata": {},
   "source": [
    "Задание: найти минимальное из чисел a, b, c"
   ]
  },
  {
   "cell_type": "code",
   "execution_count": 22,
   "id": "c3ec6caa",
   "metadata": {},
   "outputs": [],
   "source": [
    "a = 10\n",
    "b = -45\n",
    "c = 256"
   ]
  },
  {
   "cell_type": "code",
   "execution_count": 23,
   "id": "f3d31f55",
   "metadata": {},
   "outputs": [
    {
     "data": {
      "text/plain": [
       "-45"
      ]
     },
     "execution_count": 23,
     "metadata": {},
     "output_type": "execute_result"
    }
   ],
   "source": [
    "min(a, b, c)"
   ]
  },
  {
   "cell_type": "code",
   "execution_count": 24,
   "id": "d38065b5",
   "metadata": {},
   "outputs": [
    {
     "data": {
      "text/plain": [
       "False"
      ]
     },
     "execution_count": 24,
     "metadata": {},
     "output_type": "execute_result"
    }
   ],
   "source": [
    "a == min(a, b, c)"
   ]
  },
  {
   "cell_type": "markdown",
   "id": "02771c4c",
   "metadata": {},
   "source": [
    "# [Список - list](https://pythonworld.ru/tipy-dannyx-v-python/spiski-list-funkcii-i-metody-spiskov.html)\n",
    "\n",
    "##### Зачем? Список однотипных элементов"
   ]
  },
  {
   "cell_type": "code",
   "execution_count": 29,
   "id": "1a7ee72d",
   "metadata": {},
   "outputs": [],
   "source": [
    "products = []"
   ]
  },
  {
   "cell_type": "code",
   "execution_count": 30,
   "id": "3c3b485c",
   "metadata": {},
   "outputs": [],
   "source": [
    "products = list()"
   ]
  },
  {
   "cell_type": "code",
   "execution_count": 25,
   "id": "67d79f33",
   "metadata": {},
   "outputs": [],
   "source": [
    "products = [\"молоко\", \"сыр\", \"картошка\"]"
   ]
  },
  {
   "cell_type": "markdown",
   "id": "9b53d537",
   "metadata": {},
   "source": [
    "#### Получить длину списка - len"
   ]
  },
  {
   "cell_type": "code",
   "execution_count": 26,
   "id": "73eb047d",
   "metadata": {},
   "outputs": [],
   "source": [
    "products = [\"молоко\", \"сыр\", \"картошка\"]"
   ]
  },
  {
   "cell_type": "code",
   "execution_count": 27,
   "id": "6eaa3119",
   "metadata": {},
   "outputs": [
    {
     "data": {
      "text/plain": [
       "3"
      ]
     },
     "execution_count": 27,
     "metadata": {},
     "output_type": "execute_result"
    }
   ],
   "source": [
    "len(products)"
   ]
  },
  {
   "cell_type": "code",
   "execution_count": 28,
   "id": "218ef9f8",
   "metadata": {},
   "outputs": [
    {
     "data": {
      "text/plain": [
       "3"
      ]
     },
     "execution_count": 28,
     "metadata": {},
     "output_type": "execute_result"
    }
   ],
   "source": [
    "len(\"str\")"
   ]
  },
  {
   "cell_type": "markdown",
   "id": "cf63eb3a",
   "metadata": {},
   "source": [
    "#### Добавить элемент в список\n"
   ]
  },
  {
   "cell_type": "code",
   "execution_count": 29,
   "id": "bbfc4cea",
   "metadata": {},
   "outputs": [
    {
     "data": {
      "text/plain": [
       "['молоко', 'сыр', 'картошка', 'хлеб']"
      ]
     },
     "execution_count": 29,
     "metadata": {},
     "output_type": "execute_result"
    }
   ],
   "source": [
    "products = [\"молоко\", \"сыр\", \"картошка\"]\n",
    "products.append(\"хлеб\")\n",
    "products"
   ]
  },
  {
   "cell_type": "markdown",
   "id": "db580a07",
   "metadata": {},
   "source": [
    "#### Добавить несколько элементов в список"
   ]
  },
  {
   "cell_type": "code",
   "execution_count": 30,
   "id": "c3bd70f5",
   "metadata": {},
   "outputs": [
    {
     "data": {
      "text/plain": [
       "['молоко', 'сыр', 'картошка', 'яблоки', 'огурцы', 'бананы']"
      ]
     },
     "execution_count": 30,
     "metadata": {},
     "output_type": "execute_result"
    }
   ],
   "source": [
    "products = [\"молоко\", \"сыр\", \"картошка\"]\n",
    "products_2 = [\"яблоки\", \"огурцы\", \"бананы\"]\n",
    "products.extend(products_2)\n",
    "products"
   ]
  },
  {
   "cell_type": "code",
   "execution_count": 31,
   "id": "668777f6",
   "metadata": {},
   "outputs": [
    {
     "data": {
      "text/plain": [
       "['молоко', 'сыр', 'картошка', ['яблоки', 'огурцы', 'бананы']]"
      ]
     },
     "execution_count": 31,
     "metadata": {},
     "output_type": "execute_result"
    }
   ],
   "source": [
    "products = [\"молоко\", \"сыр\", \"картошка\"]\n",
    "products_2 = [\"яблоки\", \"огурцы\", \"бананы\"]\n",
    "products.append(products_2)\n",
    "products"
   ]
  },
  {
   "cell_type": "markdown",
   "id": "734c6d52",
   "metadata": {},
   "source": [
    "### Изменяемость"
   ]
  },
  {
   "cell_type": "code",
   "execution_count": 32,
   "id": "23009b6e",
   "metadata": {},
   "outputs": [
    {
     "data": {
      "text/plain": [
       "[1, 2, 3, 4]"
      ]
     },
     "execution_count": 32,
     "metadata": {},
     "output_type": "execute_result"
    }
   ],
   "source": [
    "a = [1, 2, 3]\n",
    "c = a\n",
    "a.append(4)\n",
    "c"
   ]
  },
  {
   "cell_type": "markdown",
   "id": "dad5a44d",
   "metadata": {},
   "source": [
    "### Slice - Слайсы\n",
    "\n",
    "list_[начало: конец: шаг]"
   ]
  },
  {
   "cell_type": "code",
   "execution_count": 39,
   "id": "f826f326",
   "metadata": {},
   "outputs": [
    {
     "data": {
      "text/plain": [
       "['молоко', 'сыр', 'картошка']"
      ]
     },
     "execution_count": 39,
     "metadata": {},
     "output_type": "execute_result"
    }
   ],
   "source": [
    "products_1 = [\"молоко\", \"сыр\", \"картошка\"]\n",
    "products_1"
   ]
  },
  {
   "cell_type": "code",
   "execution_count": 35,
   "id": "7ec50ad1",
   "metadata": {},
   "outputs": [
    {
     "data": {
      "text/plain": [
       "['сыр', 'картошка']"
      ]
     },
     "execution_count": 35,
     "metadata": {},
     "output_type": "execute_result"
    }
   ],
   "source": [
    "products_1[1:]"
   ]
  },
  {
   "cell_type": "code",
   "execution_count": 36,
   "id": "eefaccf6",
   "metadata": {},
   "outputs": [
    {
     "data": {
      "text/plain": [
       "['молоко', 'сыр']"
      ]
     },
     "execution_count": 36,
     "metadata": {},
     "output_type": "execute_result"
    }
   ],
   "source": [
    "products_1[:-1]"
   ]
  },
  {
   "cell_type": "code",
   "execution_count": 37,
   "id": "778c9cfe",
   "metadata": {},
   "outputs": [
    {
     "data": {
      "text/plain": [
       "['молоко', 'картошка']"
      ]
     },
     "execution_count": 37,
     "metadata": {},
     "output_type": "execute_result"
    }
   ],
   "source": [
    "products_1[::2]"
   ]
  },
  {
   "cell_type": "code",
   "execution_count": 40,
   "id": "ab94b176",
   "metadata": {},
   "outputs": [],
   "source": [
    "products_2 = products_1[:]\n",
    "products_2.append(\"огурцы\")"
   ]
  },
  {
   "cell_type": "code",
   "execution_count": 41,
   "id": "a8d5e99a",
   "metadata": {},
   "outputs": [
    {
     "name": "stdout",
     "output_type": "stream",
     "text": [
      "products_1: ['молоко', 'сыр', 'картошка']\n",
      "products_2: ['молоко', 'сыр', 'картошка', 'огурцы']\n"
     ]
    }
   ],
   "source": [
    "print(f\"products_1: {products_1}\")\n",
    "print(f\"products_2: {products_2}\")"
   ]
  },
  {
   "cell_type": "markdown",
   "id": "0024d99c",
   "metadata": {},
   "source": [
    "#### Вставить элемент на i позицию"
   ]
  },
  {
   "cell_type": "code",
   "execution_count": 42,
   "id": "5a5f872c",
   "metadata": {},
   "outputs": [
    {
     "data": {
      "text/plain": [
       "[1, 4, 2, 3]"
      ]
     },
     "execution_count": 42,
     "metadata": {},
     "output_type": "execute_result"
    }
   ],
   "source": [
    "list_ = [1, 2, 3]\n",
    "list_.insert(1, 4)\n",
    "list_"
   ]
  },
  {
   "cell_type": "markdown",
   "id": "7d6b4f27",
   "metadata": {},
   "source": [
    "#### Удалить первый элемент в списке, имеющий значение x"
   ]
  },
  {
   "cell_type": "code",
   "execution_count": 43,
   "id": "72ccaafa",
   "metadata": {},
   "outputs": [
    {
     "data": {
      "text/plain": [
       "[1, 2]"
      ]
     },
     "execution_count": 43,
     "metadata": {},
     "output_type": "execute_result"
    }
   ],
   "source": [
    "list_ = [1, 2, 3]\n",
    "list_.remove(3)\n",
    "list_"
   ]
  },
  {
   "cell_type": "code",
   "execution_count": 125,
   "id": "a05298cb",
   "metadata": {},
   "outputs": [
    {
     "ename": "ValueError",
     "evalue": "list.remove(x): x not in list",
     "output_type": "error",
     "traceback": [
      "\u001b[1;31m---------------------------------------------------------------------------\u001b[0m",
      "\u001b[1;31mValueError\u001b[0m                                Traceback (most recent call last)",
      "Cell \u001b[1;32mIn[125], line 2\u001b[0m\n\u001b[0;32m      1\u001b[0m \u001b[38;5;66;03m# возвращает ошибку, если пытаемся удалить несуществующий элемент\u001b[39;00m\n\u001b[1;32m----> 2\u001b[0m \u001b[43mlist_\u001b[49m\u001b[38;5;241;43m.\u001b[39;49m\u001b[43mremove\u001b[49m\u001b[43m(\u001b[49m\u001b[38;5;241;43m3\u001b[39;49m\u001b[43m)\u001b[49m\n\u001b[0;32m      3\u001b[0m list_\n",
      "\u001b[1;31mValueError\u001b[0m: list.remove(x): x not in list"
     ]
    }
   ],
   "source": [
    "# возвращает ошибку, если пытаемся удалить несуществующий элемент\n",
    "list_.remove(3)\n",
    "list_"
   ]
  },
  {
   "cell_type": "markdown",
   "id": "944ccd9d",
   "metadata": {},
   "source": [
    "#### Удалить i элемент и вернуть его. Если i не указан, то удаляется последний элемент"
   ]
  },
  {
   "cell_type": "code",
   "execution_count": 126,
   "id": "9deac35a",
   "metadata": {},
   "outputs": [
    {
     "data": {
      "text/plain": [
       "[1, 2]"
      ]
     },
     "execution_count": 126,
     "metadata": {},
     "output_type": "execute_result"
    }
   ],
   "source": [
    "list_ = [1, 2, 3]\n",
    "list_.pop(2)\n",
    "list_"
   ]
  },
  {
   "cell_type": "code",
   "execution_count": 127,
   "id": "35a5958c",
   "metadata": {},
   "outputs": [
    {
     "data": {
      "text/plain": [
       "[1]"
      ]
     },
     "execution_count": 127,
     "metadata": {},
     "output_type": "execute_result"
    }
   ],
   "source": [
    "list_.pop()\n",
    "list_"
   ]
  },
  {
   "cell_type": "markdown",
   "id": "0f7f84b3",
   "metadata": {},
   "source": [
    "#### Узнать есть ли элемент в списке"
   ]
  },
  {
   "cell_type": "code",
   "execution_count": 45,
   "id": "684e2915",
   "metadata": {},
   "outputs": [
    {
     "data": {
      "text/plain": [
       "True"
      ]
     },
     "execution_count": 45,
     "metadata": {},
     "output_type": "execute_result"
    }
   ],
   "source": [
    "list_ = [1, 2, 3]\n",
    "1 in list_"
   ]
  },
  {
   "cell_type": "markdown",
   "id": "6e5c7a42",
   "metadata": {},
   "source": [
    "#### Получить индекс первого элемента со значением x\n",
    "\n",
    "##### Синтаксис: list_.index(x, start, end)"
   ]
  },
  {
   "cell_type": "code",
   "execution_count": 131,
   "id": "f8d35f39",
   "metadata": {},
   "outputs": [
    {
     "data": {
      "text/plain": [
       "1"
      ]
     },
     "execution_count": 131,
     "metadata": {},
     "output_type": "execute_result"
    }
   ],
   "source": [
    "list_ = [1, 2, 3, 2]\n",
    "list_.index(2)"
   ]
  },
  {
   "cell_type": "code",
   "execution_count": 48,
   "id": "24ba299c",
   "metadata": {},
   "outputs": [
    {
     "data": {
      "text/plain": [
       "3"
      ]
     },
     "execution_count": 48,
     "metadata": {},
     "output_type": "execute_result"
    }
   ],
   "source": [
    "list_ = [1, 2, 3, 2]\n",
    "list_.index(2, 2, 4)"
   ]
  },
  {
   "cell_type": "code",
   "execution_count": 49,
   "id": "ad4061a1",
   "metadata": {},
   "outputs": [
    {
     "ename": "ValueError",
     "evalue": "2 is not in list",
     "output_type": "error",
     "traceback": [
      "\u001b[1;31m---------------------------------------------------------------------------\u001b[0m",
      "\u001b[1;31mValueError\u001b[0m                                Traceback (most recent call last)",
      "Cell \u001b[1;32mIn[49], line 2\u001b[0m\n\u001b[0;32m      1\u001b[0m list_ \u001b[38;5;241m=\u001b[39m [\u001b[38;5;241m1\u001b[39m, \u001b[38;5;241m2\u001b[39m, \u001b[38;5;241m3\u001b[39m, \u001b[38;5;241m2\u001b[39m]\n\u001b[1;32m----> 2\u001b[0m \u001b[43mlist_\u001b[49m\u001b[38;5;241;43m.\u001b[39;49m\u001b[43mindex\u001b[49m\u001b[43m(\u001b[49m\u001b[38;5;241;43m2\u001b[39;49m\u001b[43m,\u001b[49m\u001b[43m \u001b[49m\u001b[38;5;241;43m2\u001b[39;49m\u001b[43m,\u001b[49m\u001b[43m \u001b[49m\u001b[38;5;241;43m3\u001b[39;49m\u001b[43m)\u001b[49m\n",
      "\u001b[1;31mValueError\u001b[0m: 2 is not in list"
     ]
    }
   ],
   "source": [
    "list_ = [1, 2, 3, 2]\n",
    "list_.index(2, 2, 3)"
   ]
  },
  {
   "cell_type": "code",
   "execution_count": 134,
   "id": "e82f72c3",
   "metadata": {},
   "outputs": [
    {
     "data": {
      "text/plain": [
       "3"
      ]
     },
     "execution_count": 134,
     "metadata": {},
     "output_type": "execute_result"
    }
   ],
   "source": [
    "list_ = [1, 2, 3, 2]\n",
    "list_.index(2, 2)"
   ]
  },
  {
   "cell_type": "markdown",
   "id": "5d30fb3a",
   "metadata": {},
   "source": [
    "#### Получить количество элементов со значением х"
   ]
  },
  {
   "cell_type": "code",
   "execution_count": 52,
   "id": "04f5584f",
   "metadata": {},
   "outputs": [
    {
     "data": {
      "text/plain": [
       "2"
      ]
     },
     "execution_count": 52,
     "metadata": {},
     "output_type": "execute_result"
    }
   ],
   "source": [
    "list_ = [1, 2, 3, 2]\n",
    "list_.count(2)"
   ]
  },
  {
   "cell_type": "markdown",
   "id": "76989f87",
   "metadata": {},
   "source": [
    "#### Отсортировать список"
   ]
  },
  {
   "cell_type": "code",
   "execution_count": 138,
   "id": "ee0a3210",
   "metadata": {},
   "outputs": [
    {
     "data": {
      "text/plain": [
       "[-19, 0, 1, 5, 6]"
      ]
     },
     "execution_count": 138,
     "metadata": {},
     "output_type": "execute_result"
    }
   ],
   "source": [
    "list_ = [5, 6, 1, 0, -19]\n",
    "list_.sort()\n",
    "list_"
   ]
  },
  {
   "cell_type": "code",
   "execution_count": 53,
   "id": "ed23f47a",
   "metadata": {},
   "outputs": [
    {
     "data": {
      "text/plain": [
       "[5, 6, 1, 0, -19]"
      ]
     },
     "execution_count": 53,
     "metadata": {},
     "output_type": "execute_result"
    }
   ],
   "source": [
    "# если хотим не менять изначальный список, то можно использовать sorted\n",
    "list_ = [5, 6, 1, 0, -19]\n",
    "new_list = sorted(list_)\n",
    "list_"
   ]
  },
  {
   "cell_type": "code",
   "execution_count": 54,
   "id": "2c33bce9",
   "metadata": {},
   "outputs": [
    {
     "data": {
      "text/plain": [
       "[-19, 0, 1, 5, 6]"
      ]
     },
     "execution_count": 54,
     "metadata": {},
     "output_type": "execute_result"
    }
   ],
   "source": [
    "new_list"
   ]
  },
  {
   "cell_type": "code",
   "execution_count": 144,
   "id": "fd4afcb1",
   "metadata": {},
   "outputs": [
    {
     "data": {
      "text/plain": [
       "[6, 5, 1, 0, -19]"
      ]
     },
     "execution_count": 144,
     "metadata": {},
     "output_type": "execute_result"
    }
   ],
   "source": [
    "# можно отсортировать в обратном порядке при помощи reverse=True\n",
    "list_ = [5, 6, 1, 0, -19]\n",
    "list_.sort(reverse=True)\n",
    "list_"
   ]
  },
  {
   "cell_type": "markdown",
   "id": "94a635f4",
   "metadata": {},
   "source": [
    "#### Перевернуть список"
   ]
  },
  {
   "cell_type": "code",
   "execution_count": 149,
   "id": "b7815b02",
   "metadata": {},
   "outputs": [
    {
     "data": {
      "text/plain": [
       "[-19, 0, 1, 6, 5]"
      ]
     },
     "execution_count": 149,
     "metadata": {},
     "output_type": "execute_result"
    }
   ],
   "source": [
    "list_ = [5, 6, 1, 0, -19]\n",
    "list_.reverse()\n",
    "list_\n",
    "\n",
    "# какая есть альтернатива?"
   ]
  },
  {
   "cell_type": "code",
   "execution_count": 55,
   "id": "eeac7ddc",
   "metadata": {},
   "outputs": [
    {
     "data": {
      "text/plain": [
       "[-19, 0, 1, 6, 5]"
      ]
     },
     "execution_count": 55,
     "metadata": {},
     "output_type": "execute_result"
    }
   ],
   "source": [
    "list_ = [5, 6, 1, 0, -19]\n",
    "list_[::-1]"
   ]
  },
  {
   "cell_type": "code",
   "execution_count": 57,
   "id": "a34931de",
   "metadata": {},
   "outputs": [
    {
     "data": {
      "text/plain": [
       "[8, 9]"
      ]
     },
     "execution_count": 57,
     "metadata": {},
     "output_type": "execute_result"
    }
   ],
   "source": [
    "l = [2**3, 15-6]\n",
    "l"
   ]
  },
  {
   "cell_type": "code",
   "execution_count": 58,
   "id": "f1e7eec8",
   "metadata": {},
   "outputs": [
    {
     "ename": "TypeError",
     "evalue": "'<' not supported between instances of 'list' and 'int'",
     "output_type": "error",
     "traceback": [
      "\u001b[1;31m---------------------------------------------------------------------------\u001b[0m",
      "\u001b[1;31mTypeError\u001b[0m                                 Traceback (most recent call last)",
      "Cell \u001b[1;32mIn[58], line 2\u001b[0m\n\u001b[0;32m      1\u001b[0m l \u001b[38;5;241m=\u001b[39m [\u001b[38;5;241m20\u001b[39m, \u001b[38;5;241m-\u001b[39m\u001b[38;5;241m10\u001b[39m, [\u001b[38;5;241m2\u001b[39m, \u001b[38;5;241m3\u001b[39m]]\n\u001b[1;32m----> 2\u001b[0m \u001b[38;5;28;43msorted\u001b[39;49m\u001b[43m(\u001b[49m\u001b[43ml\u001b[49m\u001b[43m)\u001b[49m\n",
      "\u001b[1;31mTypeError\u001b[0m: '<' not supported between instances of 'list' and 'int'"
     ]
    }
   ],
   "source": [
    "l = [20, -10, [2, 3]]\n",
    "sorted(l)"
   ]
  },
  {
   "cell_type": "code",
   "execution_count": 60,
   "id": "36d93f5f",
   "metadata": {},
   "outputs": [
    {
     "data": {
      "text/plain": [
       "['abc', 'nm', 'z']"
      ]
     },
     "execution_count": 60,
     "metadata": {},
     "output_type": "execute_result"
    }
   ],
   "source": [
    "a = [\"abc\", \"z\", \"nm\"]\n",
    "sorted(a)"
   ]
  },
  {
   "cell_type": "markdown",
   "id": "e8c63cfe",
   "metadata": {},
   "source": [
    "#### Очистить список"
   ]
  },
  {
   "cell_type": "code",
   "execution_count": 151,
   "id": "f157ab61",
   "metadata": {},
   "outputs": [
    {
     "data": {
      "text/plain": [
       "[]"
      ]
     },
     "execution_count": 151,
     "metadata": {},
     "output_type": "execute_result"
    }
   ],
   "source": [
    "list_ = [5, 6, 1, 0, -19]\n",
    "list_.clear()\n",
    "list_"
   ]
  },
  {
   "cell_type": "code",
   "execution_count": null,
   "id": "0f1de7e0",
   "metadata": {},
   "outputs": [],
   "source": [
    "list_ = []"
   ]
  },
  {
   "cell_type": "markdown",
   "id": "a46ee666",
   "metadata": {},
   "source": [
    "Задание: Создать список устройств (телефон, планшет и тд)"
   ]
  },
  {
   "cell_type": "code",
   "execution_count": 61,
   "id": "269921df",
   "metadata": {},
   "outputs": [],
   "source": [
    "list_ = [\"телефон\", \"планшет\"]"
   ]
  },
  {
   "cell_type": "markdown",
   "id": "3164ce15",
   "metadata": {},
   "source": [
    "Задание: Добавить в список еще два устройства"
   ]
  },
  {
   "cell_type": "code",
   "execution_count": 64,
   "id": "2a895434",
   "metadata": {},
   "outputs": [],
   "source": [
    "list_.extend([\"телевизор\", \"кампуктер\"])"
   ]
  },
  {
   "cell_type": "code",
   "execution_count": 66,
   "id": "b58ab145",
   "metadata": {},
   "outputs": [
    {
     "data": {
      "text/plain": [
       "['телефон', 'планшет', 'телевизор', 'кампуктер']"
      ]
     },
     "execution_count": 66,
     "metadata": {},
     "output_type": "execute_result"
    }
   ],
   "source": [
    "list_"
   ]
  },
  {
   "cell_type": "markdown",
   "id": "a85e1283",
   "metadata": {},
   "source": [
    "Задание: Очистить список двумя способами"
   ]
  },
  {
   "cell_type": "code",
   "execution_count": 67,
   "id": "d7133b35",
   "metadata": {},
   "outputs": [],
   "source": [
    "list_.clear()"
   ]
  },
  {
   "cell_type": "code",
   "execution_count": 68,
   "id": "9c9ca353",
   "metadata": {},
   "outputs": [
    {
     "data": {
      "text/plain": [
       "[]"
      ]
     },
     "execution_count": 68,
     "metadata": {},
     "output_type": "execute_result"
    }
   ],
   "source": [
    "list_"
   ]
  },
  {
   "cell_type": "code",
   "execution_count": 69,
   "id": "866caaff",
   "metadata": {},
   "outputs": [
    {
     "data": {
      "text/plain": [
       "[]"
      ]
     },
     "execution_count": 69,
     "metadata": {},
     "output_type": "execute_result"
    }
   ],
   "source": [
    "list_ = [1, 2, 3]\n",
    "list_ = []\n",
    "list_"
   ]
  },
  {
   "cell_type": "markdown",
   "id": "4ac92091",
   "metadata": {},
   "source": [
    "Задание: Есть список a = [5, 3, 6, 7, 10, 23, 5], нужно отсортировать данный список"
   ]
  },
  {
   "cell_type": "code",
   "execution_count": 70,
   "id": "eca964f1",
   "metadata": {},
   "outputs": [
    {
     "data": {
      "text/plain": [
       "[3, 5, 5, 6, 7, 10, 23]"
      ]
     },
     "execution_count": 70,
     "metadata": {},
     "output_type": "execute_result"
    }
   ],
   "source": [
    "a = [5, 3, 6, 7, 10, 23, 5]\n",
    "a.sort()\n",
    "a"
   ]
  },
  {
   "cell_type": "code",
   "execution_count": 71,
   "id": "0aab6047",
   "metadata": {},
   "outputs": [
    {
     "data": {
      "text/plain": [
       "[3, 5, 5, 6, 7, 10, 23]"
      ]
     },
     "execution_count": 71,
     "metadata": {},
     "output_type": "execute_result"
    }
   ],
   "source": [
    "a = [5, 3, 6, 7, 10, 23, 5]\n",
    "n = sorted(a)\n",
    "n"
   ]
  },
  {
   "cell_type": "code",
   "execution_count": 72,
   "id": "8a77c1f4",
   "metadata": {},
   "outputs": [
    {
     "data": {
      "text/plain": [
       "[5, 3, 6, 7, 10, 23, 5]"
      ]
     },
     "execution_count": 72,
     "metadata": {},
     "output_type": "execute_result"
    }
   ],
   "source": [
    "a"
   ]
  },
  {
   "cell_type": "markdown",
   "id": "9b303e7b",
   "metadata": {},
   "source": [
    "Задание: Теперь нужно отсортировать этот список в обратном порядке"
   ]
  },
  {
   "cell_type": "code",
   "execution_count": 73,
   "id": "dd2d6721",
   "metadata": {},
   "outputs": [
    {
     "data": {
      "text/plain": [
       "[23, 10, 7, 6, 5, 5, 3]"
      ]
     },
     "execution_count": 73,
     "metadata": {},
     "output_type": "execute_result"
    }
   ],
   "source": [
    "a = [5, 3, 6, 7, 10, 23, 5]\n",
    "a.sort(reverse=True)\n",
    "a"
   ]
  },
  {
   "cell_type": "code",
   "execution_count": 75,
   "id": "9d463fb8",
   "metadata": {},
   "outputs": [
    {
     "data": {
      "text/plain": [
       "[23, 10, 7, 6, 5, 5, 3]"
      ]
     },
     "execution_count": 75,
     "metadata": {},
     "output_type": "execute_result"
    }
   ],
   "source": [
    "a.sort()\n",
    "a.reverse()\n",
    "a"
   ]
  },
  {
   "cell_type": "markdown",
   "id": "d58cb58c",
   "metadata": {},
   "source": [
    "Задание: Узнать сколько в этом списке элементов со значением 5"
   ]
  },
  {
   "cell_type": "code",
   "execution_count": 76,
   "id": "4fbd09c0",
   "metadata": {},
   "outputs": [
    {
     "data": {
      "text/plain": [
       "2"
      ]
     },
     "execution_count": 76,
     "metadata": {},
     "output_type": "execute_result"
    }
   ],
   "source": [
    "a = [5, 3, 6, 7, 10, 23, 5]\n",
    "a.count(5)"
   ]
  },
  {
   "cell_type": "markdown",
   "id": "c037ffbd",
   "metadata": {},
   "source": [
    "Задание: Есть список a = [0, 1, 2, 3, 4, 5, 6], нужно получить [1, 4]"
   ]
  },
  {
   "cell_type": "code",
   "execution_count": 85,
   "id": "0f82fdc8",
   "metadata": {},
   "outputs": [
    {
     "data": {
      "text/plain": [
       "[1, 2, 3, 4]"
      ]
     },
     "execution_count": 85,
     "metadata": {},
     "output_type": "execute_result"
    }
   ],
   "source": [
    "a = [0, 1, 2, 3, 4, 5, 6]\n",
    "a[1:5]"
   ]
  },
  {
   "cell_type": "code",
   "execution_count": 79,
   "id": "d453f557",
   "metadata": {},
   "outputs": [
    {
     "data": {
      "text/plain": [
       "[1, 4]"
      ]
     },
     "execution_count": 79,
     "metadata": {},
     "output_type": "execute_result"
    }
   ],
   "source": [
    "a[1:5:3]"
   ]
  },
  {
   "cell_type": "markdown",
   "id": "0a4ebe9a",
   "metadata": {},
   "source": [
    "Задание: Проверить, есть ли число 4 в списке, полученном в предыдущей задаче"
   ]
  },
  {
   "cell_type": "code",
   "execution_count": 80,
   "id": "4631aa65",
   "metadata": {},
   "outputs": [
    {
     "data": {
      "text/plain": [
       "True"
      ]
     },
     "execution_count": 80,
     "metadata": {},
     "output_type": "execute_result"
    }
   ],
   "source": [
    "a[1::3]\n",
    "4 in a[1::3]"
   ]
  },
  {
   "cell_type": "code",
   "execution_count": 84,
   "id": "1925b130",
   "metadata": {},
   "outputs": [
    {
     "data": {
      "text/plain": [
       "True"
      ]
     },
     "execution_count": 84,
     "metadata": {},
     "output_type": "execute_result"
    }
   ],
   "source": [
    "a[1::3].count(4) > 0"
   ]
  },
  {
   "cell_type": "markdown",
   "id": "ea469aba",
   "metadata": {},
   "source": [
    "# [Кортежи - tuples](https://pythonworld.ru/tipy-dannyx-v-python/kortezhi-tuple.html)\n",
    "\n",
    "\n",
    "##### Зачем? Меньше весят, неизменяемые"
   ]
  },
  {
   "cell_type": "code",
   "execution_count": 86,
   "id": "c9fe1ade",
   "metadata": {},
   "outputs": [
    {
     "data": {
      "text/plain": [
       "(1, 'lena', 24)"
      ]
     },
     "execution_count": 86,
     "metadata": {},
     "output_type": "execute_result"
    }
   ],
   "source": [
    "tuple_1 = (1, \"lena\", 24)\n",
    "tuple_1"
   ]
  },
  {
   "cell_type": "code",
   "execution_count": 89,
   "id": "a63e204d",
   "metadata": {},
   "outputs": [
    {
     "data": {
      "text/plain": [
       "(1, 'lena', 24)"
      ]
     },
     "execution_count": 89,
     "metadata": {},
     "output_type": "execute_result"
    }
   ],
   "source": [
    "tuple_1 = tuple([1, \"lena\", 24])\n",
    "tuple_1"
   ]
  },
  {
   "cell_type": "code",
   "execution_count": 91,
   "id": "07bcc840",
   "metadata": {},
   "outputs": [
    {
     "data": {
      "text/plain": [
       "('hello',)"
      ]
     },
     "execution_count": 91,
     "metadata": {},
     "output_type": "execute_result"
    }
   ],
   "source": [
    "tuple_1 = (\"hello\", )\n",
    "tuple_1"
   ]
  },
  {
   "cell_type": "markdown",
   "id": "d83363db",
   "metadata": {},
   "source": [
    "Кортеж из 1 элемента?"
   ]
  },
  {
   "cell_type": "code",
   "execution_count": 93,
   "id": "95d256ce",
   "metadata": {},
   "outputs": [
    {
     "data": {
      "text/plain": [
       "str"
      ]
     },
     "execution_count": 93,
     "metadata": {},
     "output_type": "execute_result"
    }
   ],
   "source": [
    "# так неправильно\n",
    "tuple_1 = (\"a\")\n",
    "type(tuple_1)"
   ]
  },
  {
   "cell_type": "code",
   "execution_count": 4,
   "id": "b195d081",
   "metadata": {},
   "outputs": [
    {
     "data": {
      "text/plain": [
       "('a',)"
      ]
     },
     "execution_count": 4,
     "metadata": {},
     "output_type": "execute_result"
    }
   ],
   "source": [
    "# так правильно\n",
    "tuple_1 = (\"a\",)\n",
    "tuple_1"
   ]
  },
  {
   "cell_type": "markdown",
   "id": "78d7d56c",
   "metadata": {},
   "source": [
    "#### Получить длину кортежа - len\n"
   ]
  },
  {
   "cell_type": "code",
   "execution_count": 94,
   "id": "e9764a02",
   "metadata": {},
   "outputs": [
    {
     "data": {
      "text/plain": [
       "3"
      ]
     },
     "execution_count": 94,
     "metadata": {},
     "output_type": "execute_result"
    }
   ],
   "source": [
    "tuple_ = (1, \"lena\", 24)\n",
    "len(tuple_)"
   ]
  },
  {
   "cell_type": "markdown",
   "id": "b4ddb14a",
   "metadata": {},
   "source": [
    "#### Получить элемент по индексу\n"
   ]
  },
  {
   "cell_type": "code",
   "execution_count": 95,
   "id": "4ae25120",
   "metadata": {},
   "outputs": [
    {
     "data": {
      "text/plain": [
       "'lena'"
      ]
     },
     "execution_count": 95,
     "metadata": {},
     "output_type": "execute_result"
    }
   ],
   "source": [
    "tuple_ = (1, \"lena\", 24)\n",
    "tuple_[1]"
   ]
  },
  {
   "cell_type": "code",
   "execution_count": 6,
   "id": "fe1b39bd",
   "metadata": {},
   "outputs": [
    {
     "data": {
      "text/plain": [
       "('lena', 24)"
      ]
     },
     "execution_count": 6,
     "metadata": {},
     "output_type": "execute_result"
    }
   ],
   "source": [
    "# слайсы тут тоже работают\n",
    "(1, \"lena\", 24)[1:]"
   ]
  },
  {
   "cell_type": "markdown",
   "id": "f098846c",
   "metadata": {},
   "source": [
    "#### Сложение кортежей"
   ]
  },
  {
   "cell_type": "code",
   "execution_count": 97,
   "id": "88f9e230",
   "metadata": {},
   "outputs": [
    {
     "data": {
      "text/plain": [
       "('Lena', 24, 1999)"
      ]
     },
     "execution_count": 97,
     "metadata": {},
     "output_type": "execute_result"
    }
   ],
   "source": [
    "a = (\"Lena\", )\n",
    "b = (24, 1999)\n",
    "c = a + b \n",
    "c"
   ]
  },
  {
   "cell_type": "code",
   "execution_count": 98,
   "id": "72f7848b",
   "metadata": {},
   "outputs": [
    {
     "data": {
      "text/plain": [
       "('Lena',)"
      ]
     },
     "execution_count": 98,
     "metadata": {},
     "output_type": "execute_result"
    }
   ],
   "source": [
    "a"
   ]
  },
  {
   "cell_type": "code",
   "execution_count": 100,
   "id": "563ff64d",
   "metadata": {},
   "outputs": [],
   "source": [
    "b = a + b"
   ]
  },
  {
   "cell_type": "code",
   "execution_count": 101,
   "id": "8c2bbad5",
   "metadata": {},
   "outputs": [
    {
     "data": {
      "text/plain": [
       "('Lena', 24, 1999)"
      ]
     },
     "execution_count": 101,
     "metadata": {},
     "output_type": "execute_result"
    }
   ],
   "source": [
    "b"
   ]
  },
  {
   "cell_type": "markdown",
   "id": "9e4840c1",
   "metadata": {},
   "source": [
    "#### Умножение кортежа на число"
   ]
  },
  {
   "cell_type": "code",
   "execution_count": 20,
   "id": "d0ea0af7",
   "metadata": {},
   "outputs": [
    {
     "data": {
      "text/plain": [
       "(1, 2, 3, 4, 5, 1, 2, 3, 4, 5, 1, 2, 3, 4, 5)"
      ]
     },
     "execution_count": 20,
     "metadata": {},
     "output_type": "execute_result"
    }
   ],
   "source": [
    "(1, 2, 3, 4, 5) * 3"
   ]
  },
  {
   "cell_type": "markdown",
   "id": "e8302a57",
   "metadata": {},
   "source": [
    "#### Count - посчитать количество определенных элементов"
   ]
  },
  {
   "cell_type": "code",
   "execution_count": 102,
   "id": "50252253",
   "metadata": {},
   "outputs": [
    {
     "data": {
      "text/plain": [
       "2"
      ]
     },
     "execution_count": 102,
     "metadata": {},
     "output_type": "execute_result"
    }
   ],
   "source": [
    "tuple_1 = (0, 1, 2, 3, 0, 1, 2, 3)\n",
    "tuple_1.count(1)"
   ]
  },
  {
   "cell_type": "markdown",
   "id": "30a49bd6",
   "metadata": {},
   "source": [
    "#### Index - найти индекс элемента"
   ]
  },
  {
   "cell_type": "code",
   "execution_count": 103,
   "id": "27a1a2f5",
   "metadata": {},
   "outputs": [
    {
     "data": {
      "text/plain": [
       "3"
      ]
     },
     "execution_count": 103,
     "metadata": {},
     "output_type": "execute_result"
    }
   ],
   "source": [
    "tuple_1 = (0, 1, 2, 3, 0, 1, 2, 3)\n",
    "tuple_1.index(3)"
   ]
  },
  {
   "cell_type": "markdown",
   "id": "d60f607a",
   "metadata": {},
   "source": [
    "Функция index имеет следующий синтаксис: tuple_1.index(x, [start [, end]])"
   ]
  },
  {
   "cell_type": "code",
   "execution_count": 104,
   "id": "5b5c4bae",
   "metadata": {},
   "outputs": [
    {
     "data": {
      "text/plain": [
       "5"
      ]
     },
     "execution_count": 104,
     "metadata": {},
     "output_type": "execute_result"
    }
   ],
   "source": [
    "tuple_1 = (0, 1, 2, 3, 0, 1, 2, 3)\n",
    "tuple_1.index(1, 2, 6) # будет искать между вторым и шестым элементом"
   ]
  },
  {
   "cell_type": "code",
   "execution_count": 105,
   "id": "be11dc75",
   "metadata": {},
   "outputs": [
    {
     "data": {
      "text/plain": [
       "(1, 3)"
      ]
     },
     "execution_count": 105,
     "metadata": {},
     "output_type": "execute_result"
    }
   ],
   "source": [
    "tuple_1[1: 4: 2]"
   ]
  },
  {
   "cell_type": "markdown",
   "id": "49e3e7cd",
   "metadata": {},
   "source": [
    "##### Пратика\n",
    "\n",
    "Задача: Объявить список кортежей, каждый кортеж должен состоять из возраста и имени"
   ]
  },
  {
   "cell_type": "code",
   "execution_count": 106,
   "id": "21011cd3",
   "metadata": {},
   "outputs": [
    {
     "data": {
      "text/plain": [
       "(30, 'Nikita')"
      ]
     },
     "execution_count": 106,
     "metadata": {},
     "output_type": "execute_result"
    }
   ],
   "source": [
    "a = tuple([30, \"Nikita\"])\n",
    "a"
   ]
  },
  {
   "cell_type": "code",
   "execution_count": 108,
   "id": "b671ec07",
   "metadata": {},
   "outputs": [
    {
     "data": {
      "text/plain": [
       "[(20, 'Nikita'), (30, 'Oleg')]"
      ]
     },
     "execution_count": 108,
     "metadata": {},
     "output_type": "execute_result"
    }
   ],
   "source": [
    "a = (20, \"Nikita\")\n",
    "b = (30, \"Oleg\")\n",
    "c = [a, b]\n",
    "c"
   ]
  },
  {
   "cell_type": "markdown",
   "id": "3fcfd0f6",
   "metadata": {},
   "source": [
    "Задача: Есть кортеж a = (\"Lena\", 24, 8), нужно получить длину кортежа"
   ]
  },
  {
   "cell_type": "code",
   "execution_count": 109,
   "id": "9dd1100e",
   "metadata": {},
   "outputs": [
    {
     "data": {
      "text/plain": [
       "3"
      ]
     },
     "execution_count": 109,
     "metadata": {},
     "output_type": "execute_result"
    }
   ],
   "source": [
    "a = (\"Lena\", 24, 8)\n",
    "len(a)"
   ]
  },
  {
   "cell_type": "markdown",
   "id": "44dd8433",
   "metadata": {},
   "source": [
    "Задача: Есть кортеж a = (\"Lena\", 24, 8), нужно получить имя и возраст"
   ]
  },
  {
   "cell_type": "code",
   "execution_count": 111,
   "id": "265c88bc",
   "metadata": {},
   "outputs": [
    {
     "data": {
      "text/plain": [
       "('Lena', 24)"
      ]
     },
     "execution_count": 111,
     "metadata": {},
     "output_type": "execute_result"
    }
   ],
   "source": [
    "a = (\"Lena\", 24, 8)\n",
    "a[0:2]"
   ]
  },
  {
   "cell_type": "code",
   "execution_count": 112,
   "id": "fb84e8a5",
   "metadata": {},
   "outputs": [
    {
     "data": {
      "text/plain": [
       "'Lena'"
      ]
     },
     "execution_count": 112,
     "metadata": {},
     "output_type": "execute_result"
    }
   ],
   "source": [
    "a[0]"
   ]
  },
  {
   "cell_type": "markdown",
   "id": "50c6ad6e",
   "metadata": {},
   "source": [
    "Задача: Есть кортеж a = (\"Lena\", 24, 8), нужно получить имя и количество лет опыта\n"
   ]
  },
  {
   "cell_type": "code",
   "execution_count": 113,
   "id": "7b06be72",
   "metadata": {},
   "outputs": [
    {
     "data": {
      "text/plain": [
       "('Lena', 8)"
      ]
     },
     "execution_count": 113,
     "metadata": {},
     "output_type": "execute_result"
    }
   ],
   "source": [
    "a = (\"Lena\", 24, 8)\n",
    "a[0:3:2]"
   ]
  },
  {
   "cell_type": "markdown",
   "id": "ceeb9b66",
   "metadata": {},
   "source": [
    "Задача: Есть кортеж a = (1, 2) и кортеж b = (3, 4), нужно получить кортеж (1, 2, 3, 4)"
   ]
  },
  {
   "cell_type": "code",
   "execution_count": 114,
   "id": "c5f5b742",
   "metadata": {},
   "outputs": [
    {
     "data": {
      "text/plain": [
       "(1, 2, 3, 4)"
      ]
     },
     "execution_count": 114,
     "metadata": {},
     "output_type": "execute_result"
    }
   ],
   "source": [
    "a = (1, 2)\n",
    "b = (3, 4)\n",
    "a + b"
   ]
  },
  {
   "cell_type": "code",
   "execution_count": 115,
   "id": "34edfee7",
   "metadata": {},
   "outputs": [
    {
     "data": {
      "text/plain": [
       "(1, 2, 3, 4, 1, 2, 3, 4)"
      ]
     },
     "execution_count": 115,
     "metadata": {},
     "output_type": "execute_result"
    }
   ],
   "source": [
    "(a + b) * 2"
   ]
  },
  {
   "cell_type": "markdown",
   "id": "759939dc",
   "metadata": {},
   "source": [
    "Задача: Посчитать количество троек в полученном в предыдущей задаче кортеже"
   ]
  },
  {
   "cell_type": "code",
   "execution_count": 116,
   "id": "f578848c",
   "metadata": {},
   "outputs": [
    {
     "data": {
      "text/plain": [
       "2"
      ]
     },
     "execution_count": 116,
     "metadata": {},
     "output_type": "execute_result"
    }
   ],
   "source": [
    "tuple_1 = (a + b) * 2\n",
    "tuple_1.count(3)"
   ]
  },
  {
   "cell_type": "markdown",
   "id": "f9bd85fa",
   "metadata": {},
   "source": [
    "Задача: Преобразовать полученный в предыдущей задаче кортеж в (3, 4, 3, 4)"
   ]
  },
  {
   "cell_type": "code",
   "execution_count": 119,
   "id": "5e780e6d",
   "metadata": {},
   "outputs": [
    {
     "data": {
      "text/plain": [
       "(3, 4, 3, 4)"
      ]
     },
     "execution_count": 119,
     "metadata": {},
     "output_type": "execute_result"
    }
   ],
   "source": [
    "tuple_1 = (a + b) * 2\n",
    "tuple_2 = tuple_1[6:]\n",
    "tuple_2 * 2"
   ]
  },
  {
   "cell_type": "code",
   "execution_count": 120,
   "id": "a258e739",
   "metadata": {},
   "outputs": [
    {
     "data": {
      "text/plain": [
       "(1, 4)"
      ]
     },
     "execution_count": 120,
     "metadata": {},
     "output_type": "execute_result"
    }
   ],
   "source": [
    "tuple_1 = (1, 2, 3, 4)\n",
    "# (1, 4)\n",
    "tuple_1[0::3]"
   ]
  },
  {
   "cell_type": "markdown",
   "id": "51c939ab",
   "metadata": {},
   "source": [
    "# [Словарь - dict](https://pythonworld.ru/tipy-dannyx-v-python/slovari-dict-funkcii-i-metody-slovarej.html)\n",
    "\n",
    "#### Зачем? Для хранения в виде ключ - значение\n",
    "\n",
    "Например:\n",
    "\n",
    "- книга контактов\n",
    "- описание человека"
   ]
  },
  {
   "cell_type": "code",
   "execution_count": null,
   "id": "f995c1e5",
   "metadata": {},
   "outputs": [],
   "source": [
    "tuple_1 = (20, \"Lena\")\n",
    "tuple_1[0]"
   ]
  },
  {
   "cell_type": "code",
   "execution_count": 35,
   "id": "529700aa",
   "metadata": {},
   "outputs": [],
   "source": [
    "contacts = {\n",
    "    \"Katya\": \"+375-29-111-11-11\",\n",
    "    \"Dima\": \"+7 000 222-4444\"\n",
    "}"
   ]
  },
  {
   "cell_type": "code",
   "execution_count": 39,
   "id": "fd8e6c9e",
   "metadata": {},
   "outputs": [],
   "source": [
    "# этот способ объявления словаря используется реже\n",
    "contacts = dict(\n",
    "    Katya=\"+375-29-111-11-11\",\n",
    "    Dima=\"+7 000 222-4444\"\n",
    ")"
   ]
  },
  {
   "cell_type": "code",
   "execution_count": 122,
   "id": "a2004cbe",
   "metadata": {},
   "outputs": [],
   "source": [
    "person = {\n",
    "    \"name\": \"Roma\",\n",
    "    \"sex\": \"male\",\n",
    "    \"is_adult\": True\n",
    "}"
   ]
  },
  {
   "cell_type": "markdown",
   "id": "28a3d6b2",
   "metadata": {},
   "source": [
    "##### Получить значение по ключу"
   ]
  },
  {
   "cell_type": "code",
   "execution_count": 123,
   "id": "3bc0c86b",
   "metadata": {},
   "outputs": [
    {
     "data": {
      "text/plain": [
       "'Roma'"
      ]
     },
     "execution_count": 123,
     "metadata": {},
     "output_type": "execute_result"
    }
   ],
   "source": [
    "person[\"name\"]"
   ]
  },
  {
   "cell_type": "code",
   "execution_count": 124,
   "id": "7ab83326",
   "metadata": {},
   "outputs": [
    {
     "ename": "KeyError",
     "evalue": "'Name'",
     "output_type": "error",
     "traceback": [
      "\u001b[1;31m---------------------------------------------------------------------------\u001b[0m",
      "\u001b[1;31mKeyError\u001b[0m                                  Traceback (most recent call last)",
      "Cell \u001b[1;32mIn[124], line 1\u001b[0m\n\u001b[1;32m----> 1\u001b[0m \u001b[43mperson\u001b[49m\u001b[43m[\u001b[49m\u001b[38;5;124;43m\"\u001b[39;49m\u001b[38;5;124;43mName\u001b[39;49m\u001b[38;5;124;43m\"\u001b[39;49m\u001b[43m]\u001b[49m\n",
      "\u001b[1;31mKeyError\u001b[0m: 'Name'"
     ]
    }
   ],
   "source": [
    "person[\"Name\"]"
   ]
  },
  {
   "cell_type": "code",
   "execution_count": 125,
   "id": "89a1dcd3",
   "metadata": {},
   "outputs": [
    {
     "name": "stdout",
     "output_type": "stream",
     "text": [
      "abc\n"
     ]
    }
   ],
   "source": [
    "print(person.get(\"Name\", \"abc\"))"
   ]
  },
  {
   "cell_type": "markdown",
   "id": "55f6e0af",
   "metadata": {},
   "source": [
    "#### Получить пары ключ-значение: dict.items()"
   ]
  },
  {
   "cell_type": "code",
   "execution_count": 72,
   "id": "ac223913",
   "metadata": {},
   "outputs": [
    {
     "data": {
      "text/plain": [
       "dict_items([('name', 'Roma'), ('sex', 'male'), ('is_adult', True)])"
      ]
     },
     "execution_count": 72,
     "metadata": {},
     "output_type": "execute_result"
    }
   ],
   "source": [
    "person.items()"
   ]
  },
  {
   "cell_type": "markdown",
   "id": "1e1ae3a4",
   "metadata": {},
   "source": [
    "#### Получить ключи - dict.keys()"
   ]
  },
  {
   "cell_type": "code",
   "execution_count": 73,
   "id": "d7047f66",
   "metadata": {},
   "outputs": [
    {
     "data": {
      "text/plain": [
       "dict_keys(['name', 'sex', 'is_adult'])"
      ]
     },
     "execution_count": 73,
     "metadata": {},
     "output_type": "execute_result"
    }
   ],
   "source": [
    "person.keys()"
   ]
  },
  {
   "cell_type": "markdown",
   "id": "a66a86c4",
   "metadata": {},
   "source": [
    "#### Получить значения - dict.values()"
   ]
  },
  {
   "cell_type": "code",
   "execution_count": 84,
   "id": "768ee6f2",
   "metadata": {},
   "outputs": [
    {
     "data": {
      "text/plain": [
       "dict_values(['Roma', 'male', True, 1])"
      ]
     },
     "execution_count": 84,
     "metadata": {},
     "output_type": "execute_result"
    }
   ],
   "source": [
    "person.values()"
   ]
  },
  {
   "cell_type": "markdown",
   "id": "147949ba",
   "metadata": {},
   "source": [
    "#### Добавить ключ в словарь"
   ]
  },
  {
   "cell_type": "code",
   "execution_count": 126,
   "id": "2330d0dc",
   "metadata": {},
   "outputs": [
    {
     "data": {
      "text/plain": [
       "{'name': 'Roma', 'sex': 'male', 'is_adult': True, 'образование': 'инженер'}"
      ]
     },
     "execution_count": 126,
     "metadata": {},
     "output_type": "execute_result"
    }
   ],
   "source": [
    "person[\"образование\"] = \"инженер\"\n",
    "person"
   ]
  },
  {
   "cell_type": "markdown",
   "id": "a299e968",
   "metadata": {},
   "source": [
    "#### Добавить несколько ключей в словарь"
   ]
  },
  {
   "cell_type": "code",
   "execution_count": 75,
   "id": "c45a39b5",
   "metadata": {},
   "outputs": [
    {
     "data": {
      "text/plain": [
       "{'name': 'Roma',\n",
       " 'sex': 'male',\n",
       " 'is_adult': True,\n",
       " 'random': 'value',\n",
       " 'new_key_1': 1,\n",
       " 'new_key_2': 2}"
      ]
     },
     "execution_count": 75,
     "metadata": {},
     "output_type": "execute_result"
    }
   ],
   "source": [
    "person.update({\n",
    "    \"new_key_1\": 1,\n",
    "    \"new_key_2\": 2,\n",
    "})\n",
    "person"
   ]
  },
  {
   "cell_type": "markdown",
   "id": "7a205421",
   "metadata": {},
   "source": [
    "#### Перезаписать значение по ключу"
   ]
  },
  {
   "cell_type": "code",
   "execution_count": 127,
   "id": "24740c85",
   "metadata": {},
   "outputs": [
    {
     "data": {
      "text/plain": [
       "'Roma'"
      ]
     },
     "execution_count": 127,
     "metadata": {},
     "output_type": "execute_result"
    }
   ],
   "source": [
    "person[\"name\"]"
   ]
  },
  {
   "cell_type": "code",
   "execution_count": 128,
   "id": "05e11b19",
   "metadata": {},
   "outputs": [
    {
     "data": {
      "text/plain": [
       "{'name': 'Oleg', 'sex': 'male', 'is_adult': True, 'образование': 'инженер'}"
      ]
     },
     "execution_count": 128,
     "metadata": {},
     "output_type": "execute_result"
    }
   ],
   "source": [
    "person[\"name\"] = \"Oleg\"\n",
    "person"
   ]
  },
  {
   "cell_type": "markdown",
   "id": "48b16b25",
   "metadata": {},
   "source": [
    "#### Удалить ключ и вернуть значение dict.pop(\"key\", None)"
   ]
  },
  {
   "cell_type": "code",
   "execution_count": 129,
   "id": "6480061c",
   "metadata": {},
   "outputs": [
    {
     "data": {
      "text/plain": [
       "'инженер'"
      ]
     },
     "execution_count": 129,
     "metadata": {},
     "output_type": "execute_result"
    }
   ],
   "source": [
    "value = person.pop(\"образование\")\n",
    "value"
   ]
  },
  {
   "cell_type": "code",
   "execution_count": 130,
   "id": "5c3b4f36",
   "metadata": {},
   "outputs": [
    {
     "data": {
      "text/plain": [
       "{'name': 'Oleg', 'sex': 'male', 'is_adult': True}"
      ]
     },
     "execution_count": 130,
     "metadata": {},
     "output_type": "execute_result"
    }
   ],
   "source": [
    "person"
   ]
  },
  {
   "cell_type": "code",
   "execution_count": 131,
   "id": "49024d37",
   "metadata": {},
   "outputs": [
    {
     "ename": "KeyError",
     "evalue": "'error'",
     "output_type": "error",
     "traceback": [
      "\u001b[1;31m---------------------------------------------------------------------------\u001b[0m",
      "\u001b[1;31mKeyError\u001b[0m                                  Traceback (most recent call last)",
      "Cell \u001b[1;32mIn[131], line 2\u001b[0m\n\u001b[0;32m      1\u001b[0m \u001b[38;5;66;03m# бросает ошибку если хотим удалить несуществующий ключ\u001b[39;00m\n\u001b[1;32m----> 2\u001b[0m \u001b[43mperson\u001b[49m\u001b[38;5;241;43m.\u001b[39;49m\u001b[43mpop\u001b[49m\u001b[43m(\u001b[49m\u001b[38;5;124;43m\"\u001b[39;49m\u001b[38;5;124;43merror\u001b[39;49m\u001b[38;5;124;43m\"\u001b[39;49m\u001b[43m)\u001b[49m\n",
      "\u001b[1;31mKeyError\u001b[0m: 'error'"
     ]
    }
   ],
   "source": [
    "# бросает ошибку если хотим удалить несуществующий ключ\n",
    "person.pop(\"error\")"
   ]
  },
  {
   "cell_type": "code",
   "execution_count": 133,
   "id": "e39bcae7",
   "metadata": {},
   "outputs": [],
   "source": [
    "# чтобы исправить нужно задать дефолтное значение вторым агрументом\n",
    "person.pop(\"error\", None)"
   ]
  },
  {
   "cell_type": "code",
   "execution_count": 135,
   "id": "a02d651a",
   "metadata": {},
   "outputs": [
    {
     "data": {
      "text/plain": [
       "{'name': 'Oleg', 'sex': 'male'}"
      ]
     },
     "execution_count": 135,
     "metadata": {},
     "output_type": "execute_result"
    }
   ],
   "source": [
    "# также удалить ключ можно при помощи команды\n",
    "# но тут нужно точно знать что ключ есть, потому что бросит ошибку, если нет\n",
    "# поэтому лучше использовать метод pop\n",
    "del person[\"is_adult\"]\n",
    "person"
   ]
  },
  {
   "cell_type": "code",
   "execution_count": 82,
   "id": "9f36ca70",
   "metadata": {},
   "outputs": [
    {
     "ename": "KeyError",
     "evalue": "'new_key_2'",
     "output_type": "error",
     "traceback": [
      "\u001b[1;31m---------------------------------------------------------------------------\u001b[0m",
      "\u001b[1;31mKeyError\u001b[0m                                  Traceback (most recent call last)",
      "Cell \u001b[1;32mIn[82], line 1\u001b[0m\n\u001b[1;32m----> 1\u001b[0m \u001b[38;5;28;01mdel\u001b[39;00m person[\u001b[38;5;124m\"\u001b[39m\u001b[38;5;124mnew_key_2\u001b[39m\u001b[38;5;124m\"\u001b[39m]\n",
      "\u001b[1;31mKeyError\u001b[0m: 'new_key_2'"
     ]
    }
   ],
   "source": [
    "del person[\"new_key_2\"]"
   ]
  },
  {
   "cell_type": "markdown",
   "id": "7e29b2ee",
   "metadata": {},
   "source": [
    "Задание: Объявить словарь, в котором есть название магазинa и список товаров, которые нужно купить"
   ]
  },
  {
   "cell_type": "code",
   "execution_count": 137,
   "id": "a7fcfb02",
   "metadata": {},
   "outputs": [
    {
     "data": {
      "text/plain": [
       "{'name': 'евроопт', 'products': ['чипсы', 'молоко']}"
      ]
     },
     "execution_count": 137,
     "metadata": {},
     "output_type": "execute_result"
    }
   ],
   "source": [
    "products = [\"чипсы\", \"молоко\"]\n",
    "shop = {\n",
    "    \"name\": \"евроопт\",\n",
    "    \"products\": products\n",
    "}\n",
    "shop"
   ]
  },
  {
   "cell_type": "markdown",
   "id": "6dae9216",
   "metadata": {},
   "source": [
    "Задание: Получить ключи этого словаря"
   ]
  },
  {
   "cell_type": "code",
   "execution_count": 138,
   "id": "6bbfa421",
   "metadata": {},
   "outputs": [
    {
     "data": {
      "text/plain": [
       "dict_keys(['name', 'products'])"
      ]
     },
     "execution_count": 138,
     "metadata": {},
     "output_type": "execute_result"
    }
   ],
   "source": [
    "shop.keys()"
   ]
  },
  {
   "cell_type": "markdown",
   "id": "9b09b714",
   "metadata": {},
   "source": [
    "Задание: Получить список товаров"
   ]
  },
  {
   "cell_type": "code",
   "execution_count": 139,
   "id": "833a5ac3",
   "metadata": {},
   "outputs": [
    {
     "data": {
      "text/plain": [
       "['чипсы', 'молоко']"
      ]
     },
     "execution_count": 139,
     "metadata": {},
     "output_type": "execute_result"
    }
   ],
   "source": [
    "shop[\"products\"]"
   ]
  },
  {
   "cell_type": "code",
   "execution_count": null,
   "id": "85cd508f",
   "metadata": {},
   "outputs": [],
   "source": [
    "shop[\"products\"].append(\"хлеб\")"
   ]
  },
  {
   "cell_type": "markdown",
   "id": "7c73a9f1",
   "metadata": {},
   "source": [
    "Задание: Получить количество ключей словаря"
   ]
  },
  {
   "cell_type": "code",
   "execution_count": 140,
   "id": "1c6fc9de",
   "metadata": {},
   "outputs": [
    {
     "data": {
      "text/plain": [
       "2"
      ]
     },
     "execution_count": 140,
     "metadata": {},
     "output_type": "execute_result"
    }
   ],
   "source": [
    "len(shop.keys())"
   ]
  },
  {
   "cell_type": "code",
   "execution_count": 142,
   "id": "583d6bdf",
   "metadata": {},
   "outputs": [
    {
     "data": {
      "text/plain": [
       "1"
      ]
     },
     "execution_count": 142,
     "metadata": {},
     "output_type": "execute_result"
    }
   ],
   "source": [
    "list(shop.keys()).count(\"name\")"
   ]
  },
  {
   "cell_type": "markdown",
   "id": "035a2c45",
   "metadata": {},
   "source": [
    "Задание: Добавить еще один товар в список товаров"
   ]
  },
  {
   "cell_type": "code",
   "execution_count": 143,
   "id": "3d287672",
   "metadata": {},
   "outputs": [],
   "source": [
    "shop[\"products\"].append(\"сок\")"
   ]
  },
  {
   "cell_type": "code",
   "execution_count": 144,
   "id": "4000b282",
   "metadata": {},
   "outputs": [
    {
     "data": {
      "text/plain": [
       "{'name': 'евроопт', 'products': ['чипсы', 'молоко', 'сок']}"
      ]
     },
     "execution_count": 144,
     "metadata": {},
     "output_type": "execute_result"
    }
   ],
   "source": [
    "shop"
   ]
  },
  {
   "cell_type": "markdown",
   "id": "7765d30d",
   "metadata": {},
   "source": [
    "Задание: Добавить в словарь дедлайн со значением \"28/03/2022 22:00\""
   ]
  },
  {
   "cell_type": "code",
   "execution_count": 145,
   "id": "fdc129a4",
   "metadata": {},
   "outputs": [
    {
     "data": {
      "text/plain": [
       "{'name': 'евроопт',\n",
       " 'products': ['чипсы', 'молоко', 'сок'],\n",
       " 'deadline': '28/03/2022 22:00'}"
      ]
     },
     "execution_count": 145,
     "metadata": {},
     "output_type": "execute_result"
    }
   ],
   "source": [
    "shop.update({\"deadline\": \"28/03/2022 22:00\"})\n",
    "shop"
   ]
  },
  {
   "cell_type": "code",
   "execution_count": 146,
   "id": "2696db84",
   "metadata": {},
   "outputs": [
    {
     "data": {
      "text/plain": [
       "{'name': 'евроопт',\n",
       " 'products': ['чипсы', 'молоко', 'сок'],\n",
       " 'deadline': '28/03/2022 22:00',\n",
       " 'key': 'value'}"
      ]
     },
     "execution_count": 146,
     "metadata": {},
     "output_type": "execute_result"
    }
   ],
   "source": [
    "shop[\"key\"] = \"value\"\n",
    "shop"
   ]
  },
  {
   "cell_type": "markdown",
   "id": "b5cedf0a",
   "metadata": {},
   "source": [
    "Задание: Удалить товары из словаря"
   ]
  },
  {
   "cell_type": "code",
   "execution_count": 147,
   "id": "d2cd5c6e",
   "metadata": {},
   "outputs": [
    {
     "data": {
      "text/plain": [
       "{'name': 'евроопт', 'deadline': '28/03/2022 22:00', 'key': 'value'}"
      ]
     },
     "execution_count": 147,
     "metadata": {},
     "output_type": "execute_result"
    }
   ],
   "source": [
    "del shop[\"products\"]\n",
    "shop"
   ]
  },
  {
   "cell_type": "markdown",
   "id": "081cd4a5",
   "metadata": {},
   "source": [
    "# [Множество - set](https://pythonworld.ru/tipy-dannyx-v-python/mnozhestva-set-i-frozenset.html)\n",
    "\n",
    "##### Зачем? Для того чтобы содержать набор НЕПОВТОРЯЮЩИХСЯ значений"
   ]
  },
  {
   "cell_type": "code",
   "execution_count": 92,
   "id": "dbd034bb",
   "metadata": {},
   "outputs": [
    {
     "data": {
      "text/plain": [
       "{'апельсин', 'банан', 'йогурт'}"
      ]
     },
     "execution_count": 92,
     "metadata": {},
     "output_type": "execute_result"
    }
   ],
   "source": [
    "# объявление\n",
    "my_set = set([\"йогурт\", \"банан\", \"апельсин\"])\n",
    "my_set"
   ]
  },
  {
   "cell_type": "code",
   "execution_count": 93,
   "id": "5153357e",
   "metadata": {},
   "outputs": [
    {
     "data": {
      "text/plain": [
       "{'а', 'б', 'з', 'к', 'у'}"
      ]
     },
     "execution_count": 93,
     "metadata": {},
     "output_type": "execute_result"
    }
   ],
   "source": [
    "my_set_1 = set(\"азбука\")\n",
    "my_set_1"
   ]
  },
  {
   "cell_type": "code",
   "execution_count": 148,
   "id": "65f822ad",
   "metadata": {},
   "outputs": [
    {
     "data": {
      "text/plain": [
       "{'апельсин', 'банан', 'йогурт'}"
      ]
     },
     "execution_count": 148,
     "metadata": {},
     "output_type": "execute_result"
    }
   ],
   "source": [
    "# другой вариант объявления\n",
    "my_set = {\"йогурт\", \"банан\", \"апельсин\"}\n",
    "my_set"
   ]
  },
  {
   "cell_type": "code",
   "execution_count": 95,
   "id": "e6601696",
   "metadata": {},
   "outputs": [
    {
     "data": {
      "text/plain": [
       "set"
      ]
     },
     "execution_count": 95,
     "metadata": {},
     "output_type": "execute_result"
    }
   ],
   "source": [
    "type(my_set)"
   ]
  },
  {
   "cell_type": "markdown",
   "id": "fb562f2e",
   "metadata": {},
   "source": [
    "#### Добавить элемент в set"
   ]
  },
  {
   "cell_type": "code",
   "execution_count": 149,
   "id": "68281bf9",
   "metadata": {},
   "outputs": [
    {
     "data": {
      "text/plain": [
       "{'апельсин', 'банан', 'йогурт', 'сгущенка'}"
      ]
     },
     "execution_count": 149,
     "metadata": {},
     "output_type": "execute_result"
    }
   ],
   "source": [
    "my_set.add(\"сгущенка\")\n",
    "my_set"
   ]
  },
  {
   "cell_type": "code",
   "execution_count": 150,
   "id": "2589b656",
   "metadata": {},
   "outputs": [
    {
     "data": {
      "text/plain": [
       "{'апельсин', 'банан', 'йогурт', 'сгущенка'}"
      ]
     },
     "execution_count": 150,
     "metadata": {},
     "output_type": "execute_result"
    }
   ],
   "source": [
    "# при повторном добавлении набор элементов не изменится\n",
    "my_set.add(\"сгущенка\")\n",
    "my_set"
   ]
  },
  {
   "cell_type": "markdown",
   "id": "4e1f9460",
   "metadata": {},
   "source": [
    "#### Проверить есть ли элемент в set"
   ]
  },
  {
   "cell_type": "code",
   "execution_count": 151,
   "id": "d4b10f30",
   "metadata": {},
   "outputs": [
    {
     "data": {
      "text/plain": [
       "True"
      ]
     },
     "execution_count": 151,
     "metadata": {},
     "output_type": "execute_result"
    }
   ],
   "source": [
    "\"сгущенка\" in my_set"
   ]
  },
  {
   "cell_type": "code",
   "execution_count": 152,
   "id": "5be3fed1",
   "metadata": {},
   "outputs": [
    {
     "data": {
      "text/plain": [
       "False"
      ]
     },
     "execution_count": 152,
     "metadata": {},
     "output_type": "execute_result"
    }
   ],
   "source": [
    "\"молоко\" in my_set"
   ]
  },
  {
   "cell_type": "markdown",
   "id": "2359c386",
   "metadata": {},
   "source": [
    "#### Удалить элемент из set"
   ]
  },
  {
   "cell_type": "code",
   "execution_count": 103,
   "id": "9ebffecc",
   "metadata": {},
   "outputs": [],
   "source": [
    "my_set.remove(\"сгущенка\")"
   ]
  },
  {
   "cell_type": "code",
   "execution_count": 104,
   "id": "6b234470",
   "metadata": {},
   "outputs": [
    {
     "ename": "KeyError",
     "evalue": "'молоко'",
     "output_type": "error",
     "traceback": [
      "\u001b[1;31m---------------------------------------------------------------------------\u001b[0m",
      "\u001b[1;31mKeyError\u001b[0m                                  Traceback (most recent call last)",
      "Cell \u001b[1;32mIn[104], line 2\u001b[0m\n\u001b[0;32m      1\u001b[0m \u001b[38;5;66;03m# метод remove возвращает ошибку если хотим удалить то чего нет\u001b[39;00m\n\u001b[1;32m----> 2\u001b[0m \u001b[43mmy_set\u001b[49m\u001b[38;5;241;43m.\u001b[39;49m\u001b[43mremove\u001b[49m\u001b[43m(\u001b[49m\u001b[38;5;124;43m\"\u001b[39;49m\u001b[38;5;124;43mмолоко\u001b[39;49m\u001b[38;5;124;43m\"\u001b[39;49m\u001b[43m)\u001b[49m\n",
      "\u001b[1;31mKeyError\u001b[0m: 'молоко'"
     ]
    }
   ],
   "source": [
    "# метод remove возвращает ошибку если хотим удалить то чего нет\n",
    "my_set.remove(\"молоко\")"
   ]
  },
  {
   "cell_type": "code",
   "execution_count": 105,
   "id": "550785c4",
   "metadata": {},
   "outputs": [],
   "source": [
    "# можно использовать метод discard, он не бросает ошибку\n",
    "my_set.discard(\"молоко\")"
   ]
  },
  {
   "cell_type": "markdown",
   "id": "64469bc0",
   "metadata": {},
   "source": [
    "#### Удалить первый элемент из множества - my_set.pop()"
   ]
  },
  {
   "cell_type": "code",
   "execution_count": 107,
   "id": "06101aa2",
   "metadata": {},
   "outputs": [
    {
     "data": {
      "text/plain": [
       "'банан'"
      ]
     },
     "execution_count": 107,
     "metadata": {},
     "output_type": "execute_result"
    }
   ],
   "source": [
    "# множества не упорядочены, поэтому не знаем заранее, какой элемент удалим\n",
    "my_set.pop()"
   ]
  },
  {
   "cell_type": "markdown",
   "id": "e32dbbd6",
   "metadata": {},
   "source": [
    "#### Удалить все элементы из множества - my_set.clear()"
   ]
  },
  {
   "cell_type": "code",
   "execution_count": 108,
   "id": "94c4be75",
   "metadata": {},
   "outputs": [],
   "source": [
    "my_set.clear()"
   ]
  },
  {
   "cell_type": "code",
   "execution_count": 110,
   "id": "36045c31",
   "metadata": {},
   "outputs": [
    {
     "data": {
      "text/plain": [
       "set()"
      ]
     },
     "execution_count": 110,
     "metadata": {},
     "output_type": "execute_result"
    }
   ],
   "source": [
    "my_set"
   ]
  },
  {
   "cell_type": "markdown",
   "id": "d0a117f8",
   "metadata": {},
   "source": [
    "## Frozenset\n",
    "\n",
    "#### То же самое что и set, только в него НЕЛЬЗЯ ДОБАВЛЯТЬ ЭЛЕМЕНТЫ (и удалять тоже), так как он неизменяемый"
   ]
  },
  {
   "cell_type": "code",
   "execution_count": 153,
   "id": "38b436b5",
   "metadata": {},
   "outputs": [
    {
     "data": {
      "text/plain": [
       "frozenset({'апельсин', 'банан', 'йогурт'})"
      ]
     },
     "execution_count": 153,
     "metadata": {},
     "output_type": "execute_result"
    }
   ],
   "source": [
    "my_set = frozenset([\"йогурт\", \"банан\", \"апельсин\", \"банан\"])\n",
    "my_set"
   ]
  },
  {
   "cell_type": "code",
   "execution_count": 112,
   "id": "c51bc7c9",
   "metadata": {},
   "outputs": [
    {
     "ename": "AttributeError",
     "evalue": "'frozenset' object has no attribute 'add'",
     "output_type": "error",
     "traceback": [
      "\u001b[1;31m---------------------------------------------------------------------------\u001b[0m",
      "\u001b[1;31mAttributeError\u001b[0m                            Traceback (most recent call last)",
      "Cell \u001b[1;32mIn[112], line 1\u001b[0m\n\u001b[1;32m----> 1\u001b[0m \u001b[43mmy_set\u001b[49m\u001b[38;5;241;43m.\u001b[39;49m\u001b[43madd\u001b[49m(\u001b[38;5;124m\"\u001b[39m\u001b[38;5;124mапельсин\u001b[39m\u001b[38;5;124m\"\u001b[39m)\n",
      "\u001b[1;31mAttributeError\u001b[0m: 'frozenset' object has no attribute 'add'"
     ]
    }
   ],
   "source": [
    "my_set.add(\"апельсин\")"
   ]
  },
  {
   "cell_type": "code",
   "execution_count": 113,
   "id": "b6d5d834",
   "metadata": {},
   "outputs": [
    {
     "ename": "AttributeError",
     "evalue": "'frozenset' object has no attribute 'pop'",
     "output_type": "error",
     "traceback": [
      "\u001b[1;31m---------------------------------------------------------------------------\u001b[0m",
      "\u001b[1;31mAttributeError\u001b[0m                            Traceback (most recent call last)",
      "Cell \u001b[1;32mIn[113], line 1\u001b[0m\n\u001b[1;32m----> 1\u001b[0m \u001b[43mmy_set\u001b[49m\u001b[38;5;241;43m.\u001b[39;49m\u001b[43mpop\u001b[49m(\u001b[38;5;124m\"\u001b[39m\u001b[38;5;124mапельсин\u001b[39m\u001b[38;5;124m\"\u001b[39m)\n",
      "\u001b[1;31mAttributeError\u001b[0m: 'frozenset' object has no attribute 'pop'"
     ]
    }
   ],
   "source": [
    "my_set.pop(\"апельсин\")"
   ]
  },
  {
   "cell_type": "markdown",
   "id": "67f0993d",
   "metadata": {},
   "source": [
    "Задание: Создать множество, состоящее из домашних животных (например: кот, собака, попугай)"
   ]
  },
  {
   "cell_type": "code",
   "execution_count": 154,
   "id": "f387853c",
   "metadata": {},
   "outputs": [
    {
     "data": {
      "text/plain": [
       "{'кот', 'попугай', 'собака'}"
      ]
     },
     "execution_count": 154,
     "metadata": {},
     "output_type": "execute_result"
    }
   ],
   "source": [
    "set_1 = {\"кот\", \"собака\", \"попугай\"}\n",
    "set_1"
   ]
  },
  {
   "cell_type": "markdown",
   "id": "260d44f7",
   "metadata": {},
   "source": [
    "Задание: Что будет если мы добавим в это множество элемент \"попугай\""
   ]
  },
  {
   "cell_type": "code",
   "execution_count": 155,
   "id": "8ea8e365",
   "metadata": {},
   "outputs": [
    {
     "data": {
      "text/plain": [
       "{'кот', 'попугай', 'собака'}"
      ]
     },
     "execution_count": 155,
     "metadata": {},
     "output_type": "execute_result"
    }
   ],
   "source": [
    "set_1.add(\"попугай\")\n",
    "set_1"
   ]
  },
  {
   "cell_type": "markdown",
   "id": "981848f6",
   "metadata": {},
   "source": [
    "Задание: Нужно удалить попугая из множества"
   ]
  },
  {
   "cell_type": "code",
   "execution_count": 156,
   "id": "7959a294",
   "metadata": {},
   "outputs": [
    {
     "data": {
      "text/plain": [
       "{'кот', 'собака'}"
      ]
     },
     "execution_count": 156,
     "metadata": {},
     "output_type": "execute_result"
    }
   ],
   "source": [
    "set_1.remove(\"попугай\")\n",
    "set_1"
   ]
  },
  {
   "cell_type": "markdown",
   "id": "858b5122",
   "metadata": {},
   "source": [
    "Задание: Создать множество, состоящее из домашних животных, которое нельзя изменять"
   ]
  },
  {
   "cell_type": "code",
   "execution_count": 157,
   "id": "c615f141",
   "metadata": {},
   "outputs": [
    {
     "data": {
      "text/plain": [
       "frozenset({'b', 'а'})"
      ]
     },
     "execution_count": 157,
     "metadata": {},
     "output_type": "execute_result"
    }
   ],
   "source": [
    "set_1 = frozenset([\"а\", \"b\"])\n",
    "set_1"
   ]
  },
  {
   "cell_type": "code",
   "execution_count": 158,
   "id": "73c03254",
   "metadata": {},
   "outputs": [
    {
     "ename": "AttributeError",
     "evalue": "'frozenset' object has no attribute 'add'",
     "output_type": "error",
     "traceback": [
      "\u001b[1;31m---------------------------------------------------------------------------\u001b[0m",
      "\u001b[1;31mAttributeError\u001b[0m                            Traceback (most recent call last)",
      "Cell \u001b[1;32mIn[158], line 1\u001b[0m\n\u001b[1;32m----> 1\u001b[0m \u001b[43mset_1\u001b[49m\u001b[38;5;241;43m.\u001b[39;49m\u001b[43madd\u001b[49m(\u001b[38;5;124m\"\u001b[39m\u001b[38;5;124melement\u001b[39m\u001b[38;5;124m\"\u001b[39m)\n",
      "\u001b[1;31mAttributeError\u001b[0m: 'frozenset' object has no attribute 'add'"
     ]
    }
   ],
   "source": [
    "set_1.add(\"element\")"
   ]
  },
  {
   "cell_type": "code",
   "execution_count": 164,
   "id": "9786f7fd",
   "metadata": {},
   "outputs": [
    {
     "data": {
      "text/plain": [
       "set"
      ]
     },
     "execution_count": 164,
     "metadata": {},
     "output_type": "execute_result"
    }
   ],
   "source": [
    "set_1 = {1, 2, 3}\n",
    "type(set(frozenset(set_1)))"
   ]
  },
  {
   "cell_type": "code",
   "execution_count": 165,
   "id": "74ba0b49",
   "metadata": {},
   "outputs": [
    {
     "data": {
      "text/plain": [
       "'{1, 2, 3}'"
      ]
     },
     "execution_count": 165,
     "metadata": {},
     "output_type": "execute_result"
    }
   ],
   "source": [
    "set_1 = {1, 2, 3}\n",
    "str(set_1)"
   ]
  },
  {
   "cell_type": "code",
   "execution_count": 166,
   "id": "940636c1",
   "metadata": {},
   "outputs": [
    {
     "data": {
      "text/plain": [
       "[1, 2, 3]"
      ]
     },
     "execution_count": 166,
     "metadata": {},
     "output_type": "execute_result"
    }
   ],
   "source": [
    "set_1 = {1, 2, 3}\n",
    "list(set_1)"
   ]
  },
  {
   "cell_type": "code",
   "execution_count": 167,
   "id": "dbd8433f",
   "metadata": {},
   "outputs": [],
   "source": [
    "set_1 = frozenset([1, 2, 3])\n",
    "set_2 = set(set_1)"
   ]
  },
  {
   "cell_type": "markdown",
   "id": "1937525f",
   "metadata": {},
   "source": [
    "# Повторение пройденного"
   ]
  },
  {
   "cell_type": "markdown",
   "id": "9a3d4f0d",
   "metadata": {},
   "source": [
    "Задание: Добавить в list_ список из 2 человек, у каждого из которых будет имя и возраст"
   ]
  },
  {
   "cell_type": "code",
   "execution_count": 2,
   "id": "c740d109",
   "metadata": {},
   "outputs": [
    {
     "data": {
      "text/plain": [
       "[{'name': 'jon', 'age': 22}, {'name': 'ann', 'age': 33}]"
      ]
     },
     "execution_count": 2,
     "metadata": {},
     "output_type": "execute_result"
    }
   ],
   "source": [
    "list_ = []\n",
    "list2 = [{'name':'jon', 'age': 22}, {'name':'ann', 'age': 33}]\n",
    "list_.extend(list2)\n",
    "list_"
   ]
  },
  {
   "cell_type": "markdown",
   "id": "d192d0dd",
   "metadata": {},
   "source": [
    "Задание: Добавить первому человеку год рождения"
   ]
  },
  {
   "cell_type": "code",
   "execution_count": 4,
   "id": "514a8107",
   "metadata": {},
   "outputs": [
    {
     "data": {
      "text/plain": [
       "[{'name': 'jon', 'age': 22, 'date': 1998}, {'name': 'ann', 'age': 33}]"
      ]
     },
     "execution_count": 4,
     "metadata": {},
     "output_type": "execute_result"
    }
   ],
   "source": [
    "list_[0].update({\"date\":1998})\n",
    "list_"
   ]
  },
  {
   "cell_type": "code",
   "execution_count": null,
   "id": "2043a572",
   "metadata": {},
   "outputs": [],
   "source": [
    "list_[0][\"date\"] = 1998"
   ]
  },
  {
   "cell_type": "markdown",
   "id": "d11b7fcc",
   "metadata": {},
   "source": [
    "Задание: Удалить из списка элемент с индексом 1"
   ]
  },
  {
   "cell_type": "code",
   "execution_count": 6,
   "id": "fe087164",
   "metadata": {},
   "outputs": [
    {
     "data": {
      "text/plain": [
       "[{'name': 'jon', 'age': 22, 'date': 1998}]"
      ]
     },
     "execution_count": 6,
     "metadata": {},
     "output_type": "execute_result"
    }
   ],
   "source": [
    "list_.pop(1)\n",
    "list_"
   ]
  },
  {
   "cell_type": "markdown",
   "id": "c31118fc",
   "metadata": {},
   "source": [
    "Задание: Есть список list_ = [1, 2, 3], нужно получить список [1, 2, 1, 2, 1, 2]"
   ]
  },
  {
   "cell_type": "code",
   "execution_count": 7,
   "id": "6b8b0c8f",
   "metadata": {},
   "outputs": [
    {
     "data": {
      "text/plain": [
       "[1, 2, 1, 2, 1, 2]"
      ]
     },
     "execution_count": 7,
     "metadata": {},
     "output_type": "execute_result"
    }
   ],
   "source": [
    "list_ = [1, 2, 3]\n",
    "list_[0:2] * 3"
   ]
  },
  {
   "cell_type": "markdown",
   "id": "b885faf1",
   "metadata": {},
   "source": [
    "Задание: Посчитать,сколько в этом списке двоек"
   ]
  },
  {
   "cell_type": "code",
   "execution_count": 8,
   "id": "283a68d4",
   "metadata": {},
   "outputs": [
    {
     "data": {
      "text/plain": [
       "1"
      ]
     },
     "execution_count": 8,
     "metadata": {},
     "output_type": "execute_result"
    }
   ],
   "source": [
    "list_.count(2)"
   ]
  },
  {
   "cell_type": "markdown",
   "id": "bb395eb8",
   "metadata": {},
   "source": [
    "Задание: Есть словарь person, нужно узнать, старше человек 18 лет или нет"
   ]
  },
  {
   "cell_type": "code",
   "execution_count": 9,
   "id": "492bb3a6",
   "metadata": {},
   "outputs": [
    {
     "data": {
      "text/plain": [
       "True"
      ]
     },
     "execution_count": 9,
     "metadata": {},
     "output_type": "execute_result"
    }
   ],
   "source": [
    "person = {\n",
    "    \"name\": \"John\",\n",
    "    \"birth_year\": 1967\n",
    "}\n",
    "2023 - person[\"birth_year\"] > 18"
   ]
  },
  {
   "cell_type": "markdown",
   "id": "a91669c7",
   "metadata": {},
   "source": [
    "Задание: Добавить в словарь ключ is_adult со значением"
   ]
  },
  {
   "cell_type": "code",
   "execution_count": null,
   "id": "1657dce1",
   "metadata": {},
   "outputs": [],
   "source": []
  },
  {
   "cell_type": "markdown",
   "id": "08c30eaa",
   "metadata": {},
   "source": [
    "Вопрос: Может ли в set быть list?"
   ]
  },
  {
   "cell_type": "code",
   "execution_count": 10,
   "id": "c6922455",
   "metadata": {},
   "outputs": [
    {
     "ename": "TypeError",
     "evalue": "unhashable type: 'list'",
     "output_type": "error",
     "traceback": [
      "\u001b[1;31m---------------------------------------------------------------------------\u001b[0m",
      "\u001b[1;31mTypeError\u001b[0m                                 Traceback (most recent call last)",
      "Cell \u001b[1;32mIn[10], line 1\u001b[0m\n\u001b[1;32m----> 1\u001b[0m \u001b[38;5;28;43mset\u001b[39;49m\u001b[43m(\u001b[49m\u001b[43m[\u001b[49m\u001b[38;5;241;43m1\u001b[39;49m\u001b[43m,\u001b[49m\u001b[43m \u001b[49m\u001b[38;5;241;43m2\u001b[39;49m\u001b[43m,\u001b[49m\u001b[43m \u001b[49m\u001b[43m[\u001b[49m\u001b[38;5;241;43m1\u001b[39;49m\u001b[43m,\u001b[49m\u001b[43m \u001b[49m\u001b[38;5;241;43m4\u001b[39;49m\u001b[43m,\u001b[49m\u001b[43m \u001b[49m\u001b[38;5;241;43m5\u001b[39;49m\u001b[43m]\u001b[49m\u001b[43m]\u001b[49m\u001b[43m)\u001b[49m\n",
      "\u001b[1;31mTypeError\u001b[0m: unhashable type: 'list'"
     ]
    }
   ],
   "source": [
    "set([1, 2, [1, 4, 5]])"
   ]
  },
  {
   "cell_type": "markdown",
   "id": "c3ba153d",
   "metadata": {},
   "source": []
  },
  {
   "cell_type": "markdown",
   "id": "f58d99e6",
   "metadata": {},
   "source": [
    "# Изменяемые и неизменяемые типы данных"
   ]
  },
  {
   "cell_type": "markdown",
   "id": "06f85ca0",
   "metadata": {},
   "source": [
    "#### Неизменяемые типы данных:\n",
    "\n",
    "- числа (int, float)\n",
    "- bool\n",
    "- кортежи\n",
    "- строки\n",
    "- frozenset\n",
    "\n",
    "##### Мы не можем обновить их значения, мы можем только переопределить, то есть присвоить переменной новое значение. Новое значение - новая ячейка в памяти"
   ]
  },
  {
   "cell_type": "code",
   "execution_count": 11,
   "id": "b5550a18",
   "metadata": {},
   "outputs": [],
   "source": [
    "string = \"hello\""
   ]
  },
  {
   "cell_type": "code",
   "execution_count": 12,
   "id": "365768a3",
   "metadata": {},
   "outputs": [
    {
     "data": {
      "text/plain": [
       "2246758402928"
      ]
     },
     "execution_count": 12,
     "metadata": {},
     "output_type": "execute_result"
    }
   ],
   "source": [
    "id(string)"
   ]
  },
  {
   "cell_type": "code",
   "execution_count": 13,
   "id": "99a7ad3b",
   "metadata": {},
   "outputs": [
    {
     "data": {
      "text/plain": [
       "'Hello'"
      ]
     },
     "execution_count": 13,
     "metadata": {},
     "output_type": "execute_result"
    }
   ],
   "source": [
    "string.capitalize()"
   ]
  },
  {
   "cell_type": "code",
   "execution_count": 14,
   "id": "c6d4b58b",
   "metadata": {},
   "outputs": [
    {
     "data": {
      "text/plain": [
       "'hello'"
      ]
     },
     "execution_count": 14,
     "metadata": {},
     "output_type": "execute_result"
    }
   ],
   "source": [
    "string"
   ]
  },
  {
   "cell_type": "code",
   "execution_count": 15,
   "id": "6b5c1827",
   "metadata": {},
   "outputs": [],
   "source": [
    "string = string.capitalize()"
   ]
  },
  {
   "cell_type": "code",
   "execution_count": 16,
   "id": "eb1ebfbe",
   "metadata": {},
   "outputs": [
    {
     "data": {
      "text/plain": [
       "'Hello'"
      ]
     },
     "execution_count": 16,
     "metadata": {},
     "output_type": "execute_result"
    }
   ],
   "source": [
    "string"
   ]
  },
  {
   "cell_type": "code",
   "execution_count": 17,
   "id": "0c1e7892",
   "metadata": {},
   "outputs": [
    {
     "data": {
      "text/plain": [
       "2246764904752"
      ]
     },
     "execution_count": 17,
     "metadata": {},
     "output_type": "execute_result"
    }
   ],
   "source": [
    "id(string)"
   ]
  },
  {
   "cell_type": "markdown",
   "id": "d46def9e",
   "metadata": {},
   "source": [
    "#### Изменяемые\n",
    "\n",
    "- списки\n",
    "- множества\n",
    "- словари\n",
    "\n",
    "\n",
    "##### Мы можем их изменять, при этом адрес в памяти не меняется. Это опасно тем, что мы передать список в функцию, его там изменят и мы потеряем оригинальный список"
   ]
  },
  {
   "cell_type": "code",
   "execution_count": 18,
   "id": "626a66cd",
   "metadata": {},
   "outputs": [],
   "source": [
    "list_ = [1, 2, 3]"
   ]
  },
  {
   "cell_type": "code",
   "execution_count": 19,
   "id": "b6d1b83e",
   "metadata": {},
   "outputs": [
    {
     "data": {
      "text/plain": [
       "2246764905344"
      ]
     },
     "execution_count": 19,
     "metadata": {},
     "output_type": "execute_result"
    }
   ],
   "source": [
    "id(list_)"
   ]
  },
  {
   "cell_type": "code",
   "execution_count": 20,
   "id": "655b94c1",
   "metadata": {},
   "outputs": [],
   "source": [
    "list_.append(4) # поэтому нам не нужно писать list_ = list_.append(4)"
   ]
  },
  {
   "cell_type": "code",
   "execution_count": 21,
   "id": "9562a08c",
   "metadata": {},
   "outputs": [
    {
     "data": {
      "text/plain": [
       "2246764905344"
      ]
     },
     "execution_count": 21,
     "metadata": {},
     "output_type": "execute_result"
    }
   ],
   "source": [
    "id(list_)"
   ]
  },
  {
   "cell_type": "code",
   "execution_count": 22,
   "id": "2628a7e5",
   "metadata": {},
   "outputs": [
    {
     "data": {
      "text/plain": [
       "[1, 2, 3, 4]"
      ]
     },
     "execution_count": 22,
     "metadata": {},
     "output_type": "execute_result"
    }
   ],
   "source": [
    "list_"
   ]
  },
  {
   "cell_type": "markdown",
   "id": "e18ae4c5",
   "metadata": {},
   "source": [
    "# В чем опасность"
   ]
  },
  {
   "cell_type": "markdown",
   "id": "8d201015",
   "metadata": {},
   "source": [
    "#### Неизменяемые типы"
   ]
  },
  {
   "cell_type": "markdown",
   "id": "3161ac98",
   "metadata": {},
   "source": [
    "Если мы передаем в функцию неизменяемый тип данных, то мы не можем никак повлять на его значение внутри функции"
   ]
  },
  {
   "cell_type": "code",
   "execution_count": 174,
   "id": "e1eaddd5",
   "metadata": {},
   "outputs": [
    {
     "name": "stdout",
     "output_type": "stream",
     "text": [
      "1750832164144: адрес оригинальной строки до выполнения функции\n",
      "1750832164144: адрес до изменения str_\n",
      "1750837214704: адрес после изменения str_\n",
      "1750832164144: адрес оригинальной строки после выполнения функции\n",
      "test: строка после выполнения функции\n"
     ]
    }
   ],
   "source": [
    "def func(str_):\n",
    "    print(f\"{id(str_)}: адрес до изменения str_\")\n",
    "    str_ = \"new_value\"\n",
    "    print(f\"{id(str_)}: адрес после изменения str_\")\n",
    "    return str_\n",
    "\n",
    "my_str = \"test\"\n",
    "print(f\"{id(my_str)}: адрес оригинальной строки до выполнения функции\")\n",
    "func(my_str)\n",
    "print(f\"{id(my_str)}: адрес оригинальной строки после выполнения функции\")\n",
    "print(f\"{my_str}: строка после выполнения функции\")"
   ]
  },
  {
   "cell_type": "markdown",
   "id": "93d03b7c",
   "metadata": {},
   "source": [
    "Если мы хотим повлиять на значение неизменяего типа данных вне функции, то нам нужно **ЯВНО ПРИСВОИТЬ РЕЗУЛЬТАТ**"
   ]
  },
  {
   "cell_type": "code",
   "execution_count": 176,
   "id": "5eee06a8",
   "metadata": {},
   "outputs": [
    {
     "name": "stdout",
     "output_type": "stream",
     "text": [
      "1750832164144: адрес оригинальной строки до выполнения функции\n",
      "1750832164144: адрес до изменения str_\n",
      "1750837214704: адрес после изменения str_\n",
      "1750837214704: адрес оригинальной строки после выполнения функции\n",
      "new_value: строка после выполнения функции\n"
     ]
    }
   ],
   "source": [
    "def func(str_):\n",
    "    print(f\"{id(str_)}: адрес до изменения str_\")\n",
    "    str_ = \"new_value\"\n",
    "    print(f\"{id(str_)}: адрес после изменения str_\")\n",
    "    return str_\n",
    "\n",
    "my_str = \"test\"\n",
    "print(f\"{id(my_str)}: адрес оригинальной строки до выполнения функции\")\n",
    "my_str = func(my_str)\n",
    "print(f\"{id(my_str)}: адрес оригинальной строки после выполнения функции\")\n",
    "print(f\"{my_str}: строка после выполнения функции\")"
   ]
  },
  {
   "cell_type": "markdown",
   "id": "342913c0",
   "metadata": {},
   "source": [
    "#### Изменяемые типы"
   ]
  },
  {
   "cell_type": "markdown",
   "id": "27ef9e80",
   "metadata": {},
   "source": [
    "Если мы передаем в функцию изменяемый тип данных и меняем его внутри, то это **ИЗМЕНИТ НАШУ ИЗНАЧАЛЬНУЮ ПЕРЕМЕННУЮ ВНЕ ФУНКЦИИ**"
   ]
  },
  {
   "cell_type": "code",
   "execution_count": 178,
   "id": "3ebca0d3",
   "metadata": {},
   "outputs": [
    {
     "name": "stdout",
     "output_type": "stream",
     "text": [
      "1750909623040: адрес оригинального списка до выполнения функции\n",
      "1750909623040: адрес до изменения list_\n",
      "1750909623040: адрес после изменения list_\n",
      "1750909623040: адрес оригинального списка после выполнения функции\n",
      "[1, 2, 3, 4]: список после выполнения функции\n"
     ]
    }
   ],
   "source": [
    "def func(list_):\n",
    "    print(f\"{id(list_)}: адрес до изменения list_\")\n",
    "    list_.append(4)\n",
    "    print(f\"{id(list_)}: адрес после изменения list_\")\n",
    "    return list_\n",
    "\n",
    "my_list = [1, 2, 3]\n",
    "print(f\"{id(my_list)}: адрес оригинального списка до выполнения функции\")\n",
    "func(my_list)\n",
    "print(f\"{id(my_list)}: адрес оригинального списка после выполнения функции\")\n",
    "print(f\"{my_list}: список после выполнения функции\")"
   ]
  },
  {
   "cell_type": "markdown",
   "id": "b4156c8c",
   "metadata": {},
   "source": [
    "Чтобы это исправить, нужно передавать в функцию **КОПИЮ ИЗМЕНЯЕМОГО ТИПА ДАННЫХ**"
   ]
  },
  {
   "cell_type": "code",
   "execution_count": 27,
   "id": "c1e953a0",
   "metadata": {},
   "outputs": [],
   "source": [
    "def func(x):\n",
    "    print(f\"{id(x)}: адрес до изменения list_\")\n",
    "    x.append(4)\n",
    "    print(f\"{id(x)}: адрес после изменения list_\")\n",
    "    return x"
   ]
  },
  {
   "cell_type": "code",
   "execution_count": 28,
   "id": "8b4c3ba6",
   "metadata": {},
   "outputs": [
    {
     "name": "stdout",
     "output_type": "stream",
     "text": [
      "2246778118528: адрес оригинального списка до выполнения функции\n",
      "2246778355136: адрес до изменения list_\n",
      "2246778355136: адрес после изменения list_\n",
      "2246778118528: адрес оригинального списка после выполнения функции\n",
      "[1, 2, 3]: список после выполнения функции\n"
     ]
    }
   ],
   "source": [
    "my_list = [1, 2, 3]\n",
    "print(f\"{id(my_list)}: адрес оригинального списка до выполнения функции\")\n",
    "func(my_list[:])\n",
    "print(f\"{id(my_list)}: адрес оригинального списка после выполнения функции\")\n",
    "print(f\"{my_list}: список после выполнения функции\")"
   ]
  },
  {
   "cell_type": "markdown",
   "id": "518e02ba",
   "metadata": {},
   "source": [
    "Либо если мы работаем со списком и хотим чтобы на каком-то этапе у нас сохранился оригинальный список, то тоже можно использовать копию:"
   ]
  },
  {
   "cell_type": "code",
   "execution_count": 23,
   "id": "beb9cdd1",
   "metadata": {},
   "outputs": [
    {
     "data": {
      "text/plain": [
       "[0, 4, 6, 8, 10]"
      ]
     },
     "execution_count": 23,
     "metadata": {},
     "output_type": "execute_result"
    }
   ],
   "source": [
    "list_1 = [6, 4, 8, 10, 0]\n",
    "list_1.sort()\n",
    "list_1"
   ]
  },
  {
   "cell_type": "markdown",
   "id": "4efaadb9",
   "metadata": {},
   "source": [
    "Вместо того что выше сделать то что ниже:"
   ]
  },
  {
   "cell_type": "code",
   "execution_count": 183,
   "id": "b8524801",
   "metadata": {},
   "outputs": [
    {
     "data": {
      "text/plain": [
       "[6, 4, 8, 10, 0]"
      ]
     },
     "execution_count": 183,
     "metadata": {},
     "output_type": "execute_result"
    }
   ],
   "source": [
    "list_1 = [6, 4, 8, 10, 0]\n",
    "list_2 = list_1[:]\n",
    "list_2.sort()\n",
    "list_1"
   ]
  },
  {
   "cell_type": "code",
   "execution_count": 29,
   "id": "b8decd57",
   "metadata": {},
   "outputs": [
    {
     "data": {
      "text/plain": [
       "[6, 4, 8, 10, 0, 3]"
      ]
     },
     "execution_count": 29,
     "metadata": {},
     "output_type": "execute_result"
    }
   ],
   "source": [
    "list_1 = [6, 4, 8, 10, 0]\n",
    "list_2 = list_1\n",
    "list_2.append(3)\n",
    "list_1"
   ]
  },
  {
   "cell_type": "code",
   "execution_count": 33,
   "id": "a33e4952",
   "metadata": {},
   "outputs": [
    {
     "name": "stdout",
     "output_type": "stream",
     "text": [
      "адрес list_1: 2246778449344\n",
      "адрес list_2: 2246778449344\n"
     ]
    }
   ],
   "source": [
    "print(f\"адрес list_1: {id(list_1)}\")\n",
    "print(f\"адрес list_2: {id(list_2)}\")"
   ]
  },
  {
   "cell_type": "code",
   "execution_count": 37,
   "id": "ffb54c72",
   "metadata": {},
   "outputs": [],
   "source": [
    "str1 = \"abc\"\n",
    "str2 = str1\n",
    "str2 = str2.capitalize()"
   ]
  },
  {
   "cell_type": "code",
   "execution_count": 35,
   "id": "86116a0c",
   "metadata": {},
   "outputs": [
    {
     "data": {
      "text/plain": [
       "'abc'"
      ]
     },
     "execution_count": 35,
     "metadata": {},
     "output_type": "execute_result"
    }
   ],
   "source": [
    "str1"
   ]
  },
  {
   "cell_type": "code",
   "execution_count": 36,
   "id": "3293a57f",
   "metadata": {},
   "outputs": [
    {
     "data": {
      "text/plain": [
       "'Abc'"
      ]
     },
     "execution_count": 36,
     "metadata": {},
     "output_type": "execute_result"
    }
   ],
   "source": [
    "str2"
   ]
  },
  {
   "cell_type": "code",
   "execution_count": 24,
   "id": "a529f9da",
   "metadata": {},
   "outputs": [
    {
     "data": {
      "text/plain": [
       "[6, 4, 8, 10, 0]"
      ]
     },
     "execution_count": 24,
     "metadata": {},
     "output_type": "execute_result"
    }
   ],
   "source": [
    "list_1 = [6, 4, 8, 10, 0]\n",
    "list_2 = sorted(list_1)\n",
    "list_2.sort()\n",
    "list_1"
   ]
  },
  {
   "cell_type": "code",
   "execution_count": 25,
   "id": "46456771",
   "metadata": {},
   "outputs": [
    {
     "data": {
      "text/plain": [
       "[0, 4, 6, 8, 10]"
      ]
     },
     "execution_count": 25,
     "metadata": {},
     "output_type": "execute_result"
    }
   ],
   "source": [
    "list_2"
   ]
  },
  {
   "cell_type": "markdown",
   "id": "83406f99",
   "metadata": {},
   "source": [
    "# Как сделать копию\n",
    "\n",
    "\n",
    "#### [:] либо var.copy()"
   ]
  },
  {
   "cell_type": "code",
   "execution_count": 186,
   "id": "3af7fd46",
   "metadata": {},
   "outputs": [
    {
     "name": "stdout",
     "output_type": "stream",
     "text": [
      "1750910705216: адрес оригинального списка\n",
      "1750909618560: адрес копии 1\n",
      "1750909617856: адрес копии 2\n"
     ]
    }
   ],
   "source": [
    "list_1 = [1, 2, 3]\n",
    "print(f\"{id(list_1)}: адрес оригинального списка\")\n",
    "list_2 = list_1[:]\n",
    "print(f\"{id(list_2)}: адрес копии 1\")\n",
    "list_3 = list_1.copy()\n",
    "print(f\"{id(list_3)}: адрес копии 2\")"
   ]
  },
  {
   "cell_type": "code",
   "execution_count": 189,
   "id": "a1e78973",
   "metadata": {},
   "outputs": [
    {
     "name": "stdout",
     "output_type": "stream",
     "text": [
      "1750910553440: адрес оригинального сета\n",
      "1750908856224: адрес копии\n"
     ]
    }
   ],
   "source": [
    "set_1 = {1, 2, 3}\n",
    "print(f\"{id(set_1)}: адрес оригинального сета\")\n",
    "set_2 = set_1.copy()\n",
    "print(f\"{id(set_2)}: адрес копии\")"
   ]
  },
  {
   "cell_type": "code",
   "execution_count": 190,
   "id": "3cc550a8",
   "metadata": {},
   "outputs": [
    {
     "name": "stdout",
     "output_type": "stream",
     "text": [
      "1750910553440: адрес оригинального списка\n",
      "1750909091648: адрес копии\n"
     ]
    }
   ],
   "source": [
    "dict_1 = {\"name\": \"Lena\"}\n",
    "print(f\"{id(set_1)}: адрес оригинального списка\")\n",
    "dict_2 = dict_1.copy()\n",
    "print(f\"{id(dict_2)}: адрес копии\")"
   ]
  },
  {
   "cell_type": "code",
   "execution_count": 41,
   "id": "44463bd3",
   "metadata": {},
   "outputs": [
    {
     "data": {
      "text/plain": [
       "{'name': 'Lena', 'age': 90}"
      ]
     },
     "execution_count": 41,
     "metadata": {},
     "output_type": "execute_result"
    }
   ],
   "source": [
    "dict_1 = {\"name\": \"Lena\"}\n",
    "dict_2 = dict_1.copy()\n",
    "dict_2[\"age\"] = 90\n",
    "dict_2"
   ]
  },
  {
   "cell_type": "code",
   "execution_count": 42,
   "id": "d68bf766",
   "metadata": {},
   "outputs": [
    {
     "data": {
      "text/plain": [
       "{'name': 'Lena'}"
      ]
     },
     "execution_count": 42,
     "metadata": {},
     "output_type": "execute_result"
    }
   ],
   "source": [
    "dict_1"
   ]
  },
  {
   "cell_type": "markdown",
   "id": "9b099739",
   "metadata": {},
   "source": [
    "# Как выделяется память"
   ]
  },
  {
   "cell_type": "code",
   "execution_count": 193,
   "id": "2434cbc5",
   "metadata": {},
   "outputs": [
    {
     "name": "stdout",
     "output_type": "stream",
     "text": [
      "1750822945296: адрес number_1\n",
      "1750822945296: адрес number_2\n"
     ]
    }
   ],
   "source": [
    "number_1 = 10\n",
    "print(f\"{id(number_1)}: адрес number_1\")\n",
    "number_2 = 10\n",
    "print(f\"{id(number_2)}: адрес number_2\")"
   ]
  },
  {
   "cell_type": "code",
   "execution_count": 43,
   "id": "5ba9ff39",
   "metadata": {},
   "outputs": [
    {
     "name": "stdout",
     "output_type": "stream",
     "text": [
      "2246777683760: адрес number_1\n",
      "2246777671248: адрес number_2\n"
     ]
    }
   ],
   "source": [
    "number_1 = 257\n",
    "print(f\"{id(number_1)}: адрес number_1\")\n",
    "number_2 = 257\n",
    "print(f\"{id(number_2)}: адрес number_2\")"
   ]
  },
  {
   "cell_type": "code",
   "execution_count": 194,
   "id": "c327bd8e",
   "metadata": {},
   "outputs": [
    {
     "name": "stdout",
     "output_type": "stream",
     "text": [
      "1750909378304: адрес tuple_1\n",
      "1750909052672: адрес tuple_2\n"
     ]
    }
   ],
   "source": [
    "tuple_1 = (1, 2, 3)\n",
    "print(f\"{id(tuple_1)}: адрес tuple_1\")\n",
    "tuple_2 = (1, 2, 3)\n",
    "print(f\"{id(tuple_2)}: адрес tuple_2\")"
   ]
  },
  {
   "cell_type": "code",
   "execution_count": 195,
   "id": "3b6ccb5b",
   "metadata": {},
   "outputs": [
    {
     "name": "stdout",
     "output_type": "stream",
     "text": [
      "1750824229808: адрес str_1\n",
      "1750824229808: адрес str_2\n"
     ]
    }
   ],
   "source": [
    "str_1 = \"abc\"\n",
    "print(f\"{id(str_1)}: адрес str_1\")\n",
    "str_2 = \"abc\"\n",
    "print(f\"{id(str_2)}: адрес str_2\")"
   ]
  },
  {
   "cell_type": "markdown",
   "id": "f708da5a",
   "metadata": {},
   "source": [
    "# Что из этого следует"
   ]
  },
  {
   "cell_type": "markdown",
   "id": "2b89ea5f",
   "metadata": {},
   "source": [
    "Из этого следует то что если мы хотим сравнить **ЗНАЧЕНИЯ, то используем оператор ==**, а если хотим сравнить **АДРЕСА В ПАМЯТИ, то is**"
   ]
  },
  {
   "cell_type": "code",
   "execution_count": 47,
   "id": "c876a04c",
   "metadata": {},
   "outputs": [
    {
     "data": {
      "text/plain": [
       "True"
      ]
     },
     "execution_count": 47,
     "metadata": {},
     "output_type": "execute_result"
    }
   ],
   "source": [
    "num_1 = -5\n",
    "num_2 = -5\n",
    "num_1 == num_2"
   ]
  },
  {
   "cell_type": "code",
   "execution_count": 48,
   "id": "cef2f88e",
   "metadata": {},
   "outputs": [
    {
     "data": {
      "text/plain": [
       "False"
      ]
     },
     "execution_count": 48,
     "metadata": {},
     "output_type": "execute_result"
    }
   ],
   "source": [
    "num_1 is num_2"
   ]
  },
  {
   "cell_type": "code",
   "execution_count": 49,
   "id": "5a0983c4",
   "metadata": {},
   "outputs": [
    {
     "data": {
      "text/plain": [
       "False"
      ]
     },
     "execution_count": 49,
     "metadata": {},
     "output_type": "execute_result"
    }
   ],
   "source": [
    "id(num_1) == id(num_2)"
   ]
  },
  {
   "cell_type": "code",
   "execution_count": 50,
   "id": "7e90a889",
   "metadata": {},
   "outputs": [],
   "source": [
    "list_1 = [1, 2, 3]\n",
    "list_2 = [1, 2, 3]\n",
    "list_3 = list_1"
   ]
  },
  {
   "cell_type": "code",
   "execution_count": 51,
   "id": "95f10868",
   "metadata": {},
   "outputs": [
    {
     "data": {
      "text/plain": [
       "True"
      ]
     },
     "execution_count": 51,
     "metadata": {},
     "output_type": "execute_result"
    }
   ],
   "source": [
    "list_1 == list_2"
   ]
  },
  {
   "cell_type": "code",
   "execution_count": 52,
   "id": "c73e8260",
   "metadata": {},
   "outputs": [
    {
     "data": {
      "text/plain": [
       "False"
      ]
     },
     "execution_count": 52,
     "metadata": {},
     "output_type": "execute_result"
    }
   ],
   "source": [
    "list_1 is list_2"
   ]
  },
  {
   "cell_type": "code",
   "execution_count": 203,
   "id": "b97d0ca1",
   "metadata": {},
   "outputs": [
    {
     "data": {
      "text/plain": [
       "True"
      ]
     },
     "execution_count": 203,
     "metadata": {},
     "output_type": "execute_result"
    }
   ],
   "source": [
    "list_1 == list_3"
   ]
  },
  {
   "cell_type": "code",
   "execution_count": 204,
   "id": "a8dd1da4",
   "metadata": {},
   "outputs": [
    {
     "data": {
      "text/plain": [
       "True"
      ]
     },
     "execution_count": 204,
     "metadata": {},
     "output_type": "execute_result"
    }
   ],
   "source": [
    "list_1 is list_3"
   ]
  },
  {
   "cell_type": "code",
   "execution_count": 53,
   "id": "afd6e17d",
   "metadata": {},
   "outputs": [],
   "source": [
    "a = None\n",
    "b = None\n",
    "c = None"
   ]
  },
  {
   "cell_type": "code",
   "execution_count": 54,
   "id": "e01a65e4",
   "metadata": {},
   "outputs": [
    {
     "data": {
      "text/plain": [
       "140729559660536"
      ]
     },
     "execution_count": 54,
     "metadata": {},
     "output_type": "execute_result"
    }
   ],
   "source": [
    "id(a)"
   ]
  },
  {
   "cell_type": "code",
   "execution_count": 55,
   "id": "4d92bfb2",
   "metadata": {},
   "outputs": [
    {
     "data": {
      "text/plain": [
       "140729559660536"
      ]
     },
     "execution_count": 55,
     "metadata": {},
     "output_type": "execute_result"
    }
   ],
   "source": [
    "id(b)"
   ]
  },
  {
   "cell_type": "code",
   "execution_count": 56,
   "id": "680085de",
   "metadata": {},
   "outputs": [
    {
     "data": {
      "text/plain": [
       "140729559660536"
      ]
     },
     "execution_count": 56,
     "metadata": {},
     "output_type": "execute_result"
    }
   ],
   "source": [
    "id(c)"
   ]
  },
  {
   "cell_type": "markdown",
   "id": "4ae32bb1",
   "metadata": {},
   "source": [
    "# Преобразование типов данных"
   ]
  },
  {
   "cell_type": "markdown",
   "id": "57a48110",
   "metadata": {},
   "source": [
    "#### str(x)"
   ]
  },
  {
   "cell_type": "code",
   "execution_count": 205,
   "id": "d383fe47",
   "metadata": {},
   "outputs": [
    {
     "data": {
      "text/plain": [
       "'[1, 2, 3]'"
      ]
     },
     "execution_count": 205,
     "metadata": {},
     "output_type": "execute_result"
    }
   ],
   "source": [
    "list_ = [1, 2, 3]\n",
    "str(list_)"
   ]
  },
  {
   "cell_type": "code",
   "execution_count": 60,
   "id": "7caeb807",
   "metadata": {},
   "outputs": [
    {
     "data": {
      "text/plain": [
       "'(1, 2, 3)'"
      ]
     },
     "execution_count": 60,
     "metadata": {},
     "output_type": "execute_result"
    }
   ],
   "source": [
    "tuple_ = (1, 2, 3)\n",
    "str(tuple_)"
   ]
  },
  {
   "cell_type": "code",
   "execution_count": 61,
   "id": "0de397af",
   "metadata": {},
   "outputs": [
    {
     "name": "stdout",
     "output_type": "stream",
     "text": [
      "(1, 2, 3)\n"
     ]
    }
   ],
   "source": [
    "print(tuple_)"
   ]
  },
  {
   "cell_type": "markdown",
   "id": "3c3837f2",
   "metadata": {},
   "source": [
    "### int(x)"
   ]
  },
  {
   "cell_type": "code",
   "execution_count": 57,
   "id": "04f348dd",
   "metadata": {},
   "outputs": [
    {
     "data": {
      "text/plain": [
       "12"
      ]
     },
     "execution_count": 57,
     "metadata": {},
     "output_type": "execute_result"
    }
   ],
   "source": [
    "num = int(\"12\")\n",
    "num"
   ]
  },
  {
   "cell_type": "code",
   "execution_count": 58,
   "id": "089fd1dc",
   "metadata": {},
   "outputs": [
    {
     "data": {
      "text/plain": [
       "int"
      ]
     },
     "execution_count": 58,
     "metadata": {},
     "output_type": "execute_result"
    }
   ],
   "source": [
    "type(num)"
   ]
  },
  {
   "cell_type": "code",
   "execution_count": 59,
   "id": "34a95d30",
   "metadata": {},
   "outputs": [
    {
     "data": {
      "text/plain": [
       "19"
      ]
     },
     "execution_count": 59,
     "metadata": {},
     "output_type": "execute_result"
    }
   ],
   "source": [
    "int(19.3)"
   ]
  },
  {
   "cell_type": "code",
   "execution_count": 213,
   "id": "756a894f",
   "metadata": {},
   "outputs": [
    {
     "data": {
      "text/plain": [
       "True"
      ]
     },
     "execution_count": 213,
     "metadata": {},
     "output_type": "execute_result"
    }
   ],
   "source": [
    "isinstance(num, int)"
   ]
  },
  {
   "cell_type": "markdown",
   "id": "e6f658b2",
   "metadata": {},
   "source": [
    "### float(x)"
   ]
  },
  {
   "cell_type": "code",
   "execution_count": 214,
   "id": "800fec42",
   "metadata": {},
   "outputs": [
    {
     "data": {
      "text/plain": [
       "12.0"
      ]
     },
     "execution_count": 214,
     "metadata": {},
     "output_type": "execute_result"
    }
   ],
   "source": [
    "float(\"12\")"
   ]
  },
  {
   "cell_type": "code",
   "execution_count": 215,
   "id": "bc8ff800",
   "metadata": {},
   "outputs": [
    {
     "data": {
      "text/plain": [
       "15.4"
      ]
     },
     "execution_count": 215,
     "metadata": {},
     "output_type": "execute_result"
    }
   ],
   "source": [
    "float(\"15.4\")"
   ]
  },
  {
   "cell_type": "code",
   "execution_count": 63,
   "id": "6c959d85",
   "metadata": {},
   "outputs": [
    {
     "data": {
      "text/plain": [
       "-15.6"
      ]
     },
     "execution_count": 63,
     "metadata": {},
     "output_type": "execute_result"
    }
   ],
   "source": [
    "float(\"-15.6\")"
   ]
  },
  {
   "cell_type": "code",
   "execution_count": 65,
   "id": "bbea71eb",
   "metadata": {},
   "outputs": [
    {
     "data": {
      "text/plain": [
       "12.0"
      ]
     },
     "execution_count": 65,
     "metadata": {},
     "output_type": "execute_result"
    }
   ],
   "source": [
    "float(12)"
   ]
  },
  {
   "cell_type": "markdown",
   "id": "abfbfdd3",
   "metadata": {},
   "source": [
    "### list(x)"
   ]
  },
  {
   "cell_type": "code",
   "execution_count": 218,
   "id": "593c47ea",
   "metadata": {},
   "outputs": [
    {
     "data": {
      "text/plain": [
       "['s', 't', 'r', 'i', 'n', 'g']"
      ]
     },
     "execution_count": 218,
     "metadata": {},
     "output_type": "execute_result"
    }
   ],
   "source": [
    "list(\"string\")"
   ]
  },
  {
   "cell_type": "code",
   "execution_count": 67,
   "id": "79b85412",
   "metadata": {},
   "outputs": [
    {
     "data": {
      "text/plain": [
       "['Anton', 25]"
      ]
     },
     "execution_count": 67,
     "metadata": {},
     "output_type": "execute_result"
    }
   ],
   "source": [
    "person = {\"name\": \"Anton\", \"age\": 25}\n",
    "list(person.values())"
   ]
  },
  {
   "cell_type": "code",
   "execution_count": 220,
   "id": "04100b55",
   "metadata": {},
   "outputs": [
    {
     "data": {
      "text/plain": [
       "[1, 2, 3]"
      ]
     },
     "execution_count": 220,
     "metadata": {},
     "output_type": "execute_result"
    }
   ],
   "source": [
    "tuple_1 = (1, 2, 3)\n",
    "list(tuple_1)"
   ]
  },
  {
   "cell_type": "markdown",
   "id": "e8169781",
   "metadata": {},
   "source": [
    "### bool(x)\n",
    "\n",
    "bool(0) - всегда False, отличное от 0 - True\n",
    "\n",
    "bool = False когда значения пустые, а именно:\n",
    "\n",
    "- 0\n",
    "- пустой список []\n",
    "- пустая строка \"\"\n",
    "- None\n",
    "- пустой кортеж ()\n",
    "- пустой set()\n",
    "- пустой словарь {}\n",
    "\n",
    "Все что не пустое будет True!"
   ]
  },
  {
   "cell_type": "code",
   "execution_count": 221,
   "id": "0014809e",
   "metadata": {},
   "outputs": [
    {
     "data": {
      "text/plain": [
       "False"
      ]
     },
     "execution_count": 221,
     "metadata": {},
     "output_type": "execute_result"
    }
   ],
   "source": [
    "bool(0)"
   ]
  },
  {
   "cell_type": "code",
   "execution_count": 222,
   "id": "d4cc7440",
   "metadata": {},
   "outputs": [
    {
     "data": {
      "text/plain": [
       "True"
      ]
     },
     "execution_count": 222,
     "metadata": {},
     "output_type": "execute_result"
    }
   ],
   "source": [
    "bool(1)"
   ]
  },
  {
   "cell_type": "code",
   "execution_count": 223,
   "id": "29a7d3ea",
   "metadata": {},
   "outputs": [
    {
     "data": {
      "text/plain": [
       "False"
      ]
     },
     "execution_count": 223,
     "metadata": {},
     "output_type": "execute_result"
    }
   ],
   "source": [
    "bool([])"
   ]
  },
  {
   "cell_type": "code",
   "execution_count": 224,
   "id": "ef9fef4b",
   "metadata": {},
   "outputs": [
    {
     "data": {
      "text/plain": [
       "True"
      ]
     },
     "execution_count": 224,
     "metadata": {},
     "output_type": "execute_result"
    }
   ],
   "source": [
    "bool([1, 2, 3])"
   ]
  },
  {
   "cell_type": "code",
   "execution_count": 225,
   "id": "fc2285c8",
   "metadata": {},
   "outputs": [
    {
     "data": {
      "text/plain": [
       "True"
      ]
     },
     "execution_count": 225,
     "metadata": {},
     "output_type": "execute_result"
    }
   ],
   "source": [
    "bool(\"True\")"
   ]
  },
  {
   "cell_type": "code",
   "execution_count": 226,
   "id": "410c26a4",
   "metadata": {},
   "outputs": [
    {
     "data": {
      "text/plain": [
       "True"
      ]
     },
     "execution_count": 226,
     "metadata": {},
     "output_type": "execute_result"
    }
   ],
   "source": [
    "bool(\"False\")"
   ]
  },
  {
   "cell_type": "code",
   "execution_count": 228,
   "id": "03e56730",
   "metadata": {},
   "outputs": [
    {
     "data": {
      "text/plain": [
       "False"
      ]
     },
     "execution_count": 228,
     "metadata": {},
     "output_type": "execute_result"
    }
   ],
   "source": [
    "bool(\"\")"
   ]
  },
  {
   "cell_type": "markdown",
   "id": "abdcf388",
   "metadata": {},
   "source": [
    "# Нюансы"
   ]
  },
  {
   "cell_type": "markdown",
   "id": "96efb74f",
   "metadata": {},
   "source": [
    "### tuple - неизменяемый тип данных, но может содержать в себе изменяемые"
   ]
  },
  {
   "cell_type": "code",
   "execution_count": 234,
   "id": "26eb7b4b",
   "metadata": {},
   "outputs": [],
   "source": [
    "tuple_1 = (1, \"abc\", [1, 2, 3])\n",
    "list_2 = list(tuple_1)\n",
    "list_2[0] = 2\n",
    "tuple_1 = tuple(list_2)"
   ]
  },
  {
   "cell_type": "markdown",
   "id": "39b628b0",
   "metadata": {},
   "source": [
    "### Ключами словаря могут быть ТОЛЬКО НЕИЗМЕНЯЕМЫЕ типы данных"
   ]
  },
  {
   "cell_type": "code",
   "execution_count": 238,
   "id": "7526de02",
   "metadata": {},
   "outputs": [],
   "source": [
    "# можно\n",
    "dict_1 = {\n",
    "    0.1: \"abc\",\n",
    "    0.9: \"def\" # могут быть нюансы\n",
    "}"
   ]
  },
  {
   "cell_type": "code",
   "execution_count": 239,
   "id": "ba2a152a",
   "metadata": {},
   "outputs": [
    {
     "data": {
      "text/plain": [
       "'abc'"
      ]
     },
     "execution_count": 239,
     "metadata": {},
     "output_type": "execute_result"
    }
   ],
   "source": [
    "dict_1[0.1]"
   ]
  },
  {
   "cell_type": "code",
   "execution_count": 247,
   "id": "9a584ba1",
   "metadata": {},
   "outputs": [
    {
     "ename": "KeyError",
     "evalue": "0.8999999999999999",
     "output_type": "error",
     "traceback": [
      "\u001b[1;31m---------------------------------------------------------------------------\u001b[0m",
      "\u001b[1;31mKeyError\u001b[0m                                  Traceback (most recent call last)",
      "Cell \u001b[1;32mIn[247], line 2\u001b[0m\n\u001b[0;32m      1\u001b[0m \u001b[38;5;66;03m# может возникать ошибка, если мы делаешь вычисления с float\u001b[39;00m\n\u001b[1;32m----> 2\u001b[0m \u001b[43mdict_1\u001b[49m\u001b[43m[\u001b[49m\u001b[38;5;241;43m0.3\u001b[39;49m\u001b[43m \u001b[49m\u001b[38;5;241;43m+\u001b[39;49m\u001b[43m \u001b[49m\u001b[38;5;241;43m0.3\u001b[39;49m\u001b[43m \u001b[49m\u001b[38;5;241;43m+\u001b[39;49m\u001b[43m \u001b[49m\u001b[38;5;241;43m0.3\u001b[39;49m\u001b[43m]\u001b[49m\n",
      "\u001b[1;31mKeyError\u001b[0m: 0.8999999999999999"
     ]
    }
   ],
   "source": [
    "# может возникать ошибка, если мы делаешь вычисления с float\n",
    "dict_1[0.3 + 0.3 + 0.3]"
   ]
  },
  {
   "cell_type": "code",
   "execution_count": 246,
   "id": "06fb10a6",
   "metadata": {},
   "outputs": [],
   "source": [
    "# можно\n",
    "dict_1 = {\n",
    "    1: \"abc\"\n",
    "}"
   ]
  },
  {
   "cell_type": "code",
   "execution_count": 248,
   "id": "9b97eb3b",
   "metadata": {},
   "outputs": [],
   "source": [
    "# можно\n",
    "dict_1 = {\n",
    "    (1, 2): \"abc\"\n",
    "}"
   ]
  },
  {
   "cell_type": "code",
   "execution_count": 251,
   "id": "ea66b52f",
   "metadata": {},
   "outputs": [
    {
     "data": {
      "text/plain": [
       "'abc'"
      ]
     },
     "execution_count": 251,
     "metadata": {},
     "output_type": "execute_result"
    }
   ],
   "source": [
    "dict_1[(1, 2)]"
   ]
  },
  {
   "cell_type": "code",
   "execution_count": 252,
   "id": "f10aff41",
   "metadata": {},
   "outputs": [
    {
     "ename": "TypeError",
     "evalue": "unhashable type: 'list'",
     "output_type": "error",
     "traceback": [
      "\u001b[1;31m---------------------------------------------------------------------------\u001b[0m",
      "\u001b[1;31mTypeError\u001b[0m                                 Traceback (most recent call last)",
      "Cell \u001b[1;32mIn[252], line 2\u001b[0m\n\u001b[0;32m      1\u001b[0m \u001b[38;5;66;03m# нельзя\u001b[39;00m\n\u001b[1;32m----> 2\u001b[0m dict_1 \u001b[38;5;241m=\u001b[39m {\n\u001b[0;32m      3\u001b[0m     (\u001b[38;5;241m1\u001b[39m, \u001b[38;5;241m2\u001b[39m, [\u001b[38;5;241m9\u001b[39m, \u001b[38;5;241m8\u001b[39m, \u001b[38;5;241m7\u001b[39m]): \u001b[38;5;124m\"\u001b[39m\u001b[38;5;124mabc\u001b[39m\u001b[38;5;124m\"\u001b[39m\n\u001b[0;32m      4\u001b[0m }\n",
      "\u001b[1;31mTypeError\u001b[0m: unhashable type: 'list'"
     ]
    }
   ],
   "source": [
    "# нельзя\n",
    "dict_1 = {\n",
    "    (1, 2, [9, 8, 7]): \"abc\"\n",
    "}"
   ]
  },
  {
   "cell_type": "code",
   "execution_count": 253,
   "id": "5b138c6e",
   "metadata": {},
   "outputs": [
    {
     "ename": "TypeError",
     "evalue": "unhashable type: 'list'",
     "output_type": "error",
     "traceback": [
      "\u001b[1;31m---------------------------------------------------------------------------\u001b[0m",
      "\u001b[1;31mTypeError\u001b[0m                                 Traceback (most recent call last)",
      "Cell \u001b[1;32mIn[253], line 2\u001b[0m\n\u001b[0;32m      1\u001b[0m \u001b[38;5;66;03m# нельзя\u001b[39;00m\n\u001b[1;32m----> 2\u001b[0m dict_1 \u001b[38;5;241m=\u001b[39m {\n\u001b[0;32m      3\u001b[0m     [\u001b[38;5;241m9\u001b[39m, \u001b[38;5;241m8\u001b[39m, \u001b[38;5;241m7\u001b[39m]: \u001b[38;5;124m\"\u001b[39m\u001b[38;5;124mabc\u001b[39m\u001b[38;5;124m\"\u001b[39m\n\u001b[0;32m      4\u001b[0m }\n",
      "\u001b[1;31mTypeError\u001b[0m: unhashable type: 'list'"
     ]
    }
   ],
   "source": [
    "# нельзя\n",
    "dict_1 = {\n",
    "    [9, 8, 7]: \"abc\"\n",
    "}"
   ]
  },
  {
   "cell_type": "markdown",
   "id": "b53d58c3",
   "metadata": {},
   "source": [
    "### По этой же причине изменяемые типы данных не могут быть элементом set"
   ]
  },
  {
   "cell_type": "code",
   "execution_count": 257,
   "id": "0090de0e",
   "metadata": {},
   "outputs": [
    {
     "ename": "TypeError",
     "evalue": "unhashable type: 'list'",
     "output_type": "error",
     "traceback": [
      "\u001b[1;31m---------------------------------------------------------------------------\u001b[0m",
      "\u001b[1;31mTypeError\u001b[0m                                 Traceback (most recent call last)",
      "Cell \u001b[1;32mIn[257], line 1\u001b[0m\n\u001b[1;32m----> 1\u001b[0m set_1 \u001b[38;5;241m=\u001b[39m \u001b[38;5;28;43mset\u001b[39;49m\u001b[43m(\u001b[49m\u001b[43m[\u001b[49m\u001b[38;5;241;43m1\u001b[39;49m\u001b[43m,\u001b[49m\u001b[43m \u001b[49m\u001b[38;5;241;43m2\u001b[39;49m\u001b[43m,\u001b[49m\u001b[43m \u001b[49m\u001b[38;5;241;43m3\u001b[39;49m\u001b[43m,\u001b[49m\u001b[43m \u001b[49m\u001b[43m[\u001b[49m\u001b[38;5;241;43m4\u001b[39;49m\u001b[43m,\u001b[49m\u001b[43m \u001b[49m\u001b[38;5;241;43m5\u001b[39;49m\u001b[43m,\u001b[49m\u001b[43m \u001b[49m\u001b[38;5;241;43m6\u001b[39;49m\u001b[43m]\u001b[49m\u001b[43m]\u001b[49m\u001b[43m)\u001b[49m\n",
      "\u001b[1;31mTypeError\u001b[0m: unhashable type: 'list'"
     ]
    }
   ],
   "source": [
    "set_1 = set([1, 2, 3, [4, 5, 6]])"
   ]
  },
  {
   "cell_type": "code",
   "execution_count": 259,
   "id": "ff7dc86c",
   "metadata": {},
   "outputs": [
    {
     "ename": "TypeError",
     "evalue": "unhashable type: 'dict'",
     "output_type": "error",
     "traceback": [
      "\u001b[1;31m---------------------------------------------------------------------------\u001b[0m",
      "\u001b[1;31mTypeError\u001b[0m                                 Traceback (most recent call last)",
      "Cell \u001b[1;32mIn[259], line 1\u001b[0m\n\u001b[1;32m----> 1\u001b[0m set_1 \u001b[38;5;241m=\u001b[39m \u001b[38;5;28;43mset\u001b[39;49m\u001b[43m(\u001b[49m\u001b[43m[\u001b[49m\u001b[43m{\u001b[49m\u001b[38;5;124;43m\"\u001b[39;49m\u001b[38;5;124;43mkey\u001b[39;49m\u001b[38;5;124;43m\"\u001b[39;49m\u001b[43m:\u001b[49m\u001b[43m \u001b[49m\u001b[38;5;124;43m\"\u001b[39;49m\u001b[38;5;124;43mvalue\u001b[39;49m\u001b[38;5;124;43m\"\u001b[39;49m\u001b[43m}\u001b[49m\u001b[43m]\u001b[49m\u001b[43m)\u001b[49m\n",
      "\u001b[1;31mTypeError\u001b[0m: unhashable type: 'dict'"
     ]
    }
   ],
   "source": [
    "set_1 = set([{\"key\": \"value\"}])"
   ]
  },
  {
   "cell_type": "markdown",
   "id": "9cfbe93d",
   "metadata": {},
   "source": [
    "## Практика"
   ]
  },
  {
   "cell_type": "markdown",
   "id": "4cb87012",
   "metadata": {},
   "source": [
    "Задание: Есть tuple_ = (1, 2, 3), во что мы можем его преобразовать?"
   ]
  },
  {
   "cell_type": "code",
   "execution_count": 68,
   "id": "d504a9a2",
   "metadata": {},
   "outputs": [
    {
     "data": {
      "text/plain": [
       "'(1, 2, 3)'"
      ]
     },
     "execution_count": 68,
     "metadata": {},
     "output_type": "execute_result"
    }
   ],
   "source": [
    "tuple_ = (1, 2, 3)\n",
    "str(tuple_)"
   ]
  },
  {
   "cell_type": "code",
   "execution_count": 71,
   "id": "f8fcaa78",
   "metadata": {},
   "outputs": [
    {
     "data": {
      "text/plain": [
       "[1, 2, 3]"
      ]
     },
     "execution_count": 71,
     "metadata": {},
     "output_type": "execute_result"
    }
   ],
   "source": [
    "list_ = list(tuple_)\n",
    "list_"
   ]
  },
  {
   "cell_type": "markdown",
   "id": "568a45ee",
   "metadata": {},
   "source": [
    "Задание: Есть строка string = \"1 2 3\", нужно получить из нее список list_ = [1, 2, 3] (2 способа)"
   ]
  },
  {
   "cell_type": "code",
   "execution_count": 73,
   "id": "e71df568",
   "metadata": {},
   "outputs": [
    {
     "data": {
      "text/plain": [
       "['1', '2', '3']"
      ]
     },
     "execution_count": 73,
     "metadata": {},
     "output_type": "execute_result"
    }
   ],
   "source": [
    "string = \"1 2 3\"\n",
    "list(string[::2])"
   ]
  },
  {
   "cell_type": "markdown",
   "id": "85e27243",
   "metadata": {},
   "source": [
    "Задание: Есть список, который мы передаем в функцию, как нам сделать так чтобы наш начальный список не изменился?"
   ]
  },
  {
   "cell_type": "code",
   "execution_count": 74,
   "id": "bf407538",
   "metadata": {},
   "outputs": [],
   "source": [
    "def func(list_):\n",
    "    list_.append(\"element\")\n",
    "    return list_"
   ]
  },
  {
   "cell_type": "code",
   "execution_count": 81,
   "id": "5ba8da96",
   "metadata": {},
   "outputs": [
    {
     "name": "stdout",
     "output_type": "stream",
     "text": [
      "['a', 'b', 'c', 'element']\n",
      "['a', 'b', 'c']\n"
     ]
    }
   ],
   "source": [
    "abc = [\"a\", \"b\", \"c\"]\n",
    "abc_1 = func(abc[:])\n",
    "print(abc_1)\n",
    "print(abc)"
   ]
  },
  {
   "cell_type": "markdown",
   "id": "73a06344",
   "metadata": {},
   "source": [
    "Задание: Есть множество set_1 = {1, 2, 3}, как нам сделать так чтобы мы не могли изменить его?"
   ]
  },
  {
   "cell_type": "code",
   "execution_count": 82,
   "id": "9db18938",
   "metadata": {},
   "outputs": [],
   "source": [
    "def func(set_):\n",
    "    set_.add(\"element\")\n",
    "    return set_"
   ]
  },
  {
   "cell_type": "code",
   "execution_count": 85,
   "id": "0db4e9f5",
   "metadata": {},
   "outputs": [
    {
     "ename": "AttributeError",
     "evalue": "'frozenset' object has no attribute 'add'",
     "output_type": "error",
     "traceback": [
      "\u001b[1;31m---------------------------------------------------------------------------\u001b[0m",
      "\u001b[1;31mAttributeError\u001b[0m                            Traceback (most recent call last)",
      "Cell \u001b[1;32mIn[85], line 3\u001b[0m\n\u001b[0;32m      1\u001b[0m set_1 \u001b[38;5;241m=\u001b[39m {\u001b[38;5;241m1\u001b[39m, \u001b[38;5;241m2\u001b[39m, \u001b[38;5;241m3\u001b[39m}\n\u001b[0;32m      2\u001b[0m set_1 \u001b[38;5;241m=\u001b[39m \u001b[38;5;28mfrozenset\u001b[39m(set_1)\n\u001b[1;32m----> 3\u001b[0m \u001b[43mfunc\u001b[49m\u001b[43m(\u001b[49m\u001b[43mset_1\u001b[49m\u001b[43m)\u001b[49m\n",
      "Cell \u001b[1;32mIn[82], line 2\u001b[0m, in \u001b[0;36mfunc\u001b[1;34m(set_)\u001b[0m\n\u001b[0;32m      1\u001b[0m \u001b[38;5;28;01mdef\u001b[39;00m \u001b[38;5;21mfunc\u001b[39m(set_):\n\u001b[1;32m----> 2\u001b[0m     \u001b[43mset_\u001b[49m\u001b[38;5;241;43m.\u001b[39;49m\u001b[43madd\u001b[49m(\u001b[38;5;124m\"\u001b[39m\u001b[38;5;124melement\u001b[39m\u001b[38;5;124m\"\u001b[39m)\n\u001b[0;32m      3\u001b[0m     \u001b[38;5;28;01mreturn\u001b[39;00m set_\n",
      "\u001b[1;31mAttributeError\u001b[0m: 'frozenset' object has no attribute 'add'"
     ]
    }
   ],
   "source": [
    "set_1 = {1, 2, 3}\n",
    "set_1 = frozenset(set_1)\n",
    "func(set_1)"
   ]
  },
  {
   "cell_type": "markdown",
   "id": "660096b9",
   "metadata": {},
   "source": [
    "Вопрос: Что будет при приведении пустого списка к boolean?"
   ]
  },
  {
   "cell_type": "code",
   "execution_count": null,
   "id": "62838d9e",
   "metadata": {},
   "outputs": [],
   "source": []
  },
  {
   "cell_type": "markdown",
   "id": "fe562763",
   "metadata": {},
   "source": [
    "Вопрос: Будут ли совпадать адреса у переменных a = 200, b = 200?"
   ]
  },
  {
   "cell_type": "code",
   "execution_count": null,
   "id": "e05754ac",
   "metadata": {},
   "outputs": [],
   "source": []
  },
  {
   "cell_type": "code",
   "execution_count": null,
   "id": "528fc95f",
   "metadata": {},
   "outputs": [],
   "source": []
  }
 ],
 "metadata": {
  "kernelspec": {
   "display_name": "Python 3 (ipykernel)",
   "language": "python",
   "name": "python3"
  },
  "language_info": {
   "codemirror_mode": {
    "name": "ipython",
    "version": 3
   },
   "file_extension": ".py",
   "mimetype": "text/x-python",
   "name": "python",
   "nbconvert_exporter": "python",
   "pygments_lexer": "ipython3",
   "version": "3.10.10"
  }
 },
 "nbformat": 4,
 "nbformat_minor": 5
}
