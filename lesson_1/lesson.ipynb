{
 "cells": [
  {
   "cell_type": "markdown",
   "id": "f550dd0f",
   "metadata": {},
   "source": [
    "# Простейшая программа на python"
   ]
  },
  {
   "cell_type": "code",
   "execution_count": 20,
   "id": "c769dd67",
   "metadata": {},
   "outputs": [
    {
     "name": "stdout",
     "output_type": "stream",
     "text": [
      "Hello world!\n"
     ]
    }
   ],
   "source": [
    "print(\"Hello world!\")"
   ]
  },
  {
   "cell_type": "code",
   "execution_count": 21,
   "id": "e320dff2",
   "metadata": {},
   "outputs": [
    {
     "name": "stdout",
     "output_type": "stream",
     "text": [
      "Введите свой возраст: 24\n"
     ]
    }
   ],
   "source": [
    "age = input(\"Введите свой возраст: \")"
   ]
  },
  {
   "cell_type": "code",
   "execution_count": 10,
   "id": "f295ae3c",
   "metadata": {},
   "outputs": [
    {
     "data": {
      "text/plain": [
       "'24'"
      ]
     },
     "execution_count": 10,
     "metadata": {},
     "output_type": "execute_result"
    }
   ],
   "source": [
    "age"
   ]
  },
  {
   "cell_type": "markdown",
   "id": "17bcfad8",
   "metadata": {},
   "source": [
    "#### Получить тип переменной age"
   ]
  },
  {
   "cell_type": "code",
   "execution_count": 22,
   "id": "3ce6ff06",
   "metadata": {
    "scrolled": true
   },
   "outputs": [
    {
     "data": {
      "text/plain": [
       "str"
      ]
     },
     "execution_count": 22,
     "metadata": {},
     "output_type": "execute_result"
    }
   ],
   "source": [
    "type(age)"
   ]
  },
  {
   "cell_type": "markdown",
   "id": "3f8a75e7",
   "metadata": {},
   "source": [
    "#### Привести переменную age к типу int"
   ]
  },
  {
   "cell_type": "code",
   "execution_count": 6,
   "id": "c0cb3873",
   "metadata": {},
   "outputs": [
    {
     "data": {
      "text/plain": [
       "int"
      ]
     },
     "execution_count": 6,
     "metadata": {},
     "output_type": "execute_result"
    }
   ],
   "source": [
    "age = int(age)"
   ]
  },
  {
   "cell_type": "markdown",
   "id": "0526c7e8",
   "metadata": {},
   "source": [
    "# Работа с числами"
   ]
  },
  {
   "cell_type": "code",
   "execution_count": 23,
   "id": "7c672599",
   "metadata": {},
   "outputs": [],
   "source": [
    "a = 10"
   ]
  },
  {
   "cell_type": "markdown",
   "id": "6d1b083d",
   "metadata": {},
   "source": [
    "##### Получить ОСТАТОК от деления - %"
   ]
  },
  {
   "cell_type": "code",
   "execution_count": 24,
   "id": "7958052f",
   "metadata": {},
   "outputs": [
    {
     "data": {
      "text/plain": [
       "4"
      ]
     },
     "execution_count": 24,
     "metadata": {},
     "output_type": "execute_result"
    }
   ],
   "source": [
    "10 % 6"
   ]
  },
  {
   "cell_type": "markdown",
   "id": "fc98807d",
   "metadata": {},
   "source": [
    "##### Получить ЦЕЛУЮ ЧАСТЬ от деления - //"
   ]
  },
  {
   "cell_type": "code",
   "execution_count": 25,
   "id": "19c9f5a4",
   "metadata": {},
   "outputs": [
    {
     "data": {
      "text/plain": [
       "1"
      ]
     },
     "execution_count": 25,
     "metadata": {},
     "output_type": "execute_result"
    }
   ],
   "source": [
    "10 // 6"
   ]
  },
  {
   "cell_type": "markdown",
   "id": "015b32c5",
   "metadata": {},
   "source": [
    "#### Приоритет операций (от самого высокого к самому низкому)\n",
    "\n",
    "- Parentheses - Скобки\n",
    "- Exponentiation - Возведение в степень\n",
    "- Multiplication - Умножение\n",
    "- Division - Деление\n",
    "- Addition - Сложение\n",
    "- Subtraction - Вычитания\n",
    "\n",
    "В выражении ниже в первую очередь выполнится операция в скобках (10 + 1) = 11, а затем результат умножается на 6:"
   ]
  },
  {
   "cell_type": "code",
   "execution_count": null,
   "id": "0be6da96",
   "metadata": {},
   "outputs": [],
   "source": [
    "6 * (10 + 1)"
   ]
  },
  {
   "cell_type": "markdown",
   "id": "5749b9ff",
   "metadata": {},
   "source": [
    "В выражении ниже в первую очередь выполнится возведение в степень (2 ** 2) = 4, затем 11 * 4, потом 13 / 4, и в самую последнюю очередь операторы - и +"
   ]
  },
  {
   "cell_type": "code",
   "execution_count": 26,
   "id": "bce7d33b",
   "metadata": {},
   "outputs": [
    {
     "data": {
      "text/plain": [
       "47.75"
      ]
     },
     "execution_count": 26,
     "metadata": {},
     "output_type": "execute_result"
    }
   ],
   "source": [
    "11 * 2 ** 2 - 13 / 4 + 7"
   ]
  },
  {
   "cell_type": "markdown",
   "id": "a25809be",
   "metadata": {},
   "source": [
    "То есть вначале 2 ** 2"
   ]
  },
  {
   "cell_type": "code",
   "execution_count": 27,
   "id": "dec97dcc",
   "metadata": {},
   "outputs": [
    {
     "data": {
      "text/plain": [
       "4"
      ]
     },
     "execution_count": 27,
     "metadata": {},
     "output_type": "execute_result"
    }
   ],
   "source": [
    "2 ** 2"
   ]
  },
  {
   "cell_type": "markdown",
   "id": "49fb97e1",
   "metadata": {},
   "source": [
    "Потом 11 * 4"
   ]
  },
  {
   "cell_type": "code",
   "execution_count": 28,
   "id": "962fcddd",
   "metadata": {},
   "outputs": [
    {
     "data": {
      "text/plain": [
       "44"
      ]
     },
     "execution_count": 28,
     "metadata": {},
     "output_type": "execute_result"
    }
   ],
   "source": [
    "11 * 2 ** 2"
   ]
  },
  {
   "cell_type": "markdown",
   "id": "4deaa1dc",
   "metadata": {},
   "source": [
    "Затем 13 / 4"
   ]
  },
  {
   "cell_type": "code",
   "execution_count": 29,
   "id": "eaaeb89d",
   "metadata": {},
   "outputs": [
    {
     "data": {
      "text/plain": [
       "3.25"
      ]
     },
     "execution_count": 29,
     "metadata": {},
     "output_type": "execute_result"
    }
   ],
   "source": [
    "13 / 4"
   ]
  },
  {
   "cell_type": "markdown",
   "id": "7a5a3369",
   "metadata": {},
   "source": [
    "И в последнюю очередь - и + (слева направо)"
   ]
  },
  {
   "cell_type": "code",
   "execution_count": 30,
   "id": "95907c6e",
   "metadata": {},
   "outputs": [
    {
     "data": {
      "text/plain": [
       "47.75"
      ]
     },
     "execution_count": 30,
     "metadata": {},
     "output_type": "execute_result"
    }
   ],
   "source": [
    "11 * 2 ** 2 - 13 / 4 + 7"
   ]
  },
  {
   "cell_type": "markdown",
   "id": "ffc8102a",
   "metadata": {},
   "source": [
    "# Строки\n",
    "\n",
    "### Способы объявления строк:"
   ]
  },
  {
   "cell_type": "code",
   "execution_count": 1,
   "id": "30b25aa9",
   "metadata": {},
   "outputs": [],
   "source": [
    "a = \"abc\""
   ]
  },
  {
   "cell_type": "code",
   "execution_count": 2,
   "id": "39d21ce5",
   "metadata": {},
   "outputs": [],
   "source": [
    "a = 'abc'"
   ]
  },
  {
   "cell_type": "code",
   "execution_count": 3,
   "id": "ca2d8426",
   "metadata": {},
   "outputs": [
    {
     "name": "stdout",
     "output_type": "stream",
     "text": [
      "\n",
      "   Многострочный текст\n",
      "   заключается в тройные кавычки\n",
      "\n"
     ]
    }
   ],
   "source": [
    "a = \"\"\"\n",
    "   Многострочный текст\n",
    "   заключается в тройные кавычки\n",
    "\"\"\"\n",
    "print(a)"
   ]
  },
  {
   "cell_type": "code",
   "execution_count": 4,
   "id": "1e536d95",
   "metadata": {},
   "outputs": [
    {
     "data": {
      "text/plain": [
       "\"mom's\""
      ]
     },
     "execution_count": 4,
     "metadata": {},
     "output_type": "execute_result"
    }
   ],
   "source": [
    "a = \"mom's\"\n",
    "a"
   ]
  },
  {
   "cell_type": "code",
   "execution_count": 5,
   "id": "92fa3c92",
   "metadata": {},
   "outputs": [
    {
     "data": {
      "text/plain": [
       "'Текст в \"кавычках\"'"
      ]
     },
     "execution_count": 5,
     "metadata": {},
     "output_type": "execute_result"
    }
   ],
   "source": [
    "a = 'Текст в \"кавычках\"'\n",
    "a"
   ]
  },
  {
   "cell_type": "code",
   "execution_count": 6,
   "id": "89157070",
   "metadata": {},
   "outputs": [
    {
     "data": {
      "text/plain": [
       "'А здесь используется \"экранирование'"
      ]
     },
     "execution_count": 6,
     "metadata": {},
     "output_type": "execute_result"
    }
   ],
   "source": [
    "a = \"А здесь используется \\\"экранирование\"\n",
    "a"
   ]
  },
  {
   "cell_type": "code",
   "execution_count": 7,
   "id": "01631510",
   "metadata": {},
   "outputs": [
    {
     "name": "stdout",
     "output_type": "stream",
     "text": [
      "А здесь используется \n",
      "перенос на новую строку\n"
     ]
    }
   ],
   "source": [
    "a = \"А здесь используется \\nперенос на новую строку\"\n",
    "print(a)"
   ]
  },
  {
   "cell_type": "markdown",
   "id": "83b27bbd",
   "metadata": {},
   "source": [
    "### Форматирование строк"
   ]
  },
  {
   "cell_type": "code",
   "execution_count": 8,
   "id": "7571944b",
   "metadata": {},
   "outputs": [
    {
     "name": "stdout",
     "output_type": "stream",
     "text": [
      "Hi, Lena Deykun\n"
     ]
    }
   ],
   "source": [
    "name = \"Lena\"\n",
    "surname = \"Deykun\"\n",
    "string = \"Hi, {name} {surname}\".format(name=name, surname=surname)\n",
    "print(string)"
   ]
  },
  {
   "cell_type": "code",
   "execution_count": 9,
   "id": "078fa11e",
   "metadata": {},
   "outputs": [
    {
     "name": "stdout",
     "output_type": "stream",
     "text": [
      "Hi, Lena Deykun\n"
     ]
    }
   ],
   "source": [
    "# РЕКОМЕНДУЕМЫЙ\n",
    "name = \"Lena\"\n",
    "surname = \"Deykun\"\n",
    "string = f\"Hi, {name} {surname}\"\n",
    "print(string)"
   ]
  },
  {
   "cell_type": "markdown",
   "id": "3a27e0ef",
   "metadata": {},
   "source": [
    "# Работа со строками\n",
    "https://pythonworld.ru/tipy-dannyx-v-python/stroki-funkcii-i-metody-strok.html"
   ]
  },
  {
   "cell_type": "markdown",
   "id": "c5323b3a",
   "metadata": {},
   "source": [
    "#### Сложение (конкатенация)"
   ]
  },
  {
   "cell_type": "code",
   "execution_count": 10,
   "id": "ce918e55",
   "metadata": {},
   "outputs": [
    {
     "name": "stdout",
     "output_type": "stream",
     "text": [
      "Hi, name\n"
     ]
    }
   ],
   "source": [
    "str_1 = \"Hi, \"\n",
    "str_2 = \"name\"\n",
    "result = str_1 + str_2\n",
    "print(result)"
   ]
  },
  {
   "cell_type": "markdown",
   "id": "3dcb8c08",
   "metadata": {},
   "source": [
    "#### Сложение (конкатенация через f-string)"
   ]
  },
  {
   "cell_type": "code",
   "execution_count": 11,
   "id": "00b73072",
   "metadata": {},
   "outputs": [
    {
     "name": "stdout",
     "output_type": "stream",
     "text": [
      "Hi, name\n"
     ]
    }
   ],
   "source": [
    "str_1 = \"Hi\"\n",
    "str_2 = \"name\"\n",
    "result = f\"{str_1}, {str_2}\"\n",
    "print(result)"
   ]
  },
  {
   "cell_type": "markdown",
   "id": "7d49229e",
   "metadata": {},
   "source": [
    "#### Дублирование"
   ]
  },
  {
   "cell_type": "code",
   "execution_count": 12,
   "id": "fba5a169",
   "metadata": {},
   "outputs": [
    {
     "name": "stdout",
     "output_type": "stream",
     "text": [
      "================================================================================\n"
     ]
    }
   ],
   "source": [
    "str_1 = \"==\"\n",
    "result = str_1 * 40\n",
    "print(result)"
   ]
  },
  {
   "cell_type": "markdown",
   "id": "e5ca94c8",
   "metadata": {},
   "source": [
    "#### Получение длины строки"
   ]
  },
  {
   "cell_type": "code",
   "execution_count": 13,
   "id": "e3eb4bf7",
   "metadata": {},
   "outputs": [
    {
     "name": "stdout",
     "output_type": "stream",
     "text": [
      "4\n"
     ]
    }
   ],
   "source": [
    "str_1 = \"abcd\"\n",
    "result = len(str_1)\n",
    "print(result)"
   ]
  },
  {
   "cell_type": "markdown",
   "id": "7690ed1e",
   "metadata": {},
   "source": [
    "#### Доступ к определенному элементу строки"
   ]
  },
  {
   "cell_type": "code",
   "execution_count": 14,
   "id": "03723a6f",
   "metadata": {},
   "outputs": [],
   "source": [
    "str_1 = \"abcd\""
   ]
  },
  {
   "cell_type": "code",
   "execution_count": 16,
   "id": "7a0a48e8",
   "metadata": {},
   "outputs": [
    {
     "name": "stdout",
     "output_type": "stream",
     "text": [
      "a\n"
     ]
    }
   ],
   "source": [
    "print(str_1[0])"
   ]
  },
  {
   "cell_type": "code",
   "execution_count": 17,
   "id": "a12d4313",
   "metadata": {},
   "outputs": [
    {
     "name": "stdout",
     "output_type": "stream",
     "text": [
      "c\n"
     ]
    }
   ],
   "source": [
    "print(str_1[2])"
   ]
  },
  {
   "cell_type": "code",
   "execution_count": 18,
   "id": "55ffec8d",
   "metadata": {},
   "outputs": [
    {
     "name": "stdout",
     "output_type": "stream",
     "text": [
      "d\n"
     ]
    }
   ],
   "source": [
    "print(str_1[-1])"
   ]
  },
  {
   "cell_type": "markdown",
   "id": "f6ed5084",
   "metadata": {},
   "source": [
    "#### Получение подстроки по индексам\n",
    "\n",
    "строка[от, до, шаг]"
   ]
  },
  {
   "cell_type": "code",
   "execution_count": 19,
   "id": "57640352",
   "metadata": {},
   "outputs": [],
   "source": [
    "string = \"Строка с подстрокой\""
   ]
  },
  {
   "cell_type": "code",
   "execution_count": 20,
   "id": "a19b7ba3",
   "metadata": {},
   "outputs": [
    {
     "data": {
      "text/plain": [
       "'подстрокой'"
      ]
     },
     "execution_count": 20,
     "metadata": {},
     "output_type": "execute_result"
    }
   ],
   "source": [
    "string[9:]"
   ]
  },
  {
   "cell_type": "code",
   "execution_count": 21,
   "id": "021d1585",
   "metadata": {},
   "outputs": [
    {
     "data": {
      "text/plain": [
       "'подстроко'"
      ]
     },
     "execution_count": 21,
     "metadata": {},
     "output_type": "execute_result"
    }
   ],
   "source": [
    "string[9:-1]"
   ]
  },
  {
   "cell_type": "code",
   "execution_count": 22,
   "id": "ae197f5f",
   "metadata": {},
   "outputs": [
    {
     "data": {
      "text/plain": [
       "'рк  осрк'"
      ]
     },
     "execution_count": 22,
     "metadata": {},
     "output_type": "execute_result"
    }
   ],
   "source": [
    "string[2:-1:2]"
   ]
  },
  {
   "cell_type": "markdown",
   "id": "dfdac905",
   "metadata": {},
   "source": [
    "## Другие популярные функции для работы со строками"
   ]
  },
  {
   "cell_type": "markdown",
   "id": "01f88a17",
   "metadata": {},
   "source": [
    "#### Поиск подстроки в строке. Возвращает номер первого вхождения или -1"
   ]
  },
  {
   "cell_type": "code",
   "execution_count": 24,
   "id": "d664ac0e",
   "metadata": {},
   "outputs": [],
   "source": [
    "string = \"Строка с подстрокой\""
   ]
  },
  {
   "cell_type": "code",
   "execution_count": 25,
   "id": "487627ae",
   "metadata": {},
   "outputs": [
    {
     "data": {
      "text/plain": [
       "4"
      ]
     },
     "execution_count": 25,
     "metadata": {},
     "output_type": "execute_result"
    }
   ],
   "source": [
    "string.find('ка')"
   ]
  },
  {
   "cell_type": "code",
   "execution_count": 26,
   "id": "29d4ceae",
   "metadata": {},
   "outputs": [
    {
     "data": {
      "text/plain": [
       "-1"
      ]
     },
     "execution_count": 26,
     "metadata": {},
     "output_type": "execute_result"
    }
   ],
   "source": [
    "string.find('error')"
   ]
  },
  {
   "cell_type": "markdown",
   "id": "a06dda00",
   "metadata": {},
   "source": [
    "#### Замена шаблона на замену. maxcount ограничивает количество замен"
   ]
  },
  {
   "cell_type": "code",
   "execution_count": 28,
   "id": "cece7a69",
   "metadata": {},
   "outputs": [],
   "source": [
    "string = \"Строка с пробелами\""
   ]
  },
  {
   "cell_type": "code",
   "execution_count": 29,
   "id": "39885a97",
   "metadata": {},
   "outputs": [
    {
     "data": {
      "text/plain": [
       "'Строкаспробелами'"
      ]
     },
     "execution_count": 29,
     "metadata": {},
     "output_type": "execute_result"
    }
   ],
   "source": [
    "string.replace(\" \", \"\")"
   ]
  },
  {
   "cell_type": "code",
   "execution_count": 30,
   "id": "d069c024",
   "metadata": {},
   "outputs": [
    {
     "data": {
      "text/plain": [
       "'Строкас пробелами'"
      ]
     },
     "execution_count": 30,
     "metadata": {},
     "output_type": "execute_result"
    }
   ],
   "source": [
    "string.replace(\" \", \"\", 1)"
   ]
  },
  {
   "cell_type": "markdown",
   "id": "b68b5d50",
   "metadata": {},
   "source": [
    "#### Разбиение строки по разделителю"
   ]
  },
  {
   "cell_type": "code",
   "execution_count": 31,
   "id": "58007968",
   "metadata": {},
   "outputs": [],
   "source": [
    "string = \"Строка с пробелами\""
   ]
  },
  {
   "cell_type": "code",
   "execution_count": 32,
   "id": "85e230f1",
   "metadata": {},
   "outputs": [
    {
     "data": {
      "text/plain": [
       "['Строка', 'с', 'пробелами']"
      ]
     },
     "execution_count": 32,
     "metadata": {},
     "output_type": "execute_result"
    }
   ],
   "source": [
    "string.split()"
   ]
  },
  {
   "cell_type": "code",
   "execution_count": 33,
   "id": "18f3237e",
   "metadata": {},
   "outputs": [
    {
     "data": {
      "text/plain": [
       "['Строка ', ' пробелами']"
      ]
     },
     "execution_count": 33,
     "metadata": {},
     "output_type": "execute_result"
    }
   ],
   "source": [
    "string.split(\"с\")"
   ]
  },
  {
   "cell_type": "code",
   "execution_count": 34,
   "id": "6170883a",
   "metadata": {},
   "outputs": [
    {
     "data": {
      "text/plain": [
       "['Строка с пробелами']"
      ]
     },
     "execution_count": 34,
     "metadata": {},
     "output_type": "execute_result"
    }
   ],
   "source": [
    "string.split(\"!\")"
   ]
  },
  {
   "cell_type": "markdown",
   "id": "9cab97d3",
   "metadata": {},
   "source": [
    "#### Из чего состоит строка\n"
   ]
  },
  {
   "cell_type": "code",
   "execution_count": 35,
   "id": "f8df0769",
   "metadata": {},
   "outputs": [
    {
     "data": {
      "text/plain": [
       "True"
      ]
     },
     "execution_count": 35,
     "metadata": {},
     "output_type": "execute_result"
    }
   ],
   "source": [
    "# isdigit() - только цифры\n",
    "string = \"123\"\n",
    "string.isdigit()"
   ]
  },
  {
   "cell_type": "code",
   "execution_count": 36,
   "id": "52a016b8",
   "metadata": {},
   "outputs": [
    {
     "data": {
      "text/plain": [
       "False"
      ]
     },
     "execution_count": 36,
     "metadata": {},
     "output_type": "execute_result"
    }
   ],
   "source": [
    "# isalpha() - только буквы\n",
    "string = \"123\"\n",
    "string.isalpha()"
   ]
  },
  {
   "cell_type": "code",
   "execution_count": 37,
   "id": "22e349ef",
   "metadata": {},
   "outputs": [
    {
     "data": {
      "text/plain": [
       "True"
      ]
     },
     "execution_count": 37,
     "metadata": {},
     "output_type": "execute_result"
    }
   ],
   "source": [
    "# isalnum() - только цифры или буквы\n",
    "string = \"123\"\n",
    "string.isalnum()"
   ]
  },
  {
   "cell_type": "code",
   "execution_count": 38,
   "id": "ee365fcf",
   "metadata": {},
   "outputs": [
    {
     "data": {
      "text/plain": [
       "True"
      ]
     },
     "execution_count": 38,
     "metadata": {},
     "output_type": "execute_result"
    }
   ],
   "source": [
    "# islower() - состоит ли строка из символов в нижнем регистре\n",
    "string = \"abc\"\n",
    "string.islower()"
   ]
  },
  {
   "cell_type": "code",
   "execution_count": 39,
   "id": "19991d83",
   "metadata": {},
   "outputs": [
    {
     "data": {
      "text/plain": [
       "True"
      ]
     },
     "execution_count": 39,
     "metadata": {},
     "output_type": "execute_result"
    }
   ],
   "source": [
    "# isupper() - состоит ли строка из символов в верхнем регистре\n",
    "string = \"ABC\"\n",
    "string.isupper()"
   ]
  },
  {
   "cell_type": "markdown",
   "id": "6628b945",
   "metadata": {},
   "source": [
    "#### Преобразование строки к верхнему регистру"
   ]
  },
  {
   "cell_type": "code",
   "execution_count": 40,
   "id": "1bd19868",
   "metadata": {},
   "outputs": [
    {
     "data": {
      "text/plain": [
       "'HELLO WORLD'"
      ]
     },
     "execution_count": 40,
     "metadata": {},
     "output_type": "execute_result"
    }
   ],
   "source": [
    "\"hello world\".upper()"
   ]
  },
  {
   "cell_type": "markdown",
   "id": "70f2eb86",
   "metadata": {},
   "source": [
    "#### Преобразование строки к нижнему регистру\n"
   ]
  },
  {
   "cell_type": "code",
   "execution_count": 41,
   "id": "7d295d0b",
   "metadata": {},
   "outputs": [
    {
     "data": {
      "text/plain": [
       "'hello world'"
      ]
     },
     "execution_count": 41,
     "metadata": {},
     "output_type": "execute_result"
    }
   ],
   "source": [
    "\"Hello World\".lower()"
   ]
  },
  {
   "cell_type": "markdown",
   "id": "1d652e81",
   "metadata": {},
   "source": [
    "#### Переводит первый символ строки в верхний регистр, а все остальные в нижний\n"
   ]
  },
  {
   "cell_type": "code",
   "execution_count": 42,
   "id": "87edcf64",
   "metadata": {},
   "outputs": [
    {
     "data": {
      "text/plain": [
       "'Hello world'"
      ]
     },
     "execution_count": 42,
     "metadata": {},
     "output_type": "execute_result"
    }
   ],
   "source": [
    "\"hello world\".capitalize()"
   ]
  },
  {
   "cell_type": "markdown",
   "id": "63f3a0f7",
   "metadata": {},
   "source": [
    "#### Начинается ли строка с шаблона str"
   ]
  },
  {
   "cell_type": "code",
   "execution_count": 43,
   "id": "b0b3eaa9",
   "metadata": {},
   "outputs": [
    {
     "data": {
      "text/plain": [
       "True"
      ]
     },
     "execution_count": 43,
     "metadata": {},
     "output_type": "execute_result"
    }
   ],
   "source": [
    "\"hello world\".startswith(\"he\")"
   ]
  },
  {
   "cell_type": "markdown",
   "id": "57e1be20",
   "metadata": {},
   "source": [
    "#### Заканчивается ли строка шаблоном str"
   ]
  },
  {
   "cell_type": "code",
   "execution_count": 44,
   "id": "c1a2f1b0",
   "metadata": {},
   "outputs": [
    {
     "data": {
      "text/plain": [
       "True"
      ]
     },
     "execution_count": 44,
     "metadata": {},
     "output_type": "execute_result"
    }
   ],
   "source": [
    "\"hello world\".endswith(\"world\")"
   ]
  },
  {
   "cell_type": "markdown",
   "id": "0aa0e35f",
   "metadata": {},
   "source": [
    "#### Сборка строки из списка с разделителем S\n"
   ]
  },
  {
   "cell_type": "code",
   "execution_count": 45,
   "id": "98db4cd1",
   "metadata": {},
   "outputs": [
    {
     "data": {
      "text/plain": [
       "'ab-bc-cd'"
      ]
     },
     "execution_count": 45,
     "metadata": {},
     "output_type": "execute_result"
    }
   ],
   "source": [
    "\"-\".join([\"ab\", \"bc\", \"cd\"])"
   ]
  },
  {
   "cell_type": "markdown",
   "id": "9ef8683f",
   "metadata": {},
   "source": [
    "#### Символ в его код ASCII\n"
   ]
  },
  {
   "cell_type": "code",
   "execution_count": 46,
   "id": "2cee0cf8",
   "metadata": {},
   "outputs": [
    {
     "data": {
      "text/plain": [
       "97"
      ]
     },
     "execution_count": 46,
     "metadata": {},
     "output_type": "execute_result"
    }
   ],
   "source": [
    "ord(\"a\")"
   ]
  },
  {
   "cell_type": "markdown",
   "id": "2ec0b843",
   "metadata": {},
   "source": [
    "#### Код ASCII в символ"
   ]
  },
  {
   "cell_type": "code",
   "execution_count": 47,
   "id": "77f04865",
   "metadata": {},
   "outputs": [
    {
     "data": {
      "text/plain": [
       "'a'"
      ]
     },
     "execution_count": 47,
     "metadata": {},
     "output_type": "execute_result"
    }
   ],
   "source": [
    "chr(97)"
   ]
  },
  {
   "cell_type": "markdown",
   "id": "9842ff3d",
   "metadata": {},
   "source": [
    "## И еще немного про скобки"
   ]
  },
  {
   "cell_type": "markdown",
   "id": "e8a5cde6",
   "metadata": {},
   "source": [
    "#### Правило 0\n",
    "\n",
    "Мы используем **круглые скобки ()** когда вызываем функцию, примеры функций:\n",
    "\n",
    "Используем круглые скобки чтобы вызвать функцию print"
   ]
  },
  {
   "cell_type": "code",
   "execution_count": 54,
   "id": "c60ebfa3",
   "metadata": {},
   "outputs": [
    {
     "name": "stdout",
     "output_type": "stream",
     "text": [
      "1\n"
     ]
    }
   ],
   "source": [
    "print(1)"
   ]
  },
  {
   "cell_type": "markdown",
   "id": "589f12c9",
   "metadata": {},
   "source": [
    "Используем круглые скобки чтобы преобразовать строку в int (при этом вызываем функцию int)"
   ]
  },
  {
   "cell_type": "code",
   "execution_count": 55,
   "id": "9332089f",
   "metadata": {},
   "outputs": [
    {
     "data": {
      "text/plain": [
       "10"
      ]
     },
     "execution_count": 55,
     "metadata": {},
     "output_type": "execute_result"
    }
   ],
   "source": [
    "int(\"10\")"
   ]
  },
  {
   "cell_type": "markdown",
   "id": "106a2367",
   "metadata": {},
   "source": [
    "Используем круглые скобки чтобы вызвать какую-то функцию строки"
   ]
  },
  {
   "cell_type": "code",
   "execution_count": 56,
   "id": "09896c52",
   "metadata": {},
   "outputs": [
    {
     "data": {
      "text/plain": [
       "'String'"
      ]
     },
     "execution_count": 56,
     "metadata": {},
     "output_type": "execute_result"
    }
   ],
   "source": [
    "\"string\".capitalize()"
   ]
  },
  {
   "cell_type": "markdown",
   "id": "862842e5",
   "metadata": {},
   "source": [
    "Используем **квадратные скобки []** для того чтобы получить значение по индексу или слайс (срез строки):"
   ]
  },
  {
   "cell_type": "code",
   "execution_count": 57,
   "id": "3f8ef09e",
   "metadata": {},
   "outputs": [
    {
     "data": {
      "text/plain": [
       "'L'"
      ]
     },
     "execution_count": 57,
     "metadata": {},
     "output_type": "execute_result"
    }
   ],
   "source": [
    "name = \"Lena\"\n",
    "name[0]"
   ]
  },
  {
   "cell_type": "code",
   "execution_count": 60,
   "id": "a5a7f403",
   "metadata": {},
   "outputs": [
    {
     "data": {
      "text/plain": [
       "'Ln'"
      ]
     },
     "execution_count": 60,
     "metadata": {},
     "output_type": "execute_result"
    }
   ],
   "source": [
    "name = \"Lena\"\n",
    "name[0:-1:2]"
   ]
  },
  {
   "cell_type": "markdown",
   "id": "1c43cf60",
   "metadata": {},
   "source": [
    "#### Правило 1\n",
    "\n",
    "Любые скобки и кавычки всегда нужно закрывать.\n",
    "Например:"
   ]
  },
  {
   "cell_type": "code",
   "execution_count": 48,
   "id": "0834057b",
   "metadata": {},
   "outputs": [],
   "source": [
    "string = \"hello\""
   ]
  },
  {
   "cell_type": "markdown",
   "id": "3e51c75e",
   "metadata": {},
   "source": [
    "А в случае ниже появится ошибка, так как мы не экранировали кавычки внутри строки, соответсвенно получилась ситуация, что у нас кавычки не закрыты"
   ]
  },
  {
   "cell_type": "code",
   "execution_count": 50,
   "id": "1aa67b82",
   "metadata": {},
   "outputs": [
    {
     "ename": "SyntaxError",
     "evalue": "invalid syntax (653110835.py, line 1)",
     "output_type": "error",
     "traceback": [
      "\u001b[0;36m  Cell \u001b[0;32mIn[50], line 1\u001b[0;36m\u001b[0m\n\u001b[0;31m    string = \"hello, \"name\"\"\u001b[0m\n\u001b[0m                      ^\u001b[0m\n\u001b[0;31mSyntaxError\u001b[0m\u001b[0;31m:\u001b[0m invalid syntax\n"
     ]
    }
   ],
   "source": [
    "string = \"hello, \"name\"\""
   ]
  },
  {
   "cell_type": "markdown",
   "id": "2bd26470",
   "metadata": {},
   "source": [
    "Вместо этого можно написать:"
   ]
  },
  {
   "cell_type": "code",
   "execution_count": null,
   "id": "eaa0636c",
   "metadata": {},
   "outputs": [],
   "source": [
    "string = \"hello, \\\"name\\\"\""
   ]
  },
  {
   "cell_type": "markdown",
   "id": "19547f7c",
   "metadata": {},
   "source": [
    "Любые другие скобки (квадратные или круглые) мы тоже закрываем:"
   ]
  },
  {
   "cell_type": "code",
   "execution_count": 52,
   "id": "368afb7e",
   "metadata": {},
   "outputs": [
    {
     "name": "stdout",
     "output_type": "stream",
     "text": [
      "12\n"
     ]
    }
   ],
   "source": [
    "print(12)"
   ]
  },
  {
   "cell_type": "code",
   "execution_count": 53,
   "id": "ab743da2",
   "metadata": {},
   "outputs": [
    {
     "data": {
      "text/plain": [
       "'a'"
      ]
     },
     "execution_count": 53,
     "metadata": {},
     "output_type": "execute_result"
    }
   ],
   "source": [
    "string = \"name\"\n",
    "string[1]"
   ]
  },
  {
   "cell_type": "markdown",
   "id": "90a12116",
   "metadata": {},
   "source": [
    "#### Правило 2\n",
    "\n",
    "Порядок скобок и кавычек имеет значение!\n",
    "\n",
    "Если мы открыли круглые скобки, а внутри них квадратные, то квадратные мы должны закрыть до того как закроем круглые:\n"
   ]
  },
  {
   "cell_type": "code",
   "execution_count": 61,
   "id": "03444d30",
   "metadata": {},
   "outputs": [
    {
     "name": "stdout",
     "output_type": "stream",
     "text": [
      "e\n"
     ]
    }
   ],
   "source": [
    "name = \"Lena\"\n",
    "print(name[1])"
   ]
  },
  {
   "cell_type": "markdown",
   "id": "848d0ac2",
   "metadata": {},
   "source": [
    "Мы не можем сделать иначе потому что получим ошибку:"
   ]
  },
  {
   "cell_type": "code",
   "execution_count": 63,
   "id": "5dc3378f",
   "metadata": {},
   "outputs": [
    {
     "ename": "SyntaxError",
     "evalue": "closing parenthesis ')' does not match opening parenthesis '[' (3077519183.py, line 2)",
     "output_type": "error",
     "traceback": [
      "\u001b[0;36m  Cell \u001b[0;32mIn[63], line 2\u001b[0;36m\u001b[0m\n\u001b[0;31m    print(name[1)]\u001b[0m\n\u001b[0m                ^\u001b[0m\n\u001b[0;31mSyntaxError\u001b[0m\u001b[0;31m:\u001b[0m closing parenthesis ')' does not match opening parenthesis '['\n"
     ]
    }
   ],
   "source": [
    "name = \"Lena\"\n",
    "print(name[1)]"
   ]
  },
  {
   "cell_type": "markdown",
   "id": "2a003c75",
   "metadata": {},
   "source": [
    "В математических выражениях мы помещаем то что хотим выполнить в первую очередь в скобки, таких уровней может быть несколько. Например, в данном выражении в первую очередь выполнится (1+2)=3, затем (3+5)=8, затем (6-7)=-1 и с последуюю очередь знак *"
   ]
  },
  {
   "cell_type": "code",
   "execution_count": 66,
   "id": "f3305815",
   "metadata": {},
   "outputs": [
    {
     "data": {
      "text/plain": [
       "-8"
      ]
     },
     "execution_count": 66,
     "metadata": {},
     "output_type": "execute_result"
    }
   ],
   "source": [
    "a = ((1+2) + 5) * (6 - 7)\n",
    "a"
   ]
  },
  {
   "cell_type": "markdown",
   "id": "e498f3c3",
   "metadata": {},
   "source": [
    "**Что касается кавычек**\n",
    "\n",
    "строка объявляется одним из двух способов - либо 'str', либо \"str\", если мы хотим использовать такие же кавычки внутри строки, то мы должны экранировать их при помощи \\"
   ]
  },
  {
   "cell_type": "code",
   "execution_count": 68,
   "id": "03638243",
   "metadata": {},
   "outputs": [
    {
     "data": {
      "text/plain": [
       "'example\"'"
      ]
     },
     "execution_count": 68,
     "metadata": {},
     "output_type": "execute_result"
    }
   ],
   "source": [
    "string = \"example\\\"\"\n",
    "string"
   ]
  },
  {
   "cell_type": "markdown",
   "id": "a59cdda0",
   "metadata": {},
   "source": [
    "Кавычки другого типа мы можем использовать без экранирования"
   ]
  },
  {
   "cell_type": "code",
   "execution_count": 69,
   "id": "e90b2d4b",
   "metadata": {},
   "outputs": [
    {
     "data": {
      "text/plain": [
       "\"example 'message'\""
      ]
     },
     "execution_count": 69,
     "metadata": {},
     "output_type": "execute_result"
    }
   ],
   "source": [
    "string = \"example 'message'\"\n",
    "string"
   ]
  },
  {
   "cell_type": "markdown",
   "id": "d49a70b8",
   "metadata": {},
   "source": [
    "Мы в любом случае должны закрыть кавычки, которыми начали строку и мы не можем использовать после них другие кавычки или символы как часть строки, так как после закрытия кавычек, заключающих строку, символы уже в нее не входят, что python видит как ошибку, например:"
   ]
  },
  {
   "cell_type": "code",
   "execution_count": 73,
   "id": "d09e17bd",
   "metadata": {},
   "outputs": [
    {
     "data": {
      "text/plain": [
       "'мы используем любые \\'кавычки\\' и \"кавычки в любом количестве \" потому что мы их экранируем и это часть строки \"'"
      ]
     },
     "execution_count": 73,
     "metadata": {},
     "output_type": "execute_result"
    }
   ],
   "source": [
    "# правильный вариант\n",
    "string = \"мы используем любые 'кавычки' и \\\"кавычки в любом количестве \\\" потому что мы их экранируем и это часть строки \\\"\"\n",
    "string"
   ]
  },
  {
   "cell_type": "markdown",
   "id": "1b9774c9",
   "metadata": {},
   "source": [
    "То есть \\\" - обычный символ строки, но когда мы закрыли кавычки, которые обрамляют строку, то мы больше не можем дописывать символы в строку, например:"
   ]
  },
  {
   "cell_type": "code",
   "execution_count": 76,
   "id": "20180f33",
   "metadata": {},
   "outputs": [
    {
     "ename": "SyntaxError",
     "evalue": "unterminated string literal (detected at line 4) (2137109421.py, line 4)",
     "output_type": "error",
     "traceback": [
      "\u001b[0;36m  Cell \u001b[0;32mIn[76], line 4\u001b[0;36m\u001b[0m\n\u001b[0;31m    string = \"str\\\"ing\"\"\u001b[0m\n\u001b[0m                       ^\u001b[0m\n\u001b[0;31mSyntaxError\u001b[0m\u001b[0;31m:\u001b[0m unterminated string literal (detected at line 4)\n"
     ]
    }
   ],
   "source": [
    "# \\\" в середине - просто часть строки\n",
    "# предпоследние \" - закрываем объявление строки\n",
    "# последние \" - уже не относятся к строке, потому что мы ее закрыли, соответсвенно возникает ошибка\n",
    "string = \"str\\\"ing\"\""
   ]
  },
  {
   "cell_type": "code",
   "execution_count": null,
   "id": "b24d8bbb",
   "metadata": {},
   "outputs": [],
   "source": []
  }
 ],
 "metadata": {
  "kernelspec": {
   "display_name": "Python 3 (ipykernel)",
   "language": "python",
   "name": "python3"
  },
  "language_info": {
   "codemirror_mode": {
    "name": "ipython",
    "version": 3
   },
   "file_extension": ".py",
   "mimetype": "text/x-python",
   "name": "python",
   "nbconvert_exporter": "python",
   "pygments_lexer": "ipython3",
   "version": "3.10.6"
  }
 },
 "nbformat": 4,
 "nbformat_minor": 5
}
